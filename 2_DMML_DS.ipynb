{
  "nbformat": 4,
  "nbformat_minor": 0,
  "metadata": {
    "colab": {
      "provenance": []
    },
    "kernelspec": {
      "name": "python3",
      "display_name": "Python 3"
    },
    "language_info": {
      "name": "python"
    }
  },
  "cells": [
    {
      "cell_type": "code",
      "execution_count": 190,
      "metadata": {
        "id": "E4FrmlII8Cb2"
      },
      "outputs": [],
      "source": [
        "import pandas as pd\n",
        "import numpy as np"
      ]
    },
    {
      "cell_type": "code",
      "source": [
        "from google.colab import files\n",
        "y= files.upload()"
      ],
      "metadata": {
        "colab": {
          "base_uri": "https://localhost:8080/",
          "height": 74
        },
        "id": "Y4kXWLzf8U-c",
        "outputId": "6a7fb09c-b503-48ad-a570-85729d6953d1"
      },
      "execution_count": 191,
      "outputs": [
        {
          "output_type": "display_data",
          "data": {
            "text/plain": [
              "<IPython.core.display.HTML object>"
            ],
            "text/html": [
              "\n",
              "     <input type=\"file\" id=\"files-371578bf-2272-42e5-9cc4-8365265f1c70\" name=\"files[]\" multiple disabled\n",
              "        style=\"border:none\" />\n",
              "     <output id=\"result-371578bf-2272-42e5-9cc4-8365265f1c70\">\n",
              "      Upload widget is only available when the cell has been executed in the\n",
              "      current browser session. Please rerun this cell to enable.\n",
              "      </output>\n",
              "      <script>// Copyright 2017 Google LLC\n",
              "//\n",
              "// Licensed under the Apache License, Version 2.0 (the \"License\");\n",
              "// you may not use this file except in compliance with the License.\n",
              "// You may obtain a copy of the License at\n",
              "//\n",
              "//      http://www.apache.org/licenses/LICENSE-2.0\n",
              "//\n",
              "// Unless required by applicable law or agreed to in writing, software\n",
              "// distributed under the License is distributed on an \"AS IS\" BASIS,\n",
              "// WITHOUT WARRANTIES OR CONDITIONS OF ANY KIND, either express or implied.\n",
              "// See the License for the specific language governing permissions and\n",
              "// limitations under the License.\n",
              "\n",
              "/**\n",
              " * @fileoverview Helpers for google.colab Python module.\n",
              " */\n",
              "(function(scope) {\n",
              "function span(text, styleAttributes = {}) {\n",
              "  const element = document.createElement('span');\n",
              "  element.textContent = text;\n",
              "  for (const key of Object.keys(styleAttributes)) {\n",
              "    element.style[key] = styleAttributes[key];\n",
              "  }\n",
              "  return element;\n",
              "}\n",
              "\n",
              "// Max number of bytes which will be uploaded at a time.\n",
              "const MAX_PAYLOAD_SIZE = 100 * 1024;\n",
              "\n",
              "function _uploadFiles(inputId, outputId) {\n",
              "  const steps = uploadFilesStep(inputId, outputId);\n",
              "  const outputElement = document.getElementById(outputId);\n",
              "  // Cache steps on the outputElement to make it available for the next call\n",
              "  // to uploadFilesContinue from Python.\n",
              "  outputElement.steps = steps;\n",
              "\n",
              "  return _uploadFilesContinue(outputId);\n",
              "}\n",
              "\n",
              "// This is roughly an async generator (not supported in the browser yet),\n",
              "// where there are multiple asynchronous steps and the Python side is going\n",
              "// to poll for completion of each step.\n",
              "// This uses a Promise to block the python side on completion of each step,\n",
              "// then passes the result of the previous step as the input to the next step.\n",
              "function _uploadFilesContinue(outputId) {\n",
              "  const outputElement = document.getElementById(outputId);\n",
              "  const steps = outputElement.steps;\n",
              "\n",
              "  const next = steps.next(outputElement.lastPromiseValue);\n",
              "  return Promise.resolve(next.value.promise).then((value) => {\n",
              "    // Cache the last promise value to make it available to the next\n",
              "    // step of the generator.\n",
              "    outputElement.lastPromiseValue = value;\n",
              "    return next.value.response;\n",
              "  });\n",
              "}\n",
              "\n",
              "/**\n",
              " * Generator function which is called between each async step of the upload\n",
              " * process.\n",
              " * @param {string} inputId Element ID of the input file picker element.\n",
              " * @param {string} outputId Element ID of the output display.\n",
              " * @return {!Iterable<!Object>} Iterable of next steps.\n",
              " */\n",
              "function* uploadFilesStep(inputId, outputId) {\n",
              "  const inputElement = document.getElementById(inputId);\n",
              "  inputElement.disabled = false;\n",
              "\n",
              "  const outputElement = document.getElementById(outputId);\n",
              "  outputElement.innerHTML = '';\n",
              "\n",
              "  const pickedPromise = new Promise((resolve) => {\n",
              "    inputElement.addEventListener('change', (e) => {\n",
              "      resolve(e.target.files);\n",
              "    });\n",
              "  });\n",
              "\n",
              "  const cancel = document.createElement('button');\n",
              "  inputElement.parentElement.appendChild(cancel);\n",
              "  cancel.textContent = 'Cancel upload';\n",
              "  const cancelPromise = new Promise((resolve) => {\n",
              "    cancel.onclick = () => {\n",
              "      resolve(null);\n",
              "    };\n",
              "  });\n",
              "\n",
              "  // Wait for the user to pick the files.\n",
              "  const files = yield {\n",
              "    promise: Promise.race([pickedPromise, cancelPromise]),\n",
              "    response: {\n",
              "      action: 'starting',\n",
              "    }\n",
              "  };\n",
              "\n",
              "  cancel.remove();\n",
              "\n",
              "  // Disable the input element since further picks are not allowed.\n",
              "  inputElement.disabled = true;\n",
              "\n",
              "  if (!files) {\n",
              "    return {\n",
              "      response: {\n",
              "        action: 'complete',\n",
              "      }\n",
              "    };\n",
              "  }\n",
              "\n",
              "  for (const file of files) {\n",
              "    const li = document.createElement('li');\n",
              "    li.append(span(file.name, {fontWeight: 'bold'}));\n",
              "    li.append(span(\n",
              "        `(${file.type || 'n/a'}) - ${file.size} bytes, ` +\n",
              "        `last modified: ${\n",
              "            file.lastModifiedDate ? file.lastModifiedDate.toLocaleDateString() :\n",
              "                                    'n/a'} - `));\n",
              "    const percent = span('0% done');\n",
              "    li.appendChild(percent);\n",
              "\n",
              "    outputElement.appendChild(li);\n",
              "\n",
              "    const fileDataPromise = new Promise((resolve) => {\n",
              "      const reader = new FileReader();\n",
              "      reader.onload = (e) => {\n",
              "        resolve(e.target.result);\n",
              "      };\n",
              "      reader.readAsArrayBuffer(file);\n",
              "    });\n",
              "    // Wait for the data to be ready.\n",
              "    let fileData = yield {\n",
              "      promise: fileDataPromise,\n",
              "      response: {\n",
              "        action: 'continue',\n",
              "      }\n",
              "    };\n",
              "\n",
              "    // Use a chunked sending to avoid message size limits. See b/62115660.\n",
              "    let position = 0;\n",
              "    do {\n",
              "      const length = Math.min(fileData.byteLength - position, MAX_PAYLOAD_SIZE);\n",
              "      const chunk = new Uint8Array(fileData, position, length);\n",
              "      position += length;\n",
              "\n",
              "      const base64 = btoa(String.fromCharCode.apply(null, chunk));\n",
              "      yield {\n",
              "        response: {\n",
              "          action: 'append',\n",
              "          file: file.name,\n",
              "          data: base64,\n",
              "        },\n",
              "      };\n",
              "\n",
              "      let percentDone = fileData.byteLength === 0 ?\n",
              "          100 :\n",
              "          Math.round((position / fileData.byteLength) * 100);\n",
              "      percent.textContent = `${percentDone}% done`;\n",
              "\n",
              "    } while (position < fileData.byteLength);\n",
              "  }\n",
              "\n",
              "  // All done.\n",
              "  yield {\n",
              "    response: {\n",
              "      action: 'complete',\n",
              "    }\n",
              "  };\n",
              "}\n",
              "\n",
              "scope.google = scope.google || {};\n",
              "scope.google.colab = scope.google.colab || {};\n",
              "scope.google.colab._files = {\n",
              "  _uploadFiles,\n",
              "  _uploadFilesContinue,\n",
              "};\n",
              "})(self);\n",
              "</script> "
            ]
          },
          "metadata": {}
        },
        {
          "output_type": "stream",
          "name": "stdout",
          "text": [
            "Saving transformer-parameters.csv to transformer-parameters (3).csv\n"
          ]
        }
      ]
    },
    {
      "cell_type": "code",
      "source": [
        "dset2= pd.read_csv(\"transformer-parameters (1).csv\")\n",
        "dset2.head()"
      ],
      "metadata": {
        "colab": {
          "base_uri": "https://localhost:8080/",
          "height": 563
        },
        "id": "MLoE4THV89C1",
        "outputId": "7f1445d7-91b9-465b-9c77-27edb83be385"
      },
      "execution_count": 192,
      "outputs": [
        {
          "output_type": "execute_result",
          "data": {
            "text/plain": [
              "     Area                       GSP Group S/S or Busbar Name Node 1  \\\n",
              "0  SWALES  Cardiff East & Aberthaw 132 kV                     CARS1   \n",
              "1  SWALES  Cardiff East & Aberthaw 132 kV                     CARS1   \n",
              "2  SWALES  Cardiff East & Aberthaw 132 kV                     GRAT1   \n",
              "3  SWALES  Cardiff East & Aberthaw 132 kV                     GRAT1   \n",
              "4  SWALES  Cardiff East & Aberthaw 132 kV                    LLEL11   \n",
              "\n",
              "   S/S or Busbar Name Node 1 Voltage S/S or Busbar Name Node 2  \\\n",
              "0                                132                     CARS5   \n",
              "1                                132                     CARS5   \n",
              "2                                132                     GRAT5   \n",
              "3                                132                     GRAT5   \n",
              "4                                132                    LLEL5A   \n",
              "\n",
              "   S/S or Busbar Name Node 2 Voltage  Transformer ID Vector Group  \\\n",
              "0                               11.0        681123.0          YNd   \n",
              "1                               11.0        681124.0          YNd   \n",
              "2                               11.0        681192.0          YNd   \n",
              "3                               11.0        681193.0          YNd   \n",
              "4                               11.0        680867.0         YNyn   \n",
              "\n",
              "   Positive Sequence Resistance R  Positive Sequence Reactance X  \\\n",
              "0                            1.90                          69.90   \n",
              "1                            1.90                          69.65   \n",
              "2                            1.92                          85.10   \n",
              "3                            1.92                          85.10   \n",
              "4                            2.65                          90.96   \n",
              "\n",
              "   Zero Sequence Reactance X  Tap Min  Tap Max  Tap Step  Normal Rating  \\\n",
              "0                     65.200    -20.0     10.0       NaN           20.0   \n",
              "1                     65.200    -20.0     10.0       NaN           20.0   \n",
              "2                     72.300    -20.0     10.0       NaN           20.0   \n",
              "3                     72.300    -20.0     10.0       NaN           20.0   \n",
              "4                    545.768    -23.0      5.0       NaN           20.0   \n",
              "\n",
              "  Method of Earthing  \n",
              "0           Earth Tx  \n",
              "1           Earth Tx  \n",
              "2           Earth Tx  \n",
              "3           Earth Tx  \n",
              "4                LER  "
            ],
            "text/html": [
              "\n",
              "  <div id=\"df-296756b9-f5dc-48ce-83d0-9ace03af4fce\">\n",
              "    <div class=\"colab-df-container\">\n",
              "      <div>\n",
              "<style scoped>\n",
              "    .dataframe tbody tr th:only-of-type {\n",
              "        vertical-align: middle;\n",
              "    }\n",
              "\n",
              "    .dataframe tbody tr th {\n",
              "        vertical-align: top;\n",
              "    }\n",
              "\n",
              "    .dataframe thead th {\n",
              "        text-align: right;\n",
              "    }\n",
              "</style>\n",
              "<table border=\"1\" class=\"dataframe\">\n",
              "  <thead>\n",
              "    <tr style=\"text-align: right;\">\n",
              "      <th></th>\n",
              "      <th>Area</th>\n",
              "      <th>GSP Group</th>\n",
              "      <th>S/S or Busbar Name Node 1</th>\n",
              "      <th>S/S or Busbar Name Node 1 Voltage</th>\n",
              "      <th>S/S or Busbar Name Node 2</th>\n",
              "      <th>S/S or Busbar Name Node 2 Voltage</th>\n",
              "      <th>Transformer ID</th>\n",
              "      <th>Vector Group</th>\n",
              "      <th>Positive Sequence Resistance R</th>\n",
              "      <th>Positive Sequence Reactance X</th>\n",
              "      <th>Zero Sequence Reactance X</th>\n",
              "      <th>Tap Min</th>\n",
              "      <th>Tap Max</th>\n",
              "      <th>Tap Step</th>\n",
              "      <th>Normal Rating</th>\n",
              "      <th>Method of Earthing</th>\n",
              "    </tr>\n",
              "  </thead>\n",
              "  <tbody>\n",
              "    <tr>\n",
              "      <th>0</th>\n",
              "      <td>SWALES</td>\n",
              "      <td>Cardiff East &amp; Aberthaw 132 kV</td>\n",
              "      <td>CARS1</td>\n",
              "      <td>132</td>\n",
              "      <td>CARS5</td>\n",
              "      <td>11.0</td>\n",
              "      <td>681123.0</td>\n",
              "      <td>YNd</td>\n",
              "      <td>1.90</td>\n",
              "      <td>69.90</td>\n",
              "      <td>65.200</td>\n",
              "      <td>-20.0</td>\n",
              "      <td>10.0</td>\n",
              "      <td>NaN</td>\n",
              "      <td>20.0</td>\n",
              "      <td>Earth Tx</td>\n",
              "    </tr>\n",
              "    <tr>\n",
              "      <th>1</th>\n",
              "      <td>SWALES</td>\n",
              "      <td>Cardiff East &amp; Aberthaw 132 kV</td>\n",
              "      <td>CARS1</td>\n",
              "      <td>132</td>\n",
              "      <td>CARS5</td>\n",
              "      <td>11.0</td>\n",
              "      <td>681124.0</td>\n",
              "      <td>YNd</td>\n",
              "      <td>1.90</td>\n",
              "      <td>69.65</td>\n",
              "      <td>65.200</td>\n",
              "      <td>-20.0</td>\n",
              "      <td>10.0</td>\n",
              "      <td>NaN</td>\n",
              "      <td>20.0</td>\n",
              "      <td>Earth Tx</td>\n",
              "    </tr>\n",
              "    <tr>\n",
              "      <th>2</th>\n",
              "      <td>SWALES</td>\n",
              "      <td>Cardiff East &amp; Aberthaw 132 kV</td>\n",
              "      <td>GRAT1</td>\n",
              "      <td>132</td>\n",
              "      <td>GRAT5</td>\n",
              "      <td>11.0</td>\n",
              "      <td>681192.0</td>\n",
              "      <td>YNd</td>\n",
              "      <td>1.92</td>\n",
              "      <td>85.10</td>\n",
              "      <td>72.300</td>\n",
              "      <td>-20.0</td>\n",
              "      <td>10.0</td>\n",
              "      <td>NaN</td>\n",
              "      <td>20.0</td>\n",
              "      <td>Earth Tx</td>\n",
              "    </tr>\n",
              "    <tr>\n",
              "      <th>3</th>\n",
              "      <td>SWALES</td>\n",
              "      <td>Cardiff East &amp; Aberthaw 132 kV</td>\n",
              "      <td>GRAT1</td>\n",
              "      <td>132</td>\n",
              "      <td>GRAT5</td>\n",
              "      <td>11.0</td>\n",
              "      <td>681193.0</td>\n",
              "      <td>YNd</td>\n",
              "      <td>1.92</td>\n",
              "      <td>85.10</td>\n",
              "      <td>72.300</td>\n",
              "      <td>-20.0</td>\n",
              "      <td>10.0</td>\n",
              "      <td>NaN</td>\n",
              "      <td>20.0</td>\n",
              "      <td>Earth Tx</td>\n",
              "    </tr>\n",
              "    <tr>\n",
              "      <th>4</th>\n",
              "      <td>SWALES</td>\n",
              "      <td>Cardiff East &amp; Aberthaw 132 kV</td>\n",
              "      <td>LLEL11</td>\n",
              "      <td>132</td>\n",
              "      <td>LLEL5A</td>\n",
              "      <td>11.0</td>\n",
              "      <td>680867.0</td>\n",
              "      <td>YNyn</td>\n",
              "      <td>2.65</td>\n",
              "      <td>90.96</td>\n",
              "      <td>545.768</td>\n",
              "      <td>-23.0</td>\n",
              "      <td>5.0</td>\n",
              "      <td>NaN</td>\n",
              "      <td>20.0</td>\n",
              "      <td>LER</td>\n",
              "    </tr>\n",
              "  </tbody>\n",
              "</table>\n",
              "</div>\n",
              "      <button class=\"colab-df-convert\" onclick=\"convertToInteractive('df-296756b9-f5dc-48ce-83d0-9ace03af4fce')\"\n",
              "              title=\"Convert this dataframe to an interactive table.\"\n",
              "              style=\"display:none;\">\n",
              "        \n",
              "  <svg xmlns=\"http://www.w3.org/2000/svg\" height=\"24px\"viewBox=\"0 0 24 24\"\n",
              "       width=\"24px\">\n",
              "    <path d=\"M0 0h24v24H0V0z\" fill=\"none\"/>\n",
              "    <path d=\"M18.56 5.44l.94 2.06.94-2.06 2.06-.94-2.06-.94-.94-2.06-.94 2.06-2.06.94zm-11 1L8.5 8.5l.94-2.06 2.06-.94-2.06-.94L8.5 2.5l-.94 2.06-2.06.94zm10 10l.94 2.06.94-2.06 2.06-.94-2.06-.94-.94-2.06-.94 2.06-2.06.94z\"/><path d=\"M17.41 7.96l-1.37-1.37c-.4-.4-.92-.59-1.43-.59-.52 0-1.04.2-1.43.59L10.3 9.45l-7.72 7.72c-.78.78-.78 2.05 0 2.83L4 21.41c.39.39.9.59 1.41.59.51 0 1.02-.2 1.41-.59l7.78-7.78 2.81-2.81c.8-.78.8-2.07 0-2.86zM5.41 20L4 18.59l7.72-7.72 1.47 1.35L5.41 20z\"/>\n",
              "  </svg>\n",
              "      </button>\n",
              "      \n",
              "  <style>\n",
              "    .colab-df-container {\n",
              "      display:flex;\n",
              "      flex-wrap:wrap;\n",
              "      gap: 12px;\n",
              "    }\n",
              "\n",
              "    .colab-df-convert {\n",
              "      background-color: #E8F0FE;\n",
              "      border: none;\n",
              "      border-radius: 50%;\n",
              "      cursor: pointer;\n",
              "      display: none;\n",
              "      fill: #1967D2;\n",
              "      height: 32px;\n",
              "      padding: 0 0 0 0;\n",
              "      width: 32px;\n",
              "    }\n",
              "\n",
              "    .colab-df-convert:hover {\n",
              "      background-color: #E2EBFA;\n",
              "      box-shadow: 0px 1px 2px rgba(60, 64, 67, 0.3), 0px 1px 3px 1px rgba(60, 64, 67, 0.15);\n",
              "      fill: #174EA6;\n",
              "    }\n",
              "\n",
              "    [theme=dark] .colab-df-convert {\n",
              "      background-color: #3B4455;\n",
              "      fill: #D2E3FC;\n",
              "    }\n",
              "\n",
              "    [theme=dark] .colab-df-convert:hover {\n",
              "      background-color: #434B5C;\n",
              "      box-shadow: 0px 1px 3px 1px rgba(0, 0, 0, 0.15);\n",
              "      filter: drop-shadow(0px 1px 2px rgba(0, 0, 0, 0.3));\n",
              "      fill: #FFFFFF;\n",
              "    }\n",
              "  </style>\n",
              "\n",
              "      <script>\n",
              "        const buttonEl =\n",
              "          document.querySelector('#df-296756b9-f5dc-48ce-83d0-9ace03af4fce button.colab-df-convert');\n",
              "        buttonEl.style.display =\n",
              "          google.colab.kernel.accessAllowed ? 'block' : 'none';\n",
              "\n",
              "        async function convertToInteractive(key) {\n",
              "          const element = document.querySelector('#df-296756b9-f5dc-48ce-83d0-9ace03af4fce');\n",
              "          const dataTable =\n",
              "            await google.colab.kernel.invokeFunction('convertToInteractive',\n",
              "                                                     [key], {});\n",
              "          if (!dataTable) return;\n",
              "\n",
              "          const docLinkHtml = 'Like what you see? Visit the ' +\n",
              "            '<a target=\"_blank\" href=https://colab.research.google.com/notebooks/data_table.ipynb>data table notebook</a>'\n",
              "            + ' to learn more about interactive tables.';\n",
              "          element.innerHTML = '';\n",
              "          dataTable['output_type'] = 'display_data';\n",
              "          await google.colab.output.renderOutput(dataTable, element);\n",
              "          const docLink = document.createElement('div');\n",
              "          docLink.innerHTML = docLinkHtml;\n",
              "          element.appendChild(docLink);\n",
              "        }\n",
              "      </script>\n",
              "    </div>\n",
              "  </div>\n",
              "  "
            ]
          },
          "metadata": {},
          "execution_count": 192
        }
      ]
    },
    {
      "cell_type": "code",
      "source": [
        "dset2.tail()"
      ],
      "metadata": {
        "colab": {
          "base_uri": "https://localhost:8080/",
          "height": 389
        },
        "id": "3iaEngGF-5Qo",
        "outputId": "46027fd1-2567-4e13-8fd1-81e693f6541a"
      },
      "execution_count": 193,
      "outputs": [
        {
          "output_type": "execute_result",
          "data": {
            "text/plain": [
              "      Area         GSP Group S/S or Busbar Name Node 1  \\\n",
              "2467  WEST  Willenhall 132kV                  WILL GT2   \n",
              "2468  WEST  Willenhall 132kV                  WILL GT4   \n",
              "2469  WEST  Willenhall 132kV                  WILL GT1   \n",
              "2470  WEST  Willenhall 132kV                  WOLV tmp   \n",
              "2471  WEST  Willenhall 132kV                  WOLV33 3   \n",
              "\n",
              "      S/S or Busbar Name Node 1 Voltage S/S or Busbar Name Node 2  \\\n",
              "2467                                132                  WILL112B   \n",
              "2468                                132                  WILL114B   \n",
              "2469                                132                  WILL111A   \n",
              "2470                                132                   WOLV T3   \n",
              "2471                                 33                  WOLV11 5   \n",
              "\n",
              "      S/S or Busbar Name Node 2 Voltage  Transformer ID Vector Group  \\\n",
              "2467                               11.0       3092205.0          xd1   \n",
              "2468                               11.0       3092110.0          xd1   \n",
              "2469                               11.0       4169152.0          xd1   \n",
              "2470                               33.0       3092656.0          xd1   \n",
              "2471                               11.0       3093094.0          yx0   \n",
              "\n",
              "      Positive Sequence Resistance R  Positive Sequence Reactance X  \\\n",
              "2467                           2.420                         85.130   \n",
              "2468                           2.594                         69.170   \n",
              "2469                           2.200                         90.633   \n",
              "2470                           0.992                         21.467   \n",
              "2471                           2.881                         76.852   \n",
              "\n",
              "      Zero Sequence Reactance X  Tap Min  Tap Max  Tap Step  Normal Rating  \\\n",
              "2467                     79.000    -20.0     10.0       NaN           30.0   \n",
              "2468                     69.170    -20.0     10.0       NaN           30.0   \n",
              "2469                     84.067    -20.0     10.0       NaN           30.0   \n",
              "2470                     21.467    -20.0     10.0       NaN           60.0   \n",
              "2471                      0.000    -17.0      6.0       NaN           18.0   \n",
              "\n",
              "     Method of Earthing  \n",
              "2467                 TR  \n",
              "2468                 TR  \n",
              "2469                 TR  \n",
              "2470                 TX  \n",
              "2471                  X  "
            ],
            "text/html": [
              "\n",
              "  <div id=\"df-5878b29c-d25d-40d4-8c56-33d6fd5a01e5\">\n",
              "    <div class=\"colab-df-container\">\n",
              "      <div>\n",
              "<style scoped>\n",
              "    .dataframe tbody tr th:only-of-type {\n",
              "        vertical-align: middle;\n",
              "    }\n",
              "\n",
              "    .dataframe tbody tr th {\n",
              "        vertical-align: top;\n",
              "    }\n",
              "\n",
              "    .dataframe thead th {\n",
              "        text-align: right;\n",
              "    }\n",
              "</style>\n",
              "<table border=\"1\" class=\"dataframe\">\n",
              "  <thead>\n",
              "    <tr style=\"text-align: right;\">\n",
              "      <th></th>\n",
              "      <th>Area</th>\n",
              "      <th>GSP Group</th>\n",
              "      <th>S/S or Busbar Name Node 1</th>\n",
              "      <th>S/S or Busbar Name Node 1 Voltage</th>\n",
              "      <th>S/S or Busbar Name Node 2</th>\n",
              "      <th>S/S or Busbar Name Node 2 Voltage</th>\n",
              "      <th>Transformer ID</th>\n",
              "      <th>Vector Group</th>\n",
              "      <th>Positive Sequence Resistance R</th>\n",
              "      <th>Positive Sequence Reactance X</th>\n",
              "      <th>Zero Sequence Reactance X</th>\n",
              "      <th>Tap Min</th>\n",
              "      <th>Tap Max</th>\n",
              "      <th>Tap Step</th>\n",
              "      <th>Normal Rating</th>\n",
              "      <th>Method of Earthing</th>\n",
              "    </tr>\n",
              "  </thead>\n",
              "  <tbody>\n",
              "    <tr>\n",
              "      <th>2467</th>\n",
              "      <td>WEST</td>\n",
              "      <td>Willenhall 132kV</td>\n",
              "      <td>WILL GT2</td>\n",
              "      <td>132</td>\n",
              "      <td>WILL112B</td>\n",
              "      <td>11.0</td>\n",
              "      <td>3092205.0</td>\n",
              "      <td>xd1</td>\n",
              "      <td>2.420</td>\n",
              "      <td>85.130</td>\n",
              "      <td>79.000</td>\n",
              "      <td>-20.0</td>\n",
              "      <td>10.0</td>\n",
              "      <td>NaN</td>\n",
              "      <td>30.0</td>\n",
              "      <td>TR</td>\n",
              "    </tr>\n",
              "    <tr>\n",
              "      <th>2468</th>\n",
              "      <td>WEST</td>\n",
              "      <td>Willenhall 132kV</td>\n",
              "      <td>WILL GT4</td>\n",
              "      <td>132</td>\n",
              "      <td>WILL114B</td>\n",
              "      <td>11.0</td>\n",
              "      <td>3092110.0</td>\n",
              "      <td>xd1</td>\n",
              "      <td>2.594</td>\n",
              "      <td>69.170</td>\n",
              "      <td>69.170</td>\n",
              "      <td>-20.0</td>\n",
              "      <td>10.0</td>\n",
              "      <td>NaN</td>\n",
              "      <td>30.0</td>\n",
              "      <td>TR</td>\n",
              "    </tr>\n",
              "    <tr>\n",
              "      <th>2469</th>\n",
              "      <td>WEST</td>\n",
              "      <td>Willenhall 132kV</td>\n",
              "      <td>WILL GT1</td>\n",
              "      <td>132</td>\n",
              "      <td>WILL111A</td>\n",
              "      <td>11.0</td>\n",
              "      <td>4169152.0</td>\n",
              "      <td>xd1</td>\n",
              "      <td>2.200</td>\n",
              "      <td>90.633</td>\n",
              "      <td>84.067</td>\n",
              "      <td>-20.0</td>\n",
              "      <td>10.0</td>\n",
              "      <td>NaN</td>\n",
              "      <td>30.0</td>\n",
              "      <td>TR</td>\n",
              "    </tr>\n",
              "    <tr>\n",
              "      <th>2470</th>\n",
              "      <td>WEST</td>\n",
              "      <td>Willenhall 132kV</td>\n",
              "      <td>WOLV tmp</td>\n",
              "      <td>132</td>\n",
              "      <td>WOLV T3</td>\n",
              "      <td>33.0</td>\n",
              "      <td>3092656.0</td>\n",
              "      <td>xd1</td>\n",
              "      <td>0.992</td>\n",
              "      <td>21.467</td>\n",
              "      <td>21.467</td>\n",
              "      <td>-20.0</td>\n",
              "      <td>10.0</td>\n",
              "      <td>NaN</td>\n",
              "      <td>60.0</td>\n",
              "      <td>TX</td>\n",
              "    </tr>\n",
              "    <tr>\n",
              "      <th>2471</th>\n",
              "      <td>WEST</td>\n",
              "      <td>Willenhall 132kV</td>\n",
              "      <td>WOLV33 3</td>\n",
              "      <td>33</td>\n",
              "      <td>WOLV11 5</td>\n",
              "      <td>11.0</td>\n",
              "      <td>3093094.0</td>\n",
              "      <td>yx0</td>\n",
              "      <td>2.881</td>\n",
              "      <td>76.852</td>\n",
              "      <td>0.000</td>\n",
              "      <td>-17.0</td>\n",
              "      <td>6.0</td>\n",
              "      <td>NaN</td>\n",
              "      <td>18.0</td>\n",
              "      <td>X</td>\n",
              "    </tr>\n",
              "  </tbody>\n",
              "</table>\n",
              "</div>\n",
              "      <button class=\"colab-df-convert\" onclick=\"convertToInteractive('df-5878b29c-d25d-40d4-8c56-33d6fd5a01e5')\"\n",
              "              title=\"Convert this dataframe to an interactive table.\"\n",
              "              style=\"display:none;\">\n",
              "        \n",
              "  <svg xmlns=\"http://www.w3.org/2000/svg\" height=\"24px\"viewBox=\"0 0 24 24\"\n",
              "       width=\"24px\">\n",
              "    <path d=\"M0 0h24v24H0V0z\" fill=\"none\"/>\n",
              "    <path d=\"M18.56 5.44l.94 2.06.94-2.06 2.06-.94-2.06-.94-.94-2.06-.94 2.06-2.06.94zm-11 1L8.5 8.5l.94-2.06 2.06-.94-2.06-.94L8.5 2.5l-.94 2.06-2.06.94zm10 10l.94 2.06.94-2.06 2.06-.94-2.06-.94-.94-2.06-.94 2.06-2.06.94z\"/><path d=\"M17.41 7.96l-1.37-1.37c-.4-.4-.92-.59-1.43-.59-.52 0-1.04.2-1.43.59L10.3 9.45l-7.72 7.72c-.78.78-.78 2.05 0 2.83L4 21.41c.39.39.9.59 1.41.59.51 0 1.02-.2 1.41-.59l7.78-7.78 2.81-2.81c.8-.78.8-2.07 0-2.86zM5.41 20L4 18.59l7.72-7.72 1.47 1.35L5.41 20z\"/>\n",
              "  </svg>\n",
              "      </button>\n",
              "      \n",
              "  <style>\n",
              "    .colab-df-container {\n",
              "      display:flex;\n",
              "      flex-wrap:wrap;\n",
              "      gap: 12px;\n",
              "    }\n",
              "\n",
              "    .colab-df-convert {\n",
              "      background-color: #E8F0FE;\n",
              "      border: none;\n",
              "      border-radius: 50%;\n",
              "      cursor: pointer;\n",
              "      display: none;\n",
              "      fill: #1967D2;\n",
              "      height: 32px;\n",
              "      padding: 0 0 0 0;\n",
              "      width: 32px;\n",
              "    }\n",
              "\n",
              "    .colab-df-convert:hover {\n",
              "      background-color: #E2EBFA;\n",
              "      box-shadow: 0px 1px 2px rgba(60, 64, 67, 0.3), 0px 1px 3px 1px rgba(60, 64, 67, 0.15);\n",
              "      fill: #174EA6;\n",
              "    }\n",
              "\n",
              "    [theme=dark] .colab-df-convert {\n",
              "      background-color: #3B4455;\n",
              "      fill: #D2E3FC;\n",
              "    }\n",
              "\n",
              "    [theme=dark] .colab-df-convert:hover {\n",
              "      background-color: #434B5C;\n",
              "      box-shadow: 0px 1px 3px 1px rgba(0, 0, 0, 0.15);\n",
              "      filter: drop-shadow(0px 1px 2px rgba(0, 0, 0, 0.3));\n",
              "      fill: #FFFFFF;\n",
              "    }\n",
              "  </style>\n",
              "\n",
              "      <script>\n",
              "        const buttonEl =\n",
              "          document.querySelector('#df-5878b29c-d25d-40d4-8c56-33d6fd5a01e5 button.colab-df-convert');\n",
              "        buttonEl.style.display =\n",
              "          google.colab.kernel.accessAllowed ? 'block' : 'none';\n",
              "\n",
              "        async function convertToInteractive(key) {\n",
              "          const element = document.querySelector('#df-5878b29c-d25d-40d4-8c56-33d6fd5a01e5');\n",
              "          const dataTable =\n",
              "            await google.colab.kernel.invokeFunction('convertToInteractive',\n",
              "                                                     [key], {});\n",
              "          if (!dataTable) return;\n",
              "\n",
              "          const docLinkHtml = 'Like what you see? Visit the ' +\n",
              "            '<a target=\"_blank\" href=https://colab.research.google.com/notebooks/data_table.ipynb>data table notebook</a>'\n",
              "            + ' to learn more about interactive tables.';\n",
              "          element.innerHTML = '';\n",
              "          dataTable['output_type'] = 'display_data';\n",
              "          await google.colab.output.renderOutput(dataTable, element);\n",
              "          const docLink = document.createElement('div');\n",
              "          docLink.innerHTML = docLinkHtml;\n",
              "          element.appendChild(docLink);\n",
              "        }\n",
              "      </script>\n",
              "    </div>\n",
              "  </div>\n",
              "  "
            ]
          },
          "metadata": {},
          "execution_count": 193
        }
      ]
    },
    {
      "cell_type": "markdown",
      "source": [
        "<h1> Method of Earthing is the Target Variable </h1>"
      ],
      "metadata": {
        "id": "AW-xJltatp6P"
      }
    },
    {
      "cell_type": "code",
      "source": [
        "dset2.rename(columns = {'Method of Earthing':'Method_of_Earthing'}, inplace = True)"
      ],
      "metadata": {
        "id": "7OpdL7GwkhYp"
      },
      "execution_count": 194,
      "outputs": []
    },
    {
      "cell_type": "code",
      "source": [
        "print(dset2.shape)"
      ],
      "metadata": {
        "colab": {
          "base_uri": "https://localhost:8080/"
        },
        "id": "Gb1JtCmj_KcO",
        "outputId": "dbcc28d5-a629-433c-bfe8-cd6cada5ba91"
      },
      "execution_count": 195,
      "outputs": [
        {
          "output_type": "stream",
          "name": "stdout",
          "text": [
            "(2472, 16)\n"
          ]
        }
      ]
    },
    {
      "cell_type": "code",
      "source": [
        "dset2.info()"
      ],
      "metadata": {
        "colab": {
          "base_uri": "https://localhost:8080/"
        },
        "id": "95jnkyFx_UC7",
        "outputId": "0e5d39e8-bf3e-40ff-d187-b8d68789675a"
      },
      "execution_count": 196,
      "outputs": [
        {
          "output_type": "stream",
          "name": "stdout",
          "text": [
            "<class 'pandas.core.frame.DataFrame'>\n",
            "RangeIndex: 2472 entries, 0 to 2471\n",
            "Data columns (total 16 columns):\n",
            " #   Column                             Non-Null Count  Dtype  \n",
            "---  ------                             --------------  -----  \n",
            " 0   Area                               2472 non-null   object \n",
            " 1   GSP Group                          2472 non-null   object \n",
            " 2   S/S or Busbar Name Node 1          2472 non-null   object \n",
            " 3   S/S or Busbar Name Node 1 Voltage  2472 non-null   int64  \n",
            " 4   S/S or Busbar Name Node 2          2472 non-null   object \n",
            " 5   S/S or Busbar Name Node 2 Voltage  2472 non-null   float64\n",
            " 6   Transformer ID                     2373 non-null   float64\n",
            " 7   Vector Group                       2472 non-null   object \n",
            " 8   Positive Sequence Resistance R     2472 non-null   float64\n",
            " 9   Positive Sequence Reactance X      2472 non-null   float64\n",
            " 10  Zero Sequence Reactance X          2472 non-null   float64\n",
            " 11  Tap Min                            2472 non-null   float64\n",
            " 12  Tap Max                            2472 non-null   float64\n",
            " 13  Tap Step                           931 non-null    float64\n",
            " 14  Normal Rating                      2472 non-null   float64\n",
            " 15  Method_of_Earthing                 2472 non-null   object \n",
            "dtypes: float64(9), int64(1), object(6)\n",
            "memory usage: 309.1+ KB\n"
          ]
        }
      ]
    },
    {
      "cell_type": "code",
      "source": [
        "print(dset2.isnull().sum())"
      ],
      "metadata": {
        "colab": {
          "base_uri": "https://localhost:8080/"
        },
        "id": "Ldb4gCQ-_hso",
        "outputId": "ea0d66a9-d61b-4d96-bd0c-0a431265b80c"
      },
      "execution_count": 197,
      "outputs": [
        {
          "output_type": "stream",
          "name": "stdout",
          "text": [
            "Area                                    0\n",
            "GSP Group                               0\n",
            "S/S or Busbar Name Node 1               0\n",
            "S/S or Busbar Name Node 1 Voltage       0\n",
            "S/S or Busbar Name Node 2               0\n",
            "S/S or Busbar Name Node 2 Voltage       0\n",
            "Transformer ID                         99\n",
            "Vector Group                            0\n",
            "Positive Sequence Resistance R          0\n",
            "Positive Sequence Reactance X           0\n",
            "Zero Sequence Reactance X               0\n",
            "Tap Min                                 0\n",
            "Tap Max                                 0\n",
            "Tap Step                             1541\n",
            "Normal Rating                           0\n",
            "Method_of_Earthing                      0\n",
            "dtype: int64\n"
          ]
        }
      ]
    },
    {
      "cell_type": "code",
      "source": [
        "dset2.isnull().sum().sum()"
      ],
      "metadata": {
        "colab": {
          "base_uri": "https://localhost:8080/"
        },
        "id": "CqxSwZdD_sk1",
        "outputId": "432388fd-3bd5-4a11-ae97-32d5617cda7a"
      },
      "execution_count": 198,
      "outputs": [
        {
          "output_type": "execute_result",
          "data": {
            "text/plain": [
              "1640"
            ]
          },
          "metadata": {},
          "execution_count": 198
        }
      ]
    },
    {
      "cell_type": "code",
      "source": [
        "dset2.describe()"
      ],
      "metadata": {
        "colab": {
          "base_uri": "https://localhost:8080/",
          "height": 379
        },
        "id": "9uWC-n73_3Vo",
        "outputId": "98c7e78d-795c-4b64-a44e-0595b90aa50c"
      },
      "execution_count": 199,
      "outputs": [
        {
          "output_type": "execute_result",
          "data": {
            "text/plain": [
              "       S/S or Busbar Name Node 1 Voltage  S/S or Busbar Name Node 2 Voltage  \\\n",
              "count                        2472.000000                        2472.000000   \n",
              "mean                           57.389563                          14.311570   \n",
              "std                            41.216693                           8.779491   \n",
              "min                            33.000000                           6.600000   \n",
              "25%                            33.000000                          11.000000   \n",
              "50%                            33.000000                          11.000000   \n",
              "75%                            66.000000                          11.000000   \n",
              "max                           132.000000                          66.000000   \n",
              "\n",
              "       Transformer ID  Positive Sequence Resistance R  \\\n",
              "count    2.373000e+03                     2472.000000   \n",
              "mean     2.984813e+06                        5.592315   \n",
              "std      2.209604e+06                        4.406451   \n",
              "min      1.268900e+04                        0.000000   \n",
              "25%      1.098619e+06                        2.873500   \n",
              "50%      3.092091e+06                        5.006000   \n",
              "75%      4.234469e+06                        7.130000   \n",
              "max      1.426570e+07                      107.900000   \n",
              "\n",
              "       Positive Sequence Reactance X  Zero Sequence Reactance X      Tap Min  \\\n",
              "count                     2472.00000                2472.000000  2472.000000   \n",
              "mean                        90.39535                 273.617910   -16.239239   \n",
              "std                         35.24501                4015.936941     2.878400   \n",
              "min                         10.50000                -103.768000   -24.000000   \n",
              "25%                         75.85450                  21.440250   -19.000000   \n",
              "50%                         97.91450                  84.420000   -15.000000   \n",
              "75%                        111.11900                 105.781250   -13.900000   \n",
              "max                        283.00000               99900.000000     0.000000   \n",
              "\n",
              "           Tap Max    Tap Step  Normal Rating  \n",
              "count  2472.000000  931.000000    2472.000000  \n",
              "mean      5.733697    1.367991      22.702861  \n",
              "std       2.977039    0.196765      21.314160  \n",
              "min       0.000000    1.000000       0.000000  \n",
              "25%       5.000000    1.200000      10.000000  \n",
              "50%       5.200000    1.400000      18.000000  \n",
              "75%       5.700000    1.400000      24.000000  \n",
              "max      20.000000    2.700000     120.000000  "
            ],
            "text/html": [
              "\n",
              "  <div id=\"df-3d33c05a-ecff-46b3-b574-3d25c4f4d178\">\n",
              "    <div class=\"colab-df-container\">\n",
              "      <div>\n",
              "<style scoped>\n",
              "    .dataframe tbody tr th:only-of-type {\n",
              "        vertical-align: middle;\n",
              "    }\n",
              "\n",
              "    .dataframe tbody tr th {\n",
              "        vertical-align: top;\n",
              "    }\n",
              "\n",
              "    .dataframe thead th {\n",
              "        text-align: right;\n",
              "    }\n",
              "</style>\n",
              "<table border=\"1\" class=\"dataframe\">\n",
              "  <thead>\n",
              "    <tr style=\"text-align: right;\">\n",
              "      <th></th>\n",
              "      <th>S/S or Busbar Name Node 1 Voltage</th>\n",
              "      <th>S/S or Busbar Name Node 2 Voltage</th>\n",
              "      <th>Transformer ID</th>\n",
              "      <th>Positive Sequence Resistance R</th>\n",
              "      <th>Positive Sequence Reactance X</th>\n",
              "      <th>Zero Sequence Reactance X</th>\n",
              "      <th>Tap Min</th>\n",
              "      <th>Tap Max</th>\n",
              "      <th>Tap Step</th>\n",
              "      <th>Normal Rating</th>\n",
              "    </tr>\n",
              "  </thead>\n",
              "  <tbody>\n",
              "    <tr>\n",
              "      <th>count</th>\n",
              "      <td>2472.000000</td>\n",
              "      <td>2472.000000</td>\n",
              "      <td>2.373000e+03</td>\n",
              "      <td>2472.000000</td>\n",
              "      <td>2472.00000</td>\n",
              "      <td>2472.000000</td>\n",
              "      <td>2472.000000</td>\n",
              "      <td>2472.000000</td>\n",
              "      <td>931.000000</td>\n",
              "      <td>2472.000000</td>\n",
              "    </tr>\n",
              "    <tr>\n",
              "      <th>mean</th>\n",
              "      <td>57.389563</td>\n",
              "      <td>14.311570</td>\n",
              "      <td>2.984813e+06</td>\n",
              "      <td>5.592315</td>\n",
              "      <td>90.39535</td>\n",
              "      <td>273.617910</td>\n",
              "      <td>-16.239239</td>\n",
              "      <td>5.733697</td>\n",
              "      <td>1.367991</td>\n",
              "      <td>22.702861</td>\n",
              "    </tr>\n",
              "    <tr>\n",
              "      <th>std</th>\n",
              "      <td>41.216693</td>\n",
              "      <td>8.779491</td>\n",
              "      <td>2.209604e+06</td>\n",
              "      <td>4.406451</td>\n",
              "      <td>35.24501</td>\n",
              "      <td>4015.936941</td>\n",
              "      <td>2.878400</td>\n",
              "      <td>2.977039</td>\n",
              "      <td>0.196765</td>\n",
              "      <td>21.314160</td>\n",
              "    </tr>\n",
              "    <tr>\n",
              "      <th>min</th>\n",
              "      <td>33.000000</td>\n",
              "      <td>6.600000</td>\n",
              "      <td>1.268900e+04</td>\n",
              "      <td>0.000000</td>\n",
              "      <td>10.50000</td>\n",
              "      <td>-103.768000</td>\n",
              "      <td>-24.000000</td>\n",
              "      <td>0.000000</td>\n",
              "      <td>1.000000</td>\n",
              "      <td>0.000000</td>\n",
              "    </tr>\n",
              "    <tr>\n",
              "      <th>25%</th>\n",
              "      <td>33.000000</td>\n",
              "      <td>11.000000</td>\n",
              "      <td>1.098619e+06</td>\n",
              "      <td>2.873500</td>\n",
              "      <td>75.85450</td>\n",
              "      <td>21.440250</td>\n",
              "      <td>-19.000000</td>\n",
              "      <td>5.000000</td>\n",
              "      <td>1.200000</td>\n",
              "      <td>10.000000</td>\n",
              "    </tr>\n",
              "    <tr>\n",
              "      <th>50%</th>\n",
              "      <td>33.000000</td>\n",
              "      <td>11.000000</td>\n",
              "      <td>3.092091e+06</td>\n",
              "      <td>5.006000</td>\n",
              "      <td>97.91450</td>\n",
              "      <td>84.420000</td>\n",
              "      <td>-15.000000</td>\n",
              "      <td>5.200000</td>\n",
              "      <td>1.400000</td>\n",
              "      <td>18.000000</td>\n",
              "    </tr>\n",
              "    <tr>\n",
              "      <th>75%</th>\n",
              "      <td>66.000000</td>\n",
              "      <td>11.000000</td>\n",
              "      <td>4.234469e+06</td>\n",
              "      <td>7.130000</td>\n",
              "      <td>111.11900</td>\n",
              "      <td>105.781250</td>\n",
              "      <td>-13.900000</td>\n",
              "      <td>5.700000</td>\n",
              "      <td>1.400000</td>\n",
              "      <td>24.000000</td>\n",
              "    </tr>\n",
              "    <tr>\n",
              "      <th>max</th>\n",
              "      <td>132.000000</td>\n",
              "      <td>66.000000</td>\n",
              "      <td>1.426570e+07</td>\n",
              "      <td>107.900000</td>\n",
              "      <td>283.00000</td>\n",
              "      <td>99900.000000</td>\n",
              "      <td>0.000000</td>\n",
              "      <td>20.000000</td>\n",
              "      <td>2.700000</td>\n",
              "      <td>120.000000</td>\n",
              "    </tr>\n",
              "  </tbody>\n",
              "</table>\n",
              "</div>\n",
              "      <button class=\"colab-df-convert\" onclick=\"convertToInteractive('df-3d33c05a-ecff-46b3-b574-3d25c4f4d178')\"\n",
              "              title=\"Convert this dataframe to an interactive table.\"\n",
              "              style=\"display:none;\">\n",
              "        \n",
              "  <svg xmlns=\"http://www.w3.org/2000/svg\" height=\"24px\"viewBox=\"0 0 24 24\"\n",
              "       width=\"24px\">\n",
              "    <path d=\"M0 0h24v24H0V0z\" fill=\"none\"/>\n",
              "    <path d=\"M18.56 5.44l.94 2.06.94-2.06 2.06-.94-2.06-.94-.94-2.06-.94 2.06-2.06.94zm-11 1L8.5 8.5l.94-2.06 2.06-.94-2.06-.94L8.5 2.5l-.94 2.06-2.06.94zm10 10l.94 2.06.94-2.06 2.06-.94-2.06-.94-.94-2.06-.94 2.06-2.06.94z\"/><path d=\"M17.41 7.96l-1.37-1.37c-.4-.4-.92-.59-1.43-.59-.52 0-1.04.2-1.43.59L10.3 9.45l-7.72 7.72c-.78.78-.78 2.05 0 2.83L4 21.41c.39.39.9.59 1.41.59.51 0 1.02-.2 1.41-.59l7.78-7.78 2.81-2.81c.8-.78.8-2.07 0-2.86zM5.41 20L4 18.59l7.72-7.72 1.47 1.35L5.41 20z\"/>\n",
              "  </svg>\n",
              "      </button>\n",
              "      \n",
              "  <style>\n",
              "    .colab-df-container {\n",
              "      display:flex;\n",
              "      flex-wrap:wrap;\n",
              "      gap: 12px;\n",
              "    }\n",
              "\n",
              "    .colab-df-convert {\n",
              "      background-color: #E8F0FE;\n",
              "      border: none;\n",
              "      border-radius: 50%;\n",
              "      cursor: pointer;\n",
              "      display: none;\n",
              "      fill: #1967D2;\n",
              "      height: 32px;\n",
              "      padding: 0 0 0 0;\n",
              "      width: 32px;\n",
              "    }\n",
              "\n",
              "    .colab-df-convert:hover {\n",
              "      background-color: #E2EBFA;\n",
              "      box-shadow: 0px 1px 2px rgba(60, 64, 67, 0.3), 0px 1px 3px 1px rgba(60, 64, 67, 0.15);\n",
              "      fill: #174EA6;\n",
              "    }\n",
              "\n",
              "    [theme=dark] .colab-df-convert {\n",
              "      background-color: #3B4455;\n",
              "      fill: #D2E3FC;\n",
              "    }\n",
              "\n",
              "    [theme=dark] .colab-df-convert:hover {\n",
              "      background-color: #434B5C;\n",
              "      box-shadow: 0px 1px 3px 1px rgba(0, 0, 0, 0.15);\n",
              "      filter: drop-shadow(0px 1px 2px rgba(0, 0, 0, 0.3));\n",
              "      fill: #FFFFFF;\n",
              "    }\n",
              "  </style>\n",
              "\n",
              "      <script>\n",
              "        const buttonEl =\n",
              "          document.querySelector('#df-3d33c05a-ecff-46b3-b574-3d25c4f4d178 button.colab-df-convert');\n",
              "        buttonEl.style.display =\n",
              "          google.colab.kernel.accessAllowed ? 'block' : 'none';\n",
              "\n",
              "        async function convertToInteractive(key) {\n",
              "          const element = document.querySelector('#df-3d33c05a-ecff-46b3-b574-3d25c4f4d178');\n",
              "          const dataTable =\n",
              "            await google.colab.kernel.invokeFunction('convertToInteractive',\n",
              "                                                     [key], {});\n",
              "          if (!dataTable) return;\n",
              "\n",
              "          const docLinkHtml = 'Like what you see? Visit the ' +\n",
              "            '<a target=\"_blank\" href=https://colab.research.google.com/notebooks/data_table.ipynb>data table notebook</a>'\n",
              "            + ' to learn more about interactive tables.';\n",
              "          element.innerHTML = '';\n",
              "          dataTable['output_type'] = 'display_data';\n",
              "          await google.colab.output.renderOutput(dataTable, element);\n",
              "          const docLink = document.createElement('div');\n",
              "          docLink.innerHTML = docLinkHtml;\n",
              "          element.appendChild(docLink);\n",
              "        }\n",
              "      </script>\n",
              "    </div>\n",
              "  </div>\n",
              "  "
            ]
          },
          "metadata": {},
          "execution_count": 199
        }
      ]
    },
    {
      "cell_type": "code",
      "source": [
        "import missingno as mo\n",
        "mo.matrix(dset2)"
      ],
      "metadata": {
        "colab": {
          "base_uri": "https://localhost:8080/",
          "height": 746
        },
        "id": "6tCLAwfC_8P1",
        "outputId": "584a8b56-5ce6-45c1-d796-a23638aac567"
      },
      "execution_count": 200,
      "outputs": [
        {
          "output_type": "execute_result",
          "data": {
            "text/plain": [
              "<Axes: >"
            ]
          },
          "metadata": {},
          "execution_count": 200
        },
        {
          "output_type": "display_data",
          "data": {
            "text/plain": [
              "<Figure size 2500x1000 with 2 Axes>"
            ],
            "image/png": "[encoded data removed]"
          },
          "metadata": {}
        }
      ]
    },
    {
      "cell_type": "code",
      "source": [
        "print(dset2.columns[dset2.isna().any()])"
      ],
      "metadata": {
        "colab": {
          "base_uri": "https://localhost:8080/"
        },
        "id": "-9vIAcf8AKsb",
        "outputId": "bdee7685-cc2e-4888-e9d9-f360cf1d9fe4"
      },
      "execution_count": 201,
      "outputs": [
        {
          "output_type": "stream",
          "name": "stdout",
          "text": [
            "Index(['Transformer ID', 'Tap Step'], dtype='object')\n"
          ]
        }
      ]
    },
    {
      "cell_type": "code",
      "source": [
        "dset2.count()['Area']"
      ],
      "metadata": {
        "colab": {
          "base_uri": "https://localhost:8080/"
        },
        "id": "pqV3TJagAPZV",
        "outputId": "4416a7f8-dd62-4d89-de8d-b47389fc225f"
      },
      "execution_count": 202,
      "outputs": [
        {
          "output_type": "execute_result",
          "data": {
            "text/plain": [
              "2472"
            ]
          },
          "metadata": {},
          "execution_count": 202
        }
      ]
    },
    {
      "cell_type": "markdown",
      "source": [
        "<h1> Filling NULL Values </h1>"
      ],
      "metadata": {
        "id": "EYLwWWfNzGXA"
      }
    },
    {
      "cell_type": "code",
      "source": [
        "print(dset2.isnull().sum())"
      ],
      "metadata": {
        "colab": {
          "base_uri": "https://localhost:8080/"
        },
        "id": "Ezqit_SjvIhS",
        "outputId": "35078602-3a89-4044-ce8c-4f6d92cacec3"
      },
      "execution_count": 203,
      "outputs": [
        {
          "output_type": "stream",
          "name": "stdout",
          "text": [
            "Area                                    0\n",
            "GSP Group                               0\n",
            "S/S or Busbar Name Node 1               0\n",
            "S/S or Busbar Name Node 1 Voltage       0\n",
            "S/S or Busbar Name Node 2               0\n",
            "S/S or Busbar Name Node 2 Voltage       0\n",
            "Transformer ID                         99\n",
            "Vector Group                            0\n",
            "Positive Sequence Resistance R          0\n",
            "Positive Sequence Reactance X           0\n",
            "Zero Sequence Reactance X               0\n",
            "Tap Min                                 0\n",
            "Tap Max                                 0\n",
            "Tap Step                             1541\n",
            "Normal Rating                           0\n",
            "Method_of_Earthing                      0\n",
            "dtype: int64\n"
          ]
        }
      ]
    },
    {
      "cell_type": "code",
      "source": [
        "dset_tra_count= dset2[\"Transformer ID\"].value_counts()\n",
        "print(\"counting tra here \\n\",dset_tra_count)"
      ],
      "metadata": {
        "colab": {
          "base_uri": "https://localhost:8080/"
        },
        "id": "hCr6fa1bvi_3",
        "outputId": "b5be51c4-8199-4b2f-f75f-3ba06ec53712"
      },
      "execution_count": 204,
      "outputs": [
        {
          "output_type": "stream",
          "name": "stdout",
          "text": [
            "counting tra here \n",
            " 373723.0     3\n",
            "4879861.0    2\n",
            "373766.0     2\n",
            "4697002.0    2\n",
            "373765.0     2\n",
            "            ..\n",
            "373783.0     1\n",
            "12701.0      1\n",
            "12702.0      1\n",
            "2291869.0    1\n",
            "3093094.0    1\n",
            "Name: Transformer ID, Length: 2313, dtype: int64\n"
          ]
        }
      ]
    },
    {
      "cell_type": "code",
      "source": [
        "dset2[\"Transformer ID\"].unique()"
      ],
      "metadata": {
        "colab": {
          "base_uri": "https://localhost:8080/"
        },
        "id": "wDF4kyNxwCye",
        "outputId": "5a3c1cda-be21-4620-f9b6-43f429fa2f90"
      },
      "execution_count": 205,
      "outputs": [
        {
          "output_type": "execute_result",
          "data": {
            "text/plain": [
              "array([ 681123.,  681124.,  681192., ..., 4169152., 3092656., 3093094.])"
            ]
          },
          "metadata": {},
          "execution_count": 205
        }
      ]
    },
    {
      "cell_type": "code",
      "source": [
        "dset_ts_count= dset2[\"Tap Step\"].value_counts()\n",
        "print(\"counting tap step here \\n\",dset_ts_count)"
      ],
      "metadata": {
        "colab": {
          "base_uri": "https://localhost:8080/"
        },
        "id": "YWZF7J6XwKkY",
        "outputId": "85605e7b-5794-4a96-a7e7-594acda12c3b"
      },
      "execution_count": 206,
      "outputs": [
        {
          "output_type": "stream",
          "name": "stdout",
          "text": [
            "counting tap step here \n",
            " 1.2    407\n",
            "1.4    281\n",
            "1.7    178\n",
            "1.3     46\n",
            "1.5      6\n",
            "1.6      6\n",
            "1.1      4\n",
            "2.7      2\n",
            "1.0      1\n",
            "Name: Tap Step, dtype: int64\n"
          ]
        }
      ]
    },
    {
      "cell_type": "code",
      "source": [
        "dset2[\"Tap Step\"].unique"
      ],
      "metadata": {
        "colab": {
          "base_uri": "https://localhost:8080/"
        },
        "id": "EdDJj18SwZkU",
        "outputId": "02cd3e57-0a4b-42b8-e842-4e188a4b24c6"
      },
      "execution_count": 207,
      "outputs": [
        {
          "output_type": "execute_result",
          "data": {
            "text/plain": [
              "<bound method Series.unique of 0      NaN\n",
              "1      NaN\n",
              "2      NaN\n",
              "3      NaN\n",
              "4      NaN\n",
              "        ..\n",
              "2467   NaN\n",
              "2468   NaN\n",
              "2469   NaN\n",
              "2470   NaN\n",
              "2471   NaN\n",
              "Name: Tap Step, Length: 2472, dtype: float64>"
            ]
          },
          "metadata": {},
          "execution_count": 207
        }
      ]
    },
    {
      "cell_type": "code",
      "source": [
        "tID= dset2[\"Transformer ID\"].mode()[0]\n",
        "print(\"tID= \", tID)\n",
        "dset2[\"Transformer ID\"].fillna(tID, inplace= True)\n",
        "dset2.head()"
      ],
      "metadata": {
        "colab": {
          "base_uri": "https://localhost:8080/",
          "height": 598
        },
        "id": "LC7H45GBxtXH",
        "outputId": "27e4fd8d-b8eb-496d-a83f-ec1edbe9ea53"
      },
      "execution_count": 208,
      "outputs": [
        {
          "output_type": "stream",
          "name": "stdout",
          "text": [
            "tID=  373723.0\n"
          ]
        },
        {
          "output_type": "execute_result",
          "data": {
            "text/plain": [
              "     Area                       GSP Group S/S or Busbar Name Node 1  \\\n",
              "0  SWALES  Cardiff East & Aberthaw 132 kV                     CARS1   \n",
              "1  SWALES  Cardiff East & Aberthaw 132 kV                     CARS1   \n",
              "2  SWALES  Cardiff East & Aberthaw 132 kV                     GRAT1   \n",
              "3  SWALES  Cardiff East & Aberthaw 132 kV                     GRAT1   \n",
              "4  SWALES  Cardiff East & Aberthaw 132 kV                    LLEL11   \n",
              "\n",
              "   S/S or Busbar Name Node 1 Voltage S/S or Busbar Name Node 2  \\\n",
              "0                                132                     CARS5   \n",
              "1                                132                     CARS5   \n",
              "2                                132                     GRAT5   \n",
              "3                                132                     GRAT5   \n",
              "4                                132                    LLEL5A   \n",
              "\n",
              "   S/S or Busbar Name Node 2 Voltage  Transformer ID Vector Group  \\\n",
              "0                               11.0        681123.0          YNd   \n",
              "1                               11.0        681124.0          YNd   \n",
              "2                               11.0        681192.0          YNd   \n",
              "3                               11.0        681193.0          YNd   \n",
              "4                               11.0        680867.0         YNyn   \n",
              "\n",
              "   Positive Sequence Resistance R  Positive Sequence Reactance X  \\\n",
              "0                            1.90                          69.90   \n",
              "1                            1.90                          69.65   \n",
              "2                            1.92                          85.10   \n",
              "3                            1.92                          85.10   \n",
              "4                            2.65                          90.96   \n",
              "\n",
              "   Zero Sequence Reactance X  Tap Min  Tap Max  Tap Step  Normal Rating  \\\n",
              "0                     65.200    -20.0     10.0       NaN           20.0   \n",
              "1                     65.200    -20.0     10.0       NaN           20.0   \n",
              "2                     72.300    -20.0     10.0       NaN           20.0   \n",
              "3                     72.300    -20.0     10.0       NaN           20.0   \n",
              "4                    545.768    -23.0      5.0       NaN           20.0   \n",
              "\n",
              "  Method_of_Earthing  \n",
              "0           Earth Tx  \n",
              "1           Earth Tx  \n",
              "2           Earth Tx  \n",
              "3           Earth Tx  \n",
              "4                LER  "
            ],
            "text/html": [
              "\n",
              "  <div id=\"df-d170556d-40a1-4470-a2e3-8302f84eec04\">\n",
              "    <div class=\"colab-df-container\">\n",
              "      <div>\n",
              "<style scoped>\n",
              "    .dataframe tbody tr th:only-of-type {\n",
              "        vertical-align: middle;\n",
              "    }\n",
              "\n",
              "    .dataframe tbody tr th {\n",
              "        vertical-align: top;\n",
              "    }\n",
              "\n",
              "    .dataframe thead th {\n",
              "        text-align: right;\n",
              "    }\n",
              "</style>\n",
              "<table border=\"1\" class=\"dataframe\">\n",
              "  <thead>\n",
              "    <tr style=\"text-align: right;\">\n",
              "      <th></th>\n",
              "      <th>Area</th>\n",
              "      <th>GSP Group</th>\n",
              "      <th>S/S or Busbar Name Node 1</th>\n",
              "      <th>S/S or Busbar Name Node 1 Voltage</th>\n",
              "      <th>S/S or Busbar Name Node 2</th>\n",
              "      <th>S/S or Busbar Name Node 2 Voltage</th>\n",
              "      <th>Transformer ID</th>\n",
              "      <th>Vector Group</th>\n",
              "      <th>Positive Sequence Resistance R</th>\n",
              "      <th>Positive Sequence Reactance X</th>\n",
              "      <th>Zero Sequence Reactance X</th>\n",
              "      <th>Tap Min</th>\n",
              "      <th>Tap Max</th>\n",
              "      <th>Tap Step</th>\n",
              "      <th>Normal Rating</th>\n",
              "      <th>Method_of_Earthing</th>\n",
              "    </tr>\n",
              "  </thead>\n",
              "  <tbody>\n",
              "    <tr>\n",
              "      <th>0</th>\n",
              "      <td>SWALES</td>\n",
              "      <td>Cardiff East &amp; Aberthaw 132 kV</td>\n",
              "      <td>CARS1</td>\n",
              "      <td>132</td>\n",
              "      <td>CARS5</td>\n",
              "      <td>11.0</td>\n",
              "      <td>681123.0</td>\n",
              "      <td>YNd</td>\n",
              "      <td>1.90</td>\n",
              "      <td>69.90</td>\n",
              "      <td>65.200</td>\n",
              "      <td>-20.0</td>\n",
              "      <td>10.0</td>\n",
              "      <td>NaN</td>\n",
              "      <td>20.0</td>\n",
              "      <td>Earth Tx</td>\n",
              "    </tr>\n",
              "    <tr>\n",
              "      <th>1</th>\n",
              "      <td>SWALES</td>\n",
              "      <td>Cardiff East &amp; Aberthaw 132 kV</td>\n",
              "      <td>CARS1</td>\n",
              "      <td>132</td>\n",
              "      <td>CARS5</td>\n",
              "      <td>11.0</td>\n",
              "      <td>681124.0</td>\n",
              "      <td>YNd</td>\n",
              "      <td>1.90</td>\n",
              "      <td>69.65</td>\n",
              "      <td>65.200</td>\n",
              "      <td>-20.0</td>\n",
              "      <td>10.0</td>\n",
              "      <td>NaN</td>\n",
              "      <td>20.0</td>\n",
              "      <td>Earth Tx</td>\n",
              "    </tr>\n",
              "    <tr>\n",
              "      <th>2</th>\n",
              "      <td>SWALES</td>\n",
              "      <td>Cardiff East &amp; Aberthaw 132 kV</td>\n",
              "      <td>GRAT1</td>\n",
              "      <td>132</td>\n",
              "      <td>GRAT5</td>\n",
              "      <td>11.0</td>\n",
              "      <td>681192.0</td>\n",
              "      <td>YNd</td>\n",
              "      <td>1.92</td>\n",
              "      <td>85.10</td>\n",
              "      <td>72.300</td>\n",
              "      <td>-20.0</td>\n",
              "      <td>10.0</td>\n",
              "      <td>NaN</td>\n",
              "      <td>20.0</td>\n",
              "      <td>Earth Tx</td>\n",
              "    </tr>\n",
              "    <tr>\n",
              "      <th>3</th>\n",
              "      <td>SWALES</td>\n",
              "      <td>Cardiff East &amp; Aberthaw 132 kV</td>\n",
              "      <td>GRAT1</td>\n",
              "      <td>132</td>\n",
              "      <td>GRAT5</td>\n",
              "      <td>11.0</td>\n",
              "      <td>681193.0</td>\n",
              "      <td>YNd</td>\n",
              "      <td>1.92</td>\n",
              "      <td>85.10</td>\n",
              "      <td>72.300</td>\n",
              "      <td>-20.0</td>\n",
              "      <td>10.0</td>\n",
              "      <td>NaN</td>\n",
              "      <td>20.0</td>\n",
              "      <td>Earth Tx</td>\n",
              "    </tr>\n",
              "    <tr>\n",
              "      <th>4</th>\n",
              "      <td>SWALES</td>\n",
              "      <td>Cardiff East &amp; Aberthaw 132 kV</td>\n",
              "      <td>LLEL11</td>\n",
              "      <td>132</td>\n",
              "      <td>LLEL5A</td>\n",
              "      <td>11.0</td>\n",
              "      <td>680867.0</td>\n",
              "      <td>YNyn</td>\n",
              "      <td>2.65</td>\n",
              "      <td>90.96</td>\n",
              "      <td>545.768</td>\n",
              "      <td>-23.0</td>\n",
              "      <td>5.0</td>\n",
              "      <td>NaN</td>\n",
              "      <td>20.0</td>\n",
              "      <td>LER</td>\n",
              "    </tr>\n",
              "  </tbody>\n",
              "</table>\n",
              "</div>\n",
              "      <button class=\"colab-df-convert\" onclick=\"convertToInteractive('df-d170556d-40a1-4470-a2e3-8302f84eec04')\"\n",
              "              title=\"Convert this dataframe to an interactive table.\"\n",
              "              style=\"display:none;\">\n",
              "        \n",
              "  <svg xmlns=\"http://www.w3.org/2000/svg\" height=\"24px\"viewBox=\"0 0 24 24\"\n",
              "       width=\"24px\">\n",
              "    <path d=\"M0 0h24v24H0V0z\" fill=\"none\"/>\n",
              "    <path d=\"M18.56 5.44l.94 2.06.94-2.06 2.06-.94-2.06-.94-.94-2.06-.94 2.06-2.06.94zm-11 1L8.5 8.5l.94-2.06 2.06-.94-2.06-.94L8.5 2.5l-.94 2.06-2.06.94zm10 10l.94 2.06.94-2.06 2.06-.94-2.06-.94-.94-2.06-.94 2.06-2.06.94z\"/><path d=\"M17.41 7.96l-1.37-1.37c-.4-.4-.92-.59-1.43-.59-.52 0-1.04.2-1.43.59L10.3 9.45l-7.72 7.72c-.78.78-.78 2.05 0 2.83L4 21.41c.39.39.9.59 1.41.59.51 0 1.02-.2 1.41-.59l7.78-7.78 2.81-2.81c.8-.78.8-2.07 0-2.86zM5.41 20L4 18.59l7.72-7.72 1.47 1.35L5.41 20z\"/>\n",
              "  </svg>\n",
              "      </button>\n",
              "      \n",
              "  <style>\n",
              "    .colab-df-container {\n",
              "      display:flex;\n",
              "      flex-wrap:wrap;\n",
              "      gap: 12px;\n",
              "    }\n",
              "\n",
              "    .colab-df-convert {\n",
              "      background-color: #E8F0FE;\n",
              "      border: none;\n",
              "      border-radius: 50%;\n",
              "      cursor: pointer;\n",
              "      display: none;\n",
              "      fill: #1967D2;\n",
              "      height: 32px;\n",
              "      padding: 0 0 0 0;\n",
              "      width: 32px;\n",
              "    }\n",
              "\n",
              "    .colab-df-convert:hover {\n",
              "      background-color: #E2EBFA;\n",
              "      box-shadow: 0px 1px 2px rgba(60, 64, 67, 0.3), 0px 1px 3px 1px rgba(60, 64, 67, 0.15);\n",
              "      fill: #174EA6;\n",
              "    }\n",
              "\n",
              "    [theme=dark] .colab-df-convert {\n",
              "      background-color: #3B4455;\n",
              "      fill: #D2E3FC;\n",
              "    }\n",
              "\n",
              "    [theme=dark] .colab-df-convert:hover {\n",
              "      background-color: #434B5C;\n",
              "      box-shadow: 0px 1px 3px 1px rgba(0, 0, 0, 0.15);\n",
              "      filter: drop-shadow(0px 1px 2px rgba(0, 0, 0, 0.3));\n",
              "      fill: #FFFFFF;\n",
              "    }\n",
              "  </style>\n",
              "\n",
              "      <script>\n",
              "        const buttonEl =\n",
              "          document.querySelector('#df-d170556d-40a1-4470-a2e3-8302f84eec04 button.colab-df-convert');\n",
              "        buttonEl.style.display =\n",
              "          google.colab.kernel.accessAllowed ? 'block' : 'none';\n",
              "\n",
              "        async function convertToInteractive(key) {\n",
              "          const element = document.querySelector('#df-d170556d-40a1-4470-a2e3-8302f84eec04');\n",
              "          const dataTable =\n",
              "            await google.colab.kernel.invokeFunction('convertToInteractive',\n",
              "                                                     [key], {});\n",
              "          if (!dataTable) return;\n",
              "\n",
              "          const docLinkHtml = 'Like what you see? Visit the ' +\n",
              "            '<a target=\"_blank\" href=https://colab.research.google.com/notebooks/data_table.ipynb>data table notebook</a>'\n",
              "            + ' to learn more about interactive tables.';\n",
              "          element.innerHTML = '';\n",
              "          dataTable['output_type'] = 'display_data';\n",
              "          await google.colab.output.renderOutput(dataTable, element);\n",
              "          const docLink = document.createElement('div');\n",
              "          docLink.innerHTML = docLinkHtml;\n",
              "          element.appendChild(docLink);\n",
              "        }\n",
              "      </script>\n",
              "    </div>\n",
              "  </div>\n",
              "  "
            ]
          },
          "metadata": {},
          "execution_count": 208
        }
      ]
    },
    {
      "cell_type": "code",
      "source": [
        "tst= dset2[\"Tap Step\"].mode()[0]\n",
        "print(\"tst= \", tst)\n",
        "dset2[\"Tap Step\"].fillna(tst, inplace= True)\n",
        "dset2.head()"
      ],
      "metadata": {
        "colab": {
          "base_uri": "https://localhost:8080/",
          "height": 598
        },
        "id": "5mgKJ3UvyxnZ",
        "outputId": "6925bc2a-b3e9-4dd3-db1e-96235881797b"
      },
      "execution_count": 209,
      "outputs": [
        {
          "output_type": "stream",
          "name": "stdout",
          "text": [
            "tst=  1.2\n"
          ]
        },
        {
          "output_type": "execute_result",
          "data": {
            "text/plain": [
              "     Area                       GSP Group S/S or Busbar Name Node 1  \\\n",
              "0  SWALES  Cardiff East & Aberthaw 132 kV                     CARS1   \n",
              "1  SWALES  Cardiff East & Aberthaw 132 kV                     CARS1   \n",
              "2  SWALES  Cardiff East & Aberthaw 132 kV                     GRAT1   \n",
              "3  SWALES  Cardiff East & Aberthaw 132 kV                     GRAT1   \n",
              "4  SWALES  Cardiff East & Aberthaw 132 kV                    LLEL11   \n",
              "\n",
              "   S/S or Busbar Name Node 1 Voltage S/S or Busbar Name Node 2  \\\n",
              "0                                132                     CARS5   \n",
              "1                                132                     CARS5   \n",
              "2                                132                     GRAT5   \n",
              "3                                132                     GRAT5   \n",
              "4                                132                    LLEL5A   \n",
              "\n",
              "   S/S or Busbar Name Node 2 Voltage  Transformer ID Vector Group  \\\n",
              "0                               11.0        681123.0          YNd   \n",
              "1                               11.0        681124.0          YNd   \n",
              "2                               11.0        681192.0          YNd   \n",
              "3                               11.0        681193.0          YNd   \n",
              "4                               11.0        680867.0         YNyn   \n",
              "\n",
              "   Positive Sequence Resistance R  Positive Sequence Reactance X  \\\n",
              "0                            1.90                          69.90   \n",
              "1                            1.90                          69.65   \n",
              "2                            1.92                          85.10   \n",
              "3                            1.92                          85.10   \n",
              "4                            2.65                          90.96   \n",
              "\n",
              "   Zero Sequence Reactance X  Tap Min  Tap Max  Tap Step  Normal Rating  \\\n",
              "0                     65.200    -20.0     10.0       1.2           20.0   \n",
              "1                     65.200    -20.0     10.0       1.2           20.0   \n",
              "2                     72.300    -20.0     10.0       1.2           20.0   \n",
              "3                     72.300    -20.0     10.0       1.2           20.0   \n",
              "4                    545.768    -23.0      5.0       1.2           20.0   \n",
              "\n",
              "  Method_of_Earthing  \n",
              "0           Earth Tx  \n",
              "1           Earth Tx  \n",
              "2           Earth Tx  \n",
              "3           Earth Tx  \n",
              "4                LER  "
            ],
            "text/html": [
              "\n",
              "  <div id=\"df-0c3bc36a-5570-4898-96f2-41871bca0b6c\">\n",
              "    <div class=\"colab-df-container\">\n",
              "      <div>\n",
              "<style scoped>\n",
              "    .dataframe tbody tr th:only-of-type {\n",
              "        vertical-align: middle;\n",
              "    }\n",
              "\n",
              "    .dataframe tbody tr th {\n",
              "        vertical-align: top;\n",
              "    }\n",
              "\n",
              "    .dataframe thead th {\n",
              "        text-align: right;\n",
              "    }\n",
              "</style>\n",
              "<table border=\"1\" class=\"dataframe\">\n",
              "  <thead>\n",
              "    <tr style=\"text-align: right;\">\n",
              "      <th></th>\n",
              "      <th>Area</th>\n",
              "      <th>GSP Group</th>\n",
              "      <th>S/S or Busbar Name Node 1</th>\n",
              "      <th>S/S or Busbar Name Node 1 Voltage</th>\n",
              "      <th>S/S or Busbar Name Node 2</th>\n",
              "      <th>S/S or Busbar Name Node 2 Voltage</th>\n",
              "      <th>Transformer ID</th>\n",
              "      <th>Vector Group</th>\n",
              "      <th>Positive Sequence Resistance R</th>\n",
              "      <th>Positive Sequence Reactance X</th>\n",
              "      <th>Zero Sequence Reactance X</th>\n",
              "      <th>Tap Min</th>\n",
              "      <th>Tap Max</th>\n",
              "      <th>Tap Step</th>\n",
              "      <th>Normal Rating</th>\n",
              "      <th>Method_of_Earthing</th>\n",
              "    </tr>\n",
              "  </thead>\n",
              "  <tbody>\n",
              "    <tr>\n",
              "      <th>0</th>\n",
              "      <td>SWALES</td>\n",
              "      <td>Cardiff East &amp; Aberthaw 132 kV</td>\n",
              "      <td>CARS1</td>\n",
              "      <td>132</td>\n",
              "      <td>CARS5</td>\n",
              "      <td>11.0</td>\n",
              "      <td>681123.0</td>\n",
              "      <td>YNd</td>\n",
              "      <td>1.90</td>\n",
              "      <td>69.90</td>\n",
              "      <td>65.200</td>\n",
              "      <td>-20.0</td>\n",
              "      <td>10.0</td>\n",
              "      <td>1.2</td>\n",
              "      <td>20.0</td>\n",
              "      <td>Earth Tx</td>\n",
              "    </tr>\n",
              "    <tr>\n",
              "      <th>1</th>\n",
              "      <td>SWALES</td>\n",
              "      <td>Cardiff East &amp; Aberthaw 132 kV</td>\n",
              "      <td>CARS1</td>\n",
              "      <td>132</td>\n",
              "      <td>CARS5</td>\n",
              "      <td>11.0</td>\n",
              "      <td>681124.0</td>\n",
              "      <td>YNd</td>\n",
              "      <td>1.90</td>\n",
              "      <td>69.65</td>\n",
              "      <td>65.200</td>\n",
              "      <td>-20.0</td>\n",
              "      <td>10.0</td>\n",
              "      <td>1.2</td>\n",
              "      <td>20.0</td>\n",
              "      <td>Earth Tx</td>\n",
              "    </tr>\n",
              "    <tr>\n",
              "      <th>2</th>\n",
              "      <td>SWALES</td>\n",
              "      <td>Cardiff East &amp; Aberthaw 132 kV</td>\n",
              "      <td>GRAT1</td>\n",
              "      <td>132</td>\n",
              "      <td>GRAT5</td>\n",
              "      <td>11.0</td>\n",
              "      <td>681192.0</td>\n",
              "      <td>YNd</td>\n",
              "      <td>1.92</td>\n",
              "      <td>85.10</td>\n",
              "      <td>72.300</td>\n",
              "      <td>-20.0</td>\n",
              "      <td>10.0</td>\n",
              "      <td>1.2</td>\n",
              "      <td>20.0</td>\n",
              "      <td>Earth Tx</td>\n",
              "    </tr>\n",
              "    <tr>\n",
              "      <th>3</th>\n",
              "      <td>SWALES</td>\n",
              "      <td>Cardiff East &amp; Aberthaw 132 kV</td>\n",
              "      <td>GRAT1</td>\n",
              "      <td>132</td>\n",
              "      <td>GRAT5</td>\n",
              "      <td>11.0</td>\n",
              "      <td>681193.0</td>\n",
              "      <td>YNd</td>\n",
              "      <td>1.92</td>\n",
              "      <td>85.10</td>\n",
              "      <td>72.300</td>\n",
              "      <td>-20.0</td>\n",
              "      <td>10.0</td>\n",
              "      <td>1.2</td>\n",
              "      <td>20.0</td>\n",
              "      <td>Earth Tx</td>\n",
              "    </tr>\n",
              "    <tr>\n",
              "      <th>4</th>\n",
              "      <td>SWALES</td>\n",
              "      <td>Cardiff East &amp; Aberthaw 132 kV</td>\n",
              "      <td>LLEL11</td>\n",
              "      <td>132</td>\n",
              "      <td>LLEL5A</td>\n",
              "      <td>11.0</td>\n",
              "      <td>680867.0</td>\n",
              "      <td>YNyn</td>\n",
              "      <td>2.65</td>\n",
              "      <td>90.96</td>\n",
              "      <td>545.768</td>\n",
              "      <td>-23.0</td>\n",
              "      <td>5.0</td>\n",
              "      <td>1.2</td>\n",
              "      <td>20.0</td>\n",
              "      <td>LER</td>\n",
              "    </tr>\n",
              "  </tbody>\n",
              "</table>\n",
              "</div>\n",
              "      <button class=\"colab-df-convert\" onclick=\"convertToInteractive('df-0c3bc36a-5570-4898-96f2-41871bca0b6c')\"\n",
              "              title=\"Convert this dataframe to an interactive table.\"\n",
              "              style=\"display:none;\">\n",
              "        \n",
              "  <svg xmlns=\"http://www.w3.org/2000/svg\" height=\"24px\"viewBox=\"0 0 24 24\"\n",
              "       width=\"24px\">\n",
              "    <path d=\"M0 0h24v24H0V0z\" fill=\"none\"/>\n",
              "    <path d=\"M18.56 5.44l.94 2.06.94-2.06 2.06-.94-2.06-.94-.94-2.06-.94 2.06-2.06.94zm-11 1L8.5 8.5l.94-2.06 2.06-.94-2.06-.94L8.5 2.5l-.94 2.06-2.06.94zm10 10l.94 2.06.94-2.06 2.06-.94-2.06-.94-.94-2.06-.94 2.06-2.06.94z\"/><path d=\"M17.41 7.96l-1.37-1.37c-.4-.4-.92-.59-1.43-.59-.52 0-1.04.2-1.43.59L10.3 9.45l-7.72 7.72c-.78.78-.78 2.05 0 2.83L4 21.41c.39.39.9.59 1.41.59.51 0 1.02-.2 1.41-.59l7.78-7.78 2.81-2.81c.8-.78.8-2.07 0-2.86zM5.41 20L4 18.59l7.72-7.72 1.47 1.35L5.41 20z\"/>\n",
              "  </svg>\n",
              "      </button>\n",
              "      \n",
              "  <style>\n",
              "    .colab-df-container {\n",
              "      display:flex;\n",
              "      flex-wrap:wrap;\n",
              "      gap: 12px;\n",
              "    }\n",
              "\n",
              "    .colab-df-convert {\n",
              "      background-color: #E8F0FE;\n",
              "      border: none;\n",
              "      border-radius: 50%;\n",
              "      cursor: pointer;\n",
              "      display: none;\n",
              "      fill: #1967D2;\n",
              "      height: 32px;\n",
              "      padding: 0 0 0 0;\n",
              "      width: 32px;\n",
              "    }\n",
              "\n",
              "    .colab-df-convert:hover {\n",
              "      background-color: #E2EBFA;\n",
              "      box-shadow: 0px 1px 2px rgba(60, 64, 67, 0.3), 0px 1px 3px 1px rgba(60, 64, 67, 0.15);\n",
              "      fill: #174EA6;\n",
              "    }\n",
              "\n",
              "    [theme=dark] .colab-df-convert {\n",
              "      background-color: #3B4455;\n",
              "      fill: #D2E3FC;\n",
              "    }\n",
              "\n",
              "    [theme=dark] .colab-df-convert:hover {\n",
              "      background-color: #434B5C;\n",
              "      box-shadow: 0px 1px 3px 1px rgba(0, 0, 0, 0.15);\n",
              "      filter: drop-shadow(0px 1px 2px rgba(0, 0, 0, 0.3));\n",
              "      fill: #FFFFFF;\n",
              "    }\n",
              "  </style>\n",
              "\n",
              "      <script>\n",
              "        const buttonEl =\n",
              "          document.querySelector('#df-0c3bc36a-5570-4898-96f2-41871bca0b6c button.colab-df-convert');\n",
              "        buttonEl.style.display =\n",
              "          google.colab.kernel.accessAllowed ? 'block' : 'none';\n",
              "\n",
              "        async function convertToInteractive(key) {\n",
              "          const element = document.querySelector('#df-0c3bc36a-5570-4898-96f2-41871bca0b6c');\n",
              "          const dataTable =\n",
              "            await google.colab.kernel.invokeFunction('convertToInteractive',\n",
              "                                                     [key], {});\n",
              "          if (!dataTable) return;\n",
              "\n",
              "          const docLinkHtml = 'Like what you see? Visit the ' +\n",
              "            '<a target=\"_blank\" href=https://colab.research.google.com/notebooks/data_table.ipynb>data table notebook</a>'\n",
              "            + ' to learn more about interactive tables.';\n",
              "          element.innerHTML = '';\n",
              "          dataTable['output_type'] = 'display_data';\n",
              "          await google.colab.output.renderOutput(dataTable, element);\n",
              "          const docLink = document.createElement('div');\n",
              "          docLink.innerHTML = docLinkHtml;\n",
              "          element.appendChild(docLink);\n",
              "        }\n",
              "      </script>\n",
              "    </div>\n",
              "  </div>\n",
              "  "
            ]
          },
          "metadata": {},
          "execution_count": 209
        }
      ]
    },
    {
      "cell_type": "code",
      "source": [
        "dset2.isnull().sum().sum()"
      ],
      "metadata": {
        "colab": {
          "base_uri": "https://localhost:8080/"
        },
        "id": "DFPjGIkxzV0B",
        "outputId": "433fe4a0-20b3-4732-c5c8-7f2d4ec5ddd7"
      },
      "execution_count": 210,
      "outputs": [
        {
          "output_type": "execute_result",
          "data": {
            "text/plain": [
              "0"
            ]
          },
          "metadata": {},
          "execution_count": 210
        }
      ]
    },
    {
      "cell_type": "markdown",
      "source": [
        "<h1> EDA (Exploratory Data Analysis\n",
        ") </h1>"
      ],
      "metadata": {
        "id": "i5pAD8OTlUGv"
      }
    },
    {
      "cell_type": "code",
      "source": [
        "dset2[\"GSP Group\"].value_counts()"
      ],
      "metadata": {
        "colab": {
          "base_uri": "https://localhost:8080/"
        },
        "id": "31WWhVm1lc66",
        "outputId": "d7636857-5057-49c4-a0c0-70e4096527b9"
      },
      "execution_count": 211,
      "outputs": [
        {
          "output_type": "execute_result",
          "data": {
            "text/plain": [
              "Abham_Exeter _Landulph            216\n",
              "Alverdiscott_Indian Queens        179\n",
              "Swansea North 132 kV              150\n",
              "Grendon 132kV                     128\n",
              "Chesterfield 132kV                114\n",
              "Willington 132kV                   96\n",
              "Coventry 132kV                     87\n",
              "Bishops Wood 132kV                 86\n",
              "Bridgwater_Taunton                 85\n",
              "Iron Acton                         75\n",
              "Cardiff East & Aberthaw 132 kV     74\n",
              "Enderby 132kV                      73\n",
              "Ratcliffe 132kV                    67\n",
              "Port Ham 132kV                     66\n",
              "Berkswell 132kV                    66\n",
              "Seabank                            65\n",
              "East Claydon 132kV                 64\n",
              "Ironbridge & Shrewsbury 132kV      61\n",
              "Cellarhead 132kV                   61\n",
              "Bicker Fen 132kV                   56\n",
              "Feckenham 66kV                     49\n",
              "Rassau 132 kV                      46\n",
              "Staythorpe 132kV                   38\n",
              "Walpole 132kV                      37\n",
              "West Burton 132kV                  36\n",
              "Pembroke 132 kV                    36\n",
              "Iron Acton 132kV                   35\n",
              "Uskmouth 132 kV                    33\n",
              "Upper Boat 132 & 33 kV             27\n",
              "Axminster                          27\n",
              "Drakelow 132kV                     27\n",
              "Lea Marston 132kV                  25\n",
              "Upper Boat 132 kV                  24\n",
              "Stoke Bardolph 132kV               22\n",
              "Penn 132kV                         22\n",
              "Pyle 132 kV                        21\n",
              "Melksham                           19\n",
              "Bustleholm 132kV                   17\n",
              "Kitwell 132kV                      17\n",
              "Bushbury 132kV                     12\n",
              "Nechells 132kV                      6\n",
              "Oldbury 132kV                       6\n",
              "Margam 66 kV                        6\n",
              "Ocker Hill 132kV                    5\n",
              "Willenhall 132kV                    5\n",
              "Rugeley 132kV                       3\n",
              "WestBurton 132kV                    2\n",
              "Name: GSP Group, dtype: int64"
            ]
          },
          "metadata": {},
          "execution_count": 211
        }
      ]
    },
    {
      "cell_type": "code",
      "source": [
        "import plotly.express as px \n",
        "ptran= px.histogram(dset2, x = 'GSP Group',  title=\"Distribbution of method of Earthing\")\n",
        "ptran.show()  "
      ],
      "metadata": {
        "colab": {
          "base_uri": "https://localhost:8080/",
          "height": 542
        },
        "id": "T2L6b0vZdpKl",
        "outputId": "1ab823a0-5ae6-4154-878b-098d31e29eca"
      },
      "execution_count": 212,
      "outputs": [
        {
          "output_type": "display_data",
          "data": {
            "text/html": [
              "<html>\n",
              "<head><meta charset=\"utf-8\" /></head>\n",
              "<body>\n",
              "    <div>            <script src=\"https://cdnjs.cloudflare.com/ajax/libs/mathjax/2.7.5/MathJax.js?config=TeX-AMS-MML_SVG\"></script><script type=\"text/javascript\">if (window.MathJax && window.MathJax.Hub && window.MathJax.Hub.Config) {window.MathJax.Hub.Config({SVG: {font: \"STIX-Web\"}});}</script>                <script type=\"text/javascript\">window.PlotlyConfig = {MathJaxConfig: 'local'};</script>\n",
              "        <script src=\"https://cdn.plot.ly/plotly-2.18.2.min.js\"></script>                <div id=\"4fcfb6d3-455b-4496-8b35-582b8889352d\" class=\"plotly-graph-div\" style=\"height:525px; width:100%;\"></div>            <script type=\"text/javascript\">                                    window.PLOTLYENV=window.PLOTLYENV || {};                                    if (document.getElementById(\"4fcfb6d3-455b-4496-8b35-582b8889352d\")) {                    Plotly.newPlot(                        \"4fcfb6d3-455b-4496-8b35-582b8889352d\",                        [{\"alignmentgroup\":\"True\",\"bingroup\":\"x\",\"hovertemplate\":\"GSP Group=%{x}<br>count=%{y}<extra></extra>\",\"legendgroup\":\"\",\"marker\":{\"color\":\"#636efa\",\"pattern\":{\"shape\":\"\"}},\"name\":\"\",\"offsetgroup\":\"\",\"orientation\":\"v\",\"showlegend\":false,\"x\":[\"Cardiff East & Aberthaw 132 kV\",\"Cardiff East & Aberthaw 132 kV\",\"Cardiff East & Aberthaw 132 kV\",\"Cardiff East & Aberthaw 132 kV\",\"Cardiff East & Aberthaw 132 kV\",\"Cardiff East & Aberthaw 132 kV\",\"Cardiff East & Aberthaw 132 kV\",\"Cardiff East & Aberthaw 132 kV\",\"Cardiff East & Aberthaw 132 kV\",\"Cardiff East & Aberthaw 132 kV\",\"Cardiff East & Aberthaw 132 kV\",\"Cardiff East & Aberthaw 132 kV\",\"Cardiff East & Aberthaw 132 kV\",\"Cardiff East & Aberthaw 132 kV\",\"Cardiff East & Aberthaw 132 kV\",\"Cardiff East & Aberthaw 132 kV\",\"Cardiff East & Aberthaw 132 kV\",\"Cardiff East & Aberthaw 132 kV\",\"Cardiff East & Aberthaw 132 kV\",\"Cardiff East & Aberthaw 132 kV\",\"Cardiff East & Aberthaw 132 kV\",\"Cardiff East & Aberthaw 132 kV\",\"Cardiff East & Aberthaw 132 kV\",\"Cardiff East & Aberthaw 132 kV\",\"Cardiff East & Aberthaw 132 kV\",\"Cardiff East & Aberthaw 132 kV\",\"Cardiff East & Aberthaw 132 kV\",\"Cardiff East & Aberthaw 132 kV\",\"Cardiff East & Aberthaw 132 kV\",\"Cardiff East & Aberthaw 132 kV\",\"Cardiff East & Aberthaw 132 kV\",\"Cardiff East & Aberthaw 132 kV\",\"Cardiff East & Aberthaw 132 kV\",\"Cardiff East & Aberthaw 132 kV\",\"Cardiff East & Aberthaw 132 kV\",\"Cardiff East & Aberthaw 132 kV\",\"Cardiff East & Aberthaw 132 kV\",\"Cardiff East & Aberthaw 132 kV\",\"Cardiff East & Aberthaw 132 kV\",\"Cardiff East & Aberthaw 132 kV\",\"Cardiff East & Aberthaw 132 kV\",\"Cardiff East & Aberthaw 132 kV\",\"Cardiff East & Aberthaw 132 kV\",\"Cardiff East & Aberthaw 132 kV\",\"Cardiff East & Aberthaw 132 kV\",\"Cardiff East & Aberthaw 132 kV\",\"Cardiff East & Aberthaw 132 kV\",\"Cardiff East & Aberthaw 132 kV\",\"Cardiff East & Aberthaw 132 kV\",\"Cardiff East & Aberthaw 132 kV\",\"Cardiff East & Aberthaw 132 kV\",\"Cardiff East & Aberthaw 132 kV\",\"Cardiff East & Aberthaw 132 kV\",\"Cardiff East & Aberthaw 132 kV\",\"Cardiff East & Aberthaw 132 kV\",\"Cardiff East & Aberthaw 132 kV\",\"Cardiff East & Aberthaw 132 kV\",\"Cardiff East & Aberthaw 132 kV\",\"Cardiff East & Aberthaw 132 kV\",\"Cardiff East & Aberthaw 132 kV\",\"Cardiff East & Aberthaw 132 kV\",\"Cardiff East & Aberthaw 132 kV\",\"Cardiff East & Aberthaw 132 kV\",\"Cardiff East & Aberthaw 132 kV\",\"Cardiff East & Aberthaw 132 kV\",\"Cardiff East & Aberthaw 132 kV\",\"Cardiff East & Aberthaw 132 kV\",\"Cardiff East & Aberthaw 132 kV\",\"Cardiff East & Aberthaw 132 kV\",\"Cardiff East & Aberthaw 132 kV\",\"Cardiff East & Aberthaw 132 kV\",\"Cardiff East & Aberthaw 132 kV\",\"Cardiff East & Aberthaw 132 kV\",\"Cardiff East & Aberthaw 132 kV\",\"Margam 66 kV\",\"Margam 66 kV\",\"Margam 66 kV\",\"Margam 66 kV\",\"Margam 66 kV\",\"Margam 66 kV\",\"Pembroke 132 kV\",\"Pembroke 132 kV\",\"Pembroke 132 kV\",\"Pembroke 132 kV\",\"Pembroke 132 kV\",\"Pembroke 132 kV\",\"Pembroke 132 kV\",\"Pembroke 132 kV\",\"Pembroke 132 kV\",\"Pembroke 132 kV\",\"Pembroke 132 kV\",\"Pembroke 132 kV\",\"Pembroke 132 kV\",\"Pembroke 132 kV\",\"Pembroke 132 kV\",\"Pembroke 132 kV\",\"Pembroke 132 kV\",\"Pembroke 132 kV\",\"Pembroke 132 kV\",\"Pembroke 132 kV\",\"Pembroke 132 kV\",\"Pembroke 132 kV\",\"Pembroke 132 kV\",\"Pembroke 132 kV\",\"Pembroke 132 kV\",\"Pembroke 132 kV\",\"Pembroke 132 kV\",\"Pembroke 132 kV\",\"Pembroke 132 kV\",\"Pembroke 132 kV\",\"Pembroke 132 kV\",\"Pembroke 132 kV\",\"Pembroke 132 kV\",\"Pembroke 132 kV\",\"Pembroke 132 kV\",\"Pembroke 132 kV\",\"Pyle 132 kV\",\"Pyle 132 kV\",\"Pyle 132 kV\",\"Pyle 132 kV\",\"Pyle 132 kV\",\"Pyle 132 kV\",\"Pyle 132 kV\",\"Pyle 132 kV\",\"Pyle 132 kV\",\"Pyle 132 kV\",\"Pyle 132 kV\",\"Pyle 132 kV\",\"Pyle 132 kV\",\"Pyle 132 kV\",\"Pyle 132 kV\",\"Pyle 132 kV\",\"Pyle 132 kV\",\"Pyle 132 kV\",\"Pyle 132 kV\",\"Pyle 132 kV\",\"Pyle 132 kV\",\"Rassau 132 kV\",\"Rassau 132 kV\",\"Rassau 132 kV\",\"Rassau 132 kV\",\"Rassau 132 kV\",\"Rassau 132 kV\",\"Rassau 132 kV\",\"Rassau 132 kV\",\"Rassau 132 kV\",\"Rassau 132 kV\",\"Rassau 132 kV\",\"Rassau 132 kV\",\"Rassau 132 kV\",\"Rassau 132 kV\",\"Rassau 132 kV\",\"Rassau 132 kV\",\"Rassau 132 kV\",\"Rassau 132 kV\",\"Rassau 132 kV\",\"Rassau 132 kV\",\"Rassau 132 kV\",\"Rassau 132 kV\",\"Rassau 132 kV\",\"Rassau 132 kV\",\"Rassau 132 kV\",\"Rassau 132 kV\",\"Rassau 132 kV\",\"Rassau 132 kV\",\"Rassau 132 kV\",\"Rassau 132 kV\",\"Rassau 132 kV\",\"Rassau 132 kV\",\"Rassau 132 kV\",\"Rassau 132 kV\",\"Rassau 132 kV\",\"Rassau 132 kV\",\"Rassau 132 kV\",\"Rassau 132 kV\",\"Rassau 132 kV\",\"Rassau 132 kV\",\"Rassau 132 kV\",\"Rassau 132 kV\",\"Rassau 132 kV\",\"Rassau 132 kV\",\"Rassau 132 kV\",\"Rassau 132 kV\",\"Swansea North 132 kV\",\"Swansea North 132 kV\",\"Swansea North 132 kV\",\"Swansea North 132 kV\",\"Swansea North 132 kV\",\"Swansea North 132 kV\",\"Swansea North 132 kV\",\"Swansea North 132 kV\",\"Swansea North 132 kV\",\"Swansea North 132 kV\",\"Swansea North 132 kV\",\"Swansea North 132 kV\",\"Swansea North 132 kV\",\"Swansea North 132 kV\",\"Swansea North 132 kV\",\"Swansea North 132 kV\",\"Swansea North 132 kV\",\"Swansea North 132 kV\",\"Swansea North 132 kV\",\"Swansea North 132 kV\",\"Swansea North 132 kV\",\"Swansea North 132 kV\",\"Swansea North 132 kV\",\"Swansea North 132 kV\",\"Swansea North 132 kV\",\"Swansea North 132 kV\",\"Swansea North 132 kV\",\"Swansea North 132 kV\",\"Swansea North 132 kV\",\"Swansea North 132 kV\",\"Swansea North 132 kV\",\"Swansea North 132 kV\",\"Swansea North 132 kV\",\"Swansea North 132 kV\",\"Swansea North 132 kV\",\"Swansea North 132 kV\",\"Swansea North 132 kV\",\"Swansea North 132 kV\",\"Swansea North 132 kV\",\"Swansea North 132 kV\",\"Swansea North 132 kV\",\"Swansea North 132 kV\",\"Swansea North 132 kV\",\"Swansea North 132 kV\",\"Swansea North 132 kV\",\"Swansea North 132 kV\",\"Swansea North 132 kV\",\"Swansea North 132 kV\",\"Swansea North 132 kV\",\"Swansea North 132 kV\",\"Swansea North 132 kV\",\"Swansea North 132 kV\",\"Swansea North 132 kV\",\"Swansea North 132 kV\",\"Swansea North 132 kV\",\"Swansea North 132 kV\",\"Swansea North 132 kV\",\"Swansea North 132 kV\",\"Swansea North 132 kV\",\"Swansea North 132 kV\",\"Swansea North 132 kV\",\"Swansea North 132 kV\",\"Swansea North 132 kV\",\"Swansea North 132 kV\",\"Swansea North 132 kV\",\"Swansea North 132 kV\",\"Swansea North 132 kV\",\"Swansea North 132 kV\",\"Swansea North 132 kV\",\"Swansea North 132 kV\",\"Swansea North 132 kV\",\"Swansea North 132 kV\",\"Swansea North 132 kV\",\"Swansea North 132 kV\",\"Swansea North 132 kV\",\"Swansea North 132 kV\",\"Swansea North 132 kV\",\"Swansea North 132 kV\",\"Swansea North 132 kV\",\"Swansea North 132 kV\",\"Swansea North 132 kV\",\"Swansea North 132 kV\",\"Swansea North 132 kV\",\"Swansea North 132 kV\",\"Swansea North 132 kV\",\"Swansea North 132 kV\",\"Swansea North 132 kV\",\"Swansea North 132 kV\",\"Swansea North 132 kV\",\"Swansea North 132 kV\",\"Swansea North 132 kV\",\"Swansea North 132 kV\",\"Swansea North 132 kV\",\"Swansea North 132 kV\",\"Swansea North 132 kV\",\"Swansea North 132 kV\",\"Swansea North 132 kV\",\"Swansea North 132 kV\",\"Swansea North 132 kV\",\"Swansea North 132 kV\",\"Swansea North 132 kV\",\"Swansea North 132 kV\",\"Swansea North 132 kV\",\"Swansea North 132 kV\",\"Swansea North 132 kV\",\"Swansea North 132 kV\",\"Swansea North 132 kV\",\"Swansea North 132 kV\",\"Swansea North 132 kV\",\"Swansea North 132 kV\",\"Swansea North 132 kV\",\"Swansea North 132 kV\",\"Swansea North 132 kV\",\"Swansea North 132 kV\",\"Swansea North 132 kV\",\"Swansea North 132 kV\",\"Swansea North 132 kV\",\"Swansea North 132 kV\",\"Swansea North 132 kV\",\"Swansea North 132 kV\",\"Swansea North 132 kV\",\"Swansea North 132 kV\",\"Swansea North 132 kV\",\"Swansea North 132 kV\",\"Swansea North 132 kV\",\"Swansea North 132 kV\",\"Swansea North 132 kV\",\"Swansea North 132 kV\",\"Swansea North 132 kV\",\"Swansea North 132 kV\",\"Swansea North 132 kV\",\"Swansea North 132 kV\",\"Swansea North 132 kV\",\"Swansea North 132 kV\",\"Swansea North 132 kV\",\"Swansea North 132 kV\",\"Swansea North 132 kV\",\"Swansea North 132 kV\",\"Swansea North 132 kV\",\"Swansea North 132 kV\",\"Swansea North 132 kV\",\"Swansea North 132 kV\",\"Swansea North 132 kV\",\"Swansea North 132 kV\",\"Swansea North 132 kV\",\"Swansea North 132 kV\",\"Swansea North 132 kV\",\"Swansea North 132 kV\",\"Swansea North 132 kV\",\"Swansea North 132 kV\",\"Upper Boat 132 & 33 kV\",\"Upper Boat 132 & 33 kV\",\"Upper Boat 132 & 33 kV\",\"Upper Boat 132 & 33 kV\",\"Upper Boat 132 & 33 kV\",\"Upper Boat 132 & 33 kV\",\"Upper Boat 132 & 33 kV\",\"Upper Boat 132 & 33 kV\",\"Upper Boat 132 & 33 kV\",\"Upper Boat 132 & 33 kV\",\"Upper Boat 132 & 33 kV\",\"Upper Boat 132 & 33 kV\",\"Upper Boat 132 & 33 kV\",\"Upper Boat 132 & 33 kV\",\"Upper Boat 132 & 33 kV\",\"Upper Boat 132 & 33 kV\",\"Upper Boat 132 & 33 kV\",\"Upper Boat 132 & 33 kV\",\"Upper Boat 132 & 33 kV\",\"Upper Boat 132 & 33 kV\",\"Upper Boat 132 & 33 kV\",\"Upper Boat 132 & 33 kV\",\"Upper Boat 132 & 33 kV\",\"Upper Boat 132 & 33 kV\",\"Upper Boat 132 & 33 kV\",\"Upper Boat 132 & 33 kV\",\"Upper Boat 132 & 33 kV\",\"Upper Boat 132 kV\",\"Upper Boat 132 kV\",\"Upper Boat 132 kV\",\"Upper Boat 132 kV\",\"Upper Boat 132 kV\",\"Upper Boat 132 kV\",\"Upper Boat 132 kV\",\"Upper Boat 132 kV\",\"Upper Boat 132 kV\",\"Upper Boat 132 kV\",\"Upper Boat 132 kV\",\"Upper Boat 132 kV\",\"Upper Boat 132 kV\",\"Upper Boat 132 kV\",\"Upper Boat 132 kV\",\"Upper Boat 132 kV\",\"Upper Boat 132 kV\",\"Upper Boat 132 kV\",\"Upper Boat 132 kV\",\"Upper Boat 132 kV\",\"Upper Boat 132 kV\",\"Upper Boat 132 kV\",\"Upper Boat 132 kV\",\"Upper Boat 132 kV\",\"Uskmouth 132 kV\",\"Uskmouth 132 kV\",\"Uskmouth 132 kV\",\"Uskmouth 132 kV\",\"Uskmouth 132 kV\",\"Uskmouth 132 kV\",\"Uskmouth 132 kV\",\"Uskmouth 132 kV\",\"Uskmouth 132 kV\",\"Uskmouth 132 kV\",\"Uskmouth 132 kV\",\"Uskmouth 132 kV\",\"Uskmouth 132 kV\",\"Uskmouth 132 kV\",\"Uskmouth 132 kV\",\"Uskmouth 132 kV\",\"Uskmouth 132 kV\",\"Uskmouth 132 kV\",\"Uskmouth 132 kV\",\"Uskmouth 132 kV\",\"Uskmouth 132 kV\",\"Uskmouth 132 kV\",\"Uskmouth 132 kV\",\"Uskmouth 132 kV\",\"Uskmouth 132 kV\",\"Uskmouth 132 kV\",\"Uskmouth 132 kV\",\"Uskmouth 132 kV\",\"Uskmouth 132 kV\",\"Uskmouth 132 kV\",\"Uskmouth 132 kV\",\"Uskmouth 132 kV\",\"Uskmouth 132 kV\",\"Iron Acton\",\"Iron Acton\",\"Abham_Exeter _Landulph\",\"Abham_Exeter _Landulph\",\"Bridgwater_Taunton\",\"Bridgwater_Taunton\",\"Abham_Exeter _Landulph\",\"Abham_Exeter _Landulph\",\"Abham_Exeter _Landulph\",\"Abham_Exeter _Landulph\",\"Iron Acton\",\"Iron Acton\",\"Abham_Exeter _Landulph\",\"Abham_Exeter _Landulph\",\"Abham_Exeter _Landulph\",\"Seabank\",\"Seabank\",\"Alverdiscott_Indian Queens\",\"Iron Acton\",\"Iron Acton\",\"Abham_Exeter _Landulph\",\"Abham_Exeter _Landulph\",\"Seabank\",\"Seabank\",\"Seabank\",\"Seabank\",\"Seabank\",\"Seabank\",\"Seabank\",\"Seabank\",\"Bridgwater_Taunton\",\"Bridgwater_Taunton\",\"Axminster\",\"Axminster\",\"Alverdiscott_Indian Queens\",\"Alverdiscott_Indian Queens\",\"Alverdiscott_Indian Queens\",\"Alverdiscott_Indian Queens\",\"Abham_Exeter _Landulph\",\"Abham_Exeter _Landulph\",\"Melksham\",\"Melksham\",\"Bridgwater_Taunton\",\"Bridgwater_Taunton\",\"Bridgwater_Taunton\",\"Melksham\",\"Melksham\",\"Melksham\",\"Axminster\",\"Iron Acton\",\"Iron Acton\",\"Iron Acton\",\"Alverdiscott_Indian Queens\",\"Alverdiscott_Indian Queens\",\"Iron Acton\",\"Iron Acton\",\"Abham_Exeter _Landulph\",\"Alverdiscott_Indian Queens\",\"Alverdiscott_Indian Queens\",\"Bridgwater_Taunton\",\"Alverdiscott_Indian Queens\",\"Alverdiscott_Indian Queens\",\"Seabank\",\"Seabank\",\"Abham_Exeter _Landulph\",\"Iron Acton\",\"Iron Acton\",\"Bridgwater_Taunton\",\"Bridgwater_Taunton\",\"Bridgwater_Taunton\",\"Bridgwater_Taunton\",\"Abham_Exeter _Landulph\",\"Abham_Exeter _Landulph\",\"Iron Acton\",\"Iron Acton\",\"Iron Acton\",\"Iron Acton\",\"Alverdiscott_Indian Queens\",\"Alverdiscott_Indian Queens\",\"Alverdiscott_Indian Queens\",\"Abham_Exeter _Landulph\",\"Abham_Exeter _Landulph\",\"Bridgwater_Taunton\",\"Bridgwater_Taunton\",\"Bridgwater_Taunton\",\"Bridgwater_Taunton\",\"Bridgwater_Taunton\",\"Axminster\",\"Axminster\",\"Bridgwater_Taunton\",\"Bridgwater_Taunton\",\"Seabank\",\"Iron Acton\",\"Iron Acton\",\"Abham_Exeter _Landulph\",\"Abham_Exeter _Landulph\",\"Abham_Exeter _Landulph\",\"Abham_Exeter _Landulph\",\"Abham_Exeter _Landulph\",\"Alverdiscott_Indian Queens\",\"Alverdiscott_Indian Queens\",\"Alverdiscott_Indian Queens\",\"Abham_Exeter _Landulph\",\"Abham_Exeter _Landulph\",\"Bridgwater_Taunton\",\"Bridgwater_Taunton\",\"Seabank\",\"Seabank\",\"Seabank\",\"Seabank\",\"Abham_Exeter _Landulph\",\"Abham_Exeter _Landulph\",\"Alverdiscott_Indian Queens\",\"Alverdiscott_Indian Queens\",\"Alverdiscott_Indian Queens\",\"Alverdiscott_Indian Queens\",\"Alverdiscott_Indian Queens\",\"Alverdiscott_Indian Queens\",\"Alverdiscott_Indian Queens\",\"Alverdiscott_Indian Queens\",\"Alverdiscott_Indian Queens\",\"Axminster\",\"Axminster\",\"Bridgwater_Taunton\",\"Bridgwater_Taunton\",\"Bridgwater_Taunton\",\"Seabank\",\"Abham_Exeter _Landulph\",\"Abham_Exeter _Landulph\",\"Bridgwater_Taunton\",\"Bridgwater_Taunton\",\"Bridgwater_Taunton\",\"Abham_Exeter _Landulph\",\"Abham_Exeter _Landulph\",\"Seabank\",\"Seabank\",\"Iron Acton\",\"Iron Acton\",\"Iron Acton\",\"Alverdiscott_Indian Queens\",\"Alverdiscott_Indian Queens\",\"Abham_Exeter _Landulph\",\"Abham_Exeter _Landulph\",\"Axminster\",\"Abham_Exeter _Landulph\",\"Abham_Exeter _Landulph\",\"Bridgwater_Taunton\",\"Bridgwater_Taunton\",\"Bridgwater_Taunton\",\"Axminster\",\"Axminster\",\"Melksham\",\"Melksham\",\"Bridgwater_Taunton\",\"Bridgwater_Taunton\",\"Bridgwater_Taunton\",\"Alverdiscott_Indian Queens\",\"Abham_Exeter _Landulph\",\"Abham_Exeter _Landulph\",\"Iron Acton\",\"Iron Acton\",\"Abham_Exeter _Landulph\",\"Abham_Exeter _Landulph\",\"Abham_Exeter _Landulph\",\"Abham_Exeter _Landulph\",\"Abham_Exeter _Landulph\",\"Bridgwater_Taunton\",\"Bridgwater_Taunton\",\"Axminster\",\"Axminster\",\"Iron Acton\",\"Iron Acton\",\"Abham_Exeter _Landulph\",\"Abham_Exeter _Landulph\",\"Bridgwater_Taunton\",\"Bridgwater_Taunton\",\"Alverdiscott_Indian Queens\",\"Alverdiscott_Indian Queens\",\"Abham_Exeter _Landulph\",\"Abham_Exeter _Landulph\",\"Alverdiscott_Indian Queens\",\"Abham_Exeter _Landulph\",\"Abham_Exeter _Landulph\",\"Alverdiscott_Indian Queens\",\"Alverdiscott_Indian Queens\",\"Alverdiscott_Indian Queens\",\"Alverdiscott_Indian Queens\",\"Seabank\",\"Melksham\",\"Melksham\",\"Melksham\",\"Melksham\",\"Axminster\",\"Axminster\",\"Alverdiscott_Indian Queens\",\"Alverdiscott_Indian Queens\",\"Alverdiscott_Indian Queens\",\"Abham_Exeter _Landulph\",\"Abham_Exeter _Landulph\",\"Seabank\",\"Abham_Exeter _Landulph\",\"Axminster\",\"Alverdiscott_Indian Queens\",\"Alverdiscott_Indian Queens\",\"Alverdiscott_Indian Queens\",\"Seabank\",\"Iron Acton\",\"Iron Acton\",\"Bridgwater_Taunton\",\"Abham_Exeter _Landulph\",\"Abham_Exeter _Landulph\",\"Abham_Exeter _Landulph\",\"Abham_Exeter _Landulph\",\"Iron Acton\",\"Iron Acton\",\"Melksham\",\"Melksham\",\"Abham_Exeter _Landulph\",\"Abham_Exeter _Landulph\",\"Abham_Exeter _Landulph\",\"Seabank\",\"Seabank\",\"Bridgwater_Taunton\",\"Bridgwater_Taunton\",\"Abham_Exeter _Landulph\",\"Abham_Exeter _Landulph\",\"Abham_Exeter _Landulph\",\"Abham_Exeter _Landulph\",\"Abham_Exeter _Landulph\",\"Abham_Exeter _Landulph\",\"Abham_Exeter _Landulph\",\"Abham_Exeter _Landulph\",\"Abham_Exeter _Landulph\",\"Abham_Exeter _Landulph\",\"Abham_Exeter _Landulph\",\"Alverdiscott_Indian Queens\",\"Alverdiscott_Indian Queens\",\"Alverdiscott_Indian Queens\",\"Alverdiscott_Indian Queens\",\"Iron Acton\",\"Iron Acton\",\"Iron Acton\",\"Iron Acton\",\"Iron Acton\",\"Iron Acton\",\"Iron Acton\",\"Iron Acton\",\"Iron Acton\",\"Iron Acton\",\"Iron Acton\",\"Iron Acton\",\"Iron Acton\",\"Iron Acton\",\"Abham_Exeter _Landulph\",\"Abham_Exeter _Landulph\",\"Alverdiscott_Indian Queens\",\"Alverdiscott_Indian Queens\",\"Seabank\",\"Seabank\",\"Alverdiscott_Indian Queens\",\"Alverdiscott_Indian Queens\",\"Alverdiscott_Indian Queens\",\"Alverdiscott_Indian Queens\",\"Alverdiscott_Indian Queens\",\"Alverdiscott_Indian Queens\",\"Alverdiscott_Indian Queens\",\"Seabank\",\"Seabank\",\"Alverdiscott_Indian Queens\",\"Alverdiscott_Indian Queens\",\"Alverdiscott_Indian Queens\",\"Alverdiscott_Indian Queens\",\"Alverdiscott_Indian Queens\",\"Abham_Exeter _Landulph\",\"Abham_Exeter _Landulph\",\"Alverdiscott_Indian Queens\",\"Alverdiscott_Indian Queens\",\"Abham_Exeter _Landulph\",\"Abham_Exeter _Landulph\",\"Abham_Exeter _Landulph\",\"Alverdiscott_Indian Queens\",\"Alverdiscott_Indian Queens\",\"Alverdiscott_Indian Queens\",\"Alverdiscott_Indian Queens\",\"Abham_Exeter _Landulph\",\"Abham_Exeter _Landulph\",\"Alverdiscott_Indian Queens\",\"Alverdiscott_Indian Queens\",\"Alverdiscott_Indian Queens\",\"Abham_Exeter _Landulph\",\"Iron Acton\",\"Iron Acton\",\"Iron Acton\",\"Seabank\",\"Seabank\",\"Abham_Exeter _Landulph\",\"Abham_Exeter _Landulph\",\"Abham_Exeter _Landulph\",\"Bridgwater_Taunton\",\"Abham_Exeter _Landulph\",\"Abham_Exeter _Landulph\",\"Alverdiscott_Indian Queens\",\"Alverdiscott_Indian Queens\",\"Abham_Exeter _Landulph\",\"Abham_Exeter _Landulph\",\"Alverdiscott_Indian Queens\",\"Alverdiscott_Indian Queens\",\"Alverdiscott_Indian Queens\",\"Abham_Exeter _Landulph\",\"Abham_Exeter _Landulph\",\"Seabank\",\"Seabank\",\"Iron Acton\",\"Iron Acton\",\"Abham_Exeter _Landulph\",\"Abham_Exeter _Landulph\",\"Seabank\",\"Seabank\",\"Abham_Exeter _Landulph\",\"Alverdiscott_Indian Queens\",\"Abham_Exeter _Landulph\",\"Abham_Exeter _Landulph\",\"Alverdiscott_Indian Queens\",\"Alverdiscott_Indian Queens\",\"Abham_Exeter _Landulph\",\"Abham_Exeter _Landulph\",\"Alverdiscott_Indian Queens\",\"Alverdiscott_Indian Queens\",\"Alverdiscott_Indian Queens\",\"Alverdiscott_Indian Queens\",\"Alverdiscott_Indian Queens\",\"Abham_Exeter _Landulph\",\"Abham_Exeter _Landulph\",\"Abham_Exeter _Landulph\",\"Abham_Exeter _Landulph\",\"Abham_Exeter _Landulph\",\"Abham_Exeter _Landulph\",\"Abham_Exeter _Landulph\",\"Abham_Exeter _Landulph\",\"Abham_Exeter _Landulph\",\"Abham_Exeter _Landulph\",\"Iron Acton\",\"Iron Acton\",\"Iron Acton\",\"Iron Acton\",\"Iron Acton\",\"Iron Acton\",\"Abham_Exeter _Landulph\",\"Abham_Exeter _Landulph\",\"Abham_Exeter _Landulph\",\"Abham_Exeter _Landulph\",\"Alverdiscott_Indian Queens\",\"Alverdiscott_Indian Queens\",\"Bridgwater_Taunton\",\"Bridgwater_Taunton\",\"Bridgwater_Taunton\",\"Alverdiscott_Indian Queens\",\"Alverdiscott_Indian Queens\",\"Seabank\",\"Seabank\",\"Iron Acton\",\"Iron Acton\",\"Alverdiscott_Indian Queens\",\"Alverdiscott_Indian Queens\",\"Abham_Exeter _Landulph\",\"Abham_Exeter _Landulph\",\"Abham_Exeter _Landulph\",\"Abham_Exeter _Landulph\",\"Abham_Exeter _Landulph\",\"Bridgwater_Taunton\",\"Bridgwater_Taunton\",\"Abham_Exeter _Landulph\",\"Abham_Exeter _Landulph\",\"Alverdiscott_Indian Queens\",\"Alverdiscott_Indian Queens\",\"Alverdiscott_Indian Queens\",\"Seabank\",\"Seabank\",\"Abham_Exeter _Landulph\",\"Abham_Exeter _Landulph\",\"Bridgwater_Taunton\",\"Bridgwater_Taunton\",\"Abham_Exeter _Landulph\",\"Axminster\",\"Axminster\",\"Alverdiscott_Indian Queens\",\"Alverdiscott_Indian Queens\",\"Alverdiscott_Indian Queens\",\"Alverdiscott_Indian Queens\",\"Bridgwater_Taunton\",\"Bridgwater_Taunton\",\"Bridgwater_Taunton\",\"Bridgwater_Taunton\",\"Seabank\",\"Seabank\",\"Alverdiscott_Indian Queens\",\"Abham_Exeter _Landulph\",\"Abham_Exeter _Landulph\",\"Alverdiscott_Indian Queens\",\"Alverdiscott_Indian Queens\",\"Alverdiscott_Indian Queens\",\"Abham_Exeter _Landulph\",\"Abham_Exeter _Landulph\",\"Abham_Exeter _Landulph\",\"Abham_Exeter _Landulph\",\"Abham_Exeter _Landulph\",\"Abham_Exeter _Landulph\",\"Abham_Exeter _Landulph\",\"Abham_Exeter _Landulph\",\"Abham_Exeter _Landulph\",\"Abham_Exeter _Landulph\",\"Bridgwater_Taunton\",\"Bridgwater_Taunton\",\"Alverdiscott_Indian Queens\",\"Alverdiscott_Indian Queens\",\"Alverdiscott_Indian Queens\",\"Alverdiscott_Indian Queens\",\"Abham_Exeter _Landulph\",\"Abham_Exeter _Landulph\",\"Alverdiscott_Indian Queens\",\"Alverdiscott_Indian Queens\",\"Abham_Exeter _Landulph\",\"Abham_Exeter _Landulph\",\"Melksham\",\"Melksham\",\"Abham_Exeter _Landulph\",\"Abham_Exeter _Landulph\",\"Alverdiscott_Indian Queens\",\"Alverdiscott_Indian Queens\",\"Abham_Exeter _Landulph\",\"Abham_Exeter _Landulph\",\"Abham_Exeter _Landulph\",\"Abham_Exeter _Landulph\",\"Alverdiscott_Indian Queens\",\"Alverdiscott_Indian Queens\",\"Alverdiscott_Indian Queens\",\"Alverdiscott_Indian Queens\",\"Melksham\",\"Melksham\",\"Iron Acton\",\"Iron Acton\",\"Seabank\",\"Seabank\",\"Seabank\",\"Axminster\",\"Axminster\",\"Alverdiscott_Indian Queens\",\"Alverdiscott_Indian Queens\",\"Abham_Exeter _Landulph\",\"Abham_Exeter _Landulph\",\"Alverdiscott_Indian Queens\",\"Alverdiscott_Indian Queens\",\"Alverdiscott_Indian Queens\",\"Bridgwater_Taunton\",\"Alverdiscott_Indian Queens\",\"Alverdiscott_Indian Queens\",\"Abham_Exeter _Landulph\",\"Abham_Exeter _Landulph\",\"Abham_Exeter _Landulph\",\"Abham_Exeter _Landulph\",\"Abham_Exeter _Landulph\",\"Abham_Exeter _Landulph\",\"Abham_Exeter _Landulph\",\"Abham_Exeter _Landulph\",\"Alverdiscott_Indian Queens\",\"Alverdiscott_Indian Queens\",\"Seabank\",\"Seabank\",\"Abham_Exeter _Landulph\",\"Abham_Exeter _Landulph\",\"Bridgwater_Taunton\",\"Bridgwater_Taunton\",\"Alverdiscott_Indian Queens\",\"Alverdiscott_Indian Queens\",\"Alverdiscott_Indian Queens\",\"Alverdiscott_Indian Queens\",\"Seabank\",\"Seabank\",\"Alverdiscott_Indian Queens\",\"Alverdiscott_Indian Queens\",\"Alverdiscott_Indian Queens\",\"Alverdiscott_Indian Queens\",\"Alverdiscott_Indian Queens\",\"Alverdiscott_Indian Queens\",\"Alverdiscott_Indian Queens\",\"Alverdiscott_Indian Queens\",\"Alverdiscott_Indian Queens\",\"Alverdiscott_Indian Queens\",\"Alverdiscott_Indian Queens\",\"Seabank\",\"Seabank\",\"Abham_Exeter _Landulph\",\"Abham_Exeter _Landulph\",\"Abham_Exeter _Landulph\",\"Abham_Exeter _Landulph\",\"Abham_Exeter _Landulph\",\"Seabank\",\"Seabank\",\"Bridgwater_Taunton\",\"Alverdiscott_Indian Queens\",\"Seabank\",\"Seabank\",\"Abham_Exeter _Landulph\",\"Abham_Exeter _Landulph\",\"Bridgwater_Taunton\",\"Bridgwater_Taunton\",\"Abham_Exeter _Landulph\",\"Alverdiscott_Indian Queens\",\"Alverdiscott_Indian Queens\",\"Abham_Exeter _Landulph\",\"Abham_Exeter _Landulph\",\"Abham_Exeter _Landulph\",\"Abham_Exeter _Landulph\",\"Abham_Exeter _Landulph\",\"Abham_Exeter _Landulph\",\"Abham_Exeter _Landulph\",\"Abham_Exeter _Landulph\",\"Abham_Exeter _Landulph\",\"Alverdiscott_Indian Queens\",\"Alverdiscott_Indian Queens\",\"Alverdiscott_Indian Queens\",\"Alverdiscott_Indian Queens\",\"Alverdiscott_Indian Queens\",\"Alverdiscott_Indian Queens\",\"Alverdiscott_Indian Queens\",\"Alverdiscott_Indian Queens\",\"Alverdiscott_Indian Queens\",\"Alverdiscott_Indian Queens\",\"Alverdiscott_Indian Queens\",\"Alverdiscott_Indian Queens\",\"Alverdiscott_Indian Queens\",\"Alverdiscott_Indian Queens\",\"Alverdiscott_Indian Queens\",\"Alverdiscott_Indian Queens\",\"Abham_Exeter _Landulph\",\"Abham_Exeter _Landulph\",\"Alverdiscott_Indian Queens\",\"Abham_Exeter _Landulph\",\"Iron Acton\",\"Iron Acton\",\"Iron Acton\",\"Iron Acton\",\"Iron Acton\",\"Iron Acton\",\"Abham_Exeter _Landulph\",\"Abham_Exeter _Landulph\",\"Alverdiscott_Indian Queens\",\"Alverdiscott_Indian Queens\",\"Alverdiscott_Indian Queens\",\"Alverdiscott_Indian Queens\",\"Bridgwater_Taunton\",\"Bridgwater_Taunton\",\"Abham_Exeter _Landulph\",\"Abham_Exeter _Landulph\",\"Seabank\",\"Seabank\",\"Abham_Exeter _Landulph\",\"Alverdiscott_Indian Queens\",\"Alverdiscott_Indian Queens\",\"Bridgwater_Taunton\",\"Bridgwater_Taunton\",\"Bridgwater_Taunton\",\"Bridgwater_Taunton\",\"Bridgwater_Taunton\",\"Bridgwater_Taunton\",\"Abham_Exeter _Landulph\",\"Abham_Exeter _Landulph\",\"Abham_Exeter _Landulph\",\"Abham_Exeter _Landulph\",\"Alverdiscott_Indian Queens\",\"Alverdiscott_Indian Queens\",\"Abham_Exeter _Landulph\",\"Abham_Exeter _Landulph\",\"Abham_Exeter _Landulph\",\"Abham_Exeter _Landulph\",\"Abham_Exeter _Landulph\",\"Abham_Exeter _Landulph\",\"Abham_Exeter _Landulph\",\"Abham_Exeter _Landulph\",\"Abham_Exeter _Landulph\",\"Abham_Exeter _Landulph\",\"Abham_Exeter _Landulph\",\"Abham_Exeter _Landulph\",\"Abham_Exeter _Landulph\",\"Abham_Exeter _Landulph\",\"Abham_Exeter _Landulph\",\"Abham_Exeter _Landulph\",\"Abham_Exeter _Landulph\",\"Abham_Exeter _Landulph\",\"Abham_Exeter _Landulph\",\"Abham_Exeter _Landulph\",\"Abham_Exeter _Landulph\",\"Abham_Exeter _Landulph\",\"Alverdiscott_Indian Queens\",\"Alverdiscott_Indian Queens\",\"Alverdiscott_Indian Queens\",\"Bridgwater_Taunton\",\"Bridgwater_Taunton\",\"Alverdiscott_Indian Queens\",\"Alverdiscott_Indian Queens\",\"Alverdiscott_Indian Queens\",\"Alverdiscott_Indian Queens\",\"Alverdiscott_Indian Queens\",\"Alverdiscott_Indian Queens\",\"Alverdiscott_Indian Queens\",\"Alverdiscott_Indian Queens\",\"Melksham\",\"Melksham\",\"Abham_Exeter _Landulph\",\"Abham_Exeter _Landulph\",\"Alverdiscott_Indian Queens\",\"Alverdiscott_Indian Queens\",\"Bridgwater_Taunton\",\"Bridgwater_Taunton\",\"Axminster\",\"Axminster\",\"Bridgwater_Taunton\",\"Bridgwater_Taunton\",\"Bridgwater_Taunton\",\"Bridgwater_Taunton\",\"Bridgwater_Taunton\",\"Bridgwater_Taunton\",\"Bridgwater_Taunton\",\"Bridgwater_Taunton\",\"Bridgwater_Taunton\",\"Iron Acton\",\"Iron Acton\",\"Seabank\",\"Seabank\",\"Seabank\",\"Seabank\",\"Seabank\",\"Seabank\",\"Seabank\",\"Seabank\",\"Abham_Exeter _Landulph\",\"Abham_Exeter _Landulph\",\"Seabank\",\"Alverdiscott_Indian Queens\",\"Alverdiscott_Indian Queens\",\"Alverdiscott_Indian Queens\",\"Iron Acton\",\"Iron Acton\",\"Bridgwater_Taunton\",\"Bridgwater_Taunton\",\"Iron Acton\",\"Iron Acton\",\"Abham_Exeter _Landulph\",\"Abham_Exeter _Landulph\",\"Abham_Exeter _Landulph\",\"Bridgwater_Taunton\",\"Bridgwater_Taunton\",\"Abham_Exeter _Landulph\",\"Abham_Exeter _Landulph\",\"Axminster\",\"Axminster\",\"Axminster\",\"Iron Acton\",\"Iron Acton\",\"Iron Acton\",\"Iron Acton\",\"Abham_Exeter _Landulph\",\"Abham_Exeter _Landulph\",\"Axminster\",\"Axminster\",\"Axminster\",\"Berkswell 132kV\",\"Berkswell 132kV\",\"Berkswell 132kV\",\"Berkswell 132kV\",\"Berkswell 132kV\",\"Berkswell 132kV\",\"Berkswell 132kV\",\"Berkswell 132kV\",\"Berkswell 132kV\",\"Berkswell 132kV\",\"Berkswell 132kV\",\"Berkswell 132kV\",\"Berkswell 132kV\",\"Berkswell 132kV\",\"Berkswell 132kV\",\"Berkswell 132kV\",\"Berkswell 132kV\",\"Berkswell 132kV\",\"Berkswell 132kV\",\"Berkswell 132kV\",\"Berkswell 132kV\",\"Berkswell 132kV\",\"Berkswell 132kV\",\"Berkswell 132kV\",\"Berkswell 132kV\",\"Berkswell 132kV\",\"Berkswell 132kV\",\"Berkswell 132kV\",\"Berkswell 132kV\",\"Berkswell 132kV\",\"Berkswell 132kV\",\"Berkswell 132kV\",\"Berkswell 132kV\",\"Berkswell 132kV\",\"Berkswell 132kV\",\"Berkswell 132kV\",\"Berkswell 132kV\",\"Berkswell 132kV\",\"Berkswell 132kV\",\"Berkswell 132kV\",\"Berkswell 132kV\",\"Berkswell 132kV\",\"Berkswell 132kV\",\"Berkswell 132kV\",\"Berkswell 132kV\",\"Berkswell 132kV\",\"Berkswell 132kV\",\"Berkswell 132kV\",\"Berkswell 132kV\",\"Berkswell 132kV\",\"Berkswell 132kV\",\"Berkswell 132kV\",\"Berkswell 132kV\",\"Berkswell 132kV\",\"Berkswell 132kV\",\"Berkswell 132kV\",\"Berkswell 132kV\",\"Berkswell 132kV\",\"Berkswell 132kV\",\"Berkswell 132kV\",\"Berkswell 132kV\",\"Berkswell 132kV\",\"Berkswell 132kV\",\"Berkswell 132kV\",\"Berkswell 132kV\",\"Berkswell 132kV\",\"Bicker Fen 132kV\",\"Bicker Fen 132kV\",\"Bicker Fen 132kV\",\"Bicker Fen 132kV\",\"Bicker Fen 132kV\",\"Bicker Fen 132kV\",\"Bicker Fen 132kV\",\"Bicker Fen 132kV\",\"Bicker Fen 132kV\",\"Bicker Fen 132kV\",\"Bicker Fen 132kV\",\"Bicker Fen 132kV\",\"Bicker Fen 132kV\",\"Bicker Fen 132kV\",\"Bicker Fen 132kV\",\"Bicker Fen 132kV\",\"Bicker Fen 132kV\",\"Bicker Fen 132kV\",\"Bicker Fen 132kV\",\"Bicker Fen 132kV\",\"Bicker Fen 132kV\",\"Bicker Fen 132kV\",\"Bicker Fen 132kV\",\"Bicker Fen 132kV\",\"Bicker Fen 132kV\",\"Bicker Fen 132kV\",\"Bicker Fen 132kV\",\"Bicker Fen 132kV\",\"Bicker Fen 132kV\",\"Bicker Fen 132kV\",\"Bicker Fen 132kV\",\"Bicker Fen 132kV\",\"Bicker Fen 132kV\",\"Bicker Fen 132kV\",\"Bicker Fen 132kV\",\"Bicker Fen 132kV\",\"Bicker Fen 132kV\",\"Bicker Fen 132kV\",\"Bicker Fen 132kV\",\"Bicker Fen 132kV\",\"Bicker Fen 132kV\",\"Bicker Fen 132kV\",\"Bicker Fen 132kV\",\"Bicker Fen 132kV\",\"Bicker Fen 132kV\",\"Bicker Fen 132kV\",\"Bicker Fen 132kV\",\"Bicker Fen 132kV\",\"Bicker Fen 132kV\",\"Bicker Fen 132kV\",\"Bicker Fen 132kV\",\"Bicker Fen 132kV\",\"Bicker Fen 132kV\",\"Bicker Fen 132kV\",\"Bicker Fen 132kV\",\"Bicker Fen 132kV\",\"Chesterfield 132kV\",\"Chesterfield 132kV\",\"Chesterfield 132kV\",\"Chesterfield 132kV\",\"Chesterfield 132kV\",\"Chesterfield 132kV\",\"Chesterfield 132kV\",\"Chesterfield 132kV\",\"Chesterfield 132kV\",\"Chesterfield 132kV\",\"Chesterfield 132kV\",\"Chesterfield 132kV\",\"Chesterfield 132kV\",\"Chesterfield 132kV\",\"Chesterfield 132kV\",\"Chesterfield 132kV\",\"Chesterfield 132kV\",\"Chesterfield 132kV\",\"Chesterfield 132kV\",\"Chesterfield 132kV\",\"Chesterfield 132kV\",\"Chesterfield 132kV\",\"Chesterfield 132kV\",\"Chesterfield 132kV\",\"Chesterfield 132kV\",\"Chesterfield 132kV\",\"Chesterfield 132kV\",\"Chesterfield 132kV\",\"Chesterfield 132kV\",\"Chesterfield 132kV\",\"Chesterfield 132kV\",\"Chesterfield 132kV\",\"Chesterfield 132kV\",\"Chesterfield 132kV\",\"Chesterfield 132kV\",\"Chesterfield 132kV\",\"Chesterfield 132kV\",\"Chesterfield 132kV\",\"Chesterfield 132kV\",\"Chesterfield 132kV\",\"Chesterfield 132kV\",\"Chesterfield 132kV\",\"Chesterfield 132kV\",\"Chesterfield 132kV\",\"Chesterfield 132kV\",\"Chesterfield 132kV\",\"Chesterfield 132kV\",\"Chesterfield 132kV\",\"Chesterfield 132kV\",\"Chesterfield 132kV\",\"Chesterfield 132kV\",\"Chesterfield 132kV\",\"Chesterfield 132kV\",\"Chesterfield 132kV\",\"Chesterfield 132kV\",\"Chesterfield 132kV\",\"Chesterfield 132kV\",\"Chesterfield 132kV\",\"Chesterfield 132kV\",\"Chesterfield 132kV\",\"Chesterfield 132kV\",\"Chesterfield 132kV\",\"Chesterfield 132kV\",\"Chesterfield 132kV\",\"Chesterfield 132kV\",\"Chesterfield 132kV\",\"Chesterfield 132kV\",\"Chesterfield 132kV\",\"Chesterfield 132kV\",\"Chesterfield 132kV\",\"Chesterfield 132kV\",\"Chesterfield 132kV\",\"Chesterfield 132kV\",\"Chesterfield 132kV\",\"Chesterfield 132kV\",\"Chesterfield 132kV\",\"Chesterfield 132kV\",\"Chesterfield 132kV\",\"Chesterfield 132kV\",\"Chesterfield 132kV\",\"Chesterfield 132kV\",\"Chesterfield 132kV\",\"Chesterfield 132kV\",\"Chesterfield 132kV\",\"Chesterfield 132kV\",\"Chesterfield 132kV\",\"Chesterfield 132kV\",\"Chesterfield 132kV\",\"Chesterfield 132kV\",\"Chesterfield 132kV\",\"Chesterfield 132kV\",\"Chesterfield 132kV\",\"Chesterfield 132kV\",\"Chesterfield 132kV\",\"Chesterfield 132kV\",\"Chesterfield 132kV\",\"Chesterfield 132kV\",\"Chesterfield 132kV\",\"Chesterfield 132kV\",\"Chesterfield 132kV\",\"Chesterfield 132kV\",\"Chesterfield 132kV\",\"Chesterfield 132kV\",\"Chesterfield 132kV\",\"Chesterfield 132kV\",\"Chesterfield 132kV\",\"Chesterfield 132kV\",\"Chesterfield 132kV\",\"Chesterfield 132kV\",\"Chesterfield 132kV\",\"Chesterfield 132kV\",\"Chesterfield 132kV\",\"Chesterfield 132kV\",\"Chesterfield 132kV\",\"Coventry 132kV\",\"Coventry 132kV\",\"Coventry 132kV\",\"Coventry 132kV\",\"Coventry 132kV\",\"Coventry 132kV\",\"Coventry 132kV\",\"Coventry 132kV\",\"Coventry 132kV\",\"Coventry 132kV\",\"Coventry 132kV\",\"Coventry 132kV\",\"Coventry 132kV\",\"Coventry 132kV\",\"Coventry 132kV\",\"Coventry 132kV\",\"Coventry 132kV\",\"Coventry 132kV\",\"Coventry 132kV\",\"Coventry 132kV\",\"Coventry 132kV\",\"Coventry 132kV\",\"Coventry 132kV\",\"Coventry 132kV\",\"Coventry 132kV\",\"Coventry 132kV\",\"Coventry 132kV\",\"Coventry 132kV\",\"Coventry 132kV\",\"Coventry 132kV\",\"Coventry 132kV\",\"Coventry 132kV\",\"Coventry 132kV\",\"Coventry 132kV\",\"Coventry 132kV\",\"Coventry 132kV\",\"Coventry 132kV\",\"Coventry 132kV\",\"Coventry 132kV\",\"Coventry 132kV\",\"Coventry 132kV\",\"Coventry 132kV\",\"Coventry 132kV\",\"Coventry 132kV\",\"Coventry 132kV\",\"Coventry 132kV\",\"Coventry 132kV\",\"Coventry 132kV\",\"Coventry 132kV\",\"Coventry 132kV\",\"Coventry 132kV\",\"Coventry 132kV\",\"Coventry 132kV\",\"Coventry 132kV\",\"Coventry 132kV\",\"Coventry 132kV\",\"Coventry 132kV\",\"Coventry 132kV\",\"Coventry 132kV\",\"Coventry 132kV\",\"Coventry 132kV\",\"Coventry 132kV\",\"Coventry 132kV\",\"Coventry 132kV\",\"Coventry 132kV\",\"Coventry 132kV\",\"Coventry 132kV\",\"Coventry 132kV\",\"Coventry 132kV\",\"Coventry 132kV\",\"Coventry 132kV\",\"Coventry 132kV\",\"Coventry 132kV\",\"Coventry 132kV\",\"Coventry 132kV\",\"Coventry 132kV\",\"Coventry 132kV\",\"Coventry 132kV\",\"Coventry 132kV\",\"Coventry 132kV\",\"Coventry 132kV\",\"Coventry 132kV\",\"Coventry 132kV\",\"Coventry 132kV\",\"Coventry 132kV\",\"Coventry 132kV\",\"Coventry 132kV\",\"Drakelow 132kV\",\"Drakelow 132kV\",\"Drakelow 132kV\",\"Drakelow 132kV\",\"Drakelow 132kV\",\"Drakelow 132kV\",\"Drakelow 132kV\",\"Drakelow 132kV\",\"Drakelow 132kV\",\"Drakelow 132kV\",\"Drakelow 132kV\",\"Drakelow 132kV\",\"Drakelow 132kV\",\"Drakelow 132kV\",\"Drakelow 132kV\",\"Drakelow 132kV\",\"Drakelow 132kV\",\"Drakelow 132kV\",\"Drakelow 132kV\",\"Drakelow 132kV\",\"Drakelow 132kV\",\"Drakelow 132kV\",\"Drakelow 132kV\",\"Drakelow 132kV\",\"Drakelow 132kV\",\"Drakelow 132kV\",\"Drakelow 132kV\",\"East Claydon 132kV\",\"East Claydon 132kV\",\"East Claydon 132kV\",\"East Claydon 132kV\",\"East Claydon 132kV\",\"East Claydon 132kV\",\"East Claydon 132kV\",\"East Claydon 132kV\",\"East Claydon 132kV\",\"East Claydon 132kV\",\"East Claydon 132kV\",\"East Claydon 132kV\",\"East Claydon 132kV\",\"East Claydon 132kV\",\"East Claydon 132kV\",\"East Claydon 132kV\",\"East Claydon 132kV\",\"East Claydon 132kV\",\"East Claydon 132kV\",\"East Claydon 132kV\",\"East Claydon 132kV\",\"East Claydon 132kV\",\"East Claydon 132kV\",\"East Claydon 132kV\",\"East Claydon 132kV\",\"East Claydon 132kV\",\"East Claydon 132kV\",\"East Claydon 132kV\",\"East Claydon 132kV\",\"East Claydon 132kV\",\"East Claydon 132kV\",\"East Claydon 132kV\",\"East Claydon 132kV\",\"East Claydon 132kV\",\"East Claydon 132kV\",\"East Claydon 132kV\",\"East Claydon 132kV\",\"East Claydon 132kV\",\"East Claydon 132kV\",\"East Claydon 132kV\",\"East Claydon 132kV\",\"East Claydon 132kV\",\"East Claydon 132kV\",\"East Claydon 132kV\",\"East Claydon 132kV\",\"East Claydon 132kV\",\"East Claydon 132kV\",\"East Claydon 132kV\",\"East Claydon 132kV\",\"East Claydon 132kV\",\"East Claydon 132kV\",\"East Claydon 132kV\",\"East Claydon 132kV\",\"East Claydon 132kV\",\"East Claydon 132kV\",\"East Claydon 132kV\",\"East Claydon 132kV\",\"East Claydon 132kV\",\"East Claydon 132kV\",\"East Claydon 132kV\",\"East Claydon 132kV\",\"East Claydon 132kV\",\"East Claydon 132kV\",\"East Claydon 132kV\",\"Enderby 132kV\",\"Enderby 132kV\",\"Enderby 132kV\",\"Enderby 132kV\",\"Enderby 132kV\",\"Enderby 132kV\",\"Enderby 132kV\",\"Enderby 132kV\",\"Enderby 132kV\",\"Enderby 132kV\",\"Enderby 132kV\",\"Enderby 132kV\",\"Enderby 132kV\",\"Enderby 132kV\",\"Enderby 132kV\",\"Enderby 132kV\",\"Enderby 132kV\",\"Enderby 132kV\",\"Enderby 132kV\",\"Enderby 132kV\",\"Enderby 132kV\",\"Enderby 132kV\",\"Enderby 132kV\",\"Enderby 132kV\",\"Enderby 132kV\",\"Enderby 132kV\",\"Enderby 132kV\",\"Enderby 132kV\",\"Enderby 132kV\",\"Enderby 132kV\",\"Enderby 132kV\",\"Enderby 132kV\",\"Enderby 132kV\",\"Enderby 132kV\",\"Enderby 132kV\",\"Enderby 132kV\",\"Enderby 132kV\",\"Enderby 132kV\",\"Enderby 132kV\",\"Enderby 132kV\",\"Enderby 132kV\",\"Enderby 132kV\",\"Enderby 132kV\",\"Enderby 132kV\",\"Enderby 132kV\",\"Enderby 132kV\",\"Enderby 132kV\",\"Enderby 132kV\",\"Enderby 132kV\",\"Enderby 132kV\",\"Enderby 132kV\",\"Enderby 132kV\",\"Enderby 132kV\",\"Enderby 132kV\",\"Enderby 132kV\",\"Enderby 132kV\",\"Enderby 132kV\",\"Enderby 132kV\",\"Enderby 132kV\",\"Enderby 132kV\",\"Enderby 132kV\",\"Enderby 132kV\",\"Enderby 132kV\",\"Enderby 132kV\",\"Enderby 132kV\",\"Enderby 132kV\",\"Enderby 132kV\",\"Enderby 132kV\",\"Enderby 132kV\",\"Enderby 132kV\",\"Enderby 132kV\",\"Enderby 132kV\",\"Enderby 132kV\",\"Grendon 132kV\",\"Grendon 132kV\",\"Grendon 132kV\",\"Grendon 132kV\",\"Grendon 132kV\",\"Grendon 132kV\",\"Grendon 132kV\",\"Grendon 132kV\",\"Grendon 132kV\",\"Grendon 132kV\",\"Grendon 132kV\",\"Grendon 132kV\",\"Grendon 132kV\",\"Grendon 132kV\",\"Grendon 132kV\",\"Grendon 132kV\",\"Grendon 132kV\",\"Grendon 132kV\",\"Grendon 132kV\",\"Grendon 132kV\",\"Grendon 132kV\",\"Grendon 132kV\",\"Grendon 132kV\",\"Grendon 132kV\",\"Grendon 132kV\",\"Grendon 132kV\",\"Grendon 132kV\",\"Grendon 132kV\",\"Grendon 132kV\",\"Grendon 132kV\",\"Grendon 132kV\",\"Grendon 132kV\",\"Grendon 132kV\",\"Grendon 132kV\",\"Grendon 132kV\",\"Grendon 132kV\",\"Grendon 132kV\",\"Grendon 132kV\",\"Grendon 132kV\",\"Grendon 132kV\",\"Grendon 132kV\",\"Grendon 132kV\",\"Grendon 132kV\",\"Grendon 132kV\",\"Grendon 132kV\",\"Grendon 132kV\",\"Grendon 132kV\",\"Grendon 132kV\",\"Grendon 132kV\",\"Grendon 132kV\",\"Grendon 132kV\",\"Grendon 132kV\",\"Grendon 132kV\",\"Grendon 132kV\",\"Grendon 132kV\",\"Grendon 132kV\",\"Grendon 132kV\",\"Grendon 132kV\",\"Grendon 132kV\",\"Grendon 132kV\",\"Grendon 132kV\",\"Grendon 132kV\",\"Grendon 132kV\",\"Grendon 132kV\",\"Grendon 132kV\",\"Grendon 132kV\",\"Grendon 132kV\",\"Grendon 132kV\",\"Grendon 132kV\",\"Grendon 132kV\",\"Grendon 132kV\",\"Grendon 132kV\",\"Grendon 132kV\",\"Grendon 132kV\",\"Grendon 132kV\",\"Grendon 132kV\",\"Grendon 132kV\",\"Grendon 132kV\",\"Grendon 132kV\",\"Grendon 132kV\",\"Grendon 132kV\",\"Grendon 132kV\",\"Grendon 132kV\",\"Grendon 132kV\",\"Grendon 132kV\",\"Grendon 132kV\",\"Grendon 132kV\",\"Grendon 132kV\",\"Grendon 132kV\",\"Grendon 132kV\",\"Grendon 132kV\",\"Grendon 132kV\",\"Grendon 132kV\",\"Grendon 132kV\",\"Grendon 132kV\",\"Grendon 132kV\",\"Grendon 132kV\",\"Grendon 132kV\",\"Grendon 132kV\",\"Grendon 132kV\",\"Grendon 132kV\",\"Grendon 132kV\",\"Grendon 132kV\",\"Grendon 132kV\",\"Grendon 132kV\",\"Grendon 132kV\",\"Grendon 132kV\",\"Grendon 132kV\",\"Grendon 132kV\",\"Grendon 132kV\",\"Grendon 132kV\",\"Grendon 132kV\",\"Grendon 132kV\",\"Grendon 132kV\",\"Grendon 132kV\",\"Grendon 132kV\",\"Grendon 132kV\",\"Grendon 132kV\",\"Grendon 132kV\",\"Grendon 132kV\",\"Grendon 132kV\",\"Grendon 132kV\",\"Grendon 132kV\",\"Grendon 132kV\",\"Grendon 132kV\",\"Grendon 132kV\",\"Grendon 132kV\",\"Grendon 132kV\",\"Lea Marston 132kV\",\"Lea Marston 132kV\",\"Lea Marston 132kV\",\"Lea Marston 132kV\",\"Lea Marston 132kV\",\"Lea Marston 132kV\",\"Lea Marston 132kV\",\"Lea Marston 132kV\",\"Lea Marston 132kV\",\"Lea Marston 132kV\",\"Lea Marston 132kV\",\"Lea Marston 132kV\",\"Lea Marston 132kV\",\"Lea Marston 132kV\",\"Lea Marston 132kV\",\"Lea Marston 132kV\",\"Lea Marston 132kV\",\"Lea Marston 132kV\",\"Ratcliffe 132kV\",\"Ratcliffe 132kV\",\"Ratcliffe 132kV\",\"Ratcliffe 132kV\",\"Ratcliffe 132kV\",\"Ratcliffe 132kV\",\"Ratcliffe 132kV\",\"Ratcliffe 132kV\",\"Ratcliffe 132kV\",\"Ratcliffe 132kV\",\"Ratcliffe 132kV\",\"Ratcliffe 132kV\",\"Ratcliffe 132kV\",\"Ratcliffe 132kV\",\"Ratcliffe 132kV\",\"Ratcliffe 132kV\",\"Ratcliffe 132kV\",\"Ratcliffe 132kV\",\"Ratcliffe 132kV\",\"Ratcliffe 132kV\",\"Ratcliffe 132kV\",\"Ratcliffe 132kV\",\"Ratcliffe 132kV\",\"Ratcliffe 132kV\",\"Ratcliffe 132kV\",\"Ratcliffe 132kV\",\"Ratcliffe 132kV\",\"Ratcliffe 132kV\",\"Ratcliffe 132kV\",\"Ratcliffe 132kV\",\"Ratcliffe 132kV\",\"Ratcliffe 132kV\",\"Ratcliffe 132kV\",\"Ratcliffe 132kV\",\"Ratcliffe 132kV\",\"Ratcliffe 132kV\",\"Ratcliffe 132kV\",\"Ratcliffe 132kV\",\"Ratcliffe 132kV\",\"Ratcliffe 132kV\",\"Ratcliffe 132kV\",\"Ratcliffe 132kV\",\"Ratcliffe 132kV\",\"Ratcliffe 132kV\",\"Ratcliffe 132kV\",\"Ratcliffe 132kV\",\"Ratcliffe 132kV\",\"Ratcliffe 132kV\",\"Ratcliffe 132kV\",\"Ratcliffe 132kV\",\"Ratcliffe 132kV\",\"Ratcliffe 132kV\",\"Ratcliffe 132kV\",\"Ratcliffe 132kV\",\"Ratcliffe 132kV\",\"Ratcliffe 132kV\",\"Ratcliffe 132kV\",\"Ratcliffe 132kV\",\"Ratcliffe 132kV\",\"Ratcliffe 132kV\",\"Ratcliffe 132kV\",\"Ratcliffe 132kV\",\"Ratcliffe 132kV\",\"Ratcliffe 132kV\",\"Ratcliffe 132kV\",\"Ratcliffe 132kV\",\"Ratcliffe 132kV\",\"Staythorpe 132kV\",\"Staythorpe 132kV\",\"Staythorpe 132kV\",\"Staythorpe 132kV\",\"Staythorpe 132kV\",\"Staythorpe 132kV\",\"Staythorpe 132kV\",\"Staythorpe 132kV\",\"Staythorpe 132kV\",\"Staythorpe 132kV\",\"Staythorpe 132kV\",\"Staythorpe 132kV\",\"Staythorpe 132kV\",\"Staythorpe 132kV\",\"Staythorpe 132kV\",\"Staythorpe 132kV\",\"Staythorpe 132kV\",\"Staythorpe 132kV\",\"Staythorpe 132kV\",\"Staythorpe 132kV\",\"Staythorpe 132kV\",\"Staythorpe 132kV\",\"Staythorpe 132kV\",\"Staythorpe 132kV\",\"Staythorpe 132kV\",\"Staythorpe 132kV\",\"Staythorpe 132kV\",\"Staythorpe 132kV\",\"Staythorpe 132kV\",\"Staythorpe 132kV\",\"Staythorpe 132kV\",\"Staythorpe 132kV\",\"Staythorpe 132kV\",\"Staythorpe 132kV\",\"Staythorpe 132kV\",\"Staythorpe 132kV\",\"Staythorpe 132kV\",\"Staythorpe 132kV\",\"Stoke Bardolph 132kV\",\"Stoke Bardolph 132kV\",\"Stoke Bardolph 132kV\",\"Stoke Bardolph 132kV\",\"Stoke Bardolph 132kV\",\"Stoke Bardolph 132kV\",\"Stoke Bardolph 132kV\",\"Stoke Bardolph 132kV\",\"Stoke Bardolph 132kV\",\"Stoke Bardolph 132kV\",\"Stoke Bardolph 132kV\",\"Stoke Bardolph 132kV\",\"Stoke Bardolph 132kV\",\"Stoke Bardolph 132kV\",\"Stoke Bardolph 132kV\",\"Stoke Bardolph 132kV\",\"Stoke Bardolph 132kV\",\"Stoke Bardolph 132kV\",\"Stoke Bardolph 132kV\",\"Stoke Bardolph 132kV\",\"Stoke Bardolph 132kV\",\"Stoke Bardolph 132kV\",\"Walpole 132kV\",\"Walpole 132kV\",\"Walpole 132kV\",\"Walpole 132kV\",\"Walpole 132kV\",\"Walpole 132kV\",\"Walpole 132kV\",\"Walpole 132kV\",\"Walpole 132kV\",\"Walpole 132kV\",\"Walpole 132kV\",\"Walpole 132kV\",\"Walpole 132kV\",\"Walpole 132kV\",\"Walpole 132kV\",\"Walpole 132kV\",\"Walpole 132kV\",\"Walpole 132kV\",\"Walpole 132kV\",\"Walpole 132kV\",\"Walpole 132kV\",\"Walpole 132kV\",\"Walpole 132kV\",\"Walpole 132kV\",\"Walpole 132kV\",\"Walpole 132kV\",\"Walpole 132kV\",\"Walpole 132kV\",\"Walpole 132kV\",\"Walpole 132kV\",\"Walpole 132kV\",\"Walpole 132kV\",\"Walpole 132kV\",\"Walpole 132kV\",\"Walpole 132kV\",\"Walpole 132kV\",\"Walpole 132kV\",\"West Burton 132kV\",\"West Burton 132kV\",\"West Burton 132kV\",\"West Burton 132kV\",\"West Burton 132kV\",\"West Burton 132kV\",\"West Burton 132kV\",\"West Burton 132kV\",\"West Burton 132kV\",\"West Burton 132kV\",\"West Burton 132kV\",\"West Burton 132kV\",\"West Burton 132kV\",\"West Burton 132kV\",\"West Burton 132kV\",\"West Burton 132kV\",\"West Burton 132kV\",\"West Burton 132kV\",\"West Burton 132kV\",\"West Burton 132kV\",\"West Burton 132kV\",\"West Burton 132kV\",\"West Burton 132kV\",\"West Burton 132kV\",\"West Burton 132kV\",\"West Burton 132kV\",\"West Burton 132kV\",\"West Burton 132kV\",\"West Burton 132kV\",\"West Burton 132kV\",\"West Burton 132kV\",\"West Burton 132kV\",\"West Burton 132kV\",\"West Burton 132kV\",\"West Burton 132kV\",\"West Burton 132kV\",\"WestBurton 132kV\",\"WestBurton 132kV\",\"Willington 132kV\",\"Willington 132kV\",\"Willington 132kV\",\"Willington 132kV\",\"Willington 132kV\",\"Willington 132kV\",\"Willington 132kV\",\"Willington 132kV\",\"Willington 132kV\",\"Willington 132kV\",\"Willington 132kV\",\"Willington 132kV\",\"Willington 132kV\",\"Willington 132kV\",\"Willington 132kV\",\"Willington 132kV\",\"Willington 132kV\",\"Willington 132kV\",\"Willington 132kV\",\"Willington 132kV\",\"Willington 132kV\",\"Willington 132kV\",\"Willington 132kV\",\"Willington 132kV\",\"Willington 132kV\",\"Willington 132kV\",\"Willington 132kV\",\"Willington 132kV\",\"Willington 132kV\",\"Willington 132kV\",\"Willington 132kV\",\"Willington 132kV\",\"Willington 132kV\",\"Willington 132kV\",\"Willington 132kV\",\"Willington 132kV\",\"Willington 132kV\",\"Willington 132kV\",\"Willington 132kV\",\"Willington 132kV\",\"Willington 132kV\",\"Willington 132kV\",\"Willington 132kV\",\"Willington 132kV\",\"Willington 132kV\",\"Willington 132kV\",\"Willington 132kV\",\"Willington 132kV\",\"Willington 132kV\",\"Willington 132kV\",\"Willington 132kV\",\"Willington 132kV\",\"Willington 132kV\",\"Willington 132kV\",\"Willington 132kV\",\"Willington 132kV\",\"Willington 132kV\",\"Willington 132kV\",\"Willington 132kV\",\"Willington 132kV\",\"Willington 132kV\",\"Willington 132kV\",\"Willington 132kV\",\"Willington 132kV\",\"Willington 132kV\",\"Willington 132kV\",\"Willington 132kV\",\"Willington 132kV\",\"Willington 132kV\",\"Willington 132kV\",\"Willington 132kV\",\"Willington 132kV\",\"Willington 132kV\",\"Willington 132kV\",\"Willington 132kV\",\"Willington 132kV\",\"Willington 132kV\",\"Willington 132kV\",\"Willington 132kV\",\"Willington 132kV\",\"Willington 132kV\",\"Willington 132kV\",\"Willington 132kV\",\"Willington 132kV\",\"Willington 132kV\",\"Willington 132kV\",\"Willington 132kV\",\"Willington 132kV\",\"Willington 132kV\",\"Willington 132kV\",\"Willington 132kV\",\"Willington 132kV\",\"Willington 132kV\",\"Willington 132kV\",\"Willington 132kV\",\"Willington 132kV\",\"Bishops Wood 132kV\",\"Bishops Wood 132kV\",\"Bishops Wood 132kV\",\"Bishops Wood 132kV\",\"Bishops Wood 132kV\",\"Bishops Wood 132kV\",\"Bishops Wood 132kV\",\"Bishops Wood 132kV\",\"Bishops Wood 132kV\",\"Bishops Wood 132kV\",\"Bishops Wood 132kV\",\"Bishops Wood 132kV\",\"Bishops Wood 132kV\",\"Bishops Wood 132kV\",\"Bishops Wood 132kV\",\"Bishops Wood 132kV\",\"Bishops Wood 132kV\",\"Bishops Wood 132kV\",\"Bishops Wood 132kV\",\"Bishops Wood 132kV\",\"Bishops Wood 132kV\",\"Bishops Wood 132kV\",\"Bishops Wood 132kV\",\"Bishops Wood 132kV\",\"Bishops Wood 132kV\",\"Bishops Wood 132kV\",\"Bishops Wood 132kV\",\"Bishops Wood 132kV\",\"Bishops Wood 132kV\",\"Bishops Wood 132kV\",\"Bishops Wood 132kV\",\"Bishops Wood 132kV\",\"Bishops Wood 132kV\",\"Bishops Wood 132kV\",\"Bishops Wood 132kV\",\"Bishops Wood 132kV\",\"Bishops Wood 132kV\",\"Bishops Wood 132kV\",\"Bishops Wood 132kV\",\"Bishops Wood 132kV\",\"Bishops Wood 132kV\",\"Bishops Wood 132kV\",\"Bishops Wood 132kV\",\"Bishops Wood 132kV\",\"Bishops Wood 132kV\",\"Bishops Wood 132kV\",\"Bishops Wood 132kV\",\"Bishops Wood 132kV\",\"Bishops Wood 132kV\",\"Bishops Wood 132kV\",\"Bishops Wood 132kV\",\"Bishops Wood 132kV\",\"Bishops Wood 132kV\",\"Bishops Wood 132kV\",\"Bishops Wood 132kV\",\"Bishops Wood 132kV\",\"Bishops Wood 132kV\",\"Bishops Wood 132kV\",\"Bishops Wood 132kV\",\"Bishops Wood 132kV\",\"Bishops Wood 132kV\",\"Bishops Wood 132kV\",\"Bishops Wood 132kV\",\"Bishops Wood 132kV\",\"Bishops Wood 132kV\",\"Bishops Wood 132kV\",\"Bishops Wood 132kV\",\"Bishops Wood 132kV\",\"Bishops Wood 132kV\",\"Bishops Wood 132kV\",\"Bishops Wood 132kV\",\"Bishops Wood 132kV\",\"Bishops Wood 132kV\",\"Bishops Wood 132kV\",\"Bishops Wood 132kV\",\"Bishops Wood 132kV\",\"Bishops Wood 132kV\",\"Bishops Wood 132kV\",\"Bishops Wood 132kV\",\"Bishops Wood 132kV\",\"Bishops Wood 132kV\",\"Bishops Wood 132kV\",\"Bishops Wood 132kV\",\"Bishops Wood 132kV\",\"Bishops Wood 132kV\",\"Bishops Wood 132kV\",\"Bushbury 132kV\",\"Bushbury 132kV\",\"Bushbury 132kV\",\"Bushbury 132kV\",\"Bushbury 132kV\",\"Bushbury 132kV\",\"Bushbury 132kV\",\"Bushbury 132kV\",\"Bushbury 132kV\",\"Bushbury 132kV\",\"Bushbury 132kV\",\"Bushbury 132kV\",\"Bustleholm 132kV\",\"Bustleholm 132kV\",\"Bustleholm 132kV\",\"Bustleholm 132kV\",\"Bustleholm 132kV\",\"Bustleholm 132kV\",\"Bustleholm 132kV\",\"Bustleholm 132kV\",\"Bustleholm 132kV\",\"Bustleholm 132kV\",\"Bustleholm 132kV\",\"Bustleholm 132kV\",\"Bustleholm 132kV\",\"Bustleholm 132kV\",\"Bustleholm 132kV\",\"Bustleholm 132kV\",\"Bustleholm 132kV\",\"Cellarhead 132kV\",\"Cellarhead 132kV\",\"Cellarhead 132kV\",\"Cellarhead 132kV\",\"Cellarhead 132kV\",\"Cellarhead 132kV\",\"Cellarhead 132kV\",\"Cellarhead 132kV\",\"Cellarhead 132kV\",\"Cellarhead 132kV\",\"Cellarhead 132kV\",\"Cellarhead 132kV\",\"Cellarhead 132kV\",\"Cellarhead 132kV\",\"Cellarhead 132kV\",\"Cellarhead 132kV\",\"Cellarhead 132kV\",\"Cellarhead 132kV\",\"Cellarhead 132kV\",\"Cellarhead 132kV\",\"Cellarhead 132kV\",\"Cellarhead 132kV\",\"Cellarhead 132kV\",\"Cellarhead 132kV\",\"Cellarhead 132kV\",\"Cellarhead 132kV\",\"Cellarhead 132kV\",\"Cellarhead 132kV\",\"Cellarhead 132kV\",\"Cellarhead 132kV\",\"Cellarhead 132kV\",\"Cellarhead 132kV\",\"Cellarhead 132kV\",\"Cellarhead 132kV\",\"Cellarhead 132kV\",\"Cellarhead 132kV\",\"Cellarhead 132kV\",\"Cellarhead 132kV\",\"Cellarhead 132kV\",\"Cellarhead 132kV\",\"Cellarhead 132kV\",\"Cellarhead 132kV\",\"Cellarhead 132kV\",\"Cellarhead 132kV\",\"Cellarhead 132kV\",\"Cellarhead 132kV\",\"Cellarhead 132kV\",\"Cellarhead 132kV\",\"Cellarhead 132kV\",\"Cellarhead 132kV\",\"Cellarhead 132kV\",\"Cellarhead 132kV\",\"Cellarhead 132kV\",\"Cellarhead 132kV\",\"Cellarhead 132kV\",\"Cellarhead 132kV\",\"Cellarhead 132kV\",\"Cellarhead 132kV\",\"Cellarhead 132kV\",\"Cellarhead 132kV\",\"Cellarhead 132kV\",\"Feckenham 66kV\",\"Feckenham 66kV\",\"Feckenham 66kV\",\"Feckenham 66kV\",\"Feckenham 66kV\",\"Feckenham 66kV\",\"Feckenham 66kV\",\"Feckenham 66kV\",\"Feckenham 66kV\",\"Feckenham 66kV\",\"Feckenham 66kV\",\"Feckenham 66kV\",\"Feckenham 66kV\",\"Feckenham 66kV\",\"Feckenham 66kV\",\"Feckenham 66kV\",\"Feckenham 66kV\",\"Feckenham 66kV\",\"Feckenham 66kV\",\"Feckenham 66kV\",\"Feckenham 66kV\",\"Feckenham 66kV\",\"Feckenham 66kV\",\"Feckenham 66kV\",\"Feckenham 66kV\",\"Feckenham 66kV\",\"Feckenham 66kV\",\"Feckenham 66kV\",\"Feckenham 66kV\",\"Feckenham 66kV\",\"Feckenham 66kV\",\"Feckenham 66kV\",\"Feckenham 66kV\",\"Feckenham 66kV\",\"Feckenham 66kV\",\"Feckenham 66kV\",\"Feckenham 66kV\",\"Feckenham 66kV\",\"Feckenham 66kV\",\"Feckenham 66kV\",\"Feckenham 66kV\",\"Feckenham 66kV\",\"Feckenham 66kV\",\"Feckenham 66kV\",\"Feckenham 66kV\",\"Feckenham 66kV\",\"Feckenham 66kV\",\"Feckenham 66kV\",\"Feckenham 66kV\",\"Iron Acton 132kV\",\"Iron Acton 132kV\",\"Iron Acton 132kV\",\"Iron Acton 132kV\",\"Iron Acton 132kV\",\"Iron Acton 132kV\",\"Iron Acton 132kV\",\"Iron Acton 132kV\",\"Iron Acton 132kV\",\"Iron Acton 132kV\",\"Iron Acton 132kV\",\"Iron Acton 132kV\",\"Iron Acton 132kV\",\"Iron Acton 132kV\",\"Iron Acton 132kV\",\"Iron Acton 132kV\",\"Iron Acton 132kV\",\"Iron Acton 132kV\",\"Iron Acton 132kV\",\"Iron Acton 132kV\",\"Iron Acton 132kV\",\"Iron Acton 132kV\",\"Iron Acton 132kV\",\"Iron Acton 132kV\",\"Iron Acton 132kV\",\"Iron Acton 132kV\",\"Iron Acton 132kV\",\"Iron Acton 132kV\",\"Iron Acton 132kV\",\"Iron Acton 132kV\",\"Iron Acton 132kV\",\"Iron Acton 132kV\",\"Iron Acton 132kV\",\"Iron Acton 132kV\",\"Iron Acton 132kV\",\"Ironbridge & Shrewsbury 132kV\",\"Ironbridge & Shrewsbury 132kV\",\"Ironbridge & Shrewsbury 132kV\",\"Ironbridge & Shrewsbury 132kV\",\"Ironbridge & Shrewsbury 132kV\",\"Ironbridge & Shrewsbury 132kV\",\"Ironbridge & Shrewsbury 132kV\",\"Ironbridge & Shrewsbury 132kV\",\"Ironbridge & Shrewsbury 132kV\",\"Ironbridge & Shrewsbury 132kV\",\"Ironbridge & Shrewsbury 132kV\",\"Ironbridge & Shrewsbury 132kV\",\"Ironbridge & Shrewsbury 132kV\",\"Ironbridge & Shrewsbury 132kV\",\"Ironbridge & Shrewsbury 132kV\",\"Ironbridge & Shrewsbury 132kV\",\"Ironbridge & Shrewsbury 132kV\",\"Ironbridge & Shrewsbury 132kV\",\"Ironbridge & Shrewsbury 132kV\",\"Ironbridge & Shrewsbury 132kV\",\"Ironbridge & Shrewsbury 132kV\",\"Ironbridge & Shrewsbury 132kV\",\"Ironbridge & Shrewsbury 132kV\",\"Ironbridge & Shrewsbury 132kV\",\"Ironbridge & Shrewsbury 132kV\",\"Ironbridge & Shrewsbury 132kV\",\"Ironbridge & Shrewsbury 132kV\",\"Ironbridge & Shrewsbury 132kV\",\"Ironbridge & Shrewsbury 132kV\",\"Ironbridge & Shrewsbury 132kV\",\"Ironbridge & Shrewsbury 132kV\",\"Ironbridge & Shrewsbury 132kV\",\"Ironbridge & Shrewsbury 132kV\",\"Ironbridge & Shrewsbury 132kV\",\"Ironbridge & Shrewsbury 132kV\",\"Ironbridge & Shrewsbury 132kV\",\"Ironbridge & Shrewsbury 132kV\",\"Ironbridge & Shrewsbury 132kV\",\"Ironbridge & Shrewsbury 132kV\",\"Ironbridge & Shrewsbury 132kV\",\"Ironbridge & Shrewsbury 132kV\",\"Ironbridge & Shrewsbury 132kV\",\"Ironbridge & Shrewsbury 132kV\",\"Ironbridge & Shrewsbury 132kV\",\"Ironbridge & Shrewsbury 132kV\",\"Ironbridge & Shrewsbury 132kV\",\"Ironbridge & Shrewsbury 132kV\",\"Ironbridge & Shrewsbury 132kV\",\"Ironbridge & Shrewsbury 132kV\",\"Ironbridge & Shrewsbury 132kV\",\"Ironbridge & Shrewsbury 132kV\",\"Ironbridge & Shrewsbury 132kV\",\"Ironbridge & Shrewsbury 132kV\",\"Ironbridge & Shrewsbury 132kV\",\"Ironbridge & Shrewsbury 132kV\",\"Ironbridge & Shrewsbury 132kV\",\"Ironbridge & Shrewsbury 132kV\",\"Ironbridge & Shrewsbury 132kV\",\"Ironbridge & Shrewsbury 132kV\",\"Ironbridge & Shrewsbury 132kV\",\"Ironbridge & Shrewsbury 132kV\",\"Kitwell 132kV\",\"Kitwell 132kV\",\"Kitwell 132kV\",\"Kitwell 132kV\",\"Kitwell 132kV\",\"Kitwell 132kV\",\"Kitwell 132kV\",\"Kitwell 132kV\",\"Kitwell 132kV\",\"Kitwell 132kV\",\"Kitwell 132kV\",\"Kitwell 132kV\",\"Kitwell 132kV\",\"Kitwell 132kV\",\"Kitwell 132kV\",\"Kitwell 132kV\",\"Kitwell 132kV\",\"Lea Marston 132kV\",\"Lea Marston 132kV\",\"Lea Marston 132kV\",\"Lea Marston 132kV\",\"Lea Marston 132kV\",\"Lea Marston 132kV\",\"Lea Marston 132kV\",\"Nechells 132kV\",\"Nechells 132kV\",\"Nechells 132kV\",\"Nechells 132kV\",\"Nechells 132kV\",\"Nechells 132kV\",\"Ocker Hill 132kV\",\"Ocker Hill 132kV\",\"Ocker Hill 132kV\",\"Ocker Hill 132kV\",\"Ocker Hill 132kV\",\"Oldbury 132kV\",\"Oldbury 132kV\",\"Oldbury 132kV\",\"Oldbury 132kV\",\"Oldbury 132kV\",\"Oldbury 132kV\",\"Penn 132kV\",\"Penn 132kV\",\"Penn 132kV\",\"Penn 132kV\",\"Penn 132kV\",\"Penn 132kV\",\"Penn 132kV\",\"Penn 132kV\",\"Penn 132kV\",\"Penn 132kV\",\"Penn 132kV\",\"Penn 132kV\",\"Penn 132kV\",\"Penn 132kV\",\"Penn 132kV\",\"Penn 132kV\",\"Penn 132kV\",\"Penn 132kV\",\"Penn 132kV\",\"Penn 132kV\",\"Penn 132kV\",\"Penn 132kV\",\"Port Ham 132kV\",\"Port Ham 132kV\",\"Port Ham 132kV\",\"Port Ham 132kV\",\"Port Ham 132kV\",\"Port Ham 132kV\",\"Port Ham 132kV\",\"Port Ham 132kV\",\"Port Ham 132kV\",\"Port Ham 132kV\",\"Port Ham 132kV\",\"Port Ham 132kV\",\"Port Ham 132kV\",\"Port Ham 132kV\",\"Port Ham 132kV\",\"Port Ham 132kV\",\"Port Ham 132kV\",\"Port Ham 132kV\",\"Port Ham 132kV\",\"Port Ham 132kV\",\"Port Ham 132kV\",\"Port Ham 132kV\",\"Port Ham 132kV\",\"Port Ham 132kV\",\"Port Ham 132kV\",\"Port Ham 132kV\",\"Port Ham 132kV\",\"Port Ham 132kV\",\"Port Ham 132kV\",\"Port Ham 132kV\",\"Port Ham 132kV\",\"Port Ham 132kV\",\"Port Ham 132kV\",\"Port Ham 132kV\",\"Port Ham 132kV\",\"Port Ham 132kV\",\"Port Ham 132kV\",\"Port Ham 132kV\",\"Port Ham 132kV\",\"Port Ham 132kV\",\"Port Ham 132kV\",\"Port Ham 132kV\",\"Port Ham 132kV\",\"Port Ham 132kV\",\"Port Ham 132kV\",\"Port Ham 132kV\",\"Port Ham 132kV\",\"Port Ham 132kV\",\"Port Ham 132kV\",\"Port Ham 132kV\",\"Port Ham 132kV\",\"Port Ham 132kV\",\"Port Ham 132kV\",\"Port Ham 132kV\",\"Port Ham 132kV\",\"Port Ham 132kV\",\"Port Ham 132kV\",\"Port Ham 132kV\",\"Port Ham 132kV\",\"Port Ham 132kV\",\"Port Ham 132kV\",\"Port Ham 132kV\",\"Port Ham 132kV\",\"Port Ham 132kV\",\"Port Ham 132kV\",\"Port Ham 132kV\",\"Rugeley 132kV\",\"Rugeley 132kV\",\"Rugeley 132kV\",\"Willenhall 132kV\",\"Willenhall 132kV\",\"Willenhall 132kV\",\"Willenhall 132kV\",\"Willenhall 132kV\"],\"xaxis\":\"x\",\"yaxis\":\"y\",\"type\":\"histogram\"}],                        {\"template\":{\"data\":{\"histogram2dcontour\":[{\"type\":\"histogram2dcontour\",\"colorbar\":{\"outlinewidth\":0,\"ticks\":\"\"},\"colorscale\":[[0.0,\"#0d0887\"],[0.1111111111111111,\"#46039f\"],[0.2222222222222222,\"#7201a8\"],[0.3333333333333333,\"#9c179e\"],[0.4444444444444444,\"#bd3786\"],[0.5555555555555556,\"#d8576b\"],[0.6666666666666666,\"#ed7953\"],[0.7777777777777778,\"#fb9f3a\"],[0.8888888888888888,\"#fdca26\"],[1.0,\"#f0f921\"]]}],\"choropleth\":[{\"type\":\"choropleth\",\"colorbar\":{\"outlinewidth\":0,\"ticks\":\"\"}}],\"histogram2d\":[{\"type\":\"histogram2d\",\"colorbar\":{\"outlinewidth\":0,\"ticks\":\"\"},\"colorscale\":[[0.0,\"#0d0887\"],[0.1111111111111111,\"#46039f\"],[0.2222222222222222,\"#7201a8\"],[0.3333333333333333,\"#9c179e\"],[0.4444444444444444,\"#bd3786\"],[0.5555555555555556,\"#d8576b\"],[0.6666666666666666,\"#ed7953\"],[0.7777777777777778,\"#fb9f3a\"],[0.8888888888888888,\"#fdca26\"],[1.0,\"#f0f921\"]]}],\"heatmap\":[{\"type\":\"heatmap\",\"colorbar\":{\"outlinewidth\":0,\"ticks\":\"\"},\"colorscale\":[[0.0,\"#0d0887\"],[0.1111111111111111,\"#46039f\"],[0.2222222222222222,\"#7201a8\"],[0.3333333333333333,\"#9c179e\"],[0.4444444444444444,\"#bd3786\"],[0.5555555555555556,\"#d8576b\"],[0.6666666666666666,\"#ed7953\"],[0.7777777777777778,\"#fb9f3a\"],[0.8888888888888888,\"#fdca26\"],[1.0,\"#f0f921\"]]}],\"heatmapgl\":[{\"type\":\"heatmapgl\",\"colorbar\":{\"outlinewidth\":0,\"ticks\":\"\"},\"colorscale\":[[0.0,\"#0d0887\"],[0.1111111111111111,\"#46039f\"],[0.2222222222222222,\"#7201a8\"],[0.3333333333333333,\"#9c179e\"],[0.4444444444444444,\"#bd3786\"],[0.5555555555555556,\"#d8576b\"],[0.6666666666666666,\"#ed7953\"],[0.7777777777777778,\"#fb9f3a\"],[0.8888888888888888,\"#fdca26\"],[1.0,\"#f0f921\"]]}],\"contourcarpet\":[{\"type\":\"contourcarpet\",\"colorbar\":{\"outlinewidth\":0,\"ticks\":\"\"}}],\"contour\":[{\"type\":\"contour\",\"colorbar\":{\"outlinewidth\":0,\"ticks\":\"\"},\"colorscale\":[[0.0,\"#0d0887\"],[0.1111111111111111,\"#46039f\"],[0.2222222222222222,\"#7201a8\"],[0.3333333333333333,\"#9c179e\"],[0.4444444444444444,\"#bd3786\"],[0.5555555555555556,\"#d8576b\"],[0.6666666666666666,\"#ed7953\"],[0.7777777777777778,\"#fb9f3a\"],[0.8888888888888888,\"#fdca26\"],[1.0,\"#f0f921\"]]}],\"surface\":[{\"type\":\"surface\",\"colorbar\":{\"outlinewidth\":0,\"ticks\":\"\"},\"colorscale\":[[0.0,\"#0d0887\"],[0.1111111111111111,\"#46039f\"],[0.2222222222222222,\"#7201a8\"],[0.3333333333333333,\"#9c179e\"],[0.4444444444444444,\"#bd3786\"],[0.5555555555555556,\"#d8576b\"],[0.6666666666666666,\"#ed7953\"],[0.7777777777777778,\"#fb9f3a\"],[0.8888888888888888,\"#fdca26\"],[1.0,\"#f0f921\"]]}],\"mesh3d\":[{\"type\":\"mesh3d\",\"colorbar\":{\"outlinewidth\":0,\"ticks\":\"\"}}],\"scatter\":[{\"fillpattern\":{\"fillmode\":\"overlay\",\"size\":10,\"solidity\":0.2},\"type\":\"scatter\"}],\"parcoords\":[{\"type\":\"parcoords\",\"line\":{\"colorbar\":{\"outlinewidth\":0,\"ticks\":\"\"}}}],\"scatterpolargl\":[{\"type\":\"scatterpolargl\",\"marker\":{\"colorbar\":{\"outlinewidth\":0,\"ticks\":\"\"}}}],\"bar\":[{\"error_x\":{\"color\":\"#2a3f5f\"},\"error_y\":{\"color\":\"#2a3f5f\"},\"marker\":{\"line\":{\"color\":\"#E5ECF6\",\"width\":0.5},\"pattern\":{\"fillmode\":\"overlay\",\"size\":10,\"solidity\":0.2}},\"type\":\"bar\"}],\"scattergeo\":[{\"type\":\"scattergeo\",\"marker\":{\"colorbar\":{\"outlinewidth\":0,\"ticks\":\"\"}}}],\"scatterpolar\":[{\"type\":\"scatterpolar\",\"marker\":{\"colorbar\":{\"outlinewidth\":0,\"ticks\":\"\"}}}],\"histogram\":[{\"marker\":{\"pattern\":{\"fillmode\":\"overlay\",\"size\":10,\"solidity\":0.2}},\"type\":\"histogram\"}],\"scattergl\":[{\"type\":\"scattergl\",\"marker\":{\"colorbar\":{\"outlinewidth\":0,\"ticks\":\"\"}}}],\"scatter3d\":[{\"type\":\"scatter3d\",\"line\":{\"colorbar\":{\"outlinewidth\":0,\"ticks\":\"\"}},\"marker\":{\"colorbar\":{\"outlinewidth\":0,\"ticks\":\"\"}}}],\"scattermapbox\":[{\"type\":\"scattermapbox\",\"marker\":{\"colorbar\":{\"outlinewidth\":0,\"ticks\":\"\"}}}],\"scatterternary\":[{\"type\":\"scatterternary\",\"marker\":{\"colorbar\":{\"outlinewidth\":0,\"ticks\":\"\"}}}],\"scattercarpet\":[{\"type\":\"scattercarpet\",\"marker\":{\"colorbar\":{\"outlinewidth\":0,\"ticks\":\"\"}}}],\"carpet\":[{\"aaxis\":{\"endlinecolor\":\"#2a3f5f\",\"gridcolor\":\"white\",\"linecolor\":\"white\",\"minorgridcolor\":\"white\",\"startlinecolor\":\"#2a3f5f\"},\"baxis\":{\"endlinecolor\":\"#2a3f5f\",\"gridcolor\":\"white\",\"linecolor\":\"white\",\"minorgridcolor\":\"white\",\"startlinecolor\":\"#2a3f5f\"},\"type\":\"carpet\"}],\"table\":[{\"cells\":{\"fill\":{\"color\":\"#EBF0F8\"},\"line\":{\"color\":\"white\"}},\"header\":{\"fill\":{\"color\":\"#C8D4E3\"},\"line\":{\"color\":\"white\"}},\"type\":\"table\"}],\"barpolar\":[{\"marker\":{\"line\":{\"color\":\"#E5ECF6\",\"width\":0.5},\"pattern\":{\"fillmode\":\"overlay\",\"size\":10,\"solidity\":0.2}},\"type\":\"barpolar\"}],\"pie\":[{\"automargin\":true,\"type\":\"pie\"}]},\"layout\":{\"autotypenumbers\":\"strict\",\"colorway\":[\"#636efa\",\"#EF553B\",\"#00cc96\",\"#ab63fa\",\"#FFA15A\",\"#19d3f3\",\"#FF6692\",\"#B6E880\",\"#FF97FF\",\"#FECB52\"],\"font\":{\"color\":\"#2a3f5f\"},\"hovermode\":\"closest\",\"hoverlabel\":{\"align\":\"left\"},\"paper_bgcolor\":\"white\",\"plot_bgcolor\":\"#E5ECF6\",\"polar\":{\"bgcolor\":\"#E5ECF6\",\"angularaxis\":{\"gridcolor\":\"white\",\"linecolor\":\"white\",\"ticks\":\"\"},\"radialaxis\":{\"gridcolor\":\"white\",\"linecolor\":\"white\",\"ticks\":\"\"}},\"ternary\":{\"bgcolor\":\"#E5ECF6\",\"aaxis\":{\"gridcolor\":\"white\",\"linecolor\":\"white\",\"ticks\":\"\"},\"baxis\":{\"gridcolor\":\"white\",\"linecolor\":\"white\",\"ticks\":\"\"},\"caxis\":{\"gridcolor\":\"white\",\"linecolor\":\"white\",\"ticks\":\"\"}},\"coloraxis\":{\"colorbar\":{\"outlinewidth\":0,\"ticks\":\"\"}},\"colorscale\":{\"sequential\":[[0.0,\"#0d0887\"],[0.1111111111111111,\"#46039f\"],[0.2222222222222222,\"#7201a8\"],[0.3333333333333333,\"#9c179e\"],[0.4444444444444444,\"#bd3786\"],[0.5555555555555556,\"#d8576b\"],[0.6666666666666666,\"#ed7953\"],[0.7777777777777778,\"#fb9f3a\"],[0.8888888888888888,\"#fdca26\"],[1.0,\"#f0f921\"]],\"sequentialminus\":[[0.0,\"#0d0887\"],[0.1111111111111111,\"#46039f\"],[0.2222222222222222,\"#7201a8\"],[0.3333333333333333,\"#9c179e\"],[0.4444444444444444,\"#bd3786\"],[0.5555555555555556,\"#d8576b\"],[0.6666666666666666,\"#ed7953\"],[0.7777777777777778,\"#fb9f3a\"],[0.8888888888888888,\"#fdca26\"],[1.0,\"#f0f921\"]],\"diverging\":[[0,\"#8e0152\"],[0.1,\"#c51b7d\"],[0.2,\"#de77ae\"],[0.3,\"#f1b6da\"],[0.4,\"#fde0ef\"],[0.5,\"#f7f7f7\"],[0.6,\"#e6f5d0\"],[0.7,\"#b8e186\"],[0.8,\"#7fbc41\"],[0.9,\"#4d9221\"],[1,\"#276419\"]]},\"xaxis\":{\"gridcolor\":\"white\",\"linecolor\":\"white\",\"ticks\":\"\",\"title\":{\"standoff\":15},\"zerolinecolor\":\"white\",\"automargin\":true,\"zerolinewidth\":2},\"yaxis\":{\"gridcolor\":\"white\",\"linecolor\":\"white\",\"ticks\":\"\",\"title\":{\"standoff\":15},\"zerolinecolor\":\"white\",\"automargin\":true,\"zerolinewidth\":2},\"scene\":{\"xaxis\":{\"backgroundcolor\":\"#E5ECF6\",\"gridcolor\":\"white\",\"linecolor\":\"white\",\"showbackground\":true,\"ticks\":\"\",\"zerolinecolor\":\"white\",\"gridwidth\":2},\"yaxis\":{\"backgroundcolor\":\"#E5ECF6\",\"gridcolor\":\"white\",\"linecolor\":\"white\",\"showbackground\":true,\"ticks\":\"\",\"zerolinecolor\":\"white\",\"gridwidth\":2},\"zaxis\":{\"backgroundcolor\":\"#E5ECF6\",\"gridcolor\":\"white\",\"linecolor\":\"white\",\"showbackground\":true,\"ticks\":\"\",\"zerolinecolor\":\"white\",\"gridwidth\":2}},\"shapedefaults\":{\"line\":{\"color\":\"#2a3f5f\"}},\"annotationdefaults\":{\"arrowcolor\":\"#2a3f5f\",\"arrowhead\":0,\"arrowwidth\":1},\"geo\":{\"bgcolor\":\"white\",\"landcolor\":\"#E5ECF6\",\"subunitcolor\":\"white\",\"showland\":true,\"showlakes\":true,\"lakecolor\":\"white\"},\"title\":{\"x\":0.05},\"mapbox\":{\"style\":\"light\"}}},\"xaxis\":{\"anchor\":\"y\",\"domain\":[0.0,1.0],\"title\":{\"text\":\"GSP Group\"}},\"yaxis\":{\"anchor\":\"x\",\"domain\":[0.0,1.0],\"title\":{\"text\":\"count\"}},\"legend\":{\"tracegroupgap\":0},\"title\":{\"text\":\"Distribbution of method of Earthing\"},\"barmode\":\"relative\"},                        {\"responsive\": true}                    ).then(function(){\n",
              "                            \n",
              "var gd = document.getElementById('4fcfb6d3-455b-4496-8b35-582b8889352d');\n",
              "var x = new MutationObserver(function (mutations, observer) {{\n",
              "        var display = window.getComputedStyle(gd).display;\n",
              "        if (!display || display === 'none') {{\n",
              "            console.log([gd, 'removed!']);\n",
              "            Plotly.purge(gd);\n",
              "            observer.disconnect();\n",
              "        }}\n",
              "}});\n",
              "\n",
              "// Listen for the removal of the full notebook cells\n",
              "var notebookContainer = gd.closest('#notebook-container');\n",
              "if (notebookContainer) {{\n",
              "    x.observe(notebookContainer, {childList: true});\n",
              "}}\n",
              "\n",
              "// Listen for the clearing of the current output cell\n",
              "var outputEl = gd.closest('.output');\n",
              "if (outputEl) {{\n",
              "    x.observe(outputEl, {childList: true});\n",
              "}}\n",
              "\n",
              "                        })                };                            </script>        </div>\n",
              "</body>\n",
              "</html>"
            ]
          },
          "metadata": {}
        }
      ]
    },
    {
      "cell_type": "markdown",
      "source": [
        "<h1> From the above graph we can see method of earthing </h1>"
      ],
      "metadata": {
        "id": "S2x4LqT0d9g7"
      }
    },
    {
      "cell_type": "code",
      "source": [
        "dset2[\"Vector Group\"].value_counts()"
      ],
      "metadata": {
        "colab": {
          "base_uri": "https://localhost:8080/"
        },
        "id": "fPchtWLXlmdv",
        "outputId": "c780f1ec-c26e-4657-e515-4161f531efa2"
      },
      "execution_count": 213,
      "outputs": [
        {
          "output_type": "execute_result",
          "data": {
            "text/plain": [
              "Dyn11    752\n",
              "Dy11     430\n",
              "YNd1     149\n",
              "dx11     146\n",
              "Dyn      140\n",
              "xd1      140\n",
              "yx0      136\n",
              "Yyn      126\n",
              "YNd      122\n",
              "Yy0       94\n",
              "Yd11      56\n",
              "ynyn0     40\n",
              "Yd1       38\n",
              "Dzn       23\n",
              "dz0       17\n",
              "xx0       15\n",
              "Yyd0      13\n",
              "Dy1       12\n",
              "YNyn       6\n",
              "Yyy0       6\n",
              "YY0        3\n",
              "Dz0        2\n",
              "Yy11       2\n",
              "Dy3        1\n",
              "YNyn0      1\n",
              "dd0        1\n",
              "xd11       1\n",
              "Name: Vector Group, dtype: int64"
            ]
          },
          "metadata": {},
          "execution_count": 213
        }
      ]
    },
    {
      "cell_type": "code",
      "source": [
        "ptran= px.histogram(dset2, x = 'Vector Group',  title=\"Group of vectar\")\n",
        "ptran.show()  "
      ],
      "metadata": {
        "colab": {
          "base_uri": "https://localhost:8080/",
          "height": 542
        },
        "id": "DFdgVQageklO",
        "outputId": "1c70f375-3079-46e2-d02f-5c1445d750c8"
      },
      "execution_count": 214,
      "outputs": [
        {
          "output_type": "display_data",
          "data": {
            "text/html": [
              "<html>\n",
              "<head><meta charset=\"utf-8\" /></head>\n",
              "<body>\n",
              "    <div>            <script src=\"https://cdnjs.cloudflare.com/ajax/libs/mathjax/2.7.5/MathJax.js?config=TeX-AMS-MML_SVG\"></script><script type=\"text/javascript\">if (window.MathJax && window.MathJax.Hub && window.MathJax.Hub.Config) {window.MathJax.Hub.Config({SVG: {font: \"STIX-Web\"}});}</script>                <script type=\"text/javascript\">window.PlotlyConfig = {MathJaxConfig: 'local'};</script>\n",
              "        <script src=\"https://cdn.plot.ly/plotly-2.18.2.min.js\"></script>                <div id=\"8d6426f0-d042-494c-94e3-cf31eb0cecbd\" class=\"plotly-graph-div\" style=\"height:525px; width:100%;\"></div>            <script type=\"text/javascript\">                                    window.PLOTLYENV=window.PLOTLYENV || {};                                    if (document.getElementById(\"8d6426f0-d042-494c-94e3-cf31eb0cecbd\")) {                    Plotly.newPlot(                        \"8d6426f0-d042-494c-94e3-cf31eb0cecbd\",                        [{\"alignmentgroup\":\"True\",\"bingroup\":\"x\",\"hovertemplate\":\"Vector Group=%{x}<br>count=%{y}<extra></extra>\",\"legendgroup\":\"\",\"marker\":{\"color\":\"#636efa\",\"pattern\":{\"shape\":\"\"}},\"name\":\"\",\"offsetgroup\":\"\",\"orientation\":\"v\",\"showlegend\":false,\"x\":[\"YNd\",\"YNd\",\"YNd\",\"YNd\",\"YNyn\",\"YNyn\",\"YNyn\",\"YNyn\",\"YNyn\",\"YNyn\",\"YNd\",\"YNd\",\"YNd\",\"YNd\",\"YNd\",\"YNd\",\"YNd\",\"YNd\",\"YNd\",\"YNd\",\"YNd\",\"YNd\",\"YNd\",\"YNd\",\"YNd\",\"YNd\",\"YNd\",\"YNd\",\"YNd\",\"YNd\",\"YNd\",\"YNd\",\"YNd\",\"YNd\",\"YNd\",\"YNd\",\"YNd\",\"YNd\",\"YNd\",\"YNd\",\"YNd\",\"YNd\",\"YNd\",\"YNd\",\"YNd\",\"YNd\",\"YNd\",\"YNd\",\"YNd\",\"YNd\",\"YNd\",\"Dyn\",\"Yyn\",\"Yyn\",\"Yyn\",\"Yyn\",\"Dyn\",\"Dyn\",\"Yyn\",\"Yyn\",\"Dyn\",\"Dyn\",\"Dyn\",\"Dyn\",\"Dyn\",\"Dyn\",\"Dyn\",\"Dyn\",\"Dyn\",\"Dyn\",\"Dyn\",\"Dyn\",\"Dyn\",\"Dyn\",\"YNd\",\"YNd\",\"YNd\",\"YNd\",\"YNd\",\"YNd\",\"YNd\",\"YNd\",\"YNd\",\"YNd\",\"YNd\",\"YNd\",\"YNd\",\"YNd\",\"YNd\",\"YNd\",\"YNd\",\"YNd\",\"YNd\",\"YNd\",\"YNd\",\"YNd\",\"YNd\",\"YNd\",\"YNd\",\"YNd\",\"YNd\",\"YNd\",\"YNd\",\"YNd\",\"YNd\",\"YNd\",\"YNd\",\"YNd\",\"YNd\",\"YNd\",\"YNd\",\"YNd\",\"YNd\",\"Yyn\",\"Yyn\",\"Dzn\",\"YNd\",\"YNd\",\"YNd\",\"YNd\",\"YNd\",\"YNd\",\"YNd\",\"YNd\",\"YNd\",\"YNd\",\"YNd\",\"YNd\",\"YNd\",\"YNd\",\"YNd\",\"YNd\",\"YNd\",\"Yyn\",\"Yyn\",\"Dzn\",\"Yyn\",\"YNd\",\"YNd\",\"YNd\",\"Dyn\",\"Dyn\",\"Dyn\",\"Dyn\",\"Dyn\",\"Dyn\",\"Dyn\",\"Dyn\",\"Dyn\",\"Dyn\",\"Dyn\",\"Dyn\",\"Dyn\",\"Dyn\",\"Dyn\",\"Dyn\",\"Dyn\",\"Dyn\",\"Dyn\",\"Dyn\",\"Dyn\",\"Dyn\",\"Dyn\",\"Dyn\",\"Dyn\",\"Dyn\",\"Dyn\",\"Dyn\",\"Dyn\",\"Dyn\",\"Dyn\",\"Dyn\",\"Dyn\",\"Dyn\",\"Dyn\",\"Dyn\",\"Dyn\",\"Dyn\",\"Dyn\",\"Dyn\",\"Dyn\",\"Yyn\",\"Yyn\",\"Dyn\",\"Dyn\",\"Dyn\",\"Yyn\",\"Yyn\",\"Dyn\",\"Yyn\",\"Yyn\",\"Yyn\",\"Yyn\",\"Dzn\",\"Dzn\",\"Dyn\",\"Dyn\",\"Dyn\",\"Dyn\",\"Yyn\",\"Yyn\",\"Dyn\",\"Dyn\",\"Yyn\",\"Yyn\",\"Yyn\",\"Dyn\",\"Dyn\",\"Dyn\",\"Yyn\",\"Yyn\",\"Yyn\",\"Yyn\",\"Yyn\",\"Dyn\",\"Dyn\",\"Dzn\",\"Dzn\",\"Dyn\",\"Dyn\",\"Yyn\",\"Yyn\",\"Dyn\",\"Dyn\",\"Dzn\",\"Dzn\",\"Dyn\",\"Dyn\",\"Yyn\",\"Yyn\",\"Yyn\",\"Yyn\",\"Dyn\",\"Dyn\",\"Yyn\",\"Yyn\",\"Dyn\",\"Dyn\",\"Yyn\",\"Dyn\",\"Yyn\",\"Yyn\",\"Dyn\",\"Dyn\",\"Dyn\",\"Dyn\",\"Dyn\",\"Dyn\",\"Dyn\",\"Dyn\",\"Dyn\",\"Yyn\",\"Yyn\",\"Yyn\",\"Dyn\",\"Dyn\",\"Dyn\",\"Dyn\",\"Dyn\",\"Dyn\",\"Dyn\",\"Yyn\",\"Yyn\",\"Yyn\",\"Yyn\",\"Yyn\",\"Yyn\",\"Yyn\",\"Dyn\",\"Yyn\",\"Yyn\",\"Yyn\",\"Dyn\",\"Dyn\",\"Dyn\",\"Dyn\",\"Dyn\",\"Yyn\",\"Yyn\",\"Dyn\",\"Dyn\",\"Dyn\",\"Dyn\",\"Yyn\",\"Yyn\",\"Dyn\",\"Dyn\",\"Dzn\",\"Dzn\",\"Dyn\",\"Dyn\",\"Yyn\",\"Yyn\",\"Dyn\",\"Dyn\",\"Dyn\",\"Dyn\",\"Yyn\",\"Yyn\",\"Dzn\",\"Dzn\",\"Yyn\",\"Dyn\",\"Dyn\",\"Dyn\",\"Dyn\",\"Yyn\",\"Yyn\",\"Dzn\",\"Dzn\",\"Dyn\",\"Dyn\",\"Yyn\",\"Yyn\",\"Yyn\",\"Yyn\",\"Dyn\",\"Dyn\",\"Dyn\",\"Dyn\",\"Dyn\",\"Dyn\",\"Dyn\",\"Dyn\",\"Yyn\",\"Yyn\",\"Dyn\",\"Dyn\",\"Dyn\",\"Dyn\",\"Dyn\",\"Dyn\",\"Dyn\",\"Dyn\",\"Yyn\",\"Dzn\",\"Dzn\",\"Yyn\",\"Yyn\",\"Yyn\",\"Yyn\",\"Yyn\",\"Yyn\",\"Dzn\",\"Yyn\",\"Yyn\",\"Yyn\",\"Yyn\",\"Yyn\",\"Yyn\",\"Yyn\",\"Yyn\",\"Yyn\",\"Yyn\",\"Yyn\",\"Yyn\",\"Yyn\",\"Yyn\",\"Yyn\",\"Yyn\",\"Yyn\",\"Yyn\",\"Yyn\",\"Yyn\",\"Yyn\",\"Yyn\",\"Yyn\",\"Yyn\",\"Yyn\",\"Dzn\",\"Dzn\",\"Dzn\",\"Yyn\",\"Yyn\",\"Yyn\",\"Yyn\",\"Yyn\",\"Dzn\",\"Dzn\",\"Yyn\",\"Yyn\",\"Yyn\",\"Yyn\",\"Dzn\",\"YNd\",\"YNd\",\"YNd\",\"YNd\",\"YNd\",\"YNd\",\"YNd\",\"YNd\",\"YNd\",\"YNd\",\"YNd\",\"YNd\",\"YNd\",\"YNd\",\"YNd\",\"YNd\",\"YNd\",\"YNd\",\"Yyn\",\"Yyn\",\"Yyn\",\"Yyn\",\"Yyn\",\"Yyn\",\"Yyn\",\"Yyn\",\"Yyn\",\"Yyn\",\"Yyn\",\"Yyn\",\"Yyn\",\"Yyn\",\"Yyn\",\"Dy11\",\"Dy11\",\"Dy11\",\"Dy11\",\"Dy11\",\"Dy11\",\"Dy11\",\"Dy11\",\"Dy11\",\"Dy11\",\"Dy11\",\"Dy11\",\"Dy11\",\"Dy11\",\"Dy11\",\"Dy11\",\"Dy11\",\"Dy11\",\"Dy11\",\"Dy11\",\"Dy11\",\"Dy11\",\"Yd11\",\"Yd11\",\"Dy11\",\"Dy11\",\"Dy11\",\"Dy11\",\"Dy11\",\"Dy11\",\"Dy11\",\"Dy11\",\"Dy11\",\"Dy11\",\"Yd11\",\"Yd11\",\"Dy11\",\"Dy11\",\"Dy11\",\"Dy11\",\"Yd11\",\"Yd11\",\"Dy11\",\"Dy11\",\"Dy11\",\"Dy11\",\"Dy11\",\"Dy11\",\"Dy11\",\"Dy11\",\"Dy11\",\"Dy11\",\"Dy11\",\"Dy11\",\"Dy11\",\"Dy11\",\"Dy11\",\"Dy11\",\"Dy11\",\"Dy11\",\"Dy11\",\"Dy11\",\"Dy11\",\"Dy11\",\"Dy11\",\"Dy11\",\"Dy11\",\"Yd11\",\"Yd11\",\"Dy11\",\"Dy11\",\"Dy11\",\"Dy11\",\"Yd11\",\"Yd11\",\"Dy11\",\"Dy11\",\"Dy11\",\"Dy11\",\"Dy11\",\"Dy11\",\"Dy11\",\"Yd11\",\"Yd11\",\"Yd11\",\"Dy11\",\"Dy11\",\"Dy11\",\"Dy11\",\"Dy11\",\"Dy11\",\"Dy11\",\"Dy11\",\"Dy11\",\"Dy11\",\"Dy11\",\"Dy11\",\"Dy11\",\"Dy11\",\"Yy0\",\"Yy0\",\"Yy0\",\"Dy11\",\"Dy11\",\"Dy11\",\"Dy11\",\"Dy11\",\"Dy11\",\"Dy11\",\"Dy11\",\"Yy11\",\"Yy11\",\"Yy0\",\"Yy0\",\"Yd11\",\"Yd11\",\"Dy11\",\"Dy11\",\"Dy11\",\"Dy11\",\"Dy11\",\"Dy11\",\"Dy11\",\"Dy11\",\"Dy11\",\"Dy11\",\"Dy11\",\"Dy11\",\"Dy11\",\"Yd11\",\"Yd11\",\"Dy11\",\"Dy11\",\"Dy11\",\"Dy11\",\"Dy11\",\"Dy11\",\"Dy11\",\"Dy11\",\"Dy11\",\"Dy11\",\"Dy11\",\"Dy11\",\"Dy11\",\"Dy11\",\"Dy11\",\"Dy11\",\"Dy11\",\"Dy11\",\"Dy11\",\"Dy11\",\"Dy1\",\"Dy1\",\"Dy11\",\"Dy11\",\"Dy11\",\"Yyd0\",\"Dy11\",\"Dy11\",\"Dy11\",\"Dy11\",\"Dy11\",\"Dy11\",\"Dy11\",\"Dy11\",\"Dy11\",\"Dy11\",\"Dy11\",\"Dy11\",\"Dy11\",\"Dy11\",\"Dy11\",\"Dy11\",\"Dy11\",\"Dy11\",\"Dy3\",\"YY0\",\"Dy11\",\"Dy11\",\"Dy11\",\"Yy0\",\"Dy11\",\"Dy11\",\"Yy0\",\"Yy0\",\"Yy0\",\"Yy0\",\"Dy11\",\"Dy1\",\"Dy1\",\"Dy1\",\"Dy1\",\"Dy11\",\"Dy11\",\"Yyd0\",\"Yyd0\",\"Yyd0\",\"Dy11\",\"Dy11\",\"Dy11\",\"Dy11\",\"Dy11\",\"Dy11\",\"Yd1\",\"Yd1\",\"Dy11\",\"Dy11\",\"Dy11\",\"Dy11\",\"Dy11\",\"Dy11\",\"Dy11\",\"Dy11\",\"Dy11\",\"Dy11\",\"Dy1\",\"Dy1\",\"Yd11\",\"Yd11\",\"Dy11\",\"Dy11\",\"Dy11\",\"Dy11\",\"Dy11\",\"Yd1\",\"Yd1\",\"Yd11\",\"Yd11\",\"Dy11\",\"Dy11\",\"Dy11\",\"Yd11\",\"Yd11\",\"Dy11\",\"Dy11\",\"Yy0\",\"Yy0\",\"Yy0\",\"Yy0\",\"Yd11\",\"Yd11\",\"Yd11\",\"Yd11\",\"Dy11\",\"Dy11\",\"Dy11\",\"Dy11\",\"Dy11\",\"Dy11\",\"Dy11\",\"Dy11\",\"Dy11\",\"Dy11\",\"Dy11\",\"Dy11\",\"Yy0\",\"Yy0\",\"Dy11\",\"Dy11\",\"Yd1\",\"Yd1\",\"YNd1\",\"YNd1\",\"Yy0\",\"Yy0\",\"Dy11\",\"Dy11\",\"Dy11\",\"Yy0\",\"Yy0\",\"Dy11\",\"Dy11\",\"Dy11\",\"Dz0\",\"Yy0\",\"Dy11\",\"Dy11\",\"Dy11\",\"Dy11\",\"Dy11\",\"Yd11\",\"Yd11\",\"Yy0\",\"Yy0\",\"Dy11\",\"Dy11\",\"Dy11\",\"Yy0\",\"Yy0\",\"Dy11\",\"Dy11\",\"Dy11\",\"Dy11\",\"Dy11\",\"Dy11\",\"Dy11\",\"Dy11\",\"Dy11\",\"Dy11\",\"Dy11\",\"Dy11\",\"Dy11\",\"Dy11\",\"Dy11\",\"Dy11\",\"Dy11\",\"Dy11\",\"Yy0\",\"Dy11\",\"Dy11\",\"Dy11\",\"Dy11\",\"Dy11\",\"Dy11\",\"Dy11\",\"Dy11\",\"Dy11\",\"Dy11\",\"Yd1\",\"Yy0\",\"Dy11\",\"Dy11\",\"Yy0\",\"Yy0\",\"Yy0\",\"Yy0\",\"Dy11\",\"Dy11\",\"Yyd0\",\"Yyd0\",\"Yy0\",\"Dy11\",\"Yd1\",\"Dyn11\",\"Dyn11\",\"Dy11\",\"Dy11\",\"Dy11\",\"Dy11\",\"Yy0\",\"Yy0\",\"Yd11\",\"Yd11\",\"Yd11\",\"Yd11\",\"Dy11\",\"Dy11\",\"Dy11\",\"Dy11\",\"Yy0\",\"Yy0\",\"Yy0\",\"Yy0\",\"Dy11\",\"Dy11\",\"Dy11\",\"Dy11\",\"Dy11\",\"Dy11\",\"Dy11\",\"Dy11\",\"Dy11\",\"Yy0\",\"Yy0\",\"Dy11\",\"Dy11\",\"Dy11\",\"Dy11\",\"Dy11\",\"Dy11\",\"Dy11\",\"Dy11\",\"Dy11\",\"Yy0\",\"Yy0\",\"Dy11\",\"Dy11\",\"Dy11\",\"Yd1\",\"Yd1\",\"Dy11\",\"Dy11\",\"Dy11\",\"Dy11\",\"Dy11\",\"Dy11\",\"Dy11\",\"Yy0\",\"Yy0\",\"Dy11\",\"Dy11\",\"Dy11\",\"Dy11\",\"Dy11\",\"Dy11\",\"Yyd0\",\"Dy11\",\"Dy11\",\"Yy0\",\"Yy0\",\"Yy0\",\"Yd11\",\"Yd11\",\"Dy11\",\"Dy11\",\"Yd1\",\"Dy11\",\"Dy11\",\"Dy11\",\"Dy11\",\"Dy11\",\"Yy0\",\"Yy0\",\"Yd1\",\"Dyn11\",\"Dyn11\",\"Dy11\",\"Dy11\",\"Dy11\",\"Dy11\",\"Dy11\",\"Dy11\",\"Dy11\",\"Dy1\",\"Dy1\",\"Dy11\",\"Dy11\",\"Yy0\",\"Yy0\",\"Yd1\",\"Yd1\",\"Dy11\",\"Dy11\",\"Yy0\",\"Yy0\",\"Dy11\",\"Dy11\",\"Dy11\",\"Dy11\",\"Dyn11\",\"Dyn11\",\"Dy11\",\"Dy11\",\"Dy11\",\"Dy11\",\"Dy11\",\"Yy0\",\"YNyn0\",\"Yy0\",\"Yy0\",\"Yy0\",\"Yy0\",\"Yy0\",\"Dy11\",\"Yy0\",\"Yy0\",\"Dy11\",\"Dy11\",\"Yd11\",\"Yd11\",\"Yd11\",\"Yd1\",\"Yd1\",\"Dy11\",\"Yy0\",\"Yy0\",\"Yd11\",\"Yd11\",\"Dy11\",\"Dy11\",\"Dy11\",\"Dy11\",\"Yy0\",\"Yd11\",\"Yd11\",\"Yd11\",\"Yd1\",\"Yd1\",\"Yd1\",\"Yd1\",\"Yd1\",\"Yy0\",\"Yy0\",\"Dy11\",\"Dy11\",\"Yyd0\",\"Dz0\",\"Dy11\",\"Dy11\",\"Dy11\",\"Dy11\",\"Dy11\",\"Yy0\",\"Yy0\",\"Yy0\",\"Yy0\",\"Yd1\",\"Yd1\",\"Dy11\",\"Dy11\",\"Dy11\",\"Dy11\",\"Dy11\",\"Dy11\",\"Dy11\",\"Dy11\",\"Dy11\",\"Dy11\",\"Dy11\",\"Dy11\",\"Dy11\",\"Dy11\",\"Dy11\",\"Yd11\",\"Yd11\",\"Dy11\",\"Dy11\",\"Dy11\",\"Yy0\",\"Yd1\",\"Yd1\",\"Yy0\",\"Yy0\",\"Yy0\",\"Yyd0\",\"Yy0\",\"Yy0\",\"Yd1\",\"Yd1\",\"Yy0\",\"Yy0\",\"Yy0\",\"Yy0\",\"Yy0\",\"Dy11\",\"Dy11\",\"Yy0\",\"Yy0\",\"Yyy0\",\"Yyy0\",\"Yyy0\",\"Yyy0\",\"Yyy0\",\"Yyy0\",\"Dy11\",\"Dy11\",\"Yd1\",\"Yd1\",\"Yyd0\",\"Yyd0\",\"Dy11\",\"Dy11\",\"Dy11\",\"Dy11\",\"Dy11\",\"Dy11\",\"Dy11\",\"Dy11\",\"Dy11\",\"Yd11\",\"Yd11\",\"Yd11\",\"Yd11\",\"Dy11\",\"Dy11\",\"Dy11\",\"Dy11\",\"Dy11\",\"Dy11\",\"Dy11\",\"Dy11\",\"Yd1\",\"Yd1\",\"Dy11\",\"Dy11\",\"Dy11\",\"Dy11\",\"Dy11\",\"Dy11\",\"Dy11\",\"Yy0\",\"Yy0\",\"Yyd0\",\"Yd11\",\"Yd11\",\"Dy11\",\"Dy11\",\"Dy11\",\"Dy11\",\"Yd1\",\"Yd1\",\"Dy11\",\"Dy11\",\"YY0\",\"YY0\",\"Yy0\",\"Dy11\",\"Dy11\",\"Yd11\",\"Yd11\",\"Yy0\",\"Yy0\",\"Yy0\",\"Yy0\",\"Yy0\",\"Yy0\",\"Dy1\",\"Dy1\",\"Dy11\",\"Dy11\",\"Yy0\",\"Yyd0\",\"Dy11\",\"Dy11\",\"Dy11\",\"Dy11\",\"Dy11\",\"Dy11\",\"Dy11\",\"Dy11\",\"Dy11\",\"Dy11\",\"Dy11\",\"Dy11\",\"Dy11\",\"Dy11\",\"Dy11\",\"Yd11\",\"Yd11\",\"Dy11\",\"Dy11\",\"Dy11\",\"Dy11\",\"Dy11\",\"Dy11\",\"Dy11\",\"Dy11\",\"Dy11\",\"Yy0\",\"Dy11\",\"Dy11\",\"Dy11\",\"Dy11\",\"Dy11\",\"Dy11\",\"Dy11\",\"Dy11\",\"Dy11\",\"Dy11\",\"Dy11\",\"Dy11\",\"Dy11\",\"Dy11\",\"Dy11\",\"Yd1\",\"Yd1\",\"Yd11\",\"Dy11\",\"Dy11\",\"Dy11\",\"Dy11\",\"Dy11\",\"Dy11\",\"Yd1\",\"Yd1\",\"Yd1\",\"YNd1\",\"YNd1\",\"YNd1\",\"YNd1\",\"YNd1\",\"YNd1\",\"YNd1\",\"YNd1\",\"YNd1\",\"YNd1\",\"YNd1\",\"ynyn0\",\"ynyn0\",\"ynyn0\",\"Dyn11\",\"Dyn11\",\"Dyn11\",\"Dyn11\",\"Dyn11\",\"Dyn11\",\"Dyn11\",\"Dyn11\",\"Dyn11\",\"Dyn11\",\"Dyn11\",\"Dyn11\",\"Dyn11\",\"Dyn11\",\"Dyn11\",\"Dyn11\",\"Dyn11\",\"Dyn11\",\"Dyn11\",\"Dyn11\",\"Dyn11\",\"Dyn11\",\"Dyn11\",\"Dyn11\",\"Dyn11\",\"Dyn11\",\"Dyn11\",\"Dyn11\",\"Dyn11\",\"Dyn11\",\"Dyn11\",\"Dyn11\",\"Dyn11\",\"Dyn11\",\"Dyn11\",\"Dyn11\",\"Dyn11\",\"Dyn11\",\"Dyn11\",\"Dyn11\",\"Dyn11\",\"Dyn11\",\"Dyn11\",\"Dyn11\",\"Dyn11\",\"Dyn11\",\"Dyn11\",\"Dyn11\",\"Dyn11\",\"Dyn11\",\"Dyn11\",\"Dyn11\",\"ynyn0\",\"ynyn0\",\"YNd1\",\"YNd1\",\"YNd1\",\"YNd1\",\"YNd1\",\"YNd1\",\"Dyn11\",\"Dyn11\",\"Dyn11\",\"Dyn11\",\"Dyn11\",\"Dyn11\",\"Dyn11\",\"Dyn11\",\"Dyn11\",\"Dyn11\",\"Dyn11\",\"Dyn11\",\"Dyn11\",\"Dyn11\",\"Dyn11\",\"Dyn11\",\"Dyn11\",\"Dyn11\",\"Dyn11\",\"Dyn11\",\"Dyn11\",\"Dyn11\",\"Dyn11\",\"Dyn11\",\"Dyn11\",\"Dyn11\",\"Dyn11\",\"Dyn11\",\"Dyn11\",\"Dyn11\",\"Dyn11\",\"Dyn11\",\"Dyn11\",\"Dyn11\",\"Dyn11\",\"Dyn11\",\"Dyn11\",\"Dyn11\",\"Dyn11\",\"Dyn11\",\"Dyn11\",\"Dyn11\",\"Dyn11\",\"Dyn11\",\"Dyn11\",\"Dyn11\",\"Dyn11\",\"Dyn11\",\"YNd1\",\"YNd1\",\"YNd1\",\"YNd1\",\"YNd1\",\"YNd1\",\"YNd1\",\"YNd1\",\"YNd1\",\"YNd1\",\"YNd1\",\"YNd1\",\"YNd1\",\"YNd1\",\"ynyn0\",\"ynyn0\",\"YNd1\",\"YNd1\",\"YNd1\",\"YNd1\",\"Dyn11\",\"Dyn11\",\"Dyn11\",\"Dyn11\",\"Dyn11\",\"Dyn11\",\"Dyn11\",\"Dyn11\",\"Dyn11\",\"Dyn11\",\"Dyn11\",\"Dyn11\",\"Dyn11\",\"Dyn11\",\"Dyn11\",\"Dyn11\",\"Dyn11\",\"Dyn11\",\"Dyn11\",\"Dyn11\",\"Dyn11\",\"Dyn11\",\"Dyn11\",\"Dyn11\",\"Dyn11\",\"Dyn11\",\"Dyn11\",\"Dyn11\",\"Dyn11\",\"Dyn11\",\"Dyn11\",\"Dyn11\",\"Dyn11\",\"Dyn11\",\"Dyn11\",\"Dyn11\",\"Dyn11\",\"Dyn11\",\"Dyn11\",\"Dyn11\",\"Dyn11\",\"Dyn11\",\"Dyn11\",\"Dyn11\",\"Dyn11\",\"Dyn11\",\"Dyn11\",\"Dyn11\",\"Dyn11\",\"Dyn11\",\"Dyn11\",\"Dyn11\",\"Dyn11\",\"Dyn11\",\"Dyn11\",\"Dyn11\",\"Dyn11\",\"Dyn11\",\"Dyn11\",\"Dyn11\",\"Dyn11\",\"Dyn11\",\"Dyn11\",\"Dyn11\",\"Dyn11\",\"Dyn11\",\"Dyn11\",\"Dyn11\",\"Dyn11\",\"Dyn11\",\"Dyn11\",\"Dyn11\",\"Dyn11\",\"Dyn11\",\"Dyn11\",\"Dyn11\",\"Dyn11\",\"Dyn11\",\"Dyn11\",\"Dyn11\",\"Dyn11\",\"Dyn11\",\"Dyn11\",\"Dyn11\",\"Dyn11\",\"Dyn11\",\"Dyn11\",\"Dyn11\",\"Dyn11\",\"Dyn11\",\"Dyn11\",\"Dyn11\",\"Dyn11\",\"Dyn11\",\"YNd1\",\"YNd1\",\"ynyn0\",\"ynyn0\",\"YNd1\",\"YNd1\",\"YNd1\",\"YNd1\",\"YNd1\",\"YNd1\",\"YNd1\",\"YNd1\",\"YNd1\",\"YNd1\",\"ynyn0\",\"ynyn0\",\"YNd1\",\"YNd1\",\"Dyn11\",\"Dyn11\",\"Dyn11\",\"Dyn11\",\"Dyn11\",\"Dyn11\",\"Dyn11\",\"Dyn11\",\"Dyn11\",\"Dyn11\",\"Dyn11\",\"Dyn11\",\"Dyn11\",\"Dyn11\",\"Dyn11\",\"Dyn11\",\"Dyn11\",\"Dyn11\",\"Dyn11\",\"Dyn11\",\"Dyn11\",\"Dyn11\",\"Dyn11\",\"Dyn11\",\"Dyn11\",\"Dyn11\",\"Dyn11\",\"Dyn11\",\"Dyn11\",\"Dyn11\",\"Dyn11\",\"Dyn11\",\"Dyn11\",\"Dyn11\",\"Dyn11\",\"Dyn11\",\"Dyn11\",\"Dyn11\",\"Dyn11\",\"Dyn11\",\"Dyn11\",\"Dyn11\",\"Dyn11\",\"Dyn11\",\"Dyn11\",\"Dyn11\",\"Dyn11\",\"Dyn11\",\"Dyn11\",\"Dyn11\",\"Dyn11\",\"Dyn11\",\"Dyn11\",\"Dyn11\",\"Dyn11\",\"Dyn11\",\"Dyn11\",\"Dyn11\",\"Dyn11\",\"Dyn11\",\"Dyn11\",\"Dyn11\",\"Dyn11\",\"Dyn11\",\"Dyn11\",\"Dyn11\",\"Dyn11\",\"Dyn11\",\"Dyn11\",\"YNd1\",\"YNd1\",\"YNd1\",\"YNd1\",\"Dyn11\",\"Dyn11\",\"Dyn11\",\"Dyn11\",\"Dyn11\",\"Dyn11\",\"Dyn11\",\"Dyn11\",\"Dyn11\",\"Dyn11\",\"Dyn11\",\"Dyn11\",\"Dyn11\",\"Dyn11\",\"Dyn11\",\"Dyn11\",\"Dyn11\",\"Dyn11\",\"Dyn11\",\"Dyn11\",\"Dyn11\",\"Dyn11\",\"Dyn11\",\"YNd1\",\"YNd1\",\"YNd1\",\"YNd1\",\"YNd1\",\"YNd1\",\"YNd1\",\"YNd1\",\"YNd1\",\"YNd1\",\"Dyn11\",\"Dyn11\",\"Dyn11\",\"Dyn11\",\"Dyn11\",\"Dyn11\",\"Dyn11\",\"Dyn11\",\"Dyn11\",\"Dyn11\",\"Dyn11\",\"Dyn11\",\"Dyn11\",\"Dyn11\",\"Dyn11\",\"Dyn11\",\"Dyn11\",\"Dyn11\",\"Dyn11\",\"Dyn11\",\"Dyn11\",\"Dyn11\",\"Dyn11\",\"Dyn11\",\"Dyn11\",\"Dyn11\",\"Dyn11\",\"Dyn11\",\"Dyn11\",\"Dyn11\",\"Dyn11\",\"Dyn11\",\"Dyn11\",\"Dyn11\",\"Dyn11\",\"Dyn11\",\"Dyn11\",\"Dyn11\",\"Dyn11\",\"Dyn11\",\"Dyn11\",\"Dyn11\",\"Dyn11\",\"Dyn11\",\"Dyn11\",\"Dyn11\",\"Dyn11\",\"Dyn11\",\"Dyn11\",\"Dyn11\",\"Dyn11\",\"Dyn11\",\"Dyn11\",\"Dyn11\",\"YNd1\",\"YNd1\",\"ynyn0\",\"ynyn0\",\"YNd1\",\"YNd1\",\"YNd1\",\"YNd1\",\"YNd1\",\"YNd1\",\"YNd1\",\"ynyn0\",\"YNd1\",\"ynyn0\",\"Dyn11\",\"Dyn11\",\"Dyn11\",\"Dyn11\",\"Dyn11\",\"Dyn11\",\"Dyn11\",\"Dyn11\",\"Dyn11\",\"Dyn11\",\"Dyn11\",\"Dyn11\",\"Dyn11\",\"Dyn11\",\"Dyn11\",\"Dyn11\",\"Dyn11\",\"Dyn11\",\"Dyn11\",\"Dyn11\",\"Dyn11\",\"Dyn11\",\"Dyn11\",\"Dyn11\",\"Dyn11\",\"Dyn11\",\"Dyn11\",\"Dyn11\",\"Dyn11\",\"Dyn11\",\"Dyn11\",\"Dyn11\",\"Dyn11\",\"Dyn11\",\"Dyn11\",\"Dyn11\",\"Dyn11\",\"Dyn11\",\"Dyn11\",\"Dyn11\",\"Dyn11\",\"Dyn11\",\"Dyn11\",\"Dyn11\",\"Dyn11\",\"Dyn11\",\"Dyn11\",\"Dyn11\",\"Dyn11\",\"Dyn11\",\"Dyn11\",\"Dyn11\",\"Dyn11\",\"Dyn11\",\"Dyn11\",\"Dyn11\",\"Dyn11\",\"Dyn11\",\"Dyn11\",\"YNd1\",\"YNd1\",\"YNd1\",\"YNd1\",\"YNd1\",\"YNd1\",\"YNd1\",\"YNd1\",\"YNd1\",\"YNd1\",\"YNd1\",\"YNd1\",\"YNd1\",\"YNd1\",\"YNd1\",\"YNd1\",\"YNd1\",\"YNd1\",\"YNd1\",\"YNd1\",\"ynyn0\",\"YNd1\",\"ynyn0\",\"Dyn11\",\"Dyn11\",\"Dyn11\",\"Dyn11\",\"Dyn11\",\"Dyn11\",\"Dyn11\",\"Dyn11\",\"Dyn11\",\"Dyn11\",\"Dyn11\",\"Dyn11\",\"Dyn11\",\"Dyn11\",\"Dyn11\",\"Dyn11\",\"Dyn11\",\"Dyn11\",\"Dyn11\",\"Dyn11\",\"Dyn11\",\"Dyn11\",\"Dyn11\",\"Dyn11\",\"Dyn11\",\"Dyn11\",\"Dyn11\",\"Dyn11\",\"Dyn11\",\"Dyn11\",\"Dyn11\",\"Dyn11\",\"Dyn11\",\"Dyn11\",\"Dyn11\",\"Dyn11\",\"Dyn11\",\"Dyn11\",\"Dyn11\",\"Dyn11\",\"Dyn11\",\"Dyn11\",\"Dyn11\",\"Dyn11\",\"Dyn11\",\"Dyn11\",\"Dyn11\",\"Dyn11\",\"Dyn11\",\"Dyn11\",\"Dyn11\",\"Dyn11\",\"Dyn11\",\"Dyn11\",\"Dyn11\",\"Dyn11\",\"Dyn11\",\"Dyn11\",\"Dyn11\",\"Dyn11\",\"Dyn11\",\"Dyn11\",\"Dyn11\",\"Dyn11\",\"Dyn11\",\"Dyn11\",\"Dyn11\",\"Dyn11\",\"Dyn11\",\"Dyn11\",\"Dyn11\",\"Dyn11\",\"Dyn11\",\"Dyn11\",\"Dyn11\",\"Dyn11\",\"Dyn11\",\"Dyn11\",\"Dyn11\",\"Dyn11\",\"Dyn11\",\"Dyn11\",\"Dyn11\",\"Dyn11\",\"Dyn11\",\"Dyn11\",\"Dyn11\",\"Dyn11\",\"Dyn11\",\"Dyn11\",\"Dyn11\",\"Dyn11\",\"Dyn11\",\"Dyn11\",\"Dyn11\",\"Dyn11\",\"Dyn11\",\"Dyn11\",\"Dyn11\",\"Dyn11\",\"Dyn11\",\"Dyn11\",\"Dyn11\",\"Dyn11\",\"Dyn11\",\"YNd1\",\"ynyn0\",\"YNd1\",\"ynyn0\",\"YNd1\",\"YNd1\",\"Dyn11\",\"Dyn11\",\"Dyn11\",\"Dyn11\",\"Dyn11\",\"Dyn11\",\"Dyn11\",\"Dyn11\",\"Dyn11\",\"Dyn11\",\"Dyn11\",\"Dyn11\",\"YNd1\",\"ynyn0\",\"YNd1\",\"ynyn0\",\"YNd1\",\"YNd1\",\"YNd1\",\"YNd1\",\"ynyn0\",\"ynyn0\",\"YNd1\",\"YNd1\",\"YNd1\",\"YNd1\",\"Dyn11\",\"Dyn11\",\"Dyn11\",\"Dyn11\",\"Dyn11\",\"Dyn11\",\"Dyn11\",\"Dyn11\",\"Dyn11\",\"Dyn11\",\"Dyn11\",\"Dyn11\",\"Dyn11\",\"Dyn11\",\"Dyn11\",\"Dyn11\",\"Dyn11\",\"Dyn11\",\"Dyn11\",\"Dyn11\",\"Dyn11\",\"Dyn11\",\"Dyn11\",\"Dyn11\",\"Dyn11\",\"Dyn11\",\"Dyn11\",\"Dyn11\",\"Dyn11\",\"Dyn11\",\"Dyn11\",\"Dyn11\",\"Dyn11\",\"Dyn11\",\"Dyn11\",\"Dyn11\",\"Dyn11\",\"Dyn11\",\"Dyn11\",\"Dyn11\",\"Dyn11\",\"Dyn11\",\"Dyn11\",\"Dyn11\",\"Dyn11\",\"Dyn11\",\"Dyn11\",\"Dyn11\",\"Dyn11\",\"Dyn11\",\"Dyn11\",\"Dyn11\",\"Dyn11\",\"ynyn0\",\"ynyn0\",\"YNd1\",\"YNd1\",\"ynyn0\",\"ynyn0\",\"YNd1\",\"YNd1\",\"Dyn11\",\"Dyn11\",\"Dyn11\",\"Dyn11\",\"Dyn11\",\"Dyn11\",\"Dyn11\",\"Dyn11\",\"Dyn11\",\"Dyn11\",\"Dyn11\",\"Dyn11\",\"Dyn11\",\"Dyn11\",\"Dyn11\",\"Dyn11\",\"Dyn11\",\"Dyn11\",\"Dyn11\",\"Dyn11\",\"Dyn11\",\"Dyn11\",\"Dyn11\",\"Dyn11\",\"Dyn11\",\"Dyn11\",\"Dyn11\",\"Dyn11\",\"Dyn11\",\"Dyn11\",\"YNd1\",\"YNd1\",\"YNd1\",\"YNd1\",\"Dyn11\",\"Dyn11\",\"Dyn11\",\"Dyn11\",\"Dyn11\",\"Dyn11\",\"Dyn11\",\"Dyn11\",\"Dyn11\",\"Dyn11\",\"Dyn11\",\"Dyn11\",\"Dyn11\",\"Dyn11\",\"Dyn11\",\"Dyn11\",\"Dyn11\",\"Dyn11\",\"YNd1\",\"YNd1\",\"YNd1\",\"YNd1\",\"YNd1\",\"YNd1\",\"YNd1\",\"YNd1\",\"YNd1\",\"Dyn11\",\"Dyn11\",\"Dyn11\",\"Dyn11\",\"Dyn11\",\"Dyn11\",\"Dyn11\",\"Dyn11\",\"Dyn11\",\"Dyn11\",\"Dyn11\",\"Dyn11\",\"Dyn11\",\"Dyn11\",\"Dyn11\",\"Dyn11\",\"Dyn11\",\"Dyn11\",\"Dyn11\",\"Dyn11\",\"Dyn11\",\"Dyn11\",\"Dyn11\",\"Dyn11\",\"Dyn11\",\"Dyn11\",\"Dyn11\",\"Dyn11\",\"YNd1\",\"ynyn0\",\"YNd1\",\"ynyn0\",\"YNd1\",\"ynyn0\",\"YNd1\",\"YNd1\",\"Dyn11\",\"Dyn11\",\"Dyn11\",\"Dyn11\",\"Dyn11\",\"Dyn11\",\"Dyn11\",\"Dyn11\",\"Dyn11\",\"Dyn11\",\"Dyn11\",\"Dyn11\",\"Dyn11\",\"Dyn11\",\"Dyn11\",\"Dyn11\",\"Dyn11\",\"Dyn11\",\"Dyn11\",\"Dyn11\",\"Dyn11\",\"Dyn11\",\"Dyn11\",\"Dyn11\",\"Dyn11\",\"Dyn11\",\"Dyn11\",\"Dyn11\",\"ynyn0\",\"ynyn0\",\"YNd1\",\"YNd1\",\"ynyn0\",\"ynyn0\",\"YNd1\",\"ynyn0\",\"YNd1\",\"ynyn0\",\"YNd1\",\"YNd1\",\"YNd1\",\"YNd1\",\"YNd1\",\"YNd1\",\"YNd1\",\"YNd1\",\"YNd1\",\"YNd1\",\"YNd1\",\"YNd1\",\"YNd1\",\"Dyn11\",\"Dyn11\",\"Dyn11\",\"Dyn11\",\"Dyn11\",\"Dyn11\",\"Dyn11\",\"Dyn11\",\"Dyn11\",\"Dyn11\",\"Dyn11\",\"Dyn11\",\"Dyn11\",\"Dyn11\",\"Dyn11\",\"Dyn11\",\"Dyn11\",\"Dyn11\",\"Dyn11\",\"Dyn11\",\"Dyn11\",\"Dyn11\",\"Dyn11\",\"Dyn11\",\"Dyn11\",\"Dyn11\",\"Dyn11\",\"Dyn11\",\"Dyn11\",\"Dyn11\",\"Dyn11\",\"Dyn11\",\"Dyn11\",\"Dyn11\",\"Dyn11\",\"Dyn11\",\"Dyn11\",\"Dyn11\",\"Dyn11\",\"Dyn11\",\"Dyn11\",\"Dyn11\",\"Dyn11\",\"Dyn11\",\"Dyn11\",\"Dyn11\",\"Dyn11\",\"Dyn11\",\"Dyn11\",\"ynyn0\",\"ynyn0\",\"ynyn0\",\"ynyn0\",\"Dyn11\",\"Dyn11\",\"Dyn11\",\"Dyn11\",\"Dyn11\",\"Dyn11\",\"Dyn11\",\"Dyn11\",\"Dyn11\",\"Dyn11\",\"Dyn11\",\"Dyn11\",\"Dyn11\",\"Dyn11\",\"Dyn11\",\"Dyn11\",\"Dyn11\",\"Dyn11\",\"Dyn11\",\"Dyn11\",\"Dyn11\",\"Dyn11\",\"xd1\",\"xd1\",\"xd1\",\"xd1\",\"xd1\",\"xd1\",\"xd1\",\"xd1\",\"xd1\",\"xd1\",\"xd1\",\"xd1\",\"xd1\",\"xd1\",\"xd1\",\"xd1\",\"xd1\",\"xd1\",\"xd1\",\"xd1\",\"yx0\",\"yx0\",\"dz0\",\"yx0\",\"yx0\",\"yx0\",\"yx0\",\"yx0\",\"yx0\",\"dx11\",\"yx0\",\"yx0\",\"yx0\",\"yx0\",\"yx0\",\"yx0\",\"yx0\",\"yx0\",\"yx0\",\"yx0\",\"yx0\",\"yx0\",\"yx0\",\"yx0\",\"yx0\",\"yx0\",\"yx0\",\"yx0\",\"yx0\",\"yx0\",\"dz0\",\"yx0\",\"yx0\",\"yx0\",\"yx0\",\"yx0\",\"yx0\",\"yx0\",\"yx0\",\"yx0\",\"yx0\",\"yx0\",\"yx0\",\"yx0\",\"yx0\",\"yx0\",\"yx0\",\"yx0\",\"yx0\",\"yx0\",\"yx0\",\"yx0\",\"yx0\",\"yx0\",\"yx0\",\"yx0\",\"yx0\",\"xx0\",\"yx0\",\"yx0\",\"dz0\",\"dz0\",\"xx0\",\"xx0\",\"dz0\",\"dz0\",\"xd1\",\"xd1\",\"xd1\",\"xd1\",\"xd1\",\"yx0\",\"yx0\",\"yx0\",\"yx0\",\"dz0\",\"dz0\",\"dz0\",\"xd1\",\"xd1\",\"xd1\",\"xd1\",\"xd1\",\"xd1\",\"xd1\",\"xd1\",\"xd1\",\"xd1\",\"xd1\",\"xd1\",\"xd1\",\"xd1\",\"xd1\",\"xd1\",\"xd1\",\"xd1\",\"xx0\",\"xd1\",\"xx0\",\"xx0\",\"xd1\",\"xd1\",\"xd1\",\"xd1\",\"xd1\",\"xx0\",\"xd1\",\"xd1\",\"xd1\",\"dx11\",\"dx11\",\"dx11\",\"dx11\",\"Dyn11\",\"Dyn11\",\"dx11\",\"dx11\",\"dx11\",\"dx11\",\"dx11\",\"dx11\",\"dx11\",\"dx11\",\"dx11\",\"dx11\",\"dx11\",\"dx11\",\"dx11\",\"dx11\",\"dx11\",\"dx11\",\"dx11\",\"dx11\",\"dx11\",\"dx11\",\"dx11\",\"dx11\",\"dx11\",\"dx11\",\"dx11\",\"dx11\",\"dx11\",\"dx11\",\"dx11\",\"dx11\",\"dx11\",\"dx11\",\"dx11\",\"dx11\",\"dx11\",\"dx11\",\"dx11\",\"dx11\",\"dx11\",\"dx11\",\"dx11\",\"yx0\",\"yx0\",\"yx0\",\"yx0\",\"yx0\",\"yx0\",\"yx0\",\"yx0\",\"yx0\",\"yx0\",\"yx0\",\"yx0\",\"yx0\",\"yx0\",\"yx0\",\"yx0\",\"yx0\",\"yx0\",\"yx0\",\"yx0\",\"yx0\",\"yx0\",\"yx0\",\"yx0\",\"yx0\",\"xx0\",\"yx0\",\"dz0\",\"dz0\",\"dz0\",\"yx0\",\"yx0\",\"yx0\",\"yx0\",\"yx0\",\"yx0\",\"yx0\",\"yx0\",\"yx0\",\"yx0\",\"yx0\",\"yx0\",\"yx0\",\"yx0\",\"yx0\",\"yx0\",\"yx0\",\"yx0\",\"yx0\",\"xx0\",\"xd1\",\"xx0\",\"xd1\",\"xd1\",\"xd1\",\"xd1\",\"xd1\",\"dx11\",\"dx11\",\"dx11\",\"dx11\",\"dx11\",\"dx11\",\"dx11\",\"dx11\",\"dx11\",\"dx11\",\"dx11\",\"dx11\",\"dx11\",\"dx11\",\"dx11\",\"dx11\",\"dx11\",\"dx11\",\"dx11\",\"dx11\",\"dx11\",\"dx11\",\"dx11\",\"dx11\",\"dx11\",\"dx11\",\"dx11\",\"xx0\",\"xx0\",\"xx0\",\"xd1\",\"xd1\",\"xd1\",\"xd1\",\"xd1\",\"xd1\",\"xd1\",\"xd1\",\"dx11\",\"dx11\",\"dx11\",\"dx11\",\"dx11\",\"dx11\",\"dx11\",\"dx11\",\"dx11\",\"dx11\",\"dx11\",\"dx11\",\"dx11\",\"dx11\",\"dx11\",\"dx11\",\"dx11\",\"dx11\",\"dx11\",\"dx11\",\"dx11\",\"dx11\",\"dx11\",\"dx11\",\"dx11\",\"dx11\",\"dx11\",\"dx11\",\"dx11\",\"dx11\",\"dx11\",\"dx11\",\"dx11\",\"dx11\",\"dx11\",\"dx11\",\"dx11\",\"dx11\",\"dx11\",\"dx11\",\"dx11\",\"dx11\",\"dx11\",\"dz0\",\"dz0\",\"dz0\",\"dd0\",\"dx11\",\"dx11\",\"dx11\",\"xd1\",\"xd1\",\"xd1\",\"xd1\",\"xd1\",\"xd1\",\"xd1\",\"xd1\",\"xd1\",\"xd1\",\"xd1\",\"xd1\",\"xd1\",\"xd1\",\"xd1\",\"xd1\",\"xd1\",\"xd1\",\"xd1\",\"xd1\",\"xd1\",\"xd1\",\"xd1\",\"xd1\",\"xd1\",\"xd1\",\"xd1\",\"xd1\",\"xd1\",\"xd1\",\"xd1\",\"xd1\",\"xd1\",\"xd1\",\"xd1\",\"xd1\",\"xd1\",\"xd1\",\"xd1\",\"xd1\",\"dz0\",\"xd1\",\"xd1\",\"xd1\",\"xd1\",\"xd11\",\"xd1\",\"xd1\",\"xd1\",\"xd1\",\"xd1\",\"xd1\",\"xd1\",\"xd1\",\"xd1\",\"dz0\",\"yx0\",\"yx0\",\"yx0\",\"yx0\",\"yx0\",\"yx0\",\"yx0\",\"xd1\",\"xd1\",\"xd1\",\"xd1\",\"xd1\",\"xd1\",\"xd1\",\"xx0\",\"xx0\",\"xd1\",\"xd1\",\"xd1\",\"xd1\",\"xd1\",\"xd1\",\"xd1\",\"yx0\",\"yx0\",\"yx0\",\"yx0\",\"yx0\",\"yx0\",\"yx0\",\"yx0\",\"yx0\",\"yx0\",\"yx0\",\"yx0\",\"yx0\",\"yx0\",\"yx0\",\"yx0\",\"yx0\",\"yx0\",\"yx0\",\"yx0\",\"yx0\",\"yx0\",\"dx11\",\"dx11\",\"dx11\",\"dx11\",\"dx11\",\"dx11\",\"dx11\",\"dx11\",\"dx11\",\"dx11\",\"dx11\",\"dx11\",\"dx11\",\"dx11\",\"dx11\",\"dx11\",\"dx11\",\"dx11\",\"dx11\",\"dx11\",\"dx11\",\"dx11\",\"dx11\",\"yx0\",\"dx11\",\"dx11\",\"dx11\",\"dx11\",\"xd1\",\"xd1\",\"xd1\",\"xd1\",\"xd1\",\"xd1\",\"xd1\",\"yx0\"],\"xaxis\":\"x\",\"yaxis\":\"y\",\"type\":\"histogram\"}],                        {\"template\":{\"data\":{\"histogram2dcontour\":[{\"type\":\"histogram2dcontour\",\"colorbar\":{\"outlinewidth\":0,\"ticks\":\"\"},\"colorscale\":[[0.0,\"#0d0887\"],[0.1111111111111111,\"#46039f\"],[0.2222222222222222,\"#7201a8\"],[0.3333333333333333,\"#9c179e\"],[0.4444444444444444,\"#bd3786\"],[0.5555555555555556,\"#d8576b\"],[0.6666666666666666,\"#ed7953\"],[0.7777777777777778,\"#fb9f3a\"],[0.8888888888888888,\"#fdca26\"],[1.0,\"#f0f921\"]]}],\"choropleth\":[{\"type\":\"choropleth\",\"colorbar\":{\"outlinewidth\":0,\"ticks\":\"\"}}],\"histogram2d\":[{\"type\":\"histogram2d\",\"colorbar\":{\"outlinewidth\":0,\"ticks\":\"\"},\"colorscale\":[[0.0,\"#0d0887\"],[0.1111111111111111,\"#46039f\"],[0.2222222222222222,\"#7201a8\"],[0.3333333333333333,\"#9c179e\"],[0.4444444444444444,\"#bd3786\"],[0.5555555555555556,\"#d8576b\"],[0.6666666666666666,\"#ed7953\"],[0.7777777777777778,\"#fb9f3a\"],[0.8888888888888888,\"#fdca26\"],[1.0,\"#f0f921\"]]}],\"heatmap\":[{\"type\":\"heatmap\",\"colorbar\":{\"outlinewidth\":0,\"ticks\":\"\"},\"colorscale\":[[0.0,\"#0d0887\"],[0.1111111111111111,\"#46039f\"],[0.2222222222222222,\"#7201a8\"],[0.3333333333333333,\"#9c179e\"],[0.4444444444444444,\"#bd3786\"],[0.5555555555555556,\"#d8576b\"],[0.6666666666666666,\"#ed7953\"],[0.7777777777777778,\"#fb9f3a\"],[0.8888888888888888,\"#fdca26\"],[1.0,\"#f0f921\"]]}],\"heatmapgl\":[{\"type\":\"heatmapgl\",\"colorbar\":{\"outlinewidth\":0,\"ticks\":\"\"},\"colorscale\":[[0.0,\"#0d0887\"],[0.1111111111111111,\"#46039f\"],[0.2222222222222222,\"#7201a8\"],[0.3333333333333333,\"#9c179e\"],[0.4444444444444444,\"#bd3786\"],[0.5555555555555556,\"#d8576b\"],[0.6666666666666666,\"#ed7953\"],[0.7777777777777778,\"#fb9f3a\"],[0.8888888888888888,\"#fdca26\"],[1.0,\"#f0f921\"]]}],\"contourcarpet\":[{\"type\":\"contourcarpet\",\"colorbar\":{\"outlinewidth\":0,\"ticks\":\"\"}}],\"contour\":[{\"type\":\"contour\",\"colorbar\":{\"outlinewidth\":0,\"ticks\":\"\"},\"colorscale\":[[0.0,\"#0d0887\"],[0.1111111111111111,\"#46039f\"],[0.2222222222222222,\"#7201a8\"],[0.3333333333333333,\"#9c179e\"],[0.4444444444444444,\"#bd3786\"],[0.5555555555555556,\"#d8576b\"],[0.6666666666666666,\"#ed7953\"],[0.7777777777777778,\"#fb9f3a\"],[0.8888888888888888,\"#fdca26\"],[1.0,\"#f0f921\"]]}],\"surface\":[{\"type\":\"surface\",\"colorbar\":{\"outlinewidth\":0,\"ticks\":\"\"},\"colorscale\":[[0.0,\"#0d0887\"],[0.1111111111111111,\"#46039f\"],[0.2222222222222222,\"#7201a8\"],[0.3333333333333333,\"#9c179e\"],[0.4444444444444444,\"#bd3786\"],[0.5555555555555556,\"#d8576b\"],[0.6666666666666666,\"#ed7953\"],[0.7777777777777778,\"#fb9f3a\"],[0.8888888888888888,\"#fdca26\"],[1.0,\"#f0f921\"]]}],\"mesh3d\":[{\"type\":\"mesh3d\",\"colorbar\":{\"outlinewidth\":0,\"ticks\":\"\"}}],\"scatter\":[{\"fillpattern\":{\"fillmode\":\"overlay\",\"size\":10,\"solidity\":0.2},\"type\":\"scatter\"}],\"parcoords\":[{\"type\":\"parcoords\",\"line\":{\"colorbar\":{\"outlinewidth\":0,\"ticks\":\"\"}}}],\"scatterpolargl\":[{\"type\":\"scatterpolargl\",\"marker\":{\"colorbar\":{\"outlinewidth\":0,\"ticks\":\"\"}}}],\"bar\":[{\"error_x\":{\"color\":\"#2a3f5f\"},\"error_y\":{\"color\":\"#2a3f5f\"},\"marker\":{\"line\":{\"color\":\"#E5ECF6\",\"width\":0.5},\"pattern\":{\"fillmode\":\"overlay\",\"size\":10,\"solidity\":0.2}},\"type\":\"bar\"}],\"scattergeo\":[{\"type\":\"scattergeo\",\"marker\":{\"colorbar\":{\"outlinewidth\":0,\"ticks\":\"\"}}}],\"scatterpolar\":[{\"type\":\"scatterpolar\",\"marker\":{\"colorbar\":{\"outlinewidth\":0,\"ticks\":\"\"}}}],\"histogram\":[{\"marker\":{\"pattern\":{\"fillmode\":\"overlay\",\"size\":10,\"solidity\":0.2}},\"type\":\"histogram\"}],\"scattergl\":[{\"type\":\"scattergl\",\"marker\":{\"colorbar\":{\"outlinewidth\":0,\"ticks\":\"\"}}}],\"scatter3d\":[{\"type\":\"scatter3d\",\"line\":{\"colorbar\":{\"outlinewidth\":0,\"ticks\":\"\"}},\"marker\":{\"colorbar\":{\"outlinewidth\":0,\"ticks\":\"\"}}}],\"scattermapbox\":[{\"type\":\"scattermapbox\",\"marker\":{\"colorbar\":{\"outlinewidth\":0,\"ticks\":\"\"}}}],\"scatterternary\":[{\"type\":\"scatterternary\",\"marker\":{\"colorbar\":{\"outlinewidth\":0,\"ticks\":\"\"}}}],\"scattercarpet\":[{\"type\":\"scattercarpet\",\"marker\":{\"colorbar\":{\"outlinewidth\":0,\"ticks\":\"\"}}}],\"carpet\":[{\"aaxis\":{\"endlinecolor\":\"#2a3f5f\",\"gridcolor\":\"white\",\"linecolor\":\"white\",\"minorgridcolor\":\"white\",\"startlinecolor\":\"#2a3f5f\"},\"baxis\":{\"endlinecolor\":\"#2a3f5f\",\"gridcolor\":\"white\",\"linecolor\":\"white\",\"minorgridcolor\":\"white\",\"startlinecolor\":\"#2a3f5f\"},\"type\":\"carpet\"}],\"table\":[{\"cells\":{\"fill\":{\"color\":\"#EBF0F8\"},\"line\":{\"color\":\"white\"}},\"header\":{\"fill\":{\"color\":\"#C8D4E3\"},\"line\":{\"color\":\"white\"}},\"type\":\"table\"}],\"barpolar\":[{\"marker\":{\"line\":{\"color\":\"#E5ECF6\",\"width\":0.5},\"pattern\":{\"fillmode\":\"overlay\",\"size\":10,\"solidity\":0.2}},\"type\":\"barpolar\"}],\"pie\":[{\"automargin\":true,\"type\":\"pie\"}]},\"layout\":{\"autotypenumbers\":\"strict\",\"colorway\":[\"#636efa\",\"#EF553B\",\"#00cc96\",\"#ab63fa\",\"#FFA15A\",\"#19d3f3\",\"#FF6692\",\"#B6E880\",\"#FF97FF\",\"#FECB52\"],\"font\":{\"color\":\"#2a3f5f\"},\"hovermode\":\"closest\",\"hoverlabel\":{\"align\":\"left\"},\"paper_bgcolor\":\"white\",\"plot_bgcolor\":\"#E5ECF6\",\"polar\":{\"bgcolor\":\"#E5ECF6\",\"angularaxis\":{\"gridcolor\":\"white\",\"linecolor\":\"white\",\"ticks\":\"\"},\"radialaxis\":{\"gridcolor\":\"white\",\"linecolor\":\"white\",\"ticks\":\"\"}},\"ternary\":{\"bgcolor\":\"#E5ECF6\",\"aaxis\":{\"gridcolor\":\"white\",\"linecolor\":\"white\",\"ticks\":\"\"},\"baxis\":{\"gridcolor\":\"white\",\"linecolor\":\"white\",\"ticks\":\"\"},\"caxis\":{\"gridcolor\":\"white\",\"linecolor\":\"white\",\"ticks\":\"\"}},\"coloraxis\":{\"colorbar\":{\"outlinewidth\":0,\"ticks\":\"\"}},\"colorscale\":{\"sequential\":[[0.0,\"#0d0887\"],[0.1111111111111111,\"#46039f\"],[0.2222222222222222,\"#7201a8\"],[0.3333333333333333,\"#9c179e\"],[0.4444444444444444,\"#bd3786\"],[0.5555555555555556,\"#d8576b\"],[0.6666666666666666,\"#ed7953\"],[0.7777777777777778,\"#fb9f3a\"],[0.8888888888888888,\"#fdca26\"],[1.0,\"#f0f921\"]],\"sequentialminus\":[[0.0,\"#0d0887\"],[0.1111111111111111,\"#46039f\"],[0.2222222222222222,\"#7201a8\"],[0.3333333333333333,\"#9c179e\"],[0.4444444444444444,\"#bd3786\"],[0.5555555555555556,\"#d8576b\"],[0.6666666666666666,\"#ed7953\"],[0.7777777777777778,\"#fb9f3a\"],[0.8888888888888888,\"#fdca26\"],[1.0,\"#f0f921\"]],\"diverging\":[[0,\"#8e0152\"],[0.1,\"#c51b7d\"],[0.2,\"#de77ae\"],[0.3,\"#f1b6da\"],[0.4,\"#fde0ef\"],[0.5,\"#f7f7f7\"],[0.6,\"#e6f5d0\"],[0.7,\"#b8e186\"],[0.8,\"#7fbc41\"],[0.9,\"#4d9221\"],[1,\"#276419\"]]},\"xaxis\":{\"gridcolor\":\"white\",\"linecolor\":\"white\",\"ticks\":\"\",\"title\":{\"standoff\":15},\"zerolinecolor\":\"white\",\"automargin\":true,\"zerolinewidth\":2},\"yaxis\":{\"gridcolor\":\"white\",\"linecolor\":\"white\",\"ticks\":\"\",\"title\":{\"standoff\":15},\"zerolinecolor\":\"white\",\"automargin\":true,\"zerolinewidth\":2},\"scene\":{\"xaxis\":{\"backgroundcolor\":\"#E5ECF6\",\"gridcolor\":\"white\",\"linecolor\":\"white\",\"showbackground\":true,\"ticks\":\"\",\"zerolinecolor\":\"white\",\"gridwidth\":2},\"yaxis\":{\"backgroundcolor\":\"#E5ECF6\",\"gridcolor\":\"white\",\"linecolor\":\"white\",\"showbackground\":true,\"ticks\":\"\",\"zerolinecolor\":\"white\",\"gridwidth\":2},\"zaxis\":{\"backgroundcolor\":\"#E5ECF6\",\"gridcolor\":\"white\",\"linecolor\":\"white\",\"showbackground\":true,\"ticks\":\"\",\"zerolinecolor\":\"white\",\"gridwidth\":2}},\"shapedefaults\":{\"line\":{\"color\":\"#2a3f5f\"}},\"annotationdefaults\":{\"arrowcolor\":\"#2a3f5f\",\"arrowhead\":0,\"arrowwidth\":1},\"geo\":{\"bgcolor\":\"white\",\"landcolor\":\"#E5ECF6\",\"subunitcolor\":\"white\",\"showland\":true,\"showlakes\":true,\"lakecolor\":\"white\"},\"title\":{\"x\":0.05},\"mapbox\":{\"style\":\"light\"}}},\"xaxis\":{\"anchor\":\"y\",\"domain\":[0.0,1.0],\"title\":{\"text\":\"Vector Group\"}},\"yaxis\":{\"anchor\":\"x\",\"domain\":[0.0,1.0],\"title\":{\"text\":\"count\"}},\"legend\":{\"tracegroupgap\":0},\"title\":{\"text\":\"Group of vectar\"},\"barmode\":\"relative\"},                        {\"responsive\": true}                    ).then(function(){\n",
              "                            \n",
              "var gd = document.getElementById('8d6426f0-d042-494c-94e3-cf31eb0cecbd');\n",
              "var x = new MutationObserver(function (mutations, observer) {{\n",
              "        var display = window.getComputedStyle(gd).display;\n",
              "        if (!display || display === 'none') {{\n",
              "            console.log([gd, 'removed!']);\n",
              "            Plotly.purge(gd);\n",
              "            observer.disconnect();\n",
              "        }}\n",
              "}});\n",
              "\n",
              "// Listen for the removal of the full notebook cells\n",
              "var notebookContainer = gd.closest('#notebook-container');\n",
              "if (notebookContainer) {{\n",
              "    x.observe(notebookContainer, {childList: true});\n",
              "}}\n",
              "\n",
              "// Listen for the clearing of the current output cell\n",
              "var outputEl = gd.closest('.output');\n",
              "if (outputEl) {{\n",
              "    x.observe(outputEl, {childList: true});\n",
              "}}\n",
              "\n",
              "                        })                };                            </script>        </div>\n",
              "</body>\n",
              "</html>"
            ]
          },
          "metadata": {}
        }
      ]
    },
    {
      "cell_type": "markdown",
      "source": [
        "<h1> From the above graph we can see the Group of particular vectar</h1>"
      ],
      "metadata": {
        "id": "dSzgzp-Dew9W"
      }
    },
    {
      "cell_type": "code",
      "source": [
        "nof= px.histogram(dset2, x='GSP Group', color=\"Method_of_Earthing\", title=\"GSP Group / Method of Earthing \")\n",
        "nof.show()"
      ],
      "metadata": {
        "colab": {
          "base_uri": "https://localhost:8080/",
          "height": 542
        },
        "id": "9nuPFYfOlvZ3",
        "outputId": "0afd4205-3a1f-45c6-d60e-f5f78a3499ae"
      },
      "execution_count": 215,
      "outputs": [
        {
          "output_type": "display_data",
          "data": {
            "text/html": [
              "<html>\n",
              "<head><meta charset=\"utf-8\" /></head>\n",
              "<body>\n",
              "    <div>            <script src=\"https://cdnjs.cloudflare.com/ajax/libs/mathjax/2.7.5/MathJax.js?config=TeX-AMS-MML_SVG\"></script><script type=\"text/javascript\">if (window.MathJax && window.MathJax.Hub && window.MathJax.Hub.Config) {window.MathJax.Hub.Config({SVG: {font: \"STIX-Web\"}});}</script>                <script type=\"text/javascript\">window.PlotlyConfig = {MathJaxConfig: 'local'};</script>\n",
              "        <script src=\"https://cdn.plot.ly/plotly-2.18.2.min.js\"></script>                <div id=\"5c4c17c8-4d22-4e45-8431-f99f85f87103\" class=\"plotly-graph-div\" style=\"height:525px; width:100%;\"></div>            <script type=\"text/javascript\">                                    window.PLOTLYENV=window.PLOTLYENV || {};                                    if (document.getElementById(\"5c4c17c8-4d22-4e45-8431-f99f85f87103\")) {                    Plotly.newPlot(                        \"5c4c17c8-4d22-4e45-8431-f99f85f87103\",                        [{\"alignmentgroup\":\"True\",\"bingroup\":\"x\",\"hovertemplate\":\"Method_of_Earthing=Earth Tx<br>GSP Group=%{x}<br>count=%{y}<extra></extra>\",\"legendgroup\":\"Earth Tx\",\"marker\":{\"color\":\"#636efa\",\"pattern\":{\"shape\":\"\"}},\"name\":\"Earth Tx\",\"offsetgroup\":\"Earth Tx\",\"orientation\":\"v\",\"showlegend\":true,\"x\":[\"Cardiff East & Aberthaw 132 kV\",\"Cardiff East & Aberthaw 132 kV\",\"Cardiff East & Aberthaw 132 kV\",\"Cardiff East & Aberthaw 132 kV\",\"Cardiff East & Aberthaw 132 kV\",\"Cardiff East & Aberthaw 132 kV\",\"Cardiff East & Aberthaw 132 kV\",\"Cardiff East & Aberthaw 132 kV\",\"Cardiff East & Aberthaw 132 kV\",\"Cardiff East & Aberthaw 132 kV\",\"Cardiff East & Aberthaw 132 kV\",\"Cardiff East & Aberthaw 132 kV\",\"Cardiff East & Aberthaw 132 kV\",\"Cardiff East & Aberthaw 132 kV\",\"Margam 66 kV\",\"Margam 66 kV\",\"Margam 66 kV\",\"Pembroke 132 kV\",\"Pembroke 132 kV\",\"Pembroke 132 kV\",\"Pembroke 132 kV\",\"Pembroke 132 kV\",\"Pembroke 132 kV\",\"Pembroke 132 kV\",\"Pembroke 132 kV\",\"Pembroke 132 kV\",\"Pembroke 132 kV\",\"Pembroke 132 kV\",\"Pembroke 132 kV\",\"Pembroke 132 kV\",\"Pembroke 132 kV\",\"Pembroke 132 kV\",\"Pembroke 132 kV\",\"Pembroke 132 kV\",\"Pembroke 132 kV\",\"Pembroke 132 kV\",\"Pembroke 132 kV\",\"Pembroke 132 kV\",\"Pembroke 132 kV\",\"Pembroke 132 kV\",\"Pyle 132 kV\",\"Pyle 132 kV\",\"Pyle 132 kV\",\"Pyle 132 kV\",\"Pyle 132 kV\",\"Pyle 132 kV\",\"Pyle 132 kV\",\"Pyle 132 kV\",\"Pyle 132 kV\",\"Rassau 132 kV\",\"Rassau 132 kV\",\"Uskmouth 132 kV\",\"Uskmouth 132 kV\",\"Uskmouth 132 kV\",\"Uskmouth 132 kV\",\"Uskmouth 132 kV\",\"Uskmouth 132 kV\",\"Uskmouth 132 kV\",\"Uskmouth 132 kV\"],\"xaxis\":\"x\",\"yaxis\":\"y\",\"type\":\"histogram\"},{\"alignmentgroup\":\"True\",\"bingroup\":\"x\",\"hovertemplate\":\"Method_of_Earthing=LER<br>GSP Group=%{x}<br>count=%{y}<extra></extra>\",\"legendgroup\":\"LER\",\"marker\":{\"color\":\"#EF553B\",\"pattern\":{\"shape\":\"\"}},\"name\":\"LER\",\"offsetgroup\":\"LER\",\"orientation\":\"v\",\"showlegend\":true,\"x\":[\"Cardiff East & Aberthaw 132 kV\",\"Cardiff East & Aberthaw 132 kV\",\"Cardiff East & Aberthaw 132 kV\",\"Cardiff East & Aberthaw 132 kV\",\"Cardiff East & Aberthaw 132 kV\",\"Cardiff East & Aberthaw 132 kV\",\"Cardiff East & Aberthaw 132 kV\",\"Cardiff East & Aberthaw 132 kV\",\"Pembroke 132 kV\",\"Pyle 132 kV\",\"Rassau 132 kV\",\"Rassau 132 kV\",\"Rassau 132 kV\",\"Rassau 132 kV\",\"Rassau 132 kV\",\"Rassau 132 kV\",\"Rassau 132 kV\",\"Rassau 132 kV\",\"Rassau 132 kV\",\"Rassau 132 kV\",\"Rassau 132 kV\",\"Rassau 132 kV\",\"Rassau 132 kV\",\"Rassau 132 kV\",\"Rassau 132 kV\",\"Rassau 132 kV\",\"Rassau 132 kV\",\"Rassau 132 kV\",\"Rassau 132 kV\",\"Rassau 132 kV\",\"Rassau 132 kV\",\"Rassau 132 kV\",\"Swansea North 132 kV\",\"Swansea North 132 kV\",\"Swansea North 132 kV\",\"Swansea North 132 kV\",\"Swansea North 132 kV\",\"Swansea North 132 kV\",\"Swansea North 132 kV\",\"Swansea North 132 kV\",\"Swansea North 132 kV\",\"Swansea North 132 kV\",\"Swansea North 132 kV\",\"Swansea North 132 kV\",\"Swansea North 132 kV\",\"Swansea North 132 kV\",\"Swansea North 132 kV\",\"Swansea North 132 kV\",\"Swansea North 132 kV\",\"Swansea North 132 kV\",\"Swansea North 132 kV\",\"Swansea North 132 kV\",\"Swansea North 132 kV\",\"Swansea North 132 kV\",\"Swansea North 132 kV\",\"Swansea North 132 kV\",\"Swansea North 132 kV\",\"Swansea North 132 kV\",\"Swansea North 132 kV\",\"Swansea North 132 kV\",\"Swansea North 132 kV\",\"Swansea North 132 kV\",\"Swansea North 132 kV\",\"Swansea North 132 kV\",\"Swansea North 132 kV\",\"Swansea North 132 kV\",\"Swansea North 132 kV\",\"Swansea North 132 kV\",\"Swansea North 132 kV\",\"Swansea North 132 kV\",\"Swansea North 132 kV\",\"Swansea North 132 kV\",\"Swansea North 132 kV\",\"Swansea North 132 kV\",\"Swansea North 132 kV\",\"Swansea North 132 kV\",\"Swansea North 132 kV\",\"Swansea North 132 kV\",\"Swansea North 132 kV\",\"Swansea North 132 kV\",\"Swansea North 132 kV\",\"Swansea North 132 kV\",\"Swansea North 132 kV\",\"Swansea North 132 kV\",\"Swansea North 132 kV\",\"Swansea North 132 kV\",\"Swansea North 132 kV\",\"Swansea North 132 kV\",\"Swansea North 132 kV\",\"Swansea North 132 kV\",\"Swansea North 132 kV\",\"Swansea North 132 kV\",\"Swansea North 132 kV\",\"Swansea North 132 kV\",\"Swansea North 132 kV\",\"Swansea North 132 kV\",\"Swansea North 132 kV\",\"Swansea North 132 kV\",\"Swansea North 132 kV\",\"Swansea North 132 kV\",\"Swansea North 132 kV\",\"Upper Boat 132 & 33 kV\",\"Upper Boat 132 & 33 kV\",\"Upper Boat 132 & 33 kV\",\"Upper Boat 132 & 33 kV\",\"Upper Boat 132 & 33 kV\",\"Upper Boat 132 & 33 kV\",\"Upper Boat 132 & 33 kV\",\"Upper Boat 132 & 33 kV\",\"Upper Boat 132 & 33 kV\",\"Upper Boat 132 & 33 kV\",\"Upper Boat 132 & 33 kV\",\"Upper Boat 132 & 33 kV\",\"Upper Boat 132 kV\",\"Upper Boat 132 kV\",\"Upper Boat 132 kV\",\"Upper Boat 132 kV\",\"Upper Boat 132 kV\",\"Upper Boat 132 kV\",\"Upper Boat 132 kV\",\"Upper Boat 132 kV\",\"Upper Boat 132 kV\",\"Upper Boat 132 kV\",\"Upper Boat 132 kV\",\"Upper Boat 132 kV\",\"Upper Boat 132 kV\",\"Upper Boat 132 kV\",\"Upper Boat 132 kV\",\"Uskmouth 132 kV\",\"Uskmouth 132 kV\",\"Bridgwater_Taunton\",\"Bridgwater_Taunton\",\"Abham_Exeter _Landulph\",\"Abham_Exeter _Landulph\",\"Seabank\",\"Seabank\",\"Seabank\",\"Melksham\",\"Melksham\",\"Melksham\",\"Axminster\",\"Iron Acton\",\"Iron Acton\",\"Bridgwater_Taunton\",\"Bridgwater_Taunton\",\"Abham_Exeter _Landulph\",\"Abham_Exeter _Landulph\",\"Abham_Exeter _Landulph\",\"Abham_Exeter _Landulph\",\"Axminster\",\"Axminster\",\"Seabank\",\"Seabank\",\"Seabank\",\"Seabank\",\"Seabank\",\"Axminster\",\"Axminster\",\"Bridgwater_Taunton\",\"Bridgwater_Taunton\",\"Abham_Exeter _Landulph\",\"Abham_Exeter _Landulph\",\"Melksham\",\"Melksham\",\"Bridgwater_Taunton\",\"Bridgwater_Taunton\",\"Abham_Exeter _Landulph\",\"Alverdiscott_Indian Queens\",\"Alverdiscott_Indian Queens\",\"Abham_Exeter _Landulph\",\"Abham_Exeter _Landulph\",\"Melksham\",\"Melksham\",\"Abham_Exeter _Landulph\",\"Abham_Exeter _Landulph\",\"Iron Acton\",\"Iron Acton\",\"Iron Acton\",\"Iron Acton\",\"Iron Acton\",\"Iron Acton\",\"Abham_Exeter _Landulph\",\"Abham_Exeter _Landulph\",\"Abham_Exeter _Landulph\",\"Abham_Exeter _Landulph\",\"Abham_Exeter _Landulph\",\"Abham_Exeter _Landulph\",\"Abham_Exeter _Landulph\",\"Abham_Exeter _Landulph\",\"Abham_Exeter _Landulph\",\"Iron Acton\",\"Iron Acton\",\"Abham_Exeter _Landulph\",\"Abham_Exeter _Landulph\",\"Abham_Exeter _Landulph\",\"Abham_Exeter _Landulph\",\"Abham_Exeter _Landulph\",\"Abham_Exeter _Landulph\",\"Iron Acton\",\"Iron Acton\",\"Bridgwater_Taunton\",\"Bridgwater_Taunton\",\"Seabank\",\"Seabank\",\"Bridgwater_Taunton\",\"Bridgwater_Taunton\",\"Abham_Exeter _Landulph\",\"Melksham\",\"Melksham\",\"Melksham\",\"Melksham\",\"Seabank\",\"Seabank\",\"Alverdiscott_Indian Queens\",\"Alverdiscott_Indian Queens\",\"Abham_Exeter _Landulph\",\"Abham_Exeter _Landulph\",\"Abham_Exeter _Landulph\",\"Alverdiscott_Indian Queens\",\"Seabank\",\"Seabank\",\"Abham_Exeter _Landulph\",\"Abham_Exeter _Landulph\",\"Bridgwater_Taunton\",\"Bridgwater_Taunton\",\"Abham_Exeter _Landulph\",\"Abham_Exeter _Landulph\",\"Iron Acton\",\"Iron Acton\",\"Iron Acton\",\"Iron Acton\",\"Iron Acton\",\"Iron Acton\",\"Bridgwater_Taunton\",\"Bridgwater_Taunton\",\"Seabank\",\"Seabank\",\"Abham_Exeter _Landulph\",\"Abham_Exeter _Landulph\",\"Abham_Exeter _Landulph\",\"Abham_Exeter _Landulph\",\"Abham_Exeter _Landulph\",\"Abham_Exeter _Landulph\",\"Abham_Exeter _Landulph\",\"Abham_Exeter _Landulph\",\"Abham_Exeter _Landulph\",\"Abham_Exeter _Landulph\",\"Melksham\",\"Melksham\",\"Bridgwater_Taunton\",\"Bridgwater_Taunton\",\"Bridgwater_Taunton\",\"Bridgwater_Taunton\",\"Seabank\",\"Seabank\",\"Abham_Exeter _Landulph\",\"Abham_Exeter _Landulph\",\"Iron Acton\",\"Iron Acton\",\"Bridgwater_Taunton\",\"Bridgwater_Taunton\"],\"xaxis\":\"x\",\"yaxis\":\"y\",\"type\":\"histogram\"},{\"alignmentgroup\":\"True\",\"bingroup\":\"x\",\"hovertemplate\":\"Method_of_Earthing=Earth Tx & LER<br>GSP Group=%{x}<br>count=%{y}<extra></extra>\",\"legendgroup\":\"Earth Tx & LER\",\"marker\":{\"color\":\"#00cc96\",\"pattern\":{\"shape\":\"\"}},\"name\":\"Earth Tx & LER\",\"offsetgroup\":\"Earth Tx & LER\",\"orientation\":\"v\",\"showlegend\":true,\"x\":[\"Cardiff East & Aberthaw 132 kV\",\"Cardiff East & Aberthaw 132 kV\",\"Cardiff East & Aberthaw 132 kV\",\"Cardiff East & Aberthaw 132 kV\",\"Cardiff East & Aberthaw 132 kV\",\"Cardiff East & Aberthaw 132 kV\",\"Cardiff East & Aberthaw 132 kV\",\"Cardiff East & Aberthaw 132 kV\",\"Cardiff East & Aberthaw 132 kV\",\"Cardiff East & Aberthaw 132 kV\",\"Cardiff East & Aberthaw 132 kV\",\"Cardiff East & Aberthaw 132 kV\",\"Cardiff East & Aberthaw 132 kV\",\"Cardiff East & Aberthaw 132 kV\",\"Cardiff East & Aberthaw 132 kV\",\"Cardiff East & Aberthaw 132 kV\",\"Cardiff East & Aberthaw 132 kV\",\"Cardiff East & Aberthaw 132 kV\",\"Cardiff East & Aberthaw 132 kV\",\"Cardiff East & Aberthaw 132 kV\",\"Cardiff East & Aberthaw 132 kV\",\"Cardiff East & Aberthaw 132 kV\",\"Cardiff East & Aberthaw 132 kV\",\"Cardiff East & Aberthaw 132 kV\",\"Cardiff East & Aberthaw 132 kV\",\"Cardiff East & Aberthaw 132 kV\",\"Cardiff East & Aberthaw 132 kV\",\"Cardiff East & Aberthaw 132 kV\",\"Cardiff East & Aberthaw 132 kV\",\"Cardiff East & Aberthaw 132 kV\",\"Cardiff East & Aberthaw 132 kV\",\"Margam 66 kV\",\"Margam 66 kV\",\"Margam 66 kV\",\"Pembroke 132 kV\",\"Pembroke 132 kV\",\"Pembroke 132 kV\",\"Pembroke 132 kV\",\"Pembroke 132 kV\",\"Pembroke 132 kV\",\"Pembroke 132 kV\",\"Pembroke 132 kV\",\"Pembroke 132 kV\",\"Pembroke 132 kV\",\"Pyle 132 kV\",\"Pyle 132 kV\",\"Pyle 132 kV\",\"Pyle 132 kV\",\"Pyle 132 kV\",\"Pyle 132 kV\",\"Pyle 132 kV\",\"Pyle 132 kV\",\"Rassau 132 kV\",\"Uskmouth 132 kV\",\"Uskmouth 132 kV\",\"Uskmouth 132 kV\",\"Uskmouth 132 kV\",\"Uskmouth 132 kV\",\"Uskmouth 132 kV\",\"Uskmouth 132 kV\",\"Uskmouth 132 kV\",\"Uskmouth 132 kV\",\"Uskmouth 132 kV\"],\"xaxis\":\"x\",\"yaxis\":\"y\",\"type\":\"histogram\"},{\"alignmentgroup\":\"True\",\"bingroup\":\"x\",\"hovertemplate\":\"Method_of_Earthing=NER<br>GSP Group=%{x}<br>count=%{y}<extra></extra>\",\"legendgroup\":\"NER\",\"marker\":{\"color\":\"#ab63fa\",\"pattern\":{\"shape\":\"\"}},\"name\":\"NER\",\"offsetgroup\":\"NER\",\"orientation\":\"v\",\"showlegend\":true,\"x\":[\"Cardiff East & Aberthaw 132 kV\",\"Cardiff East & Aberthaw 132 kV\",\"Cardiff East & Aberthaw 132 kV\",\"Cardiff East & Aberthaw 132 kV\",\"Cardiff East & Aberthaw 132 kV\",\"Cardiff East & Aberthaw 132 kV\",\"Cardiff East & Aberthaw 132 kV\",\"Cardiff East & Aberthaw 132 kV\",\"Cardiff East & Aberthaw 132 kV\",\"Cardiff East & Aberthaw 132 kV\",\"Cardiff East & Aberthaw 132 kV\",\"Cardiff East & Aberthaw 132 kV\",\"Cardiff East & Aberthaw 132 kV\",\"Cardiff East & Aberthaw 132 kV\",\"Cardiff East & Aberthaw 132 kV\",\"Cardiff East & Aberthaw 132 kV\",\"Cardiff East & Aberthaw 132 kV\",\"Pembroke 132 kV\",\"Pembroke 132 kV\",\"Pyle 132 kV\",\"Pyle 132 kV\",\"Rassau 132 kV\",\"Rassau 132 kV\",\"Rassau 132 kV\",\"Rassau 132 kV\",\"Rassau 132 kV\",\"Rassau 132 kV\",\"Rassau 132 kV\",\"Rassau 132 kV\",\"Rassau 132 kV\",\"Rassau 132 kV\",\"Rassau 132 kV\",\"Rassau 132 kV\",\"Rassau 132 kV\",\"Rassau 132 kV\",\"Rassau 132 kV\",\"Rassau 132 kV\",\"Rassau 132 kV\",\"Rassau 132 kV\",\"Rassau 132 kV\",\"Rassau 132 kV\",\"Rassau 132 kV\",\"Swansea North 132 kV\",\"Swansea North 132 kV\",\"Swansea North 132 kV\",\"Swansea North 132 kV\",\"Swansea North 132 kV\",\"Swansea North 132 kV\",\"Swansea North 132 kV\",\"Swansea North 132 kV\",\"Swansea North 132 kV\",\"Swansea North 132 kV\",\"Swansea North 132 kV\",\"Swansea North 132 kV\",\"Swansea North 132 kV\",\"Swansea North 132 kV\",\"Swansea North 132 kV\",\"Swansea North 132 kV\",\"Swansea North 132 kV\",\"Swansea North 132 kV\",\"Swansea North 132 kV\",\"Swansea North 132 kV\",\"Swansea North 132 kV\",\"Swansea North 132 kV\",\"Swansea North 132 kV\",\"Swansea North 132 kV\",\"Swansea North 132 kV\",\"Swansea North 132 kV\",\"Swansea North 132 kV\",\"Swansea North 132 kV\",\"Swansea North 132 kV\",\"Swansea North 132 kV\",\"Swansea North 132 kV\",\"Swansea North 132 kV\",\"Swansea North 132 kV\",\"Swansea North 132 kV\",\"Swansea North 132 kV\",\"Swansea North 132 kV\",\"Swansea North 132 kV\",\"Swansea North 132 kV\",\"Swansea North 132 kV\",\"Swansea North 132 kV\",\"Swansea North 132 kV\",\"Swansea North 132 kV\",\"Swansea North 132 kV\",\"Swansea North 132 kV\",\"Swansea North 132 kV\",\"Swansea North 132 kV\",\"Swansea North 132 kV\",\"Swansea North 132 kV\",\"Swansea North 132 kV\",\"Swansea North 132 kV\",\"Swansea North 132 kV\",\"Swansea North 132 kV\",\"Swansea North 132 kV\",\"Swansea North 132 kV\",\"Swansea North 132 kV\",\"Swansea North 132 kV\",\"Swansea North 132 kV\",\"Swansea North 132 kV\",\"Swansea North 132 kV\",\"Swansea North 132 kV\",\"Swansea North 132 kV\",\"Swansea North 132 kV\",\"Swansea North 132 kV\",\"Swansea North 132 kV\",\"Swansea North 132 kV\",\"Swansea North 132 kV\",\"Swansea North 132 kV\",\"Swansea North 132 kV\",\"Swansea North 132 kV\",\"Swansea North 132 kV\",\"Swansea North 132 kV\",\"Upper Boat 132 & 33 kV\",\"Upper Boat 132 & 33 kV\",\"Upper Boat 132 & 33 kV\",\"Upper Boat 132 & 33 kV\",\"Upper Boat 132 & 33 kV\",\"Upper Boat 132 & 33 kV\",\"Upper Boat 132 & 33 kV\",\"Upper Boat 132 & 33 kV\",\"Upper Boat 132 & 33 kV\",\"Upper Boat 132 & 33 kV\",\"Upper Boat 132 & 33 kV\",\"Upper Boat 132 & 33 kV\",\"Upper Boat 132 & 33 kV\",\"Upper Boat 132 kV\",\"Upper Boat 132 kV\",\"Upper Boat 132 kV\",\"Upper Boat 132 kV\",\"Upper Boat 132 kV\",\"Upper Boat 132 kV\",\"Upper Boat 132 kV\",\"Upper Boat 132 kV\",\"Uskmouth 132 kV\",\"Uskmouth 132 kV\",\"Uskmouth 132 kV\",\"Uskmouth 132 kV\",\"Uskmouth 132 kV\",\"Uskmouth 132 kV\",\"Uskmouth 132 kV\",\"Iron Acton\",\"Iron Acton\",\"Abham_Exeter _Landulph\",\"Abham_Exeter _Landulph\",\"Abham_Exeter _Landulph\",\"Abham_Exeter _Landulph\",\"Iron Acton\",\"Iron Acton\",\"Abham_Exeter _Landulph\",\"Abham_Exeter _Landulph\",\"Abham_Exeter _Landulph\",\"Seabank\",\"Seabank\",\"Iron Acton\",\"Iron Acton\",\"Abham_Exeter _Landulph\",\"Abham_Exeter _Landulph\",\"Seabank\",\"Seabank\",\"Seabank\",\"Bridgwater_Taunton\",\"Bridgwater_Taunton\",\"Axminster\",\"Axminster\",\"Alverdiscott_Indian Queens\",\"Alverdiscott_Indian Queens\",\"Abham_Exeter _Landulph\",\"Abham_Exeter _Landulph\",\"Bridgwater_Taunton\",\"Bridgwater_Taunton\",\"Bridgwater_Taunton\",\"Iron Acton\",\"Iron Acton\",\"Iron Acton\",\"Alverdiscott_Indian Queens\",\"Alverdiscott_Indian Queens\",\"Seabank\",\"Seabank\",\"Abham_Exeter _Landulph\",\"Iron Acton\",\"Iron Acton\",\"Iron Acton\",\"Iron Acton\",\"Alverdiscott_Indian Queens\",\"Alverdiscott_Indian Queens\",\"Bridgwater_Taunton\",\"Bridgwater_Taunton\",\"Bridgwater_Taunton\",\"Bridgwater_Taunton\",\"Iron Acton\",\"Iron Acton\",\"Abham_Exeter _Landulph\",\"Abham_Exeter _Landulph\",\"Abham_Exeter _Landulph\",\"Bridgwater_Taunton\",\"Bridgwater_Taunton\",\"Abham_Exeter _Landulph\",\"Abham_Exeter _Landulph\",\"Abham_Exeter _Landulph\",\"Abham_Exeter _Landulph\",\"Seabank\",\"Seabank\",\"Iron Acton\",\"Iron Acton\",\"Iron Acton\",\"Abham_Exeter _Landulph\",\"Abham_Exeter _Landulph\",\"Bridgwater_Taunton\",\"Bridgwater_Taunton\",\"Bridgwater_Taunton\",\"Axminster\",\"Axminster\",\"Iron Acton\",\"Iron Acton\",\"Abham_Exeter _Landulph\",\"Abham_Exeter _Landulph\",\"Abham_Exeter _Landulph\",\"Abham_Exeter _Landulph\",\"Bridgwater_Taunton\",\"Bridgwater_Taunton\",\"Axminster\",\"Axminster\",\"Iron Acton\",\"Iron Acton\",\"Abham_Exeter _Landulph\",\"Abham_Exeter _Landulph\",\"Abham_Exeter _Landulph\",\"Abham_Exeter _Landulph\",\"Melksham\",\"Melksham\",\"Melksham\",\"Melksham\",\"Axminster\",\"Axminster\",\"Iron Acton\",\"Iron Acton\",\"Abham_Exeter _Landulph\",\"Abham_Exeter _Landulph\",\"Abham_Exeter _Landulph\",\"Abham_Exeter _Landulph\",\"Iron Acton\",\"Iron Acton\",\"Seabank\",\"Seabank\",\"Bridgwater_Taunton\",\"Bridgwater_Taunton\",\"Abham_Exeter _Landulph\",\"Abham_Exeter _Landulph\",\"Iron Acton\",\"Iron Acton\",\"Iron Acton\",\"Iron Acton\",\"Seabank\",\"Seabank\",\"Seabank\",\"Seabank\",\"Alverdiscott_Indian Queens\",\"Alverdiscott_Indian Queens\",\"Alverdiscott_Indian Queens\",\"Alverdiscott_Indian Queens\",\"Alverdiscott_Indian Queens\",\"Iron Acton\",\"Iron Acton\",\"Iron Acton\",\"Seabank\",\"Seabank\",\"Abham_Exeter _Landulph\",\"Abham_Exeter _Landulph\",\"Abham_Exeter _Landulph\",\"Abham_Exeter _Landulph\",\"Abham_Exeter _Landulph\",\"Alverdiscott_Indian Queens\",\"Alverdiscott_Indian Queens\",\"Alverdiscott_Indian Queens\",\"Alverdiscott_Indian Queens\",\"Seabank\",\"Seabank\",\"Abham_Exeter _Landulph\",\"Abham_Exeter _Landulph\",\"Seabank\",\"Seabank\",\"Abham_Exeter _Landulph\",\"Abham_Exeter _Landulph\",\"Abham_Exeter _Landulph\",\"Abham_Exeter _Landulph\",\"Abham_Exeter _Landulph\",\"Abham_Exeter _Landulph\",\"Alverdiscott_Indian Queens\",\"Alverdiscott_Indian Queens\",\"Seabank\",\"Seabank\",\"Iron Acton\",\"Iron Acton\",\"Abham_Exeter _Landulph\",\"Abham_Exeter _Landulph\",\"Abham_Exeter _Landulph\",\"Abham_Exeter _Landulph\",\"Bridgwater_Taunton\",\"Bridgwater_Taunton\",\"Axminster\",\"Axminster\",\"Alverdiscott_Indian Queens\",\"Bridgwater_Taunton\",\"Bridgwater_Taunton\",\"Seabank\",\"Seabank\",\"Abham_Exeter _Landulph\",\"Abham_Exeter _Landulph\",\"Abham_Exeter _Landulph\",\"Abham_Exeter _Landulph\",\"Bridgwater_Taunton\",\"Bridgwater_Taunton\",\"Alverdiscott_Indian Queens\",\"Alverdiscott_Indian Queens\",\"Alverdiscott_Indian Queens\",\"Abham_Exeter _Landulph\",\"Abham_Exeter _Landulph\",\"Alverdiscott_Indian Queens\",\"Alverdiscott_Indian Queens\",\"Abham_Exeter _Landulph\",\"Abham_Exeter _Landulph\",\"Abham_Exeter _Landulph\",\"Abham_Exeter _Landulph\",\"Alverdiscott_Indian Queens\",\"Alverdiscott_Indian Queens\",\"Iron Acton\",\"Iron Acton\",\"Axminster\",\"Axminster\",\"Bridgwater_Taunton\",\"Abham_Exeter _Landulph\",\"Abham_Exeter _Landulph\",\"Bridgwater_Taunton\",\"Bridgwater_Taunton\",\"Alverdiscott_Indian Queens\",\"Alverdiscott_Indian Queens\",\"Alverdiscott_Indian Queens\",\"Alverdiscott_Indian Queens\",\"Abham_Exeter _Landulph\",\"Seabank\",\"Seabank\",\"Alverdiscott_Indian Queens\",\"Alverdiscott_Indian Queens\",\"Abham_Exeter _Landulph\",\"Abham_Exeter _Landulph\",\"Abham_Exeter _Landulph\",\"Abham_Exeter _Landulph\",\"Abham_Exeter _Landulph\",\"Abham_Exeter _Landulph\",\"Abham_Exeter _Landulph\",\"Abham_Exeter _Landulph\",\"Abham_Exeter _Landulph\",\"Abham_Exeter _Landulph\",\"Abham_Exeter _Landulph\",\"Alverdiscott_Indian Queens\",\"Alverdiscott_Indian Queens\",\"Bridgwater_Taunton\",\"Bridgwater_Taunton\",\"Abham_Exeter _Landulph\",\"Abham_Exeter _Landulph\",\"Abham_Exeter _Landulph\",\"Abham_Exeter _Landulph\",\"Abham_Exeter _Landulph\",\"Abham_Exeter _Landulph\",\"Alverdiscott_Indian Queens\",\"Alverdiscott_Indian Queens\",\"Bridgwater_Taunton\",\"Bridgwater_Taunton\",\"Abham_Exeter _Landulph\",\"Abham_Exeter _Landulph\",\"Bridgwater_Taunton\",\"Bridgwater_Taunton\",\"Axminster\",\"Axminster\",\"Bridgwater_Taunton\",\"Bridgwater_Taunton\",\"Iron Acton\",\"Iron Acton\",\"Seabank\",\"Seabank\",\"Seabank\",\"Seabank\",\"Iron Acton\",\"Iron Acton\",\"Abham_Exeter _Landulph\",\"Abham_Exeter _Landulph\",\"Bridgwater_Taunton\",\"Bridgwater_Taunton\",\"Iron Acton\",\"Iron Acton\",\"Iron Acton\",\"Iron Acton\",\"Abham_Exeter _Landulph\",\"Abham_Exeter _Landulph\",\"Berkswell 132kV\",\"Berkswell 132kV\",\"Berkswell 132kV\",\"Berkswell 132kV\",\"Berkswell 132kV\",\"Berkswell 132kV\",\"Berkswell 132kV\",\"Berkswell 132kV\",\"Berkswell 132kV\",\"Berkswell 132kV\",\"Berkswell 132kV\",\"Berkswell 132kV\",\"Berkswell 132kV\",\"Berkswell 132kV\",\"Berkswell 132kV\",\"Berkswell 132kV\",\"Berkswell 132kV\",\"Berkswell 132kV\",\"Berkswell 132kV\",\"Berkswell 132kV\",\"Berkswell 132kV\",\"Berkswell 132kV\",\"Berkswell 132kV\",\"Berkswell 132kV\",\"Berkswell 132kV\",\"Berkswell 132kV\",\"Berkswell 132kV\",\"Berkswell 132kV\",\"Berkswell 132kV\",\"Berkswell 132kV\",\"Berkswell 132kV\",\"Berkswell 132kV\",\"Berkswell 132kV\",\"Berkswell 132kV\",\"Berkswell 132kV\",\"Berkswell 132kV\",\"Berkswell 132kV\",\"Berkswell 132kV\",\"Berkswell 132kV\",\"Berkswell 132kV\",\"Berkswell 132kV\",\"Berkswell 132kV\",\"Berkswell 132kV\",\"Berkswell 132kV\",\"Berkswell 132kV\",\"Berkswell 132kV\",\"Berkswell 132kV\",\"Berkswell 132kV\",\"Berkswell 132kV\",\"Berkswell 132kV\",\"Berkswell 132kV\",\"Berkswell 132kV\",\"Bicker Fen 132kV\",\"Bicker Fen 132kV\",\"Bicker Fen 132kV\",\"Bicker Fen 132kV\",\"Bicker Fen 132kV\",\"Bicker Fen 132kV\",\"Bicker Fen 132kV\",\"Bicker Fen 132kV\",\"Bicker Fen 132kV\",\"Bicker Fen 132kV\",\"Bicker Fen 132kV\",\"Bicker Fen 132kV\",\"Bicker Fen 132kV\",\"Bicker Fen 132kV\",\"Bicker Fen 132kV\",\"Bicker Fen 132kV\",\"Bicker Fen 132kV\",\"Bicker Fen 132kV\",\"Bicker Fen 132kV\",\"Bicker Fen 132kV\",\"Bicker Fen 132kV\",\"Bicker Fen 132kV\",\"Bicker Fen 132kV\",\"Bicker Fen 132kV\",\"Bicker Fen 132kV\",\"Bicker Fen 132kV\",\"Bicker Fen 132kV\",\"Bicker Fen 132kV\",\"Bicker Fen 132kV\",\"Bicker Fen 132kV\",\"Bicker Fen 132kV\",\"Bicker Fen 132kV\",\"Bicker Fen 132kV\",\"Bicker Fen 132kV\",\"Bicker Fen 132kV\",\"Bicker Fen 132kV\",\"Bicker Fen 132kV\",\"Bicker Fen 132kV\",\"Bicker Fen 132kV\",\"Bicker Fen 132kV\",\"Bicker Fen 132kV\",\"Bicker Fen 132kV\",\"Bicker Fen 132kV\",\"Bicker Fen 132kV\",\"Bicker Fen 132kV\",\"Bicker Fen 132kV\",\"Bicker Fen 132kV\",\"Bicker Fen 132kV\",\"Chesterfield 132kV\",\"Chesterfield 132kV\",\"Chesterfield 132kV\",\"Chesterfield 132kV\",\"Chesterfield 132kV\",\"Chesterfield 132kV\",\"Chesterfield 132kV\",\"Chesterfield 132kV\",\"Chesterfield 132kV\",\"Chesterfield 132kV\",\"Chesterfield 132kV\",\"Chesterfield 132kV\",\"Chesterfield 132kV\",\"Chesterfield 132kV\",\"Chesterfield 132kV\",\"Chesterfield 132kV\",\"Chesterfield 132kV\",\"Chesterfield 132kV\",\"Chesterfield 132kV\",\"Chesterfield 132kV\",\"Chesterfield 132kV\",\"Chesterfield 132kV\",\"Chesterfield 132kV\",\"Chesterfield 132kV\",\"Chesterfield 132kV\",\"Chesterfield 132kV\",\"Chesterfield 132kV\",\"Chesterfield 132kV\",\"Chesterfield 132kV\",\"Chesterfield 132kV\",\"Chesterfield 132kV\",\"Chesterfield 132kV\",\"Chesterfield 132kV\",\"Chesterfield 132kV\",\"Chesterfield 132kV\",\"Chesterfield 132kV\",\"Chesterfield 132kV\",\"Chesterfield 132kV\",\"Chesterfield 132kV\",\"Chesterfield 132kV\",\"Chesterfield 132kV\",\"Chesterfield 132kV\",\"Chesterfield 132kV\",\"Chesterfield 132kV\",\"Chesterfield 132kV\",\"Chesterfield 132kV\",\"Chesterfield 132kV\",\"Chesterfield 132kV\",\"Chesterfield 132kV\",\"Chesterfield 132kV\",\"Chesterfield 132kV\",\"Chesterfield 132kV\",\"Chesterfield 132kV\",\"Chesterfield 132kV\",\"Chesterfield 132kV\",\"Chesterfield 132kV\",\"Chesterfield 132kV\",\"Chesterfield 132kV\",\"Chesterfield 132kV\",\"Chesterfield 132kV\",\"Chesterfield 132kV\",\"Chesterfield 132kV\",\"Chesterfield 132kV\",\"Chesterfield 132kV\",\"Chesterfield 132kV\",\"Chesterfield 132kV\",\"Chesterfield 132kV\",\"Chesterfield 132kV\",\"Chesterfield 132kV\",\"Chesterfield 132kV\",\"Chesterfield 132kV\",\"Chesterfield 132kV\",\"Chesterfield 132kV\",\"Chesterfield 132kV\",\"Chesterfield 132kV\",\"Chesterfield 132kV\",\"Chesterfield 132kV\",\"Chesterfield 132kV\",\"Chesterfield 132kV\",\"Chesterfield 132kV\",\"Chesterfield 132kV\",\"Chesterfield 132kV\",\"Chesterfield 132kV\",\"Chesterfield 132kV\",\"Chesterfield 132kV\",\"Chesterfield 132kV\",\"Chesterfield 132kV\",\"Chesterfield 132kV\",\"Chesterfield 132kV\",\"Chesterfield 132kV\",\"Chesterfield 132kV\",\"Chesterfield 132kV\",\"Chesterfield 132kV\",\"Chesterfield 132kV\",\"Coventry 132kV\",\"Coventry 132kV\",\"Coventry 132kV\",\"Coventry 132kV\",\"Coventry 132kV\",\"Coventry 132kV\",\"Coventry 132kV\",\"Coventry 132kV\",\"Coventry 132kV\",\"Coventry 132kV\",\"Coventry 132kV\",\"Coventry 132kV\",\"Coventry 132kV\",\"Coventry 132kV\",\"Coventry 132kV\",\"Coventry 132kV\",\"Coventry 132kV\",\"Coventry 132kV\",\"Coventry 132kV\",\"Coventry 132kV\",\"Coventry 132kV\",\"Coventry 132kV\",\"Coventry 132kV\",\"Coventry 132kV\",\"Coventry 132kV\",\"Coventry 132kV\",\"Coventry 132kV\",\"Coventry 132kV\",\"Coventry 132kV\",\"Coventry 132kV\",\"Coventry 132kV\",\"Coventry 132kV\",\"Coventry 132kV\",\"Coventry 132kV\",\"Coventry 132kV\",\"Coventry 132kV\",\"Coventry 132kV\",\"Coventry 132kV\",\"Coventry 132kV\",\"Coventry 132kV\",\"Coventry 132kV\",\"Coventry 132kV\",\"Coventry 132kV\",\"Coventry 132kV\",\"Coventry 132kV\",\"Coventry 132kV\",\"Coventry 132kV\",\"Coventry 132kV\",\"Coventry 132kV\",\"Coventry 132kV\",\"Coventry 132kV\",\"Coventry 132kV\",\"Coventry 132kV\",\"Coventry 132kV\",\"Coventry 132kV\",\"Coventry 132kV\",\"Coventry 132kV\",\"Coventry 132kV\",\"Coventry 132kV\",\"Coventry 132kV\",\"Coventry 132kV\",\"Coventry 132kV\",\"Coventry 132kV\",\"Coventry 132kV\",\"Coventry 132kV\",\"Coventry 132kV\",\"Coventry 132kV\",\"Coventry 132kV\",\"Coventry 132kV\",\"Drakelow 132kV\",\"Drakelow 132kV\",\"Drakelow 132kV\",\"Drakelow 132kV\",\"Drakelow 132kV\",\"Drakelow 132kV\",\"Drakelow 132kV\",\"Drakelow 132kV\",\"Drakelow 132kV\",\"Drakelow 132kV\",\"Drakelow 132kV\",\"Drakelow 132kV\",\"Drakelow 132kV\",\"Drakelow 132kV\",\"Drakelow 132kV\",\"Drakelow 132kV\",\"Drakelow 132kV\",\"Drakelow 132kV\",\"Drakelow 132kV\",\"Drakelow 132kV\",\"Drakelow 132kV\",\"Drakelow 132kV\",\"Drakelow 132kV\",\"East Claydon 132kV\",\"East Claydon 132kV\",\"East Claydon 132kV\",\"East Claydon 132kV\",\"East Claydon 132kV\",\"East Claydon 132kV\",\"East Claydon 132kV\",\"East Claydon 132kV\",\"East Claydon 132kV\",\"East Claydon 132kV\",\"East Claydon 132kV\",\"East Claydon 132kV\",\"East Claydon 132kV\",\"East Claydon 132kV\",\"East Claydon 132kV\",\"East Claydon 132kV\",\"East Claydon 132kV\",\"East Claydon 132kV\",\"East Claydon 132kV\",\"East Claydon 132kV\",\"East Claydon 132kV\",\"East Claydon 132kV\",\"East Claydon 132kV\",\"East Claydon 132kV\",\"East Claydon 132kV\",\"East Claydon 132kV\",\"East Claydon 132kV\",\"East Claydon 132kV\",\"East Claydon 132kV\",\"East Claydon 132kV\",\"East Claydon 132kV\",\"East Claydon 132kV\",\"East Claydon 132kV\",\"East Claydon 132kV\",\"East Claydon 132kV\",\"East Claydon 132kV\",\"East Claydon 132kV\",\"East Claydon 132kV\",\"East Claydon 132kV\",\"East Claydon 132kV\",\"East Claydon 132kV\",\"East Claydon 132kV\",\"East Claydon 132kV\",\"East Claydon 132kV\",\"East Claydon 132kV\",\"East Claydon 132kV\",\"East Claydon 132kV\",\"East Claydon 132kV\",\"East Claydon 132kV\",\"East Claydon 132kV\",\"East Claydon 132kV\",\"East Claydon 132kV\",\"East Claydon 132kV\",\"East Claydon 132kV\",\"Enderby 132kV\",\"Enderby 132kV\",\"Enderby 132kV\",\"Enderby 132kV\",\"Enderby 132kV\",\"Enderby 132kV\",\"Enderby 132kV\",\"Enderby 132kV\",\"Enderby 132kV\",\"Enderby 132kV\",\"Enderby 132kV\",\"Enderby 132kV\",\"Enderby 132kV\",\"Enderby 132kV\",\"Enderby 132kV\",\"Enderby 132kV\",\"Enderby 132kV\",\"Enderby 132kV\",\"Enderby 132kV\",\"Enderby 132kV\",\"Enderby 132kV\",\"Enderby 132kV\",\"Enderby 132kV\",\"Enderby 132kV\",\"Enderby 132kV\",\"Enderby 132kV\",\"Enderby 132kV\",\"Enderby 132kV\",\"Enderby 132kV\",\"Enderby 132kV\",\"Enderby 132kV\",\"Enderby 132kV\",\"Enderby 132kV\",\"Enderby 132kV\",\"Enderby 132kV\",\"Enderby 132kV\",\"Enderby 132kV\",\"Enderby 132kV\",\"Enderby 132kV\",\"Enderby 132kV\",\"Enderby 132kV\",\"Enderby 132kV\",\"Enderby 132kV\",\"Enderby 132kV\",\"Enderby 132kV\",\"Enderby 132kV\",\"Enderby 132kV\",\"Enderby 132kV\",\"Enderby 132kV\",\"Enderby 132kV\",\"Enderby 132kV\",\"Enderby 132kV\",\"Enderby 132kV\",\"Enderby 132kV\",\"Enderby 132kV\",\"Enderby 132kV\",\"Enderby 132kV\",\"Enderby 132kV\",\"Enderby 132kV\",\"Grendon 132kV\",\"Grendon 132kV\",\"Grendon 132kV\",\"Grendon 132kV\",\"Grendon 132kV\",\"Grendon 132kV\",\"Grendon 132kV\",\"Grendon 132kV\",\"Grendon 132kV\",\"Grendon 132kV\",\"Grendon 132kV\",\"Grendon 132kV\",\"Grendon 132kV\",\"Grendon 132kV\",\"Grendon 132kV\",\"Grendon 132kV\",\"Grendon 132kV\",\"Grendon 132kV\",\"Grendon 132kV\",\"Grendon 132kV\",\"Grendon 132kV\",\"Grendon 132kV\",\"Grendon 132kV\",\"Grendon 132kV\",\"Grendon 132kV\",\"Grendon 132kV\",\"Grendon 132kV\",\"Grendon 132kV\",\"Grendon 132kV\",\"Grendon 132kV\",\"Grendon 132kV\",\"Grendon 132kV\",\"Grendon 132kV\",\"Grendon 132kV\",\"Grendon 132kV\",\"Grendon 132kV\",\"Grendon 132kV\",\"Grendon 132kV\",\"Grendon 132kV\",\"Grendon 132kV\",\"Grendon 132kV\",\"Grendon 132kV\",\"Grendon 132kV\",\"Grendon 132kV\",\"Grendon 132kV\",\"Grendon 132kV\",\"Grendon 132kV\",\"Grendon 132kV\",\"Grendon 132kV\",\"Grendon 132kV\",\"Grendon 132kV\",\"Grendon 132kV\",\"Grendon 132kV\",\"Grendon 132kV\",\"Grendon 132kV\",\"Grendon 132kV\",\"Grendon 132kV\",\"Grendon 132kV\",\"Grendon 132kV\",\"Grendon 132kV\",\"Grendon 132kV\",\"Grendon 132kV\",\"Grendon 132kV\",\"Grendon 132kV\",\"Grendon 132kV\",\"Grendon 132kV\",\"Grendon 132kV\",\"Grendon 132kV\",\"Grendon 132kV\",\"Grendon 132kV\",\"Grendon 132kV\",\"Grendon 132kV\",\"Grendon 132kV\",\"Grendon 132kV\",\"Grendon 132kV\",\"Grendon 132kV\",\"Grendon 132kV\",\"Grendon 132kV\",\"Grendon 132kV\",\"Grendon 132kV\",\"Grendon 132kV\",\"Grendon 132kV\",\"Grendon 132kV\",\"Grendon 132kV\",\"Grendon 132kV\",\"Grendon 132kV\",\"Grendon 132kV\",\"Grendon 132kV\",\"Grendon 132kV\",\"Grendon 132kV\",\"Grendon 132kV\",\"Grendon 132kV\",\"Grendon 132kV\",\"Grendon 132kV\",\"Grendon 132kV\",\"Grendon 132kV\",\"Grendon 132kV\",\"Grendon 132kV\",\"Grendon 132kV\",\"Grendon 132kV\",\"Grendon 132kV\",\"Grendon 132kV\",\"Grendon 132kV\",\"Grendon 132kV\",\"Grendon 132kV\",\"Lea Marston 132kV\",\"Lea Marston 132kV\",\"Lea Marston 132kV\",\"Lea Marston 132kV\",\"Lea Marston 132kV\",\"Lea Marston 132kV\",\"Lea Marston 132kV\",\"Lea Marston 132kV\",\"Lea Marston 132kV\",\"Lea Marston 132kV\",\"Lea Marston 132kV\",\"Lea Marston 132kV\",\"Ratcliffe 132kV\",\"Ratcliffe 132kV\",\"Ratcliffe 132kV\",\"Ratcliffe 132kV\",\"Ratcliffe 132kV\",\"Ratcliffe 132kV\",\"Ratcliffe 132kV\",\"Ratcliffe 132kV\",\"Ratcliffe 132kV\",\"Ratcliffe 132kV\",\"Ratcliffe 132kV\",\"Ratcliffe 132kV\",\"Ratcliffe 132kV\",\"Ratcliffe 132kV\",\"Ratcliffe 132kV\",\"Ratcliffe 132kV\",\"Ratcliffe 132kV\",\"Ratcliffe 132kV\",\"Ratcliffe 132kV\",\"Ratcliffe 132kV\",\"Ratcliffe 132kV\",\"Ratcliffe 132kV\",\"Ratcliffe 132kV\",\"Ratcliffe 132kV\",\"Ratcliffe 132kV\",\"Ratcliffe 132kV\",\"Ratcliffe 132kV\",\"Ratcliffe 132kV\",\"Ratcliffe 132kV\",\"Ratcliffe 132kV\",\"Ratcliffe 132kV\",\"Ratcliffe 132kV\",\"Ratcliffe 132kV\",\"Ratcliffe 132kV\",\"Ratcliffe 132kV\",\"Ratcliffe 132kV\",\"Ratcliffe 132kV\",\"Ratcliffe 132kV\",\"Ratcliffe 132kV\",\"Ratcliffe 132kV\",\"Ratcliffe 132kV\",\"Ratcliffe 132kV\",\"Ratcliffe 132kV\",\"Ratcliffe 132kV\",\"Ratcliffe 132kV\",\"Ratcliffe 132kV\",\"Ratcliffe 132kV\",\"Ratcliffe 132kV\",\"Ratcliffe 132kV\",\"Ratcliffe 132kV\",\"Ratcliffe 132kV\",\"Ratcliffe 132kV\",\"Ratcliffe 132kV\",\"Staythorpe 132kV\",\"Staythorpe 132kV\",\"Staythorpe 132kV\",\"Staythorpe 132kV\",\"Staythorpe 132kV\",\"Staythorpe 132kV\",\"Staythorpe 132kV\",\"Staythorpe 132kV\",\"Staythorpe 132kV\",\"Staythorpe 132kV\",\"Staythorpe 132kV\",\"Staythorpe 132kV\",\"Staythorpe 132kV\",\"Staythorpe 132kV\",\"Staythorpe 132kV\",\"Staythorpe 132kV\",\"Staythorpe 132kV\",\"Staythorpe 132kV\",\"Staythorpe 132kV\",\"Staythorpe 132kV\",\"Staythorpe 132kV\",\"Staythorpe 132kV\",\"Staythorpe 132kV\",\"Staythorpe 132kV\",\"Staythorpe 132kV\",\"Staythorpe 132kV\",\"Staythorpe 132kV\",\"Staythorpe 132kV\",\"Staythorpe 132kV\",\"Staythorpe 132kV\",\"Stoke Bardolph 132kV\",\"Stoke Bardolph 132kV\",\"Stoke Bardolph 132kV\",\"Stoke Bardolph 132kV\",\"Stoke Bardolph 132kV\",\"Stoke Bardolph 132kV\",\"Stoke Bardolph 132kV\",\"Stoke Bardolph 132kV\",\"Stoke Bardolph 132kV\",\"Stoke Bardolph 132kV\",\"Stoke Bardolph 132kV\",\"Stoke Bardolph 132kV\",\"Stoke Bardolph 132kV\",\"Stoke Bardolph 132kV\",\"Stoke Bardolph 132kV\",\"Stoke Bardolph 132kV\",\"Stoke Bardolph 132kV\",\"Stoke Bardolph 132kV\",\"Walpole 132kV\",\"Walpole 132kV\",\"Walpole 132kV\",\"Walpole 132kV\",\"Walpole 132kV\",\"Walpole 132kV\",\"Walpole 132kV\",\"Walpole 132kV\",\"Walpole 132kV\",\"Walpole 132kV\",\"Walpole 132kV\",\"Walpole 132kV\",\"Walpole 132kV\",\"Walpole 132kV\",\"Walpole 132kV\",\"Walpole 132kV\",\"Walpole 132kV\",\"Walpole 132kV\",\"Walpole 132kV\",\"Walpole 132kV\",\"Walpole 132kV\",\"Walpole 132kV\",\"Walpole 132kV\",\"Walpole 132kV\",\"Walpole 132kV\",\"Walpole 132kV\",\"Walpole 132kV\",\"Walpole 132kV\",\"West Burton 132kV\",\"West Burton 132kV\",\"West Burton 132kV\",\"West Burton 132kV\",\"West Burton 132kV\",\"West Burton 132kV\",\"West Burton 132kV\",\"West Burton 132kV\",\"West Burton 132kV\",\"West Burton 132kV\",\"West Burton 132kV\",\"West Burton 132kV\",\"West Burton 132kV\",\"West Burton 132kV\",\"West Burton 132kV\",\"West Burton 132kV\",\"West Burton 132kV\",\"West Burton 132kV\",\"West Burton 132kV\",\"West Burton 132kV\",\"West Burton 132kV\",\"West Burton 132kV\",\"West Burton 132kV\",\"West Burton 132kV\",\"West Burton 132kV\",\"West Burton 132kV\",\"West Burton 132kV\",\"West Burton 132kV\",\"Willington 132kV\",\"Willington 132kV\",\"Willington 132kV\",\"Willington 132kV\",\"Willington 132kV\",\"Willington 132kV\",\"Willington 132kV\",\"Willington 132kV\",\"Willington 132kV\",\"Willington 132kV\",\"Willington 132kV\",\"Willington 132kV\",\"Willington 132kV\",\"Willington 132kV\",\"Willington 132kV\",\"Willington 132kV\",\"Willington 132kV\",\"Willington 132kV\",\"Willington 132kV\",\"Willington 132kV\",\"Willington 132kV\",\"Willington 132kV\",\"Willington 132kV\",\"Willington 132kV\",\"Willington 132kV\",\"Willington 132kV\",\"Willington 132kV\",\"Willington 132kV\",\"Willington 132kV\",\"Willington 132kV\",\"Willington 132kV\",\"Willington 132kV\",\"Willington 132kV\",\"Willington 132kV\",\"Willington 132kV\",\"Willington 132kV\",\"Willington 132kV\",\"Willington 132kV\",\"Willington 132kV\",\"Willington 132kV\",\"Willington 132kV\",\"Willington 132kV\",\"Willington 132kV\",\"Willington 132kV\",\"Willington 132kV\",\"Willington 132kV\",\"Willington 132kV\",\"Willington 132kV\",\"Willington 132kV\",\"Willington 132kV\",\"Willington 132kV\",\"Willington 132kV\",\"Willington 132kV\",\"Willington 132kV\",\"Willington 132kV\",\"Willington 132kV\",\"Willington 132kV\",\"Willington 132kV\",\"Willington 132kV\",\"Willington 132kV\",\"Willington 132kV\",\"Willington 132kV\",\"Willington 132kV\",\"Willington 132kV\",\"Willington 132kV\",\"Willington 132kV\",\"Willington 132kV\",\"Willington 132kV\",\"Willington 132kV\",\"Willington 132kV\",\"Willington 132kV\",\"Willington 132kV\",\"Willington 132kV\",\"Willington 132kV\",\"Willington 132kV\"],\"xaxis\":\"x\",\"yaxis\":\"y\",\"type\":\"histogram\"},{\"alignmentgroup\":\"True\",\"bingroup\":\"x\",\"hovertemplate\":\"Method_of_Earthing=Solid<br>GSP Group=%{x}<br>count=%{y}<extra></extra>\",\"legendgroup\":\"Solid\",\"marker\":{\"color\":\"#FFA15A\",\"pattern\":{\"shape\":\"\"}},\"name\":\"Solid\",\"offsetgroup\":\"Solid\",\"orientation\":\"v\",\"showlegend\":true,\"x\":[\"Cardiff East & Aberthaw 132 kV\",\"Cardiff East & Aberthaw 132 kV\",\"Cardiff East & Aberthaw 132 kV\",\"Cardiff East & Aberthaw 132 kV\",\"Pyle 132 kV\",\"Swansea North 132 kV\",\"Swansea North 132 kV\",\"Swansea North 132 kV\",\"Swansea North 132 kV\",\"Swansea North 132 kV\",\"Swansea North 132 kV\",\"Swansea North 132 kV\",\"Swansea North 132 kV\",\"Swansea North 132 kV\",\"Swansea North 132 kV\",\"Upper Boat 132 & 33 kV\",\"Upper Boat 132 & 33 kV\",\"Upper Boat 132 kV\",\"Uskmouth 132 kV\",\"Uskmouth 132 kV\",\"Uskmouth 132 kV\",\"Uskmouth 132 kV\",\"Uskmouth 132 kV\",\"Uskmouth 132 kV\",\"Alverdiscott_Indian Queens\",\"Abham_Exeter _Landulph\",\"Alverdiscott_Indian Queens\",\"Alverdiscott_Indian Queens\",\"Bridgwater_Taunton\",\"Alverdiscott_Indian Queens\",\"Abham_Exeter _Landulph\",\"Abham_Exeter _Landulph\",\"Alverdiscott_Indian Queens\",\"Alverdiscott_Indian Queens\",\"Alverdiscott_Indian Queens\",\"Abham_Exeter _Landulph\",\"Abham_Exeter _Landulph\",\"Alverdiscott_Indian Queens\",\"Alverdiscott_Indian Queens\",\"Bridgwater_Taunton\",\"Seabank\",\"Bridgwater_Taunton\",\"Alverdiscott_Indian Queens\",\"Alverdiscott_Indian Queens\",\"Axminster\",\"Bridgwater_Taunton\",\"Abham_Exeter _Landulph\",\"Abham_Exeter _Landulph\",\"Bridgwater_Taunton\",\"Bridgwater_Taunton\",\"Seabank\",\"Alverdiscott_Indian Queens\",\"Alverdiscott_Indian Queens\",\"Alverdiscott_Indian Queens\",\"Abham_Exeter _Landulph\",\"Abham_Exeter _Landulph\",\"Seabank\",\"Abham_Exeter _Landulph\",\"Axminster\",\"Seabank\",\"Bridgwater_Taunton\",\"Abham_Exeter _Landulph\",\"Abham_Exeter _Landulph\",\"Alverdiscott_Indian Queens\",\"Alverdiscott_Indian Queens\",\"Alverdiscott_Indian Queens\",\"Alverdiscott_Indian Queens\",\"Abham_Exeter _Landulph\",\"Abham_Exeter _Landulph\",\"Alverdiscott_Indian Queens\",\"Alverdiscott_Indian Queens\",\"Alverdiscott_Indian Queens\",\"Alverdiscott_Indian Queens\",\"Alverdiscott_Indian Queens\",\"Abham_Exeter _Landulph\",\"Bridgwater_Taunton\",\"Alverdiscott_Indian Queens\",\"Alverdiscott_Indian Queens\",\"Alverdiscott_Indian Queens\",\"Bridgwater_Taunton\",\"Bridgwater_Taunton\",\"Bridgwater_Taunton\",\"Alverdiscott_Indian Queens\",\"Alverdiscott_Indian Queens\",\"Abham_Exeter _Landulph\",\"Abham_Exeter _Landulph\",\"Abham_Exeter _Landulph\",\"Abham_Exeter _Landulph\",\"Alverdiscott_Indian Queens\",\"Alverdiscott_Indian Queens\",\"Abham_Exeter _Landulph\",\"Abham_Exeter _Landulph\",\"Abham_Exeter _Landulph\",\"Abham_Exeter _Landulph\",\"Abham_Exeter _Landulph\",\"Alverdiscott_Indian Queens\",\"Alverdiscott_Indian Queens\",\"Seabank\",\"Alverdiscott_Indian Queens\",\"Abham_Exeter _Landulph\",\"Abham_Exeter _Landulph\",\"Bridgwater_Taunton\",\"Alverdiscott_Indian Queens\",\"Abham_Exeter _Landulph\",\"Alverdiscott_Indian Queens\",\"Alverdiscott_Indian Queens\",\"Abham_Exeter _Landulph\",\"Alverdiscott_Indian Queens\",\"Alverdiscott_Indian Queens\",\"Abham_Exeter _Landulph\",\"Alverdiscott_Indian Queens\",\"Bridgwater_Taunton\",\"Seabank\",\"Alverdiscott_Indian Queens\",\"Alverdiscott_Indian Queens\",\"Abham_Exeter _Landulph\",\"Abham_Exeter _Landulph\",\"Abham_Exeter _Landulph\"],\"xaxis\":\"x\",\"yaxis\":\"y\",\"type\":\"histogram\"},{\"alignmentgroup\":\"True\",\"bingroup\":\"x\",\"hovertemplate\":\"Method_of_Earthing=ET + LER<br>GSP Group=%{x}<br>count=%{y}<extra></extra>\",\"legendgroup\":\"ET + LER\",\"marker\":{\"color\":\"#19d3f3\",\"pattern\":{\"shape\":\"\"}},\"name\":\"ET + LER\",\"offsetgroup\":\"ET + LER\",\"orientation\":\"v\",\"showlegend\":true,\"x\":[\"Seabank\",\"Seabank\",\"Alverdiscott_Indian Queens\",\"Alverdiscott_Indian Queens\",\"Melksham\",\"Melksham\",\"Bridgwater_Taunton\",\"Alverdiscott_Indian Queens\",\"Alverdiscott_Indian Queens\",\"Bridgwater_Taunton\",\"Alverdiscott_Indian Queens\",\"Alverdiscott_Indian Queens\",\"Abham_Exeter _Landulph\",\"Abham_Exeter _Landulph\",\"Abham_Exeter _Landulph\",\"Abham_Exeter _Landulph\",\"Iron Acton\",\"Iron Acton\",\"Iron Acton\",\"Iron Acton\",\"Abham_Exeter _Landulph\",\"Iron Acton\",\"Iron Acton\",\"Abham_Exeter _Landulph\",\"Abham_Exeter _Landulph\",\"Abham_Exeter _Landulph\",\"Abham_Exeter _Landulph\",\"Abham_Exeter _Landulph\",\"Abham_Exeter _Landulph\",\"Alverdiscott_Indian Queens\",\"Alverdiscott_Indian Queens\",\"Bridgwater_Taunton\",\"Bridgwater_Taunton\",\"Abham_Exeter _Landulph\",\"Abham_Exeter _Landulph\",\"Abham_Exeter _Landulph\",\"Abham_Exeter _Landulph\",\"Alverdiscott_Indian Queens\",\"Alverdiscott_Indian Queens\",\"Axminster\",\"Axminster\",\"Axminster\",\"Axminster\"],\"xaxis\":\"x\",\"yaxis\":\"y\",\"type\":\"histogram\"},{\"alignmentgroup\":\"True\",\"bingroup\":\"x\",\"hovertemplate\":\"Method_of_Earthing=Shared ASC<br>GSP Group=%{x}<br>count=%{y}<extra></extra>\",\"legendgroup\":\"Shared ASC\",\"marker\":{\"color\":\"#FF6692\",\"pattern\":{\"shape\":\"\"}},\"name\":\"Shared ASC\",\"offsetgroup\":\"Shared ASC\",\"orientation\":\"v\",\"showlegend\":true,\"x\":[\"Alverdiscott_Indian Queens\",\"Alverdiscott_Indian Queens\",\"Abham_Exeter _Landulph\",\"Abham_Exeter _Landulph\",\"Alverdiscott_Indian Queens\",\"Alverdiscott_Indian Queens\",\"Alverdiscott_Indian Queens\",\"Alverdiscott_Indian Queens\",\"Alverdiscott_Indian Queens\",\"Alverdiscott_Indian Queens\",\"Alverdiscott_Indian Queens\",\"Alverdiscott_Indian Queens\",\"Alverdiscott_Indian Queens\",\"Alverdiscott_Indian Queens\",\"Abham_Exeter _Landulph\",\"Abham_Exeter _Landulph\",\"Alverdiscott_Indian Queens\",\"Alverdiscott_Indian Queens\",\"Alverdiscott_Indian Queens\",\"Alverdiscott_Indian Queens\",\"Abham_Exeter _Landulph\",\"Abham_Exeter _Landulph\",\"Alverdiscott_Indian Queens\",\"Alverdiscott_Indian Queens\",\"Alverdiscott_Indian Queens\",\"Abham_Exeter _Landulph\",\"Abham_Exeter _Landulph\",\"Abham_Exeter _Landulph\",\"Abham_Exeter _Landulph\",\"Alverdiscott_Indian Queens\",\"Alverdiscott_Indian Queens\",\"Alverdiscott_Indian Queens\",\"Alverdiscott_Indian Queens\",\"Alverdiscott_Indian Queens\",\"Alverdiscott_Indian Queens\",\"Alverdiscott_Indian Queens\",\"Alverdiscott_Indian Queens\",\"Abham_Exeter _Landulph\",\"Abham_Exeter _Landulph\",\"Alverdiscott_Indian Queens\",\"Alverdiscott_Indian Queens\",\"Alverdiscott_Indian Queens\",\"Alverdiscott_Indian Queens\",\"Alverdiscott_Indian Queens\",\"Alverdiscott_Indian Queens\",\"Alverdiscott_Indian Queens\",\"Alverdiscott_Indian Queens\",\"Alverdiscott_Indian Queens\",\"Alverdiscott_Indian Queens\",\"Abham_Exeter _Landulph\",\"Abham_Exeter _Landulph\",\"Alverdiscott_Indian Queens\",\"Alverdiscott_Indian Queens\",\"Alverdiscott_Indian Queens\",\"Alverdiscott_Indian Queens\",\"Alverdiscott_Indian Queens\",\"Alverdiscott_Indian Queens\",\"Alverdiscott_Indian Queens\",\"Alverdiscott_Indian Queens\",\"Alverdiscott_Indian Queens\",\"Alverdiscott_Indian Queens\",\"Alverdiscott_Indian Queens\",\"Abham_Exeter _Landulph\",\"Abham_Exeter _Landulph\",\"Alverdiscott_Indian Queens\",\"Alverdiscott_Indian Queens\",\"Alverdiscott_Indian Queens\",\"Alverdiscott_Indian Queens\",\"Alverdiscott_Indian Queens\",\"Alverdiscott_Indian Queens\",\"Alverdiscott_Indian Queens\",\"Alverdiscott_Indian Queens\"],\"xaxis\":\"x\",\"yaxis\":\"y\",\"type\":\"histogram\"},{\"alignmentgroup\":\"True\",\"bingroup\":\"x\",\"hovertemplate\":\"Method_of_Earthing=ET<br>GSP Group=%{x}<br>count=%{y}<extra></extra>\",\"legendgroup\":\"ET\",\"marker\":{\"color\":\"#B6E880\",\"pattern\":{\"shape\":\"\"}},\"name\":\"ET\",\"offsetgroup\":\"ET\",\"orientation\":\"v\",\"showlegend\":true,\"x\":[\"Bridgwater_Taunton\",\"Bridgwater_Taunton\",\"Iron Acton\",\"Iron Acton\",\"Bridgwater_Taunton\",\"Bridgwater_Taunton\",\"Bridgwater_Taunton\",\"Abham_Exeter _Landulph\",\"Abham_Exeter _Landulph\",\"Abham_Exeter _Landulph\",\"Abham_Exeter _Landulph\",\"Alverdiscott_Indian Queens\",\"Alverdiscott_Indian Queens\",\"Alverdiscott_Indian Queens\",\"Iron Acton\",\"Iron Acton\",\"Alverdiscott_Indian Queens\",\"Abham_Exeter _Landulph\",\"Abham_Exeter _Landulph\",\"Alverdiscott_Indian Queens\",\"Abham_Exeter _Landulph\",\"Abham_Exeter _Landulph\",\"Abham_Exeter _Landulph\",\"Seabank\",\"Seabank\",\"Alverdiscott_Indian Queens\",\"Alverdiscott_Indian Queens\",\"Seabank\",\"Seabank\",\"Alverdiscott_Indian Queens\",\"Alverdiscott_Indian Queens\",\"Alverdiscott_Indian Queens\",\"Seabank\",\"Seabank\",\"Abham_Exeter _Landulph\",\"Abham_Exeter _Landulph\",\"Alverdiscott_Indian Queens\",\"Alverdiscott_Indian Queens\",\"Bridgwater_Taunton\",\"Bridgwater_Taunton\",\"Abham_Exeter _Landulph\",\"Abham_Exeter _Landulph\",\"Bridgwater_Taunton\",\"Bridgwater_Taunton\",\"Seabank\",\"Seabank\",\"Axminster\",\"Axminster\"],\"xaxis\":\"x\",\"yaxis\":\"y\",\"type\":\"histogram\"},{\"alignmentgroup\":\"True\",\"bingroup\":\"x\",\"hovertemplate\":\"Method_of_Earthing=Shared ASC / LER<br>GSP Group=%{x}<br>count=%{y}<extra></extra>\",\"legendgroup\":\"Shared ASC / LER\",\"marker\":{\"color\":\"#FF97FF\",\"pattern\":{\"shape\":\"\"}},\"name\":\"Shared ASC / LER\",\"offsetgroup\":\"Shared ASC / LER\",\"orientation\":\"v\",\"showlegend\":true,\"x\":[\"Alverdiscott_Indian Queens\",\"Alverdiscott_Indian Queens\"],\"xaxis\":\"x\",\"yaxis\":\"y\",\"type\":\"histogram\"},{\"alignmentgroup\":\"True\",\"bingroup\":\"x\",\"hovertemplate\":\"Method_of_Earthing=ASC<br>GSP Group=%{x}<br>count=%{y}<extra></extra>\",\"legendgroup\":\"ASC\",\"marker\":{\"color\":\"#FECB52\",\"pattern\":{\"shape\":\"\"}},\"name\":\"ASC\",\"offsetgroup\":\"ASC\",\"orientation\":\"v\",\"showlegend\":true,\"x\":[\"Alverdiscott_Indian Queens\",\"Alverdiscott_Indian Queens\",\"Alverdiscott_Indian Queens\",\"Alverdiscott_Indian Queens\",\"Alverdiscott_Indian Queens\",\"Alverdiscott_Indian Queens\",\"Alverdiscott_Indian Queens\",\"Alverdiscott_Indian Queens\",\"Alverdiscott_Indian Queens\",\"Alverdiscott_Indian Queens\",\"Alverdiscott_Indian Queens\",\"Abham_Exeter _Landulph\",\"Abham_Exeter _Landulph\",\"Alverdiscott_Indian Queens\"],\"xaxis\":\"x\",\"yaxis\":\"y\",\"type\":\"histogram\"},{\"alignmentgroup\":\"True\",\"bingroup\":\"x\",\"hovertemplate\":\"Method_of_Earthing=ET + ASC<br>GSP Group=%{x}<br>count=%{y}<extra></extra>\",\"legendgroup\":\"ET + ASC\",\"marker\":{\"color\":\"#636efa\",\"pattern\":{\"shape\":\"\"}},\"name\":\"ET + ASC\",\"offsetgroup\":\"ET + ASC\",\"orientation\":\"v\",\"showlegend\":true,\"x\":[\"Alverdiscott_Indian Queens\",\"Alverdiscott_Indian Queens\",\"Alverdiscott_Indian Queens\",\"Alverdiscott_Indian Queens\"],\"xaxis\":\"x\",\"yaxis\":\"y\",\"type\":\"histogram\"},{\"alignmentgroup\":\"True\",\"bingroup\":\"x\",\"hovertemplate\":\"Method_of_Earthing=Shared LER<br>GSP Group=%{x}<br>count=%{y}<extra></extra>\",\"legendgroup\":\"Shared LER\",\"marker\":{\"color\":\"#EF553B\",\"pattern\":{\"shape\":\"\"}},\"name\":\"Shared LER\",\"offsetgroup\":\"Shared LER\",\"orientation\":\"v\",\"showlegend\":true,\"x\":[\"Abham_Exeter _Landulph\",\"Abham_Exeter _Landulph\"],\"xaxis\":\"x\",\"yaxis\":\"y\",\"type\":\"histogram\"},{\"alignmentgroup\":\"True\",\"bingroup\":\"x\",\"hovertemplate\":\"Method_of_Earthing=-<br>GSP Group=%{x}<br>count=%{y}<extra></extra>\",\"legendgroup\":\"-\",\"marker\":{\"color\":\"#00cc96\",\"pattern\":{\"shape\":\"\"}},\"name\":\"-\",\"offsetgroup\":\"-\",\"orientation\":\"v\",\"showlegend\":true,\"x\":[\"Alverdiscott_Indian Queens\",\"Alverdiscott_Indian Queens\"],\"xaxis\":\"x\",\"yaxis\":\"y\",\"type\":\"histogram\"},{\"alignmentgroup\":\"True\",\"bingroup\":\"x\",\"hovertemplate\":\"Method_of_Earthing=Solid/ET+NER<br>GSP Group=%{x}<br>count=%{y}<extra></extra>\",\"legendgroup\":\"Solid/ET+NER\",\"marker\":{\"color\":\"#ab63fa\",\"pattern\":{\"shape\":\"\"}},\"name\":\"Solid/ET+NER\",\"offsetgroup\":\"Solid/ET+NER\",\"orientation\":\"v\",\"showlegend\":true,\"x\":[\"Berkswell 132kV\",\"Berkswell 132kV\",\"Berkswell 132kV\",\"Berkswell 132kV\",\"Berkswell 132kV\",\"Berkswell 132kV\",\"Berkswell 132kV\",\"Berkswell 132kV\",\"Berkswell 132kV\",\"Bicker Fen 132kV\",\"Bicker Fen 132kV\",\"Chesterfield 132kV\",\"Chesterfield 132kV\",\"Chesterfield 132kV\",\"Chesterfield 132kV\",\"Chesterfield 132kV\",\"Chesterfield 132kV\",\"Chesterfield 132kV\",\"Chesterfield 132kV\",\"Chesterfield 132kV\",\"Chesterfield 132kV\",\"Chesterfield 132kV\",\"Chesterfield 132kV\",\"Chesterfield 132kV\",\"Chesterfield 132kV\",\"Chesterfield 132kV\",\"Chesterfield 132kV\",\"Chesterfield 132kV\",\"Chesterfield 132kV\",\"Coventry 132kV\",\"Coventry 132kV\",\"Coventry 132kV\",\"Coventry 132kV\",\"Coventry 132kV\",\"Coventry 132kV\",\"Coventry 132kV\",\"Coventry 132kV\",\"Coventry 132kV\",\"Coventry 132kV\",\"Coventry 132kV\",\"Coventry 132kV\",\"Coventry 132kV\",\"Drakelow 132kV\",\"Drakelow 132kV\",\"Drakelow 132kV\",\"Drakelow 132kV\",\"East Claydon 132kV\",\"East Claydon 132kV\",\"East Claydon 132kV\",\"East Claydon 132kV\",\"East Claydon 132kV\",\"East Claydon 132kV\",\"East Claydon 132kV\",\"Enderby 132kV\",\"Enderby 132kV\",\"Enderby 132kV\",\"Enderby 132kV\",\"Enderby 132kV\",\"Enderby 132kV\",\"Enderby 132kV\",\"Grendon 132kV\",\"Grendon 132kV\",\"Grendon 132kV\",\"Grendon 132kV\",\"Grendon 132kV\",\"Grendon 132kV\",\"Grendon 132kV\",\"Grendon 132kV\",\"Grendon 132kV\",\"Grendon 132kV\",\"Grendon 132kV\",\"Grendon 132kV\",\"Grendon 132kV\",\"Grendon 132kV\",\"Lea Marston 132kV\",\"Lea Marston 132kV\",\"Lea Marston 132kV\",\"Lea Marston 132kV\",\"Ratcliffe 132kV\",\"Ratcliffe 132kV\",\"Ratcliffe 132kV\",\"Ratcliffe 132kV\",\"Ratcliffe 132kV\",\"Ratcliffe 132kV\",\"Ratcliffe 132kV\",\"Staythorpe 132kV\",\"Staythorpe 132kV\",\"Stoke Bardolph 132kV\",\"Stoke Bardolph 132kV\",\"Walpole 132kV\",\"Walpole 132kV\",\"Walpole 132kV\",\"Walpole 132kV\",\"Walpole 132kV\",\"Walpole 132kV\",\"Walpole 132kV\",\"West Burton 132kV\",\"West Burton 132kV\",\"West Burton 132kV\",\"West Burton 132kV\",\"Willington 132kV\",\"Willington 132kV\",\"Willington 132kV\",\"Willington 132kV\",\"Willington 132kV\",\"Willington 132kV\",\"Willington 132kV\",\"Willington 132kV\",\"Willington 132kV\",\"Willington 132kV\",\"Willington 132kV\",\"Willington 132kV\",\"Willington 132kV\",\"Willington 132kV\",\"Willington 132kV\"],\"xaxis\":\"x\",\"yaxis\":\"y\",\"type\":\"histogram\"},{\"alignmentgroup\":\"True\",\"bingroup\":\"x\",\"hovertemplate\":\"Method_of_Earthing=Solid/ET<br>GSP Group=%{x}<br>count=%{y}<extra></extra>\",\"legendgroup\":\"Solid/ET\",\"marker\":{\"color\":\"#FFA15A\",\"pattern\":{\"shape\":\"\"}},\"name\":\"Solid/ET\",\"offsetgroup\":\"Solid/ET\",\"orientation\":\"v\",\"showlegend\":true,\"x\":[\"Berkswell 132kV\",\"Berkswell 132kV\",\"Bicker Fen 132kV\",\"Bicker Fen 132kV\",\"Bicker Fen 132kV\",\"Bicker Fen 132kV\",\"Coventry 132kV\",\"East Claydon 132kV\",\"East Claydon 132kV\",\"East Claydon 132kV\",\"Enderby 132kV\",\"Enderby 132kV\",\"Enderby 132kV\",\"Grendon 132kV\",\"Grendon 132kV\",\"Grendon 132kV\",\"Grendon 132kV\",\"Grendon 132kV\",\"Grendon 132kV\",\"Grendon 132kV\",\"Ratcliffe 132kV\",\"Ratcliffe 132kV\",\"Ratcliffe 132kV\",\"Staythorpe 132kV\",\"Staythorpe 132kV\",\"Stoke Bardolph 132kV\",\"Stoke Bardolph 132kV\",\"Walpole 132kV\",\"Walpole 132kV\",\"West Burton 132kV\",\"Willington 132kV\",\"Willington 132kV\"],\"xaxis\":\"x\",\"yaxis\":\"y\",\"type\":\"histogram\"},{\"alignmentgroup\":\"True\",\"bingroup\":\"x\",\"hovertemplate\":\"Method_of_Earthing=Solid/NER<br>GSP Group=%{x}<br>count=%{y}<extra></extra>\",\"legendgroup\":\"Solid/NER\",\"marker\":{\"color\":\"#19d3f3\",\"pattern\":{\"shape\":\"\"}},\"name\":\"Solid/NER\",\"offsetgroup\":\"Solid/NER\",\"orientation\":\"v\",\"showlegend\":true,\"x\":[\"Berkswell 132kV\",\"Berkswell 132kV\",\"Berkswell 132kV\",\"Bicker Fen 132kV\",\"Bicker Fen 132kV\",\"Chesterfield 132kV\",\"Chesterfield 132kV\",\"Coventry 132kV\",\"Coventry 132kV\",\"Coventry 132kV\",\"Coventry 132kV\",\"Enderby 132kV\",\"Enderby 132kV\",\"Enderby 132kV\",\"Enderby 132kV\",\"Grendon 132kV\",\"Grendon 132kV\",\"Lea Marston 132kV\",\"Lea Marston 132kV\",\"Ratcliffe 132kV\",\"Ratcliffe 132kV\",\"Ratcliffe 132kV\",\"Ratcliffe 132kV\",\"Staythorpe 132kV\",\"Staythorpe 132kV\",\"Staythorpe 132kV\",\"Staythorpe 132kV\",\"West Burton 132kV\",\"West Burton 132kV\",\"West Burton 132kV\",\"WestBurton 132kV\",\"WestBurton 132kV\",\"Willington 132kV\",\"Willington 132kV\",\"Willington 132kV\",\"Willington 132kV\"],\"xaxis\":\"x\",\"yaxis\":\"y\",\"type\":\"histogram\"},{\"alignmentgroup\":\"True\",\"bingroup\":\"x\",\"hovertemplate\":\"Method_of_Earthing=TR<br>GSP Group=%{x}<br>count=%{y}<extra></extra>\",\"legendgroup\":\"TR\",\"marker\":{\"color\":\"#FF6692\",\"pattern\":{\"shape\":\"\"}},\"name\":\"TR\",\"offsetgroup\":\"TR\",\"orientation\":\"v\",\"showlegend\":true,\"x\":[\"Bishops Wood 132kV\",\"Bishops Wood 132kV\",\"Bishops Wood 132kV\",\"Bishops Wood 132kV\",\"Bishops Wood 132kV\",\"Bishops Wood 132kV\",\"Bishops Wood 132kV\",\"Bishops Wood 132kV\",\"Bishops Wood 132kV\",\"Bishops Wood 132kV\",\"Bishops Wood 132kV\",\"Bishops Wood 132kV\",\"Bishops Wood 132kV\",\"Bishops Wood 132kV\",\"Bishops Wood 132kV\",\"Bishops Wood 132kV\",\"Bushbury 132kV\",\"Bushbury 132kV\",\"Bushbury 132kV\",\"Bushbury 132kV\",\"Bushbury 132kV\",\"Bustleholm 132kV\",\"Bustleholm 132kV\",\"Bustleholm 132kV\",\"Bustleholm 132kV\",\"Bustleholm 132kV\",\"Bustleholm 132kV\",\"Bustleholm 132kV\",\"Bustleholm 132kV\",\"Bustleholm 132kV\",\"Bustleholm 132kV\",\"Bustleholm 132kV\",\"Bustleholm 132kV\",\"Cellarhead 132kV\",\"Cellarhead 132kV\",\"Cellarhead 132kV\",\"Cellarhead 132kV\",\"Cellarhead 132kV\",\"Iron Acton 132kV\",\"Iron Acton 132kV\",\"Iron Acton 132kV\",\"Iron Acton 132kV\",\"Iron Acton 132kV\",\"Iron Acton 132kV\",\"Ironbridge & Shrewsbury 132kV\",\"Ironbridge & Shrewsbury 132kV\",\"Ironbridge & Shrewsbury 132kV\",\"Ironbridge & Shrewsbury 132kV\",\"Kitwell 132kV\",\"Kitwell 132kV\",\"Kitwell 132kV\",\"Kitwell 132kV\",\"Kitwell 132kV\",\"Kitwell 132kV\",\"Kitwell 132kV\",\"Kitwell 132kV\",\"Kitwell 132kV\",\"Kitwell 132kV\",\"Kitwell 132kV\",\"Kitwell 132kV\",\"Kitwell 132kV\",\"Kitwell 132kV\",\"Kitwell 132kV\",\"Kitwell 132kV\",\"Lea Marston 132kV\",\"Lea Marston 132kV\",\"Lea Marston 132kV\",\"Lea Marston 132kV\",\"Lea Marston 132kV\",\"Lea Marston 132kV\",\"Lea Marston 132kV\",\"Nechells 132kV\",\"Nechells 132kV\",\"Nechells 132kV\",\"Nechells 132kV\",\"Nechells 132kV\",\"Nechells 132kV\",\"Ocker Hill 132kV\",\"Ocker Hill 132kV\",\"Ocker Hill 132kV\",\"Ocker Hill 132kV\",\"Ocker Hill 132kV\",\"Oldbury 132kV\",\"Oldbury 132kV\",\"Oldbury 132kV\",\"Penn 132kV\",\"Penn 132kV\",\"Penn 132kV\",\"Penn 132kV\",\"Penn 132kV\",\"Penn 132kV\",\"Penn 132kV\",\"Penn 132kV\",\"Penn 132kV\",\"Penn 132kV\",\"Penn 132kV\",\"Penn 132kV\",\"Penn 132kV\",\"Penn 132kV\",\"Port Ham 132kV\",\"Port Ham 132kV\",\"Port Ham 132kV\",\"Port Ham 132kV\",\"Port Ham 132kV\",\"Port Ham 132kV\",\"Port Ham 132kV\",\"Port Ham 132kV\",\"Port Ham 132kV\",\"Port Ham 132kV\",\"Port Ham 132kV\",\"Port Ham 132kV\",\"Rugeley 132kV\",\"Rugeley 132kV\",\"Willenhall 132kV\",\"Willenhall 132kV\",\"Willenhall 132kV\"],\"xaxis\":\"x\",\"yaxis\":\"y\",\"type\":\"histogram\"},{\"alignmentgroup\":\"True\",\"bingroup\":\"x\",\"hovertemplate\":\"Method_of_Earthing=T<br>GSP Group=%{x}<br>count=%{y}<extra></extra>\",\"legendgroup\":\"T\",\"marker\":{\"color\":\"#B6E880\",\"pattern\":{\"shape\":\"\"}},\"name\":\"T\",\"offsetgroup\":\"T\",\"orientation\":\"v\",\"showlegend\":true,\"x\":[\"Bishops Wood 132kV\",\"Bishops Wood 132kV\",\"Cellarhead 132kV\",\"Cellarhead 132kV\",\"Ironbridge & Shrewsbury 132kV\"],\"xaxis\":\"x\",\"yaxis\":\"y\",\"type\":\"histogram\"},{\"alignmentgroup\":\"True\",\"bingroup\":\"x\",\"hovertemplate\":\"Method_of_Earthing=TD<br>GSP Group=%{x}<br>count=%{y}<extra></extra>\",\"legendgroup\":\"TD\",\"marker\":{\"color\":\"#FF97FF\",\"pattern\":{\"shape\":\"\"}},\"name\":\"TD\",\"offsetgroup\":\"TD\",\"orientation\":\"v\",\"showlegend\":true,\"x\":[\"Bishops Wood 132kV\",\"Bishops Wood 132kV\",\"Bustleholm 132kV\",\"Bustleholm 132kV\",\"Bustleholm 132kV\",\"Bustleholm 132kV\",\"Bustleholm 132kV\",\"Cellarhead 132kV\",\"Cellarhead 132kV\",\"Cellarhead 132kV\",\"Ironbridge & Shrewsbury 132kV\",\"Ironbridge & Shrewsbury 132kV\",\"Ironbridge & Shrewsbury 132kV\",\"Ironbridge & Shrewsbury 132kV\",\"Kitwell 132kV\",\"Oldbury 132kV\",\"Oldbury 132kV\",\"Port Ham 132kV\",\"Port Ham 132kV\"],\"xaxis\":\"x\",\"yaxis\":\"y\",\"type\":\"histogram\"},{\"alignmentgroup\":\"True\",\"bingroup\":\"x\",\"hovertemplate\":\"Method_of_Earthing=R<br>GSP Group=%{x}<br>count=%{y}<extra></extra>\",\"legendgroup\":\"R\",\"marker\":{\"color\":\"#FECB52\",\"pattern\":{\"shape\":\"\"}},\"name\":\"R\",\"offsetgroup\":\"R\",\"orientation\":\"v\",\"showlegend\":true,\"x\":[\"Bishops Wood 132kV\",\"Bishops Wood 132kV\",\"Bishops Wood 132kV\",\"Bishops Wood 132kV\",\"Bishops Wood 132kV\",\"Bishops Wood 132kV\",\"Bishops Wood 132kV\",\"Bishops Wood 132kV\",\"Bishops Wood 132kV\",\"Bishops Wood 132kV\",\"Bishops Wood 132kV\",\"Bishops Wood 132kV\",\"Bishops Wood 132kV\",\"Bishops Wood 132kV\",\"Bishops Wood 132kV\",\"Bishops Wood 132kV\",\"Bishops Wood 132kV\",\"Bishops Wood 132kV\",\"Bushbury 132kV\",\"Bushbury 132kV\",\"Bushbury 132kV\",\"Cellarhead 132kV\",\"Cellarhead 132kV\",\"Cellarhead 132kV\",\"Cellarhead 132kV\",\"Cellarhead 132kV\",\"Cellarhead 132kV\",\"Cellarhead 132kV\",\"Cellarhead 132kV\",\"Cellarhead 132kV\",\"Cellarhead 132kV\",\"Cellarhead 132kV\",\"Cellarhead 132kV\",\"Cellarhead 132kV\",\"Cellarhead 132kV\",\"Cellarhead 132kV\",\"Feckenham 66kV\",\"Feckenham 66kV\",\"Feckenham 66kV\",\"Feckenham 66kV\",\"Feckenham 66kV\",\"Feckenham 66kV\",\"Feckenham 66kV\",\"Feckenham 66kV\",\"Feckenham 66kV\",\"Feckenham 66kV\",\"Feckenham 66kV\",\"Feckenham 66kV\",\"Feckenham 66kV\",\"Feckenham 66kV\",\"Feckenham 66kV\",\"Iron Acton 132kV\",\"Iron Acton 132kV\",\"Iron Acton 132kV\",\"Iron Acton 132kV\",\"Iron Acton 132kV\",\"Iron Acton 132kV\",\"Iron Acton 132kV\",\"Ironbridge & Shrewsbury 132kV\",\"Ironbridge & Shrewsbury 132kV\",\"Ironbridge & Shrewsbury 132kV\",\"Ironbridge & Shrewsbury 132kV\",\"Ironbridge & Shrewsbury 132kV\",\"Ironbridge & Shrewsbury 132kV\",\"Ironbridge & Shrewsbury 132kV\",\"Ironbridge & Shrewsbury 132kV\",\"Oldbury 132kV\",\"Penn 132kV\",\"Penn 132kV\",\"Penn 132kV\",\"Port Ham 132kV\",\"Port Ham 132kV\",\"Port Ham 132kV\",\"Port Ham 132kV\",\"Port Ham 132kV\",\"Port Ham 132kV\",\"Port Ham 132kV\",\"Port Ham 132kV\",\"Port Ham 132kV\",\"Port Ham 132kV\"],\"xaxis\":\"x\",\"yaxis\":\"y\",\"type\":\"histogram\"},{\"alignmentgroup\":\"True\",\"bingroup\":\"x\",\"hovertemplate\":\"Method_of_Earthing=D<br>GSP Group=%{x}<br>count=%{y}<extra></extra>\",\"legendgroup\":\"D\",\"marker\":{\"color\":\"#636efa\",\"pattern\":{\"shape\":\"\"}},\"name\":\"D\",\"offsetgroup\":\"D\",\"orientation\":\"v\",\"showlegend\":true,\"x\":[\"Bishops Wood 132kV\",\"Bishops Wood 132kV\",\"Bishops Wood 132kV\",\"Bishops Wood 132kV\",\"Bishops Wood 132kV\",\"Bishops Wood 132kV\",\"Bishops Wood 132kV\",\"Bishops Wood 132kV\",\"Bishops Wood 132kV\",\"Cellarhead 132kV\",\"Feckenham 66kV\",\"Feckenham 66kV\",\"Ironbridge & Shrewsbury 132kV\",\"Port Ham 132kV\"],\"xaxis\":\"x\",\"yaxis\":\"y\",\"type\":\"histogram\"},{\"alignmentgroup\":\"True\",\"bingroup\":\"x\",\"hovertemplate\":\"Method_of_Earthing=SR<br>GSP Group=%{x}<br>count=%{y}<extra></extra>\",\"legendgroup\":\"SR\",\"marker\":{\"color\":\"#EF553B\",\"pattern\":{\"shape\":\"\"}},\"name\":\"SR\",\"offsetgroup\":\"SR\",\"orientation\":\"v\",\"showlegend\":true,\"x\":[\"Bishops Wood 132kV\",\"Bishops Wood 132kV\",\"Bishops Wood 132kV\",\"Bishops Wood 132kV\",\"Bishops Wood 132kV\",\"Bishops Wood 132kV\",\"Bishops Wood 132kV\",\"Bishops Wood 132kV\",\"Bishops Wood 132kV\",\"Bishops Wood 132kV\",\"Bishops Wood 132kV\",\"Bishops Wood 132kV\",\"Bishops Wood 132kV\",\"Bishops Wood 132kV\",\"Bishops Wood 132kV\",\"Bishops Wood 132kV\",\"Bishops Wood 132kV\",\"Bishops Wood 132kV\",\"Bishops Wood 132kV\",\"Bishops Wood 132kV\",\"Bishops Wood 132kV\",\"Bishops Wood 132kV\",\"Bishops Wood 132kV\",\"Bishops Wood 132kV\",\"Bishops Wood 132kV\",\"Bishops Wood 132kV\",\"Bishops Wood 132kV\",\"Bishops Wood 132kV\",\"Bushbury 132kV\",\"Bushbury 132kV\",\"Bushbury 132kV\",\"Bushbury 132kV\",\"Cellarhead 132kV\",\"Cellarhead 132kV\",\"Cellarhead 132kV\",\"Cellarhead 132kV\",\"Cellarhead 132kV\",\"Cellarhead 132kV\",\"Cellarhead 132kV\",\"Cellarhead 132kV\",\"Cellarhead 132kV\",\"Cellarhead 132kV\",\"Cellarhead 132kV\",\"Cellarhead 132kV\",\"Cellarhead 132kV\",\"Cellarhead 132kV\",\"Cellarhead 132kV\",\"Cellarhead 132kV\",\"Cellarhead 132kV\",\"Cellarhead 132kV\",\"Cellarhead 132kV\",\"Cellarhead 132kV\",\"Cellarhead 132kV\",\"Cellarhead 132kV\",\"Cellarhead 132kV\",\"Cellarhead 132kV\",\"Cellarhead 132kV\",\"Cellarhead 132kV\",\"Cellarhead 132kV\",\"Cellarhead 132kV\",\"Cellarhead 132kV\",\"Cellarhead 132kV\",\"Cellarhead 132kV\",\"Cellarhead 132kV\",\"Cellarhead 132kV\",\"Feckenham 66kV\",\"Feckenham 66kV\",\"Feckenham 66kV\",\"Feckenham 66kV\",\"Feckenham 66kV\",\"Feckenham 66kV\",\"Feckenham 66kV\",\"Feckenham 66kV\",\"Feckenham 66kV\",\"Feckenham 66kV\",\"Feckenham 66kV\",\"Feckenham 66kV\",\"Feckenham 66kV\",\"Feckenham 66kV\",\"Feckenham 66kV\",\"Feckenham 66kV\",\"Feckenham 66kV\",\"Feckenham 66kV\",\"Feckenham 66kV\",\"Feckenham 66kV\",\"Feckenham 66kV\",\"Feckenham 66kV\",\"Feckenham 66kV\",\"Feckenham 66kV\",\"Feckenham 66kV\",\"Feckenham 66kV\",\"Feckenham 66kV\",\"Iron Acton 132kV\",\"Iron Acton 132kV\",\"Iron Acton 132kV\",\"Iron Acton 132kV\",\"Iron Acton 132kV\",\"Iron Acton 132kV\",\"Iron Acton 132kV\",\"Iron Acton 132kV\",\"Iron Acton 132kV\",\"Iron Acton 132kV\",\"Iron Acton 132kV\",\"Iron Acton 132kV\",\"Iron Acton 132kV\",\"Iron Acton 132kV\",\"Iron Acton 132kV\",\"Iron Acton 132kV\",\"Iron Acton 132kV\",\"Iron Acton 132kV\",\"Iron Acton 132kV\",\"Iron Acton 132kV\",\"Ironbridge & Shrewsbury 132kV\",\"Ironbridge & Shrewsbury 132kV\",\"Ironbridge & Shrewsbury 132kV\",\"Ironbridge & Shrewsbury 132kV\",\"Ironbridge & Shrewsbury 132kV\",\"Ironbridge & Shrewsbury 132kV\",\"Ironbridge & Shrewsbury 132kV\",\"Ironbridge & Shrewsbury 132kV\",\"Ironbridge & Shrewsbury 132kV\",\"Ironbridge & Shrewsbury 132kV\",\"Ironbridge & Shrewsbury 132kV\",\"Ironbridge & Shrewsbury 132kV\",\"Ironbridge & Shrewsbury 132kV\",\"Ironbridge & Shrewsbury 132kV\",\"Ironbridge & Shrewsbury 132kV\",\"Ironbridge & Shrewsbury 132kV\",\"Ironbridge & Shrewsbury 132kV\",\"Ironbridge & Shrewsbury 132kV\",\"Ironbridge & Shrewsbury 132kV\",\"Ironbridge & Shrewsbury 132kV\",\"Ironbridge & Shrewsbury 132kV\",\"Ironbridge & Shrewsbury 132kV\",\"Ironbridge & Shrewsbury 132kV\",\"Ironbridge & Shrewsbury 132kV\",\"Ironbridge & Shrewsbury 132kV\",\"Ironbridge & Shrewsbury 132kV\",\"Ironbridge & Shrewsbury 132kV\",\"Ironbridge & Shrewsbury 132kV\",\"Ironbridge & Shrewsbury 132kV\",\"Ironbridge & Shrewsbury 132kV\",\"Ironbridge & Shrewsbury 132kV\",\"Ironbridge & Shrewsbury 132kV\",\"Ironbridge & Shrewsbury 132kV\",\"Ironbridge & Shrewsbury 132kV\",\"Ironbridge & Shrewsbury 132kV\",\"Ironbridge & Shrewsbury 132kV\",\"Ironbridge & Shrewsbury 132kV\",\"Ironbridge & Shrewsbury 132kV\",\"Penn 132kV\",\"Penn 132kV\",\"Penn 132kV\",\"Penn 132kV\",\"Port Ham 132kV\",\"Port Ham 132kV\",\"Port Ham 132kV\",\"Port Ham 132kV\",\"Port Ham 132kV\",\"Port Ham 132kV\",\"Port Ham 132kV\",\"Port Ham 132kV\",\"Port Ham 132kV\",\"Port Ham 132kV\",\"Port Ham 132kV\",\"Port Ham 132kV\",\"Port Ham 132kV\",\"Port Ham 132kV\",\"Port Ham 132kV\",\"Port Ham 132kV\",\"Port Ham 132kV\",\"Port Ham 132kV\",\"Port Ham 132kV\",\"Port Ham 132kV\",\"Port Ham 132kV\",\"Port Ham 132kV\",\"Port Ham 132kV\",\"Port Ham 132kV\",\"Port Ham 132kV\",\"Port Ham 132kV\",\"Port Ham 132kV\",\"Port Ham 132kV\",\"Port Ham 132kV\"],\"xaxis\":\"x\",\"yaxis\":\"y\",\"type\":\"histogram\"},{\"alignmentgroup\":\"True\",\"bingroup\":\"x\",\"hovertemplate\":\"Method_of_Earthing=X<br>GSP Group=%{x}<br>count=%{y}<extra></extra>\",\"legendgroup\":\"X\",\"marker\":{\"color\":\"#00cc96\",\"pattern\":{\"shape\":\"\"}},\"name\":\"X\",\"offsetgroup\":\"X\",\"orientation\":\"v\",\"showlegend\":true,\"x\":[\"Bishops Wood 132kV\",\"Bishops Wood 132kV\",\"Bishops Wood 132kV\",\"Bishops Wood 132kV\",\"Bishops Wood 132kV\",\"Bishops Wood 132kV\",\"Bishops Wood 132kV\",\"Bishops Wood 132kV\",\"Bishops Wood 132kV\",\"Bishops Wood 132kV\",\"Bishops Wood 132kV\",\"Cellarhead 132kV\",\"Cellarhead 132kV\",\"Feckenham 66kV\",\"Feckenham 66kV\",\"Feckenham 66kV\",\"Iron Acton 132kV\",\"Iron Acton 132kV\",\"Ironbridge & Shrewsbury 132kV\",\"Ironbridge & Shrewsbury 132kV\",\"Ironbridge & Shrewsbury 132kV\",\"Ironbridge & Shrewsbury 132kV\",\"Ironbridge & Shrewsbury 132kV\",\"Penn 132kV\",\"Port Ham 132kV\",\"Port Ham 132kV\",\"Port Ham 132kV\",\"Port Ham 132kV\",\"Port Ham 132kV\",\"Port Ham 132kV\",\"Port Ham 132kV\",\"Port Ham 132kV\",\"Port Ham 132kV\",\"Port Ham 132kV\",\"Port Ham 132kV\",\"Port Ham 132kV\",\"Willenhall 132kV\"],\"xaxis\":\"x\",\"yaxis\":\"y\",\"type\":\"histogram\"},{\"alignmentgroup\":\"True\",\"bingroup\":\"x\",\"hovertemplate\":\"Method_of_Earthing=SX<br>GSP Group=%{x}<br>count=%{y}<extra></extra>\",\"legendgroup\":\"SX\",\"marker\":{\"color\":\"#ab63fa\",\"pattern\":{\"shape\":\"\"}},\"name\":\"SX\",\"offsetgroup\":\"SX\",\"orientation\":\"v\",\"showlegend\":true,\"x\":[\"Feckenham 66kV\",\"Feckenham 66kV\"],\"xaxis\":\"x\",\"yaxis\":\"y\",\"type\":\"histogram\"},{\"alignmentgroup\":\"True\",\"bingroup\":\"x\",\"hovertemplate\":\"Method_of_Earthing=TX<br>GSP Group=%{x}<br>count=%{y}<extra></extra>\",\"legendgroup\":\"TX\",\"marker\":{\"color\":\"#FFA15A\",\"pattern\":{\"shape\":\"\"}},\"name\":\"TX\",\"offsetgroup\":\"TX\",\"orientation\":\"v\",\"showlegend\":true,\"x\":[\"Rugeley 132kV\",\"Willenhall 132kV\"],\"xaxis\":\"x\",\"yaxis\":\"y\",\"type\":\"histogram\"}],                        {\"template\":{\"data\":{\"histogram2dcontour\":[{\"type\":\"histogram2dcontour\",\"colorbar\":{\"outlinewidth\":0,\"ticks\":\"\"},\"colorscale\":[[0.0,\"#0d0887\"],[0.1111111111111111,\"#46039f\"],[0.2222222222222222,\"#7201a8\"],[0.3333333333333333,\"#9c179e\"],[0.4444444444444444,\"#bd3786\"],[0.5555555555555556,\"#d8576b\"],[0.6666666666666666,\"#ed7953\"],[0.7777777777777778,\"#fb9f3a\"],[0.8888888888888888,\"#fdca26\"],[1.0,\"#f0f921\"]]}],\"choropleth\":[{\"type\":\"choropleth\",\"colorbar\":{\"outlinewidth\":0,\"ticks\":\"\"}}],\"histogram2d\":[{\"type\":\"histogram2d\",\"colorbar\":{\"outlinewidth\":0,\"ticks\":\"\"},\"colorscale\":[[0.0,\"#0d0887\"],[0.1111111111111111,\"#46039f\"],[0.2222222222222222,\"#7201a8\"],[0.3333333333333333,\"#9c179e\"],[0.4444444444444444,\"#bd3786\"],[0.5555555555555556,\"#d8576b\"],[0.6666666666666666,\"#ed7953\"],[0.7777777777777778,\"#fb9f3a\"],[0.8888888888888888,\"#fdca26\"],[1.0,\"#f0f921\"]]}],\"heatmap\":[{\"type\":\"heatmap\",\"colorbar\":{\"outlinewidth\":0,\"ticks\":\"\"},\"colorscale\":[[0.0,\"#0d0887\"],[0.1111111111111111,\"#46039f\"],[0.2222222222222222,\"#7201a8\"],[0.3333333333333333,\"#9c179e\"],[0.4444444444444444,\"#bd3786\"],[0.5555555555555556,\"#d8576b\"],[0.6666666666666666,\"#ed7953\"],[0.7777777777777778,\"#fb9f3a\"],[0.8888888888888888,\"#fdca26\"],[1.0,\"#f0f921\"]]}],\"heatmapgl\":[{\"type\":\"heatmapgl\",\"colorbar\":{\"outlinewidth\":0,\"ticks\":\"\"},\"colorscale\":[[0.0,\"#0d0887\"],[0.1111111111111111,\"#46039f\"],[0.2222222222222222,\"#7201a8\"],[0.3333333333333333,\"#9c179e\"],[0.4444444444444444,\"#bd3786\"],[0.5555555555555556,\"#d8576b\"],[0.6666666666666666,\"#ed7953\"],[0.7777777777777778,\"#fb9f3a\"],[0.8888888888888888,\"#fdca26\"],[1.0,\"#f0f921\"]]}],\"contourcarpet\":[{\"type\":\"contourcarpet\",\"colorbar\":{\"outlinewidth\":0,\"ticks\":\"\"}}],\"contour\":[{\"type\":\"contour\",\"colorbar\":{\"outlinewidth\":0,\"ticks\":\"\"},\"colorscale\":[[0.0,\"#0d0887\"],[0.1111111111111111,\"#46039f\"],[0.2222222222222222,\"#7201a8\"],[0.3333333333333333,\"#9c179e\"],[0.4444444444444444,\"#bd3786\"],[0.5555555555555556,\"#d8576b\"],[0.6666666666666666,\"#ed7953\"],[0.7777777777777778,\"#fb9f3a\"],[0.8888888888888888,\"#fdca26\"],[1.0,\"#f0f921\"]]}],\"surface\":[{\"type\":\"surface\",\"colorbar\":{\"outlinewidth\":0,\"ticks\":\"\"},\"colorscale\":[[0.0,\"#0d0887\"],[0.1111111111111111,\"#46039f\"],[0.2222222222222222,\"#7201a8\"],[0.3333333333333333,\"#9c179e\"],[0.4444444444444444,\"#bd3786\"],[0.5555555555555556,\"#d8576b\"],[0.6666666666666666,\"#ed7953\"],[0.7777777777777778,\"#fb9f3a\"],[0.8888888888888888,\"#fdca26\"],[1.0,\"#f0f921\"]]}],\"mesh3d\":[{\"type\":\"mesh3d\",\"colorbar\":{\"outlinewidth\":0,\"ticks\":\"\"}}],\"scatter\":[{\"fillpattern\":{\"fillmode\":\"overlay\",\"size\":10,\"solidity\":0.2},\"type\":\"scatter\"}],\"parcoords\":[{\"type\":\"parcoords\",\"line\":{\"colorbar\":{\"outlinewidth\":0,\"ticks\":\"\"}}}],\"scatterpolargl\":[{\"type\":\"scatterpolargl\",\"marker\":{\"colorbar\":{\"outlinewidth\":0,\"ticks\":\"\"}}}],\"bar\":[{\"error_x\":{\"color\":\"#2a3f5f\"},\"error_y\":{\"color\":\"#2a3f5f\"},\"marker\":{\"line\":{\"color\":\"#E5ECF6\",\"width\":0.5},\"pattern\":{\"fillmode\":\"overlay\",\"size\":10,\"solidity\":0.2}},\"type\":\"bar\"}],\"scattergeo\":[{\"type\":\"scattergeo\",\"marker\":{\"colorbar\":{\"outlinewidth\":0,\"ticks\":\"\"}}}],\"scatterpolar\":[{\"type\":\"scatterpolar\",\"marker\":{\"colorbar\":{\"outlinewidth\":0,\"ticks\":\"\"}}}],\"histogram\":[{\"marker\":{\"pattern\":{\"fillmode\":\"overlay\",\"size\":10,\"solidity\":0.2}},\"type\":\"histogram\"}],\"scattergl\":[{\"type\":\"scattergl\",\"marker\":{\"colorbar\":{\"outlinewidth\":0,\"ticks\":\"\"}}}],\"scatter3d\":[{\"type\":\"scatter3d\",\"line\":{\"colorbar\":{\"outlinewidth\":0,\"ticks\":\"\"}},\"marker\":{\"colorbar\":{\"outlinewidth\":0,\"ticks\":\"\"}}}],\"scattermapbox\":[{\"type\":\"scattermapbox\",\"marker\":{\"colorbar\":{\"outlinewidth\":0,\"ticks\":\"\"}}}],\"scatterternary\":[{\"type\":\"scatterternary\",\"marker\":{\"colorbar\":{\"outlinewidth\":0,\"ticks\":\"\"}}}],\"scattercarpet\":[{\"type\":\"scattercarpet\",\"marker\":{\"colorbar\":{\"outlinewidth\":0,\"ticks\":\"\"}}}],\"carpet\":[{\"aaxis\":{\"endlinecolor\":\"#2a3f5f\",\"gridcolor\":\"white\",\"linecolor\":\"white\",\"minorgridcolor\":\"white\",\"startlinecolor\":\"#2a3f5f\"},\"baxis\":{\"endlinecolor\":\"#2a3f5f\",\"gridcolor\":\"white\",\"linecolor\":\"white\",\"minorgridcolor\":\"white\",\"startlinecolor\":\"#2a3f5f\"},\"type\":\"carpet\"}],\"table\":[{\"cells\":{\"fill\":{\"color\":\"#EBF0F8\"},\"line\":{\"color\":\"white\"}},\"header\":{\"fill\":{\"color\":\"#C8D4E3\"},\"line\":{\"color\":\"white\"}},\"type\":\"table\"}],\"barpolar\":[{\"marker\":{\"line\":{\"color\":\"#E5ECF6\",\"width\":0.5},\"pattern\":{\"fillmode\":\"overlay\",\"size\":10,\"solidity\":0.2}},\"type\":\"barpolar\"}],\"pie\":[{\"automargin\":true,\"type\":\"pie\"}]},\"layout\":{\"autotypenumbers\":\"strict\",\"colorway\":[\"#636efa\",\"#EF553B\",\"#00cc96\",\"#ab63fa\",\"#FFA15A\",\"#19d3f3\",\"#FF6692\",\"#B6E880\",\"#FF97FF\",\"#FECB52\"],\"font\":{\"color\":\"#2a3f5f\"},\"hovermode\":\"closest\",\"hoverlabel\":{\"align\":\"left\"},\"paper_bgcolor\":\"white\",\"plot_bgcolor\":\"#E5ECF6\",\"polar\":{\"bgcolor\":\"#E5ECF6\",\"angularaxis\":{\"gridcolor\":\"white\",\"linecolor\":\"white\",\"ticks\":\"\"},\"radialaxis\":{\"gridcolor\":\"white\",\"linecolor\":\"white\",\"ticks\":\"\"}},\"ternary\":{\"bgcolor\":\"#E5ECF6\",\"aaxis\":{\"gridcolor\":\"white\",\"linecolor\":\"white\",\"ticks\":\"\"},\"baxis\":{\"gridcolor\":\"white\",\"linecolor\":\"white\",\"ticks\":\"\"},\"caxis\":{\"gridcolor\":\"white\",\"linecolor\":\"white\",\"ticks\":\"\"}},\"coloraxis\":{\"colorbar\":{\"outlinewidth\":0,\"ticks\":\"\"}},\"colorscale\":{\"sequential\":[[0.0,\"#0d0887\"],[0.1111111111111111,\"#46039f\"],[0.2222222222222222,\"#7201a8\"],[0.3333333333333333,\"#9c179e\"],[0.4444444444444444,\"#bd3786\"],[0.5555555555555556,\"#d8576b\"],[0.6666666666666666,\"#ed7953\"],[0.7777777777777778,\"#fb9f3a\"],[0.8888888888888888,\"#fdca26\"],[1.0,\"#f0f921\"]],\"sequentialminus\":[[0.0,\"#0d0887\"],[0.1111111111111111,\"#46039f\"],[0.2222222222222222,\"#7201a8\"],[0.3333333333333333,\"#9c179e\"],[0.4444444444444444,\"#bd3786\"],[0.5555555555555556,\"#d8576b\"],[0.6666666666666666,\"#ed7953\"],[0.7777777777777778,\"#fb9f3a\"],[0.8888888888888888,\"#fdca26\"],[1.0,\"#f0f921\"]],\"diverging\":[[0,\"#8e0152\"],[0.1,\"#c51b7d\"],[0.2,\"#de77ae\"],[0.3,\"#f1b6da\"],[0.4,\"#fde0ef\"],[0.5,\"#f7f7f7\"],[0.6,\"#e6f5d0\"],[0.7,\"#b8e186\"],[0.8,\"#7fbc41\"],[0.9,\"#4d9221\"],[1,\"#276419\"]]},\"xaxis\":{\"gridcolor\":\"white\",\"linecolor\":\"white\",\"ticks\":\"\",\"title\":{\"standoff\":15},\"zerolinecolor\":\"white\",\"automargin\":true,\"zerolinewidth\":2},\"yaxis\":{\"gridcolor\":\"white\",\"linecolor\":\"white\",\"ticks\":\"\",\"title\":{\"standoff\":15},\"zerolinecolor\":\"white\",\"automargin\":true,\"zerolinewidth\":2},\"scene\":{\"xaxis\":{\"backgroundcolor\":\"#E5ECF6\",\"gridcolor\":\"white\",\"linecolor\":\"white\",\"showbackground\":true,\"ticks\":\"\",\"zerolinecolor\":\"white\",\"gridwidth\":2},\"yaxis\":{\"backgroundcolor\":\"#E5ECF6\",\"gridcolor\":\"white\",\"linecolor\":\"white\",\"showbackground\":true,\"ticks\":\"\",\"zerolinecolor\":\"white\",\"gridwidth\":2},\"zaxis\":{\"backgroundcolor\":\"#E5ECF6\",\"gridcolor\":\"white\",\"linecolor\":\"white\",\"showbackground\":true,\"ticks\":\"\",\"zerolinecolor\":\"white\",\"gridwidth\":2}},\"shapedefaults\":{\"line\":{\"color\":\"#2a3f5f\"}},\"annotationdefaults\":{\"arrowcolor\":\"#2a3f5f\",\"arrowhead\":0,\"arrowwidth\":1},\"geo\":{\"bgcolor\":\"white\",\"landcolor\":\"#E5ECF6\",\"subunitcolor\":\"white\",\"showland\":true,\"showlakes\":true,\"lakecolor\":\"white\"},\"title\":{\"x\":0.05},\"mapbox\":{\"style\":\"light\"}}},\"xaxis\":{\"anchor\":\"y\",\"domain\":[0.0,1.0],\"title\":{\"text\":\"GSP Group\"}},\"yaxis\":{\"anchor\":\"x\",\"domain\":[0.0,1.0],\"title\":{\"text\":\"count\"}},\"legend\":{\"title\":{\"text\":\"Method_of_Earthing\"},\"tracegroupgap\":0},\"title\":{\"text\":\"GSP Group / Method of Earthing \"},\"barmode\":\"relative\"},                        {\"responsive\": true}                    ).then(function(){\n",
              "                            \n",
              "var gd = document.getElementById('5c4c17c8-4d22-4e45-8431-f99f85f87103');\n",
              "var x = new MutationObserver(function (mutations, observer) {{\n",
              "        var display = window.getComputedStyle(gd).display;\n",
              "        if (!display || display === 'none') {{\n",
              "            console.log([gd, 'removed!']);\n",
              "            Plotly.purge(gd);\n",
              "            observer.disconnect();\n",
              "        }}\n",
              "}});\n",
              "\n",
              "// Listen for the removal of the full notebook cells\n",
              "var notebookContainer = gd.closest('#notebook-container');\n",
              "if (notebookContainer) {{\n",
              "    x.observe(notebookContainer, {childList: true});\n",
              "}}\n",
              "\n",
              "// Listen for the clearing of the current output cell\n",
              "var outputEl = gd.closest('.output');\n",
              "if (outputEl) {{\n",
              "    x.observe(outputEl, {childList: true});\n",
              "}}\n",
              "\n",
              "                        })                };                            </script>        </div>\n",
              "</body>\n",
              "</html>"
            ]
          },
          "metadata": {}
        }
      ]
    },
    {
      "cell_type": "code",
      "source": [
        "nof= px.histogram(dset2, x='Vector Group', color=\"Method_of_Earthing\", title=\"Vector Group / Method of Earthing \")\n",
        "nof.show()"
      ],
      "metadata": {
        "colab": {
          "base_uri": "https://localhost:8080/",
          "height": 542
        },
        "id": "fJq7k5YrmcwE",
        "outputId": "bdbd12ce-e69e-4d93-8381-a3200fef5804"
      },
      "execution_count": 216,
      "outputs": [
        {
          "output_type": "display_data",
          "data": {
            "text/html": [
              "<html>\n",
              "<head><meta charset=\"utf-8\" /></head>\n",
              "<body>\n",
              "    <div>            <script src=\"https://cdnjs.cloudflare.com/ajax/libs/mathjax/2.7.5/MathJax.js?config=TeX-AMS-MML_SVG\"></script><script type=\"text/javascript\">if (window.MathJax && window.MathJax.Hub && window.MathJax.Hub.Config) {window.MathJax.Hub.Config({SVG: {font: \"STIX-Web\"}});}</script>                <script type=\"text/javascript\">window.PlotlyConfig = {MathJaxConfig: 'local'};</script>\n",
              "        <script src=\"https://cdn.plot.ly/plotly-2.18.2.min.js\"></script>                <div id=\"179db1e9-677a-4ab5-8efd-d74d7bd5d95a\" class=\"plotly-graph-div\" style=\"height:525px; width:100%;\"></div>            <script type=\"text/javascript\">                                    window.PLOTLYENV=window.PLOTLYENV || {};                                    if (document.getElementById(\"179db1e9-677a-4ab5-8efd-d74d7bd5d95a\")) {                    Plotly.newPlot(                        \"179db1e9-677a-4ab5-8efd-d74d7bd5d95a\",                        [{\"alignmentgroup\":\"True\",\"bingroup\":\"x\",\"hovertemplate\":\"Method_of_Earthing=Earth Tx<br>Vector Group=%{x}<br>count=%{y}<extra></extra>\",\"legendgroup\":\"Earth Tx\",\"marker\":{\"color\":\"#636efa\",\"pattern\":{\"shape\":\"\"}},\"name\":\"Earth Tx\",\"offsetgroup\":\"Earth Tx\",\"orientation\":\"v\",\"showlegend\":true,\"x\":[\"YNd\",\"YNd\",\"YNd\",\"YNd\",\"YNd\",\"YNd\",\"YNd\",\"YNd\",\"YNd\",\"YNd\",\"YNd\",\"YNd\",\"YNd\",\"YNd\",\"YNd\",\"YNd\",\"YNd\",\"YNd\",\"YNd\",\"YNd\",\"YNd\",\"YNd\",\"YNd\",\"YNd\",\"YNd\",\"YNd\",\"YNd\",\"YNd\",\"YNd\",\"YNd\",\"YNd\",\"YNd\",\"YNd\",\"YNd\",\"YNd\",\"YNd\",\"YNd\",\"YNd\",\"YNd\",\"YNd\",\"YNd\",\"YNd\",\"YNd\",\"YNd\",\"YNd\",\"YNd\",\"YNd\",\"YNd\",\"YNd\",\"YNd\",\"YNd\",\"YNd\",\"YNd\",\"YNd\",\"YNd\",\"YNd\",\"YNd\",\"YNd\",\"YNd\"],\"xaxis\":\"x\",\"yaxis\":\"y\",\"type\":\"histogram\"},{\"alignmentgroup\":\"True\",\"bingroup\":\"x\",\"hovertemplate\":\"Method_of_Earthing=LER<br>Vector Group=%{x}<br>count=%{y}<extra></extra>\",\"legendgroup\":\"LER\",\"marker\":{\"color\":\"#EF553B\",\"pattern\":{\"shape\":\"\"}},\"name\":\"LER\",\"offsetgroup\":\"LER\",\"orientation\":\"v\",\"showlegend\":true,\"x\":[\"YNyn\",\"YNyn\",\"YNyn\",\"YNyn\",\"YNyn\",\"YNyn\",\"Dyn\",\"Dyn\",\"Dzn\",\"Dzn\",\"Dyn\",\"Dyn\",\"Dyn\",\"Dyn\",\"Dyn\",\"Dyn\",\"Dyn\",\"Dyn\",\"Dyn\",\"Dyn\",\"Dyn\",\"Dyn\",\"Dyn\",\"Dyn\",\"Dyn\",\"Dyn\",\"Dyn\",\"Dyn\",\"Dyn\",\"Dyn\",\"Dyn\",\"Dyn\",\"Dyn\",\"Dzn\",\"Dzn\",\"Yyn\",\"Yyn\",\"Yyn\",\"Yyn\",\"Dyn\",\"Dyn\",\"Dyn\",\"Dyn\",\"Dzn\",\"Dzn\",\"Dyn\",\"Dyn\",\"Dzn\",\"Dzn\",\"Dyn\",\"Dyn\",\"Dyn\",\"Dyn\",\"Yyn\",\"Dyn\",\"Yyn\",\"Yyn\",\"Dyn\",\"Dyn\",\"Dyn\",\"Dyn\",\"Dyn\",\"Yyn\",\"Dyn\",\"Dyn\",\"Dyn\",\"Yyn\",\"Yyn\",\"Yyn\",\"Yyn\",\"Yyn\",\"Dyn\",\"Dyn\",\"Dyn\",\"Dyn\",\"Dzn\",\"Dzn\",\"Yyn\",\"Yyn\",\"Dyn\",\"Dyn\",\"Yyn\",\"Yyn\",\"Dzn\",\"Dzn\",\"Dyn\",\"Dyn\",\"Dzn\",\"Dzn\",\"Dyn\",\"Dyn\",\"Dyn\",\"Dyn\",\"Dyn\",\"Dyn\",\"Yyn\",\"Yyn\",\"Dyn\",\"Dyn\",\"Dyn\",\"Dyn\",\"Yyn\",\"Dzn\",\"Dzn\",\"Yyn\",\"Yyn\",\"Dzn\",\"Yyn\",\"Yyn\",\"Yyn\",\"Yyn\",\"Yyn\",\"Yyn\",\"Yyn\",\"Yyn\",\"Yyn\",\"Yyn\",\"Dzn\",\"Dzn\",\"Dzn\",\"Yyn\",\"Yyn\",\"Dzn\",\"Dzn\",\"Yyn\",\"Yyn\",\"Yyn\",\"Dzn\",\"Yyn\",\"Yyn\",\"Dy11\",\"Dy11\",\"Dy11\",\"Dy11\",\"Dy11\",\"Dy11\",\"Dy11\",\"Dy11\",\"Dy11\",\"Dy11\",\"Dy11\",\"Dy11\",\"Dy11\",\"Dy11\",\"Dy11\",\"Dy11\",\"Dy11\",\"Dy11\",\"Dy11\",\"Dy11\",\"Dy11\",\"Dy11\",\"Dy11\",\"Dy11\",\"Dy11\",\"Dy11\",\"Dy11\",\"Dy11\",\"Dy11\",\"Dy11\",\"Dy11\",\"Dy11\",\"Dy1\",\"Dy1\",\"Dy11\",\"Dy11\",\"Dy11\",\"YY0\",\"Dy11\",\"Dy11\",\"Dy11\",\"Dy1\",\"Dy1\",\"Dy11\",\"Dy11\",\"Dy11\",\"Dy11\",\"Dy11\",\"Dy11\",\"Dy11\",\"Dy11\",\"Dy11\",\"Dy11\",\"Dy11\",\"Dy11\",\"Dy11\",\"Dy11\",\"Dy11\",\"Dy11\",\"Dy11\",\"Dy11\",\"Dy11\",\"Dy11\",\"Dy11\",\"Dy11\",\"Yd1\",\"Dy11\",\"Dy11\",\"Dy11\",\"Dy11\",\"Dy11\",\"Dy11\",\"Dy11\",\"Dy11\",\"Dy11\",\"Dy11\",\"Yd1\",\"Dy1\",\"Dy1\",\"Dy11\",\"Dy11\",\"Dy11\",\"Dy11\",\"Yy0\",\"YNyn0\",\"Dy11\",\"Dy11\",\"Dy11\",\"Yd11\",\"Dy11\",\"Dy11\",\"Dy11\",\"Dy11\",\"Dy11\",\"Dy11\",\"Dy11\",\"Dy11\",\"Yyy0\",\"Yyy0\",\"Yyy0\",\"Yyy0\",\"Yyy0\",\"Yyy0\",\"Dy11\",\"Dy11\",\"Dy11\",\"Dy11\",\"Dy11\",\"Dy11\",\"Dy11\",\"Dy11\",\"Dy11\",\"Dy11\",\"Dy11\",\"Dy11\",\"Dy11\",\"Dy11\",\"Dy1\",\"Dy1\",\"Dy11\",\"Dy11\",\"Dy11\",\"Dy11\",\"Dy11\",\"Dy11\",\"Dy11\",\"Dy11\",\"Dy11\",\"Dy11\",\"Dy11\",\"Dy11\"],\"xaxis\":\"x\",\"yaxis\":\"y\",\"type\":\"histogram\"},{\"alignmentgroup\":\"True\",\"bingroup\":\"x\",\"hovertemplate\":\"Method_of_Earthing=Earth Tx & LER<br>Vector Group=%{x}<br>count=%{y}<extra></extra>\",\"legendgroup\":\"Earth Tx & LER\",\"marker\":{\"color\":\"#00cc96\",\"pattern\":{\"shape\":\"\"}},\"name\":\"Earth Tx & LER\",\"offsetgroup\":\"Earth Tx & LER\",\"orientation\":\"v\",\"showlegend\":true,\"x\":[\"YNd\",\"YNd\",\"YNd\",\"YNd\",\"YNd\",\"YNd\",\"YNd\",\"YNd\",\"YNd\",\"YNd\",\"YNd\",\"YNd\",\"YNd\",\"YNd\",\"YNd\",\"YNd\",\"YNd\",\"YNd\",\"YNd\",\"YNd\",\"YNd\",\"YNd\",\"YNd\",\"YNd\",\"YNd\",\"YNd\",\"YNd\",\"YNd\",\"YNd\",\"YNd\",\"YNd\",\"YNd\",\"YNd\",\"YNd\",\"YNd\",\"YNd\",\"YNd\",\"YNd\",\"YNd\",\"YNd\",\"YNd\",\"YNd\",\"YNd\",\"YNd\",\"YNd\",\"YNd\",\"YNd\",\"YNd\",\"YNd\",\"YNd\",\"YNd\",\"YNd\",\"YNd\",\"YNd\",\"YNd\",\"YNd\",\"YNd\",\"YNd\",\"YNd\",\"YNd\",\"YNd\",\"YNd\",\"YNd\"],\"xaxis\":\"x\",\"yaxis\":\"y\",\"type\":\"histogram\"},{\"alignmentgroup\":\"True\",\"bingroup\":\"x\",\"hovertemplate\":\"Method_of_Earthing=NER<br>Vector Group=%{x}<br>count=%{y}<extra></extra>\",\"legendgroup\":\"NER\",\"marker\":{\"color\":\"#ab63fa\",\"pattern\":{\"shape\":\"\"}},\"name\":\"NER\",\"offsetgroup\":\"NER\",\"orientation\":\"v\",\"showlegend\":true,\"x\":[\"Dyn\",\"Yyn\",\"Yyn\",\"Dyn\",\"Dyn\",\"Dyn\",\"Dyn\",\"Dyn\",\"Dyn\",\"Dyn\",\"Dyn\",\"Dyn\",\"Dyn\",\"Dyn\",\"Dyn\",\"Dyn\",\"Dyn\",\"Yyn\",\"Yyn\",\"Yyn\",\"Yyn\",\"Dyn\",\"Dyn\",\"Dyn\",\"Dyn\",\"Dyn\",\"Dyn\",\"Dyn\",\"Dyn\",\"Dyn\",\"Dyn\",\"Dyn\",\"Dyn\",\"Dyn\",\"Dyn\",\"Dyn\",\"Dyn\",\"Dyn\",\"Dyn\",\"Dyn\",\"Yyn\",\"Yyn\",\"Dyn\",\"Dyn\",\"Dyn\",\"Yyn\",\"Yyn\",\"Dyn\",\"Dyn\",\"Dyn\",\"Dyn\",\"Dyn\",\"Dyn\",\"Yyn\",\"Yyn\",\"Yyn\",\"Yyn\",\"Dyn\",\"Dyn\",\"Dyn\",\"Yyn\",\"Yyn\",\"Dyn\",\"Dyn\",\"Yyn\",\"Yyn\",\"Yyn\",\"Yyn\",\"Yyn\",\"Yyn\",\"Dyn\",\"Dyn\",\"Dyn\",\"Dyn\",\"Yyn\",\"Yyn\",\"Dyn\",\"Dyn\",\"Dyn\",\"Dyn\",\"Yyn\",\"Yyn\",\"Yyn\",\"Yyn\",\"Yyn\",\"Dyn\",\"Dyn\",\"Dyn\",\"Dyn\",\"Yyn\",\"Yyn\",\"Dyn\",\"Dyn\",\"Dyn\",\"Dyn\",\"Yyn\",\"Yyn\",\"Dyn\",\"Dyn\",\"Dyn\",\"Dyn\",\"Yyn\",\"Dyn\",\"Dyn\",\"Yyn\",\"Yyn\",\"Dyn\",\"Dyn\",\"Dyn\",\"Dyn\",\"Dyn\",\"Dyn\",\"Dyn\",\"Dyn\",\"Yyn\",\"Yyn\",\"Yyn\",\"Yyn\",\"Yyn\",\"Yyn\",\"Yyn\",\"Yyn\",\"Yyn\",\"Yyn\",\"Yyn\",\"Yyn\",\"Yyn\",\"Yyn\",\"Yyn\",\"Yyn\",\"Yyn\",\"Yyn\",\"Yyn\",\"Yyn\",\"Yyn\",\"Yyn\",\"Yyn\",\"Yyn\",\"Yyn\",\"Yyn\",\"Yyn\",\"Dy11\",\"Dy11\",\"Dy11\",\"Dy11\",\"Dy11\",\"Dy11\",\"Dy11\",\"Dy11\",\"Dy11\",\"Dy11\",\"Dy11\",\"Dy11\",\"Dy11\",\"Dy11\",\"Dy11\",\"Dy11\",\"Dy11\",\"Dy11\",\"Dy11\",\"Dy11\",\"Dy11\",\"Dy11\",\"Dy11\",\"Dy11\",\"Dy11\",\"Dy11\",\"Dy11\",\"Dy11\",\"Dy11\",\"Dy11\",\"Dy11\",\"Dy11\",\"Dy11\",\"Dy11\",\"Dy11\",\"Dy11\",\"Dy11\",\"Dy11\",\"Dy11\",\"Dy11\",\"Dy11\",\"Dy11\",\"Dy11\",\"Dy11\",\"Dy11\",\"Dy11\",\"Dy11\",\"Dy11\",\"Dy11\",\"Dy11\",\"Dy11\",\"Dy11\",\"Dy11\",\"Dy11\",\"Dy11\",\"Dy11\",\"Dy11\",\"Dy11\",\"Dy11\",\"Dy11\",\"Dy11\",\"Dy11\",\"Dy11\",\"Dy11\",\"Dy11\",\"Dy11\",\"Dy11\",\"Dy11\",\"Dy11\",\"Dy11\",\"Dy11\",\"Dy11\",\"Dy11\",\"Dy11\",\"Dy11\",\"Dy11\",\"Dy11\",\"Dy11\",\"Dy11\",\"Dy11\",\"Dy11\",\"Dy11\",\"Dy11\",\"Dy11\",\"Dy11\",\"Dy11\",\"Dy11\",\"Dy11\",\"Dy1\",\"Dy1\",\"Dy1\",\"Dy1\",\"Dy11\",\"Dy11\",\"Dy11\",\"Dy11\",\"Dy11\",\"Dy11\",\"Dy11\",\"Dy11\",\"Dy11\",\"Dy11\",\"Dy11\",\"Dy11\",\"Dy11\",\"Dy11\",\"Dy11\",\"Dy11\",\"Dy11\",\"Dy11\",\"Dy11\",\"Dy11\",\"Dy11\",\"Dy11\",\"Dy11\",\"Dy11\",\"Dy11\",\"Dy11\",\"Dy11\",\"Yy0\",\"Yy0\",\"Dy11\",\"Dy11\",\"Dy11\",\"Dy11\",\"Dy11\",\"Dy11\",\"Dy11\",\"Dy11\",\"Dy11\",\"Dy11\",\"Dy11\",\"Dy11\",\"Dy11\",\"Dy11\",\"Dy11\",\"Dy11\",\"Dy11\",\"Dy11\",\"Dy11\",\"Dy11\",\"Dyn11\",\"Dyn11\",\"Dy11\",\"Dy11\",\"Dy11\",\"Dy11\",\"Yy0\",\"Yy0\",\"Dy11\",\"Dy11\",\"Dy11\",\"Dy11\",\"Dy11\",\"Dy11\",\"Dy11\",\"Dy11\",\"Dy11\",\"Dy11\",\"Dy11\",\"Dy11\",\"Dy11\",\"Dy11\",\"Dy11\",\"Dy11\",\"Dy11\",\"Dy11\",\"Dy11\",\"Dy11\",\"Dy11\",\"Yy0\",\"Yy0\",\"Dyn11\",\"Dyn11\",\"Dy11\",\"Dy11\",\"Dy11\",\"Dy11\",\"Dy11\",\"Dy11\",\"Dy11\",\"Dy11\",\"Dy11\",\"Dy11\",\"Dy11\",\"Dyn11\",\"Dyn11\",\"Dy11\",\"Dy11\",\"Dy11\",\"Dy11\",\"Dy11\",\"Dy11\",\"Dy11\",\"Dy11\",\"Dy11\",\"Dy11\",\"Dy11\",\"Dy11\",\"Dy11\",\"Dy11\",\"Dy11\",\"Dy11\",\"Dy11\",\"Dy11\",\"Dy11\",\"Dy11\",\"Dy11\",\"Dy11\",\"Dy11\",\"Dy11\",\"Dy11\",\"Dy11\",\"Dy11\",\"Dy11\",\"Dy11\",\"Dy11\",\"Dy11\",\"Dy11\",\"Dy11\",\"Dy11\",\"Dy11\",\"Dy11\",\"Dy11\",\"YY0\",\"YY0\",\"Dy11\",\"Dy11\",\"Dy11\",\"Dy11\",\"Dy11\",\"Dy11\",\"Dy11\",\"Dy11\",\"Dy11\",\"Dy11\",\"Dy11\",\"Dy11\",\"Dy11\",\"Dy11\",\"Dy11\",\"Dy11\",\"Dy11\",\"Dy11\",\"Dy11\",\"Dy11\",\"Dy11\",\"Dy11\",\"Dy11\",\"Dy11\",\"Dy11\",\"Dy11\",\"Dy11\",\"Dy11\",\"Dyn11\",\"Dyn11\",\"Dyn11\",\"Dyn11\",\"Dyn11\",\"Dyn11\",\"Dyn11\",\"Dyn11\",\"Dyn11\",\"Dyn11\",\"Dyn11\",\"Dyn11\",\"Dyn11\",\"Dyn11\",\"Dyn11\",\"Dyn11\",\"Dyn11\",\"Dyn11\",\"Dyn11\",\"Dyn11\",\"Dyn11\",\"Dyn11\",\"Dyn11\",\"Dyn11\",\"Dyn11\",\"Dyn11\",\"Dyn11\",\"Dyn11\",\"Dyn11\",\"Dyn11\",\"Dyn11\",\"Dyn11\",\"Dyn11\",\"Dyn11\",\"Dyn11\",\"Dyn11\",\"Dyn11\",\"Dyn11\",\"Dyn11\",\"Dyn11\",\"Dyn11\",\"Dyn11\",\"Dyn11\",\"Dyn11\",\"Dyn11\",\"Dyn11\",\"Dyn11\",\"Dyn11\",\"Dyn11\",\"Dyn11\",\"Dyn11\",\"Dyn11\",\"Dyn11\",\"Dyn11\",\"Dyn11\",\"Dyn11\",\"Dyn11\",\"Dyn11\",\"Dyn11\",\"Dyn11\",\"Dyn11\",\"Dyn11\",\"Dyn11\",\"Dyn11\",\"Dyn11\",\"Dyn11\",\"Dyn11\",\"Dyn11\",\"Dyn11\",\"Dyn11\",\"Dyn11\",\"Dyn11\",\"Dyn11\",\"Dyn11\",\"Dyn11\",\"Dyn11\",\"Dyn11\",\"Dyn11\",\"Dyn11\",\"Dyn11\",\"Dyn11\",\"Dyn11\",\"Dyn11\",\"Dyn11\",\"Dyn11\",\"Dyn11\",\"Dyn11\",\"Dyn11\",\"Dyn11\",\"Dyn11\",\"Dyn11\",\"Dyn11\",\"Dyn11\",\"Dyn11\",\"Dyn11\",\"Dyn11\",\"Dyn11\",\"Dyn11\",\"Dyn11\",\"Dyn11\",\"Dyn11\",\"Dyn11\",\"Dyn11\",\"Dyn11\",\"Dyn11\",\"Dyn11\",\"Dyn11\",\"Dyn11\",\"Dyn11\",\"Dyn11\",\"Dyn11\",\"Dyn11\",\"Dyn11\",\"Dyn11\",\"Dyn11\",\"Dyn11\",\"Dyn11\",\"Dyn11\",\"Dyn11\",\"Dyn11\",\"Dyn11\",\"Dyn11\",\"Dyn11\",\"Dyn11\",\"Dyn11\",\"Dyn11\",\"Dyn11\",\"Dyn11\",\"Dyn11\",\"Dyn11\",\"Dyn11\",\"Dyn11\",\"Dyn11\",\"Dyn11\",\"Dyn11\",\"Dyn11\",\"Dyn11\",\"Dyn11\",\"Dyn11\",\"Dyn11\",\"Dyn11\",\"Dyn11\",\"Dyn11\",\"Dyn11\",\"Dyn11\",\"Dyn11\",\"Dyn11\",\"Dyn11\",\"Dyn11\",\"Dyn11\",\"Dyn11\",\"Dyn11\",\"Dyn11\",\"Dyn11\",\"Dyn11\",\"Dyn11\",\"Dyn11\",\"Dyn11\",\"Dyn11\",\"Dyn11\",\"Dyn11\",\"Dyn11\",\"Dyn11\",\"Dyn11\",\"Dyn11\",\"Dyn11\",\"Dyn11\",\"Dyn11\",\"Dyn11\",\"Dyn11\",\"Dyn11\",\"Dyn11\",\"Dyn11\",\"Dyn11\",\"Dyn11\",\"Dyn11\",\"Dyn11\",\"Dyn11\",\"Dyn11\",\"Dyn11\",\"Dyn11\",\"Dyn11\",\"Dyn11\",\"Dyn11\",\"Dyn11\",\"Dyn11\",\"Dyn11\",\"Dyn11\",\"Dyn11\",\"Dyn11\",\"Dyn11\",\"Dyn11\",\"Dyn11\",\"Dyn11\",\"Dyn11\",\"Dyn11\",\"Dyn11\",\"Dyn11\",\"Dyn11\",\"Dyn11\",\"Dyn11\",\"Dyn11\",\"Dyn11\",\"Dyn11\",\"Dyn11\",\"Dyn11\",\"Dyn11\",\"Dyn11\",\"Dyn11\",\"Dyn11\",\"Dyn11\",\"Dyn11\",\"Dyn11\",\"Dyn11\",\"Dyn11\",\"Dyn11\",\"Dyn11\",\"Dyn11\",\"Dyn11\",\"Dyn11\",\"Dyn11\",\"Dyn11\",\"Dyn11\",\"Dyn11\",\"Dyn11\",\"Dyn11\",\"Dyn11\",\"Dyn11\",\"Dyn11\",\"Dyn11\",\"Dyn11\",\"Dyn11\",\"Dyn11\",\"Dyn11\",\"Dyn11\",\"Dyn11\",\"Dyn11\",\"Dyn11\",\"Dyn11\",\"Dyn11\",\"Dyn11\",\"Dyn11\",\"Dyn11\",\"Dyn11\",\"Dyn11\",\"Dyn11\",\"Dyn11\",\"Dyn11\",\"Dyn11\",\"Dyn11\",\"Dyn11\",\"Dyn11\",\"Dyn11\",\"Dyn11\",\"Dyn11\",\"Dyn11\",\"Dyn11\",\"Dyn11\",\"Dyn11\",\"Dyn11\",\"Dyn11\",\"Dyn11\",\"Dyn11\",\"Dyn11\",\"Dyn11\",\"Dyn11\",\"Dyn11\",\"Dyn11\",\"Dyn11\",\"Dyn11\",\"Dyn11\",\"Dyn11\",\"Dyn11\",\"Dyn11\",\"Dyn11\",\"Dyn11\",\"Dyn11\",\"Dyn11\",\"Dyn11\",\"Dyn11\",\"Dyn11\",\"Dyn11\",\"Dyn11\",\"Dyn11\",\"Dyn11\",\"Dyn11\",\"Dyn11\",\"Dyn11\",\"Dyn11\",\"Dyn11\",\"Dyn11\",\"Dyn11\",\"Dyn11\",\"Dyn11\",\"Dyn11\",\"Dyn11\",\"Dyn11\",\"Dyn11\",\"Dyn11\",\"Dyn11\",\"Dyn11\",\"Dyn11\",\"Dyn11\",\"Dyn11\",\"Dyn11\",\"Dyn11\",\"Dyn11\",\"Dyn11\",\"Dyn11\",\"Dyn11\",\"Dyn11\",\"Dyn11\",\"Dyn11\",\"Dyn11\",\"Dyn11\",\"Dyn11\",\"Dyn11\",\"Dyn11\",\"Dyn11\",\"Dyn11\",\"Dyn11\",\"Dyn11\",\"Dyn11\",\"Dyn11\",\"Dyn11\",\"Dyn11\",\"Dyn11\",\"Dyn11\",\"Dyn11\",\"Dyn11\",\"Dyn11\",\"Dyn11\",\"Dyn11\",\"Dyn11\",\"Dyn11\",\"Dyn11\",\"Dyn11\",\"Dyn11\",\"Dyn11\",\"Dyn11\",\"Dyn11\",\"Dyn11\",\"Dyn11\",\"Dyn11\",\"Dyn11\",\"Dyn11\",\"Dyn11\",\"Dyn11\",\"Dyn11\",\"Dyn11\",\"Dyn11\",\"Dyn11\",\"Dyn11\",\"Dyn11\",\"Dyn11\",\"Dyn11\",\"Dyn11\",\"Dyn11\",\"Dyn11\",\"Dyn11\",\"Dyn11\",\"Dyn11\",\"Dyn11\",\"Dyn11\",\"Dyn11\",\"Dyn11\",\"Dyn11\",\"Dyn11\",\"Dyn11\",\"Dyn11\",\"Dyn11\",\"Dyn11\",\"Dyn11\",\"Dyn11\",\"Dyn11\",\"Dyn11\",\"Dyn11\",\"Dyn11\",\"Dyn11\",\"Dyn11\",\"Dyn11\",\"Dyn11\",\"Dyn11\",\"Dyn11\",\"Dyn11\",\"Dyn11\",\"Dyn11\",\"Dyn11\",\"Dyn11\",\"Dyn11\",\"Dyn11\",\"Dyn11\",\"Dyn11\",\"Dyn11\",\"Dyn11\",\"Dyn11\",\"Dyn11\",\"Dyn11\",\"Dyn11\",\"Dyn11\",\"Dyn11\",\"Dyn11\",\"Dyn11\",\"Dyn11\",\"Dyn11\",\"Dyn11\",\"Dyn11\",\"Dyn11\",\"Dyn11\",\"Dyn11\",\"Dyn11\",\"Dyn11\",\"Dyn11\",\"Dyn11\",\"Dyn11\",\"Dyn11\",\"Dyn11\",\"Dyn11\",\"Dyn11\",\"Dyn11\",\"Dyn11\",\"Dyn11\",\"Dyn11\",\"Dyn11\",\"Dyn11\",\"Dyn11\",\"Dyn11\",\"Dyn11\",\"Dyn11\",\"Dyn11\",\"Dyn11\",\"Dyn11\",\"Dyn11\",\"Dyn11\",\"Dyn11\",\"Dyn11\",\"Dyn11\",\"Dyn11\",\"Dyn11\",\"Dyn11\",\"Dyn11\",\"Dyn11\",\"Dyn11\",\"Dyn11\",\"Dyn11\",\"Dyn11\",\"Dyn11\",\"Dyn11\",\"Dyn11\",\"Dyn11\",\"Dyn11\",\"Dyn11\",\"Dyn11\",\"Dyn11\",\"Dyn11\",\"Dyn11\",\"Dyn11\",\"Dyn11\",\"Dyn11\",\"Dyn11\",\"Dyn11\",\"Dyn11\",\"Dyn11\",\"Dyn11\",\"Dyn11\",\"Dyn11\",\"Dyn11\",\"Dyn11\",\"Dyn11\",\"Dyn11\",\"Dyn11\",\"Dyn11\",\"Dyn11\",\"Dyn11\",\"Dyn11\",\"Dyn11\",\"Dyn11\",\"Dyn11\",\"Dyn11\",\"Dyn11\",\"Dyn11\",\"Dyn11\",\"Dyn11\",\"Dyn11\",\"Dyn11\",\"Dyn11\",\"Dyn11\",\"Dyn11\",\"Dyn11\",\"Dyn11\",\"Dyn11\",\"Dyn11\",\"Dyn11\",\"Dyn11\",\"Dyn11\",\"Dyn11\",\"Dyn11\",\"Dyn11\",\"Dyn11\",\"Dyn11\",\"Dyn11\",\"Dyn11\",\"Dyn11\",\"Dyn11\",\"Dyn11\",\"Dyn11\",\"Dyn11\",\"Dyn11\",\"Dyn11\",\"Dyn11\",\"Dyn11\",\"Dyn11\",\"Dyn11\",\"Dyn11\",\"Dyn11\",\"Dyn11\",\"Dyn11\",\"Dyn11\",\"Dyn11\",\"Dyn11\",\"Dyn11\",\"Dyn11\",\"Dyn11\",\"Dyn11\",\"Dyn11\",\"Dyn11\",\"Dyn11\",\"Dyn11\",\"Dyn11\",\"Dyn11\",\"Dyn11\",\"Dyn11\",\"Dyn11\",\"Dyn11\",\"Dyn11\",\"Dyn11\",\"Dyn11\",\"Dyn11\",\"Dyn11\",\"Dyn11\",\"Dyn11\",\"Dyn11\",\"Dyn11\",\"Dyn11\",\"Dyn11\",\"Dyn11\",\"Dyn11\",\"Dyn11\",\"Dyn11\",\"Dyn11\",\"Dyn11\",\"Dyn11\",\"Dyn11\",\"Dyn11\",\"Dyn11\",\"Dyn11\",\"Dyn11\",\"Dyn11\",\"Dyn11\",\"Dyn11\",\"Dyn11\",\"Dyn11\",\"Dyn11\",\"Dyn11\",\"Dyn11\",\"Dyn11\",\"Dyn11\",\"Dyn11\",\"Dyn11\",\"Dyn11\",\"Dyn11\",\"Dyn11\",\"Dyn11\",\"Dyn11\",\"Dyn11\",\"Dyn11\",\"Dyn11\",\"Dyn11\",\"Dyn11\",\"Dyn11\",\"Dyn11\",\"Dyn11\",\"Dyn11\",\"Dyn11\",\"Dyn11\",\"Dyn11\",\"Dyn11\",\"Dyn11\",\"Dyn11\",\"Dyn11\",\"Dyn11\",\"Dyn11\",\"Dyn11\",\"Dyn11\",\"Dyn11\",\"Dyn11\",\"Dyn11\",\"Dyn11\",\"Dyn11\",\"Dyn11\",\"Dyn11\",\"Dyn11\",\"Dyn11\",\"Dyn11\",\"Dyn11\",\"Dyn11\",\"Dyn11\",\"Dyn11\",\"Dyn11\",\"Dyn11\",\"Dyn11\",\"Dyn11\",\"Dyn11\",\"Dyn11\",\"Dyn11\",\"Dyn11\",\"Dyn11\",\"Dyn11\",\"Dyn11\",\"Dyn11\",\"Dyn11\",\"Dyn11\",\"Dyn11\",\"Dyn11\",\"Dyn11\",\"Dyn11\",\"Dyn11\",\"Dyn11\",\"Dyn11\",\"Dyn11\",\"Dyn11\",\"Dyn11\",\"Dyn11\",\"Dyn11\",\"Dyn11\",\"Dyn11\",\"Dyn11\",\"Dyn11\",\"Dyn11\",\"Dyn11\",\"Dyn11\",\"Dyn11\",\"Dyn11\",\"Dyn11\",\"Dyn11\",\"Dyn11\",\"Dyn11\",\"Dyn11\",\"Dyn11\",\"Dyn11\",\"Dyn11\",\"Dyn11\",\"Dyn11\",\"Dyn11\",\"Dyn11\",\"Dyn11\",\"Dyn11\",\"Dyn11\",\"Dyn11\",\"Dyn11\",\"Dyn11\",\"Dyn11\",\"Dyn11\",\"Dyn11\",\"Dyn11\",\"Dyn11\",\"Dyn11\",\"Dyn11\",\"Dyn11\",\"Dyn11\",\"Dyn11\",\"Dyn11\",\"Dyn11\",\"Dyn11\",\"Dyn11\",\"Dyn11\",\"Dyn11\",\"Dyn11\",\"Dyn11\",\"Dyn11\",\"Dyn11\",\"Dyn11\",\"Dyn11\",\"Dyn11\",\"Dyn11\",\"Dyn11\",\"Dyn11\",\"Dyn11\",\"Dyn11\",\"Dyn11\",\"Dyn11\",\"Dyn11\",\"Dyn11\",\"Dyn11\",\"Dyn11\",\"Dyn11\",\"Dyn11\",\"Dyn11\",\"Dyn11\",\"Dyn11\",\"Dyn11\",\"Dyn11\",\"Dyn11\",\"Dyn11\",\"Dyn11\",\"Dyn11\",\"Dyn11\",\"Dyn11\",\"Dyn11\",\"Dyn11\",\"Dyn11\",\"Dyn11\",\"Dyn11\",\"Dyn11\",\"Dyn11\",\"Dyn11\",\"Dyn11\",\"Dyn11\",\"Dyn11\",\"Dyn11\",\"Dyn11\",\"Dyn11\",\"ynyn0\",\"ynyn0\",\"ynyn0\",\"ynyn0\",\"Dyn11\",\"Dyn11\",\"Dyn11\",\"Dyn11\",\"Dyn11\",\"Dyn11\",\"Dyn11\",\"Dyn11\",\"Dyn11\",\"Dyn11\",\"Dyn11\",\"Dyn11\",\"Dyn11\",\"Dyn11\",\"Dyn11\",\"Dyn11\",\"Dyn11\",\"Dyn11\",\"Dyn11\",\"Dyn11\",\"Dyn11\",\"Dyn11\"],\"xaxis\":\"x\",\"yaxis\":\"y\",\"type\":\"histogram\"},{\"alignmentgroup\":\"True\",\"bingroup\":\"x\",\"hovertemplate\":\"Method_of_Earthing=Solid<br>Vector Group=%{x}<br>count=%{y}<extra></extra>\",\"legendgroup\":\"Solid\",\"marker\":{\"color\":\"#FFA15A\",\"pattern\":{\"shape\":\"\"}},\"name\":\"Solid\",\"offsetgroup\":\"Solid\",\"orientation\":\"v\",\"showlegend\":true,\"x\":[\"Yyn\",\"Yyn\",\"Yyn\",\"Yyn\",\"Yyn\",\"Yyn\",\"Yyn\",\"Yyn\",\"Yyn\",\"Yyn\",\"Yyn\",\"Yyn\",\"Yyn\",\"Yyn\",\"Yyn\",\"Yyn\",\"Yyn\",\"Yyn\",\"Yyn\",\"Yyn\",\"Yyn\",\"Yyn\",\"Yyn\",\"Yyn\",\"Dy11\",\"Dy11\",\"Dy11\",\"Dy11\",\"Dy11\",\"Dy11\",\"Dy11\",\"Dy11\",\"Yy0\",\"Yy0\",\"Yy0\",\"Dy11\",\"Dy11\",\"Dy11\",\"Dy11\",\"Dy11\",\"Dy11\",\"Dy11\",\"Dy11\",\"Dy11\",\"Dy11\",\"Dy11\",\"Dy11\",\"Dy11\",\"Dy11\",\"Dy3\",\"Dy11\",\"Yyd0\",\"Yyd0\",\"Yyd0\",\"Dy11\",\"Dy11\",\"Dy11\",\"Dy11\",\"Dy11\",\"Dy11\",\"Dy11\",\"Dy11\",\"Dy11\",\"Yy0\",\"Yy0\",\"Yy0\",\"Yy0\",\"Dy11\",\"Dy11\",\"Yy0\",\"Yy0\",\"Dy11\",\"Dy11\",\"Dy11\",\"Dy11\",\"Dy11\",\"Yy0\",\"Dy11\",\"Dy11\",\"Dy11\",\"Dy11\",\"Dy11\",\"Dy11\",\"Dy11\",\"Dy11\",\"Dy11\",\"Dy11\",\"Dy11\",\"Dy11\",\"Yy0\",\"Dy11\",\"Dy11\",\"Dy11\",\"Dy11\",\"Dy11\",\"Yy0\",\"Yy0\",\"Dy11\",\"Yy0\",\"Yy0\",\"Yy0\",\"Dy11\",\"Dy11\",\"Dy11\",\"Yy0\",\"Yy0\",\"Dy11\",\"Dy11\",\"Dy11\",\"Dy11\",\"Yy0\",\"Dy11\",\"Dy11\",\"Dy11\",\"Dy11\",\"Dy11\",\"Dy11\",\"Dy11\"],\"xaxis\":\"x\",\"yaxis\":\"y\",\"type\":\"histogram\"},{\"alignmentgroup\":\"True\",\"bingroup\":\"x\",\"hovertemplate\":\"Method_of_Earthing=ET + LER<br>Vector Group=%{x}<br>count=%{y}<extra></extra>\",\"legendgroup\":\"ET + LER\",\"marker\":{\"color\":\"#19d3f3\",\"pattern\":{\"shape\":\"\"}},\"name\":\"ET + LER\",\"offsetgroup\":\"ET + LER\",\"orientation\":\"v\",\"showlegend\":true,\"x\":[\"Yd11\",\"Yd11\",\"Yd11\",\"Yd11\",\"Yd11\",\"Yd11\",\"Yd11\",\"Yd11\",\"Yd11\",\"Yd11\",\"Yd1\",\"Yd1\",\"Yd1\",\"Yd1\",\"Yd11\",\"Yd11\",\"Yd11\",\"Yd11\",\"Yd11\",\"Yd11\",\"Yd1\",\"Yd11\",\"Yd11\",\"Yd1\",\"Yd1\",\"Yd1\",\"Yd1\",\"Yd1\",\"Yd1\",\"Yd1\",\"Yd1\",\"Yd11\",\"Yd11\",\"Yd11\",\"Yd11\",\"Yd1\",\"Yd1\",\"Yd11\",\"Yd11\",\"Yd11\",\"Yd1\",\"Yd1\",\"Yd1\"],\"xaxis\":\"x\",\"yaxis\":\"y\",\"type\":\"histogram\"},{\"alignmentgroup\":\"True\",\"bingroup\":\"x\",\"hovertemplate\":\"Method_of_Earthing=Shared ASC<br>Vector Group=%{x}<br>count=%{y}<extra></extra>\",\"legendgroup\":\"Shared ASC\",\"marker\":{\"color\":\"#FF6692\",\"pattern\":{\"shape\":\"\"}},\"name\":\"Shared ASC\",\"offsetgroup\":\"Shared ASC\",\"orientation\":\"v\",\"showlegend\":true,\"x\":[\"Dy11\",\"Dy11\",\"Yy11\",\"Yy11\",\"Dy11\",\"Dy11\",\"Yy0\",\"Yy0\",\"Yy0\",\"Yy0\",\"Yy0\",\"Yy0\",\"Yy0\",\"Yy0\",\"Dz0\",\"Yy0\",\"Yy0\",\"Yy0\",\"Yy0\",\"Yy0\",\"Yy0\",\"Yy0\",\"Yyd0\",\"Yyd0\",\"Yy0\",\"Yy0\",\"Yy0\",\"Yy0\",\"Yy0\",\"Yy0\",\"Yy0\",\"Yy0\",\"Yy0\",\"Yy0\",\"Yy0\",\"Yy0\",\"Yy0\",\"Yy0\",\"Yy0\",\"Yy0\",\"Yy0\",\"Yy0\",\"Yy0\",\"Yy0\",\"Yy0\",\"Yy0\",\"Yy0\",\"Yyd0\",\"Dz0\",\"Yy0\",\"Yy0\",\"Yy0\",\"Yyd0\",\"Yy0\",\"Yy0\",\"Yy0\",\"Yy0\",\"Yy0\",\"Yy0\",\"Yy0\",\"Yyd0\",\"Yyd0\",\"Yy0\",\"Yy0\",\"Yy0\",\"Yy0\",\"Yy0\",\"Yy0\",\"Yy0\",\"Yy0\",\"Yy0\",\"Yyd0\"],\"xaxis\":\"x\",\"yaxis\":\"y\",\"type\":\"histogram\"},{\"alignmentgroup\":\"True\",\"bingroup\":\"x\",\"hovertemplate\":\"Method_of_Earthing=ET<br>Vector Group=%{x}<br>count=%{y}<extra></extra>\",\"legendgroup\":\"ET\",\"marker\":{\"color\":\"#B6E880\",\"pattern\":{\"shape\":\"\"}},\"name\":\"ET\",\"offsetgroup\":\"ET\",\"orientation\":\"v\",\"showlegend\":true,\"x\":[\"Yd11\",\"Yd11\",\"Yd11\",\"Yd11\",\"Yd11\",\"Yd11\",\"Yd11\",\"Yd11\",\"Yd11\",\"Yd11\",\"Yd11\",\"Dy11\",\"Yd11\",\"Yd11\",\"Yd11\",\"Yd11\",\"Dy11\",\"Yd11\",\"Yd11\",\"Yd1\",\"Yd11\",\"Yd11\",\"Yd11\",\"Yd11\",\"Yd11\",\"Yd11\",\"Yd11\",\"Yd1\",\"Yd1\",\"Yd1\",\"Yd1\",\"Yd1\",\"Yd1\",\"Yd1\",\"Yd11\",\"Yd11\",\"Yd1\",\"Yd1\",\"Yd11\",\"Yd11\",\"Yd1\",\"Yd1\",\"Dy11\",\"Dy11\",\"Yd11\",\"Yd11\",\"Yd1\",\"Yd1\"],\"xaxis\":\"x\",\"yaxis\":\"y\",\"type\":\"histogram\"},{\"alignmentgroup\":\"True\",\"bingroup\":\"x\",\"hovertemplate\":\"Method_of_Earthing=Shared ASC / LER<br>Vector Group=%{x}<br>count=%{y}<extra></extra>\",\"legendgroup\":\"Shared ASC / LER\",\"marker\":{\"color\":\"#FF97FF\",\"pattern\":{\"shape\":\"\"}},\"name\":\"Shared ASC / LER\",\"offsetgroup\":\"Shared ASC / LER\",\"orientation\":\"v\",\"showlegend\":true,\"x\":[\"Yy0\",\"Yy0\"],\"xaxis\":\"x\",\"yaxis\":\"y\",\"type\":\"histogram\"},{\"alignmentgroup\":\"True\",\"bingroup\":\"x\",\"hovertemplate\":\"Method_of_Earthing=ASC<br>Vector Group=%{x}<br>count=%{y}<extra></extra>\",\"legendgroup\":\"ASC\",\"marker\":{\"color\":\"#FECB52\",\"pattern\":{\"shape\":\"\"}},\"name\":\"ASC\",\"offsetgroup\":\"ASC\",\"orientation\":\"v\",\"showlegend\":true,\"x\":[\"Dy11\",\"Yyd0\",\"Yy0\",\"Dy11\",\"Yy0\",\"Yy0\",\"Yy0\",\"Yyd0\",\"Yy0\",\"Yy0\",\"Yy0\",\"Yy0\",\"Yyd0\",\"Yy0\"],\"xaxis\":\"x\",\"yaxis\":\"y\",\"type\":\"histogram\"},{\"alignmentgroup\":\"True\",\"bingroup\":\"x\",\"hovertemplate\":\"Method_of_Earthing=ET + ASC<br>Vector Group=%{x}<br>count=%{y}<extra></extra>\",\"legendgroup\":\"ET + ASC\",\"marker\":{\"color\":\"#636efa\",\"pattern\":{\"shape\":\"\"}},\"name\":\"ET + ASC\",\"offsetgroup\":\"ET + ASC\",\"orientation\":\"v\",\"showlegend\":true,\"x\":[\"Yd1\",\"Yd1\",\"YNd1\",\"YNd1\"],\"xaxis\":\"x\",\"yaxis\":\"y\",\"type\":\"histogram\"},{\"alignmentgroup\":\"True\",\"bingroup\":\"x\",\"hovertemplate\":\"Method_of_Earthing=Shared LER<br>Vector Group=%{x}<br>count=%{y}<extra></extra>\",\"legendgroup\":\"Shared LER\",\"marker\":{\"color\":\"#EF553B\",\"pattern\":{\"shape\":\"\"}},\"name\":\"Shared LER\",\"offsetgroup\":\"Shared LER\",\"orientation\":\"v\",\"showlegend\":true,\"x\":[\"Dy11\",\"Dy11\"],\"xaxis\":\"x\",\"yaxis\":\"y\",\"type\":\"histogram\"},{\"alignmentgroup\":\"True\",\"bingroup\":\"x\",\"hovertemplate\":\"Method_of_Earthing=-<br>Vector Group=%{x}<br>count=%{y}<extra></extra>\",\"legendgroup\":\"-\",\"marker\":{\"color\":\"#00cc96\",\"pattern\":{\"shape\":\"\"}},\"name\":\"-\",\"offsetgroup\":\"-\",\"orientation\":\"v\",\"showlegend\":true,\"x\":[\"Yd1\",\"Yd1\"],\"xaxis\":\"x\",\"yaxis\":\"y\",\"type\":\"histogram\"},{\"alignmentgroup\":\"True\",\"bingroup\":\"x\",\"hovertemplate\":\"Method_of_Earthing=Solid/ET+NER<br>Vector Group=%{x}<br>count=%{y}<extra></extra>\",\"legendgroup\":\"Solid/ET+NER\",\"marker\":{\"color\":\"#ab63fa\",\"pattern\":{\"shape\":\"\"}},\"name\":\"Solid/ET+NER\",\"offsetgroup\":\"Solid/ET+NER\",\"orientation\":\"v\",\"showlegend\":true,\"x\":[\"YNd1\",\"YNd1\",\"YNd1\",\"YNd1\",\"YNd1\",\"YNd1\",\"YNd1\",\"YNd1\",\"YNd1\",\"YNd1\",\"YNd1\",\"YNd1\",\"YNd1\",\"YNd1\",\"YNd1\",\"YNd1\",\"YNd1\",\"YNd1\",\"YNd1\",\"YNd1\",\"YNd1\",\"YNd1\",\"YNd1\",\"YNd1\",\"YNd1\",\"YNd1\",\"YNd1\",\"YNd1\",\"YNd1\",\"YNd1\",\"YNd1\",\"YNd1\",\"YNd1\",\"YNd1\",\"YNd1\",\"YNd1\",\"YNd1\",\"YNd1\",\"YNd1\",\"YNd1\",\"YNd1\",\"YNd1\",\"YNd1\",\"YNd1\",\"YNd1\",\"YNd1\",\"YNd1\",\"YNd1\",\"YNd1\",\"YNd1\",\"YNd1\",\"YNd1\",\"YNd1\",\"YNd1\",\"YNd1\",\"YNd1\",\"YNd1\",\"YNd1\",\"YNd1\",\"YNd1\",\"YNd1\",\"YNd1\",\"YNd1\",\"YNd1\",\"YNd1\",\"YNd1\",\"YNd1\",\"YNd1\",\"YNd1\",\"YNd1\",\"YNd1\",\"YNd1\",\"YNd1\",\"YNd1\",\"YNd1\",\"YNd1\",\"YNd1\",\"YNd1\",\"YNd1\",\"YNd1\",\"YNd1\",\"YNd1\",\"YNd1\",\"YNd1\",\"YNd1\",\"YNd1\",\"YNd1\",\"YNd1\",\"YNd1\",\"YNd1\",\"YNd1\",\"YNd1\",\"YNd1\",\"YNd1\",\"YNd1\",\"YNd1\",\"YNd1\",\"YNd1\",\"YNd1\",\"YNd1\",\"YNd1\",\"YNd1\",\"YNd1\",\"YNd1\",\"YNd1\",\"YNd1\",\"YNd1\",\"YNd1\",\"YNd1\",\"YNd1\",\"YNd1\",\"YNd1\",\"YNd1\",\"YNd1\",\"YNd1\"],\"xaxis\":\"x\",\"yaxis\":\"y\",\"type\":\"histogram\"},{\"alignmentgroup\":\"True\",\"bingroup\":\"x\",\"hovertemplate\":\"Method_of_Earthing=Solid/ET<br>Vector Group=%{x}<br>count=%{y}<extra></extra>\",\"legendgroup\":\"Solid/ET\",\"marker\":{\"color\":\"#FFA15A\",\"pattern\":{\"shape\":\"\"}},\"name\":\"Solid/ET\",\"offsetgroup\":\"Solid/ET\",\"orientation\":\"v\",\"showlegend\":true,\"x\":[\"YNd1\",\"YNd1\",\"YNd1\",\"YNd1\",\"YNd1\",\"YNd1\",\"YNd1\",\"YNd1\",\"YNd1\",\"YNd1\",\"YNd1\",\"YNd1\",\"YNd1\",\"YNd1\",\"YNd1\",\"YNd1\",\"YNd1\",\"YNd1\",\"YNd1\",\"YNd1\",\"YNd1\",\"YNd1\",\"YNd1\",\"YNd1\",\"YNd1\",\"YNd1\",\"YNd1\",\"YNd1\",\"YNd1\",\"YNd1\",\"YNd1\",\"YNd1\"],\"xaxis\":\"x\",\"yaxis\":\"y\",\"type\":\"histogram\"},{\"alignmentgroup\":\"True\",\"bingroup\":\"x\",\"hovertemplate\":\"Method_of_Earthing=Solid/NER<br>Vector Group=%{x}<br>count=%{y}<extra></extra>\",\"legendgroup\":\"Solid/NER\",\"marker\":{\"color\":\"#19d3f3\",\"pattern\":{\"shape\":\"\"}},\"name\":\"Solid/NER\",\"offsetgroup\":\"Solid/NER\",\"orientation\":\"v\",\"showlegend\":true,\"x\":[\"ynyn0\",\"ynyn0\",\"ynyn0\",\"ynyn0\",\"ynyn0\",\"ynyn0\",\"ynyn0\",\"ynyn0\",\"ynyn0\",\"ynyn0\",\"ynyn0\",\"ynyn0\",\"ynyn0\",\"ynyn0\",\"ynyn0\",\"ynyn0\",\"ynyn0\",\"ynyn0\",\"ynyn0\",\"ynyn0\",\"ynyn0\",\"ynyn0\",\"ynyn0\",\"ynyn0\",\"ynyn0\",\"ynyn0\",\"ynyn0\",\"ynyn0\",\"ynyn0\",\"ynyn0\",\"ynyn0\",\"ynyn0\",\"ynyn0\",\"ynyn0\",\"ynyn0\",\"ynyn0\"],\"xaxis\":\"x\",\"yaxis\":\"y\",\"type\":\"histogram\"},{\"alignmentgroup\":\"True\",\"bingroup\":\"x\",\"hovertemplate\":\"Method_of_Earthing=TR<br>Vector Group=%{x}<br>count=%{y}<extra></extra>\",\"legendgroup\":\"TR\",\"marker\":{\"color\":\"#FF6692\",\"pattern\":{\"shape\":\"\"}},\"name\":\"TR\",\"offsetgroup\":\"TR\",\"orientation\":\"v\",\"showlegend\":true,\"x\":[\"xd1\",\"xd1\",\"xd1\",\"xd1\",\"xd1\",\"xd1\",\"xd1\",\"xd1\",\"xd1\",\"xd1\",\"xd1\",\"xd1\",\"xd1\",\"xd1\",\"xd1\",\"xd1\",\"xd1\",\"xd1\",\"xd1\",\"xd1\",\"xd1\",\"xd1\",\"xd1\",\"xd1\",\"xd1\",\"xd1\",\"xd1\",\"xd1\",\"xd1\",\"xd1\",\"xd1\",\"xd1\",\"xd1\",\"xd1\",\"xd1\",\"xd1\",\"xd1\",\"xd1\",\"xd1\",\"xd1\",\"xd1\",\"xd1\",\"xd1\",\"xd1\",\"xd1\",\"xd1\",\"xd1\",\"xd1\",\"xd1\",\"xd1\",\"xd1\",\"xd1\",\"xd1\",\"xd1\",\"xd1\",\"xd1\",\"xd1\",\"xd1\",\"xd1\",\"xd1\",\"xd1\",\"xd1\",\"xd1\",\"xd1\",\"xd1\",\"xd1\",\"xd1\",\"xd1\",\"xd1\",\"xd1\",\"xd1\",\"xd1\",\"xd1\",\"xd1\",\"xd1\",\"xd1\",\"xd1\",\"xd1\",\"xd1\",\"xd1\",\"xd1\",\"xd1\",\"xd1\",\"xd1\",\"xd1\",\"xd1\",\"xd1\",\"xd1\",\"xd1\",\"xd11\",\"xd1\",\"xd1\",\"xd1\",\"xd1\",\"xd1\",\"xd1\",\"xd1\",\"xd1\",\"xd1\",\"xd1\",\"xd1\",\"xd1\",\"xd1\",\"xd1\",\"xd1\",\"xd1\",\"xd1\",\"xd1\",\"xd1\",\"xd1\",\"xd1\",\"xd1\",\"xd1\",\"xd1\",\"xd1\",\"xd1\"],\"xaxis\":\"x\",\"yaxis\":\"y\",\"type\":\"histogram\"},{\"alignmentgroup\":\"True\",\"bingroup\":\"x\",\"hovertemplate\":\"Method_of_Earthing=T<br>Vector Group=%{x}<br>count=%{y}<extra></extra>\",\"legendgroup\":\"T\",\"marker\":{\"color\":\"#B6E880\",\"pattern\":{\"shape\":\"\"}},\"name\":\"T\",\"offsetgroup\":\"T\",\"orientation\":\"v\",\"showlegend\":true,\"x\":[\"xd1\",\"xd1\",\"xd1\",\"xd1\",\"xd1\"],\"xaxis\":\"x\",\"yaxis\":\"y\",\"type\":\"histogram\"},{\"alignmentgroup\":\"True\",\"bingroup\":\"x\",\"hovertemplate\":\"Method_of_Earthing=TD<br>Vector Group=%{x}<br>count=%{y}<extra></extra>\",\"legendgroup\":\"TD\",\"marker\":{\"color\":\"#FF97FF\",\"pattern\":{\"shape\":\"\"}},\"name\":\"TD\",\"offsetgroup\":\"TD\",\"orientation\":\"v\",\"showlegend\":true,\"x\":[\"xd1\",\"xd1\",\"xd1\",\"xd1\",\"xd1\",\"xd1\",\"xd1\",\"xd1\",\"xd1\",\"xd1\",\"xd1\",\"xd1\",\"xd1\",\"dd0\",\"xd1\",\"xd1\",\"xd1\",\"xd1\",\"xd1\"],\"xaxis\":\"x\",\"yaxis\":\"y\",\"type\":\"histogram\"},{\"alignmentgroup\":\"True\",\"bingroup\":\"x\",\"hovertemplate\":\"Method_of_Earthing=R<br>Vector Group=%{x}<br>count=%{y}<extra></extra>\",\"legendgroup\":\"R\",\"marker\":{\"color\":\"#FECB52\",\"pattern\":{\"shape\":\"\"}},\"name\":\"R\",\"offsetgroup\":\"R\",\"orientation\":\"v\",\"showlegend\":true,\"x\":[\"yx0\",\"yx0\",\"dz0\",\"yx0\",\"dx11\",\"yx0\",\"yx0\",\"yx0\",\"yx0\",\"yx0\",\"yx0\",\"yx0\",\"yx0\",\"yx0\",\"yx0\",\"yx0\",\"yx0\",\"yx0\",\"dz0\",\"dz0\",\"dz0\",\"xx0\",\"xx0\",\"xx0\",\"xx0\",\"dx11\",\"dx11\",\"Dyn11\",\"Dyn11\",\"dx11\",\"dx11\",\"dx11\",\"dx11\",\"dx11\",\"dx11\",\"dx11\",\"yx0\",\"yx0\",\"yx0\",\"yx0\",\"yx0\",\"yx0\",\"yx0\",\"dz0\",\"dz0\",\"dz0\",\"yx0\",\"yx0\",\"yx0\",\"yx0\",\"yx0\",\"dx11\",\"dx11\",\"dx11\",\"dx11\",\"dx11\",\"dx11\",\"dx11\",\"dx11\",\"dx11\",\"dx11\",\"dx11\",\"dx11\",\"dx11\",\"dx11\",\"dx11\",\"dz0\",\"dz0\",\"yx0\",\"yx0\",\"xx0\",\"xx0\",\"yx0\",\"yx0\",\"dx11\",\"dx11\",\"dx11\",\"dx11\",\"dx11\",\"dx11\"],\"xaxis\":\"x\",\"yaxis\":\"y\",\"type\":\"histogram\"},{\"alignmentgroup\":\"True\",\"bingroup\":\"x\",\"hovertemplate\":\"Method_of_Earthing=D<br>Vector Group=%{x}<br>count=%{y}<extra></extra>\",\"legendgroup\":\"D\",\"marker\":{\"color\":\"#636efa\",\"pattern\":{\"shape\":\"\"}},\"name\":\"D\",\"offsetgroup\":\"D\",\"orientation\":\"v\",\"showlegend\":true,\"x\":[\"yx0\",\"yx0\",\"yx0\",\"yx0\",\"yx0\",\"yx0\",\"yx0\",\"yx0\",\"xx0\",\"dx11\",\"yx0\",\"yx0\",\"dx11\",\"yx0\"],\"xaxis\":\"x\",\"yaxis\":\"y\",\"type\":\"histogram\"},{\"alignmentgroup\":\"True\",\"bingroup\":\"x\",\"hovertemplate\":\"Method_of_Earthing=SR<br>Vector Group=%{x}<br>count=%{y}<extra></extra>\",\"legendgroup\":\"SR\",\"marker\":{\"color\":\"#EF553B\",\"pattern\":{\"shape\":\"\"}},\"name\":\"SR\",\"offsetgroup\":\"SR\",\"orientation\":\"v\",\"showlegend\":true,\"x\":[\"yx0\",\"yx0\",\"yx0\",\"yx0\",\"yx0\",\"yx0\",\"yx0\",\"yx0\",\"yx0\",\"yx0\",\"yx0\",\"yx0\",\"dz0\",\"yx0\",\"yx0\",\"yx0\",\"yx0\",\"yx0\",\"yx0\",\"yx0\",\"yx0\",\"yx0\",\"dz0\",\"dz0\",\"xx0\",\"xx0\",\"dz0\",\"dz0\",\"yx0\",\"yx0\",\"yx0\",\"yx0\",\"dx11\",\"dx11\",\"dx11\",\"dx11\",\"dx11\",\"dx11\",\"dx11\",\"dx11\",\"dx11\",\"dx11\",\"dx11\",\"dx11\",\"dx11\",\"dx11\",\"dx11\",\"dx11\",\"dx11\",\"dx11\",\"dx11\",\"dx11\",\"dx11\",\"dx11\",\"dx11\",\"dx11\",\"dx11\",\"dx11\",\"dx11\",\"dx11\",\"dx11\",\"dx11\",\"dx11\",\"dx11\",\"dx11\",\"yx0\",\"yx0\",\"yx0\",\"yx0\",\"yx0\",\"yx0\",\"yx0\",\"yx0\",\"yx0\",\"yx0\",\"yx0\",\"yx0\",\"yx0\",\"yx0\",\"yx0\",\"yx0\",\"yx0\",\"yx0\",\"yx0\",\"yx0\",\"yx0\",\"yx0\",\"yx0\",\"yx0\",\"yx0\",\"yx0\",\"yx0\",\"dx11\",\"dx11\",\"dx11\",\"dx11\",\"dx11\",\"dx11\",\"dx11\",\"dx11\",\"dx11\",\"dx11\",\"dx11\",\"dx11\",\"dx11\",\"dx11\",\"dx11\",\"dx11\",\"dx11\",\"dx11\",\"dx11\",\"dx11\",\"dx11\",\"dx11\",\"dx11\",\"dx11\",\"dx11\",\"dx11\",\"dx11\",\"dx11\",\"dx11\",\"dx11\",\"dx11\",\"dx11\",\"dx11\",\"dx11\",\"dx11\",\"dx11\",\"dx11\",\"dx11\",\"dx11\",\"dx11\",\"dx11\",\"dx11\",\"dx11\",\"dx11\",\"dx11\",\"dx11\",\"dx11\",\"dx11\",\"dx11\",\"dx11\",\"dx11\",\"dx11\",\"dx11\",\"dx11\",\"dx11\",\"dz0\",\"dz0\",\"dz0\",\"yx0\",\"yx0\",\"yx0\",\"yx0\",\"yx0\",\"yx0\",\"yx0\",\"yx0\",\"yx0\",\"yx0\",\"yx0\",\"yx0\",\"yx0\",\"yx0\",\"yx0\",\"yx0\",\"dx11\",\"dx11\",\"dx11\",\"dx11\",\"dx11\",\"dx11\",\"dx11\",\"dx11\",\"dx11\",\"dx11\",\"dx11\",\"dx11\",\"dx11\",\"dx11\",\"dx11\",\"dx11\",\"dx11\"],\"xaxis\":\"x\",\"yaxis\":\"y\",\"type\":\"histogram\"},{\"alignmentgroup\":\"True\",\"bingroup\":\"x\",\"hovertemplate\":\"Method_of_Earthing=X<br>Vector Group=%{x}<br>count=%{y}<extra></extra>\",\"legendgroup\":\"X\",\"marker\":{\"color\":\"#00cc96\",\"pattern\":{\"shape\":\"\"}},\"name\":\"X\",\"offsetgroup\":\"X\",\"orientation\":\"v\",\"showlegend\":true,\"x\":[\"yx0\",\"yx0\",\"yx0\",\"yx0\",\"yx0\",\"yx0\",\"yx0\",\"yx0\",\"yx0\",\"yx0\",\"yx0\",\"dx11\",\"dx11\",\"yx0\",\"yx0\",\"yx0\",\"xx0\",\"xx0\",\"xx0\",\"xx0\",\"xx0\",\"dx11\",\"dx11\",\"yx0\",\"yx0\",\"yx0\",\"yx0\",\"yx0\",\"yx0\",\"yx0\",\"yx0\",\"yx0\",\"dx11\",\"dx11\",\"dx11\",\"dx11\",\"yx0\"],\"xaxis\":\"x\",\"yaxis\":\"y\",\"type\":\"histogram\"},{\"alignmentgroup\":\"True\",\"bingroup\":\"x\",\"hovertemplate\":\"Method_of_Earthing=SX<br>Vector Group=%{x}<br>count=%{y}<extra></extra>\",\"legendgroup\":\"SX\",\"marker\":{\"color\":\"#ab63fa\",\"pattern\":{\"shape\":\"\"}},\"name\":\"SX\",\"offsetgroup\":\"SX\",\"orientation\":\"v\",\"showlegend\":true,\"x\":[\"xx0\",\"yx0\"],\"xaxis\":\"x\",\"yaxis\":\"y\",\"type\":\"histogram\"},{\"alignmentgroup\":\"True\",\"bingroup\":\"x\",\"hovertemplate\":\"Method_of_Earthing=TX<br>Vector Group=%{x}<br>count=%{y}<extra></extra>\",\"legendgroup\":\"TX\",\"marker\":{\"color\":\"#FFA15A\",\"pattern\":{\"shape\":\"\"}},\"name\":\"TX\",\"offsetgroup\":\"TX\",\"orientation\":\"v\",\"showlegend\":true,\"x\":[\"xd1\",\"xd1\"],\"xaxis\":\"x\",\"yaxis\":\"y\",\"type\":\"histogram\"}],                        {\"template\":{\"data\":{\"histogram2dcontour\":[{\"type\":\"histogram2dcontour\",\"colorbar\":{\"outlinewidth\":0,\"ticks\":\"\"},\"colorscale\":[[0.0,\"#0d0887\"],[0.1111111111111111,\"#46039f\"],[0.2222222222222222,\"#7201a8\"],[0.3333333333333333,\"#9c179e\"],[0.4444444444444444,\"#bd3786\"],[0.5555555555555556,\"#d8576b\"],[0.6666666666666666,\"#ed7953\"],[0.7777777777777778,\"#fb9f3a\"],[0.8888888888888888,\"#fdca26\"],[1.0,\"#f0f921\"]]}],\"choropleth\":[{\"type\":\"choropleth\",\"colorbar\":{\"outlinewidth\":0,\"ticks\":\"\"}}],\"histogram2d\":[{\"type\":\"histogram2d\",\"colorbar\":{\"outlinewidth\":0,\"ticks\":\"\"},\"colorscale\":[[0.0,\"#0d0887\"],[0.1111111111111111,\"#46039f\"],[0.2222222222222222,\"#7201a8\"],[0.3333333333333333,\"#9c179e\"],[0.4444444444444444,\"#bd3786\"],[0.5555555555555556,\"#d8576b\"],[0.6666666666666666,\"#ed7953\"],[0.7777777777777778,\"#fb9f3a\"],[0.8888888888888888,\"#fdca26\"],[1.0,\"#f0f921\"]]}],\"heatmap\":[{\"type\":\"heatmap\",\"colorbar\":{\"outlinewidth\":0,\"ticks\":\"\"},\"colorscale\":[[0.0,\"#0d0887\"],[0.1111111111111111,\"#46039f\"],[0.2222222222222222,\"#7201a8\"],[0.3333333333333333,\"#9c179e\"],[0.4444444444444444,\"#bd3786\"],[0.5555555555555556,\"#d8576b\"],[0.6666666666666666,\"#ed7953\"],[0.7777777777777778,\"#fb9f3a\"],[0.8888888888888888,\"#fdca26\"],[1.0,\"#f0f921\"]]}],\"heatmapgl\":[{\"type\":\"heatmapgl\",\"colorbar\":{\"outlinewidth\":0,\"ticks\":\"\"},\"colorscale\":[[0.0,\"#0d0887\"],[0.1111111111111111,\"#46039f\"],[0.2222222222222222,\"#7201a8\"],[0.3333333333333333,\"#9c179e\"],[0.4444444444444444,\"#bd3786\"],[0.5555555555555556,\"#d8576b\"],[0.6666666666666666,\"#ed7953\"],[0.7777777777777778,\"#fb9f3a\"],[0.8888888888888888,\"#fdca26\"],[1.0,\"#f0f921\"]]}],\"contourcarpet\":[{\"type\":\"contourcarpet\",\"colorbar\":{\"outlinewidth\":0,\"ticks\":\"\"}}],\"contour\":[{\"type\":\"contour\",\"colorbar\":{\"outlinewidth\":0,\"ticks\":\"\"},\"colorscale\":[[0.0,\"#0d0887\"],[0.1111111111111111,\"#46039f\"],[0.2222222222222222,\"#7201a8\"],[0.3333333333333333,\"#9c179e\"],[0.4444444444444444,\"#bd3786\"],[0.5555555555555556,\"#d8576b\"],[0.6666666666666666,\"#ed7953\"],[0.7777777777777778,\"#fb9f3a\"],[0.8888888888888888,\"#fdca26\"],[1.0,\"#f0f921\"]]}],\"surface\":[{\"type\":\"surface\",\"colorbar\":{\"outlinewidth\":0,\"ticks\":\"\"},\"colorscale\":[[0.0,\"#0d0887\"],[0.1111111111111111,\"#46039f\"],[0.2222222222222222,\"#7201a8\"],[0.3333333333333333,\"#9c179e\"],[0.4444444444444444,\"#bd3786\"],[0.5555555555555556,\"#d8576b\"],[0.6666666666666666,\"#ed7953\"],[0.7777777777777778,\"#fb9f3a\"],[0.8888888888888888,\"#fdca26\"],[1.0,\"#f0f921\"]]}],\"mesh3d\":[{\"type\":\"mesh3d\",\"colorbar\":{\"outlinewidth\":0,\"ticks\":\"\"}}],\"scatter\":[{\"fillpattern\":{\"fillmode\":\"overlay\",\"size\":10,\"solidity\":0.2},\"type\":\"scatter\"}],\"parcoords\":[{\"type\":\"parcoords\",\"line\":{\"colorbar\":{\"outlinewidth\":0,\"ticks\":\"\"}}}],\"scatterpolargl\":[{\"type\":\"scatterpolargl\",\"marker\":{\"colorbar\":{\"outlinewidth\":0,\"ticks\":\"\"}}}],\"bar\":[{\"error_x\":{\"color\":\"#2a3f5f\"},\"error_y\":{\"color\":\"#2a3f5f\"},\"marker\":{\"line\":{\"color\":\"#E5ECF6\",\"width\":0.5},\"pattern\":{\"fillmode\":\"overlay\",\"size\":10,\"solidity\":0.2}},\"type\":\"bar\"}],\"scattergeo\":[{\"type\":\"scattergeo\",\"marker\":{\"colorbar\":{\"outlinewidth\":0,\"ticks\":\"\"}}}],\"scatterpolar\":[{\"type\":\"scatterpolar\",\"marker\":{\"colorbar\":{\"outlinewidth\":0,\"ticks\":\"\"}}}],\"histogram\":[{\"marker\":{\"pattern\":{\"fillmode\":\"overlay\",\"size\":10,\"solidity\":0.2}},\"type\":\"histogram\"}],\"scattergl\":[{\"type\":\"scattergl\",\"marker\":{\"colorbar\":{\"outlinewidth\":0,\"ticks\":\"\"}}}],\"scatter3d\":[{\"type\":\"scatter3d\",\"line\":{\"colorbar\":{\"outlinewidth\":0,\"ticks\":\"\"}},\"marker\":{\"colorbar\":{\"outlinewidth\":0,\"ticks\":\"\"}}}],\"scattermapbox\":[{\"type\":\"scattermapbox\",\"marker\":{\"colorbar\":{\"outlinewidth\":0,\"ticks\":\"\"}}}],\"scatterternary\":[{\"type\":\"scatterternary\",\"marker\":{\"colorbar\":{\"outlinewidth\":0,\"ticks\":\"\"}}}],\"scattercarpet\":[{\"type\":\"scattercarpet\",\"marker\":{\"colorbar\":{\"outlinewidth\":0,\"ticks\":\"\"}}}],\"carpet\":[{\"aaxis\":{\"endlinecolor\":\"#2a3f5f\",\"gridcolor\":\"white\",\"linecolor\":\"white\",\"minorgridcolor\":\"white\",\"startlinecolor\":\"#2a3f5f\"},\"baxis\":{\"endlinecolor\":\"#2a3f5f\",\"gridcolor\":\"white\",\"linecolor\":\"white\",\"minorgridcolor\":\"white\",\"startlinecolor\":\"#2a3f5f\"},\"type\":\"carpet\"}],\"table\":[{\"cells\":{\"fill\":{\"color\":\"#EBF0F8\"},\"line\":{\"color\":\"white\"}},\"header\":{\"fill\":{\"color\":\"#C8D4E3\"},\"line\":{\"color\":\"white\"}},\"type\":\"table\"}],\"barpolar\":[{\"marker\":{\"line\":{\"color\":\"#E5ECF6\",\"width\":0.5},\"pattern\":{\"fillmode\":\"overlay\",\"size\":10,\"solidity\":0.2}},\"type\":\"barpolar\"}],\"pie\":[{\"automargin\":true,\"type\":\"pie\"}]},\"layout\":{\"autotypenumbers\":\"strict\",\"colorway\":[\"#636efa\",\"#EF553B\",\"#00cc96\",\"#ab63fa\",\"#FFA15A\",\"#19d3f3\",\"#FF6692\",\"#B6E880\",\"#FF97FF\",\"#FECB52\"],\"font\":{\"color\":\"#2a3f5f\"},\"hovermode\":\"closest\",\"hoverlabel\":{\"align\":\"left\"},\"paper_bgcolor\":\"white\",\"plot_bgcolor\":\"#E5ECF6\",\"polar\":{\"bgcolor\":\"#E5ECF6\",\"angularaxis\":{\"gridcolor\":\"white\",\"linecolor\":\"white\",\"ticks\":\"\"},\"radialaxis\":{\"gridcolor\":\"white\",\"linecolor\":\"white\",\"ticks\":\"\"}},\"ternary\":{\"bgcolor\":\"#E5ECF6\",\"aaxis\":{\"gridcolor\":\"white\",\"linecolor\":\"white\",\"ticks\":\"\"},\"baxis\":{\"gridcolor\":\"white\",\"linecolor\":\"white\",\"ticks\":\"\"},\"caxis\":{\"gridcolor\":\"white\",\"linecolor\":\"white\",\"ticks\":\"\"}},\"coloraxis\":{\"colorbar\":{\"outlinewidth\":0,\"ticks\":\"\"}},\"colorscale\":{\"sequential\":[[0.0,\"#0d0887\"],[0.1111111111111111,\"#46039f\"],[0.2222222222222222,\"#7201a8\"],[0.3333333333333333,\"#9c179e\"],[0.4444444444444444,\"#bd3786\"],[0.5555555555555556,\"#d8576b\"],[0.6666666666666666,\"#ed7953\"],[0.7777777777777778,\"#fb9f3a\"],[0.8888888888888888,\"#fdca26\"],[1.0,\"#f0f921\"]],\"sequentialminus\":[[0.0,\"#0d0887\"],[0.1111111111111111,\"#46039f\"],[0.2222222222222222,\"#7201a8\"],[0.3333333333333333,\"#9c179e\"],[0.4444444444444444,\"#bd3786\"],[0.5555555555555556,\"#d8576b\"],[0.6666666666666666,\"#ed7953\"],[0.7777777777777778,\"#fb9f3a\"],[0.8888888888888888,\"#fdca26\"],[1.0,\"#f0f921\"]],\"diverging\":[[0,\"#8e0152\"],[0.1,\"#c51b7d\"],[0.2,\"#de77ae\"],[0.3,\"#f1b6da\"],[0.4,\"#fde0ef\"],[0.5,\"#f7f7f7\"],[0.6,\"#e6f5d0\"],[0.7,\"#b8e186\"],[0.8,\"#7fbc41\"],[0.9,\"#4d9221\"],[1,\"#276419\"]]},\"xaxis\":{\"gridcolor\":\"white\",\"linecolor\":\"white\",\"ticks\":\"\",\"title\":{\"standoff\":15},\"zerolinecolor\":\"white\",\"automargin\":true,\"zerolinewidth\":2},\"yaxis\":{\"gridcolor\":\"white\",\"linecolor\":\"white\",\"ticks\":\"\",\"title\":{\"standoff\":15},\"zerolinecolor\":\"white\",\"automargin\":true,\"zerolinewidth\":2},\"scene\":{\"xaxis\":{\"backgroundcolor\":\"#E5ECF6\",\"gridcolor\":\"white\",\"linecolor\":\"white\",\"showbackground\":true,\"ticks\":\"\",\"zerolinecolor\":\"white\",\"gridwidth\":2},\"yaxis\":{\"backgroundcolor\":\"#E5ECF6\",\"gridcolor\":\"white\",\"linecolor\":\"white\",\"showbackground\":true,\"ticks\":\"\",\"zerolinecolor\":\"white\",\"gridwidth\":2},\"zaxis\":{\"backgroundcolor\":\"#E5ECF6\",\"gridcolor\":\"white\",\"linecolor\":\"white\",\"showbackground\":true,\"ticks\":\"\",\"zerolinecolor\":\"white\",\"gridwidth\":2}},\"shapedefaults\":{\"line\":{\"color\":\"#2a3f5f\"}},\"annotationdefaults\":{\"arrowcolor\":\"#2a3f5f\",\"arrowhead\":0,\"arrowwidth\":1},\"geo\":{\"bgcolor\":\"white\",\"landcolor\":\"#E5ECF6\",\"subunitcolor\":\"white\",\"showland\":true,\"showlakes\":true,\"lakecolor\":\"white\"},\"title\":{\"x\":0.05},\"mapbox\":{\"style\":\"light\"}}},\"xaxis\":{\"anchor\":\"y\",\"domain\":[0.0,1.0],\"title\":{\"text\":\"Vector Group\"}},\"yaxis\":{\"anchor\":\"x\",\"domain\":[0.0,1.0],\"title\":{\"text\":\"count\"}},\"legend\":{\"title\":{\"text\":\"Method_of_Earthing\"},\"tracegroupgap\":0},\"title\":{\"text\":\"Vector Group / Method of Earthing \"},\"barmode\":\"relative\"},                        {\"responsive\": true}                    ).then(function(){\n",
              "                            \n",
              "var gd = document.getElementById('179db1e9-677a-4ab5-8efd-d74d7bd5d95a');\n",
              "var x = new MutationObserver(function (mutations, observer) {{\n",
              "        var display = window.getComputedStyle(gd).display;\n",
              "        if (!display || display === 'none') {{\n",
              "            console.log([gd, 'removed!']);\n",
              "            Plotly.purge(gd);\n",
              "            observer.disconnect();\n",
              "        }}\n",
              "}});\n",
              "\n",
              "// Listen for the removal of the full notebook cells\n",
              "var notebookContainer = gd.closest('#notebook-container');\n",
              "if (notebookContainer) {{\n",
              "    x.observe(notebookContainer, {childList: true});\n",
              "}}\n",
              "\n",
              "// Listen for the clearing of the current output cell\n",
              "var outputEl = gd.closest('.output');\n",
              "if (outputEl) {{\n",
              "    x.observe(outputEl, {childList: true});\n",
              "}}\n",
              "\n",
              "                        })                };                            </script>        </div>\n",
              "</body>\n",
              "</html>"
            ]
          },
          "metadata": {}
        }
      ]
    },
    {
      "cell_type": "code",
      "source": [
        "print(\"Count of cases:\", dset2['Method_of_Earthing'].value_counts())"
      ],
      "metadata": {
        "colab": {
          "base_uri": "https://localhost:8080/"
        },
        "id": "VcmWzqHjpKjx",
        "outputId": "66d890d6-e069-42e7-8954-7c1757263b98"
      },
      "execution_count": 217,
      "outputs": [
        {
          "output_type": "stream",
          "name": "stdout",
          "text": [
            "Count of cases: NER                 1143\n",
            "LER                  261\n",
            "SR                   183\n",
            "Solid                118\n",
            "TR                   116\n",
            "Solid/ET+NER         115\n",
            "R                     80\n",
            "Shared ASC            72\n",
            "Earth Tx & LER        63\n",
            "Earth Tx              59\n",
            "ET                    48\n",
            "ET + LER              43\n",
            "X                     37\n",
            "Solid/NER             36\n",
            "Solid/ET              32\n",
            "TD                    19\n",
            "D                     14\n",
            "ASC                   14\n",
            "T                      5\n",
            "ET + ASC               4\n",
            "SX                     2\n",
            "-                      2\n",
            "Shared LER             2\n",
            "Shared ASC / LER       2\n",
            "TX                     2\n",
            "Name: Method_of_Earthing, dtype: int64\n"
          ]
        }
      ]
    },
    {
      "cell_type": "markdown",
      "source": [
        "<h1> Now finding categorical columns </h1>"
      ],
      "metadata": {
        "id": "6jI-QFYdjq7d"
      }
    },
    {
      "cell_type": "code",
      "source": [
        "categorical_values = []\n",
        "for i in dset2.columns:\n",
        "    if dset2[i].dtype == \"object\":\n",
        "        categorical_values.append(i)\n",
        "        \n",
        "print(\"Categorical columns :\", categorical_values)"
      ],
      "metadata": {
        "colab": {
          "base_uri": "https://localhost:8080/"
        },
        "id": "kMAcDId9jyOq",
        "outputId": "281963da-452f-4cfd-c855-72d539d19b25"
      },
      "execution_count": 218,
      "outputs": [
        {
          "output_type": "stream",
          "name": "stdout",
          "text": [
            "Categorical columns : ['Area', 'GSP Group', 'S/S or Busbar Name Node 1', 'S/S or Busbar Name Node 2', 'Vector Group', 'Method_of_Earthing']\n"
          ]
        }
      ]
    },
    {
      "cell_type": "code",
      "source": [
        "from sklearn import preprocessing\n",
        "le= preprocessing.LabelEncoder()"
      ],
      "metadata": {
        "id": "LUJm2YC6j5i5"
      },
      "execution_count": 219,
      "outputs": []
    },
    {
      "cell_type": "code",
      "source": [
        "for i in categorical_values:\n",
        "    dset2[i] = le.fit_transform(dset2[i])"
      ],
      "metadata": {
        "id": "bP_WIjFMj8bR"
      },
      "execution_count": 220,
      "outputs": []
    },
    {
      "cell_type": "code",
      "source": [
        "dset2.head()"
      ],
      "metadata": {
        "colab": {
          "base_uri": "https://localhost:8080/",
          "height": 320
        },
        "id": "9QmN6VQVkBEr",
        "outputId": "fc8b0d8f-73de-4cd8-dd68-2db200b5f014"
      },
      "execution_count": 221,
      "outputs": [
        {
          "output_type": "execute_result",
          "data": {
            "text/plain": [
              "   Area  GSP Group  S/S or Busbar Name Node 1  \\\n",
              "0     1          9                        379   \n",
              "1     1          9                        379   \n",
              "2     1          9                        816   \n",
              "3     1          9                        816   \n",
              "4     1          9                       1134   \n",
              "\n",
              "   S/S or Busbar Name Node 1 Voltage  S/S or Busbar Name Node 2  \\\n",
              "0                                132                        331   \n",
              "1                                132                        331   \n",
              "2                                132                        721   \n",
              "3                                132                        721   \n",
              "4                                132                        995   \n",
              "\n",
              "   S/S or Busbar Name Node 2 Voltage  Transformer ID  Vector Group  \\\n",
              "0                               11.0        681123.0             7   \n",
              "1                               11.0        681124.0             7   \n",
              "2                               11.0        681192.0             7   \n",
              "3                               11.0        681193.0             7   \n",
              "4                               11.0        680867.0             9   \n",
              "\n",
              "   Positive Sequence Resistance R  Positive Sequence Reactance X  \\\n",
              "0                            1.90                          69.90   \n",
              "1                            1.90                          69.65   \n",
              "2                            1.92                          85.10   \n",
              "3                            1.92                          85.10   \n",
              "4                            2.65                          90.96   \n",
              "\n",
              "   Zero Sequence Reactance X  Tap Min  Tap Max  Tap Step  Normal Rating  \\\n",
              "0                     65.200    -20.0     10.0       1.2           20.0   \n",
              "1                     65.200    -20.0     10.0       1.2           20.0   \n",
              "2                     72.300    -20.0     10.0       1.2           20.0   \n",
              "3                     72.300    -20.0     10.0       1.2           20.0   \n",
              "4                    545.768    -23.0      5.0       1.2           20.0   \n",
              "\n",
              "   Method_of_Earthing  \n",
              "0                   6  \n",
              "1                   6  \n",
              "2                   6  \n",
              "3                   6  \n",
              "4                   8  "
            ],
            "text/html": [
              "\n",
              "  <div id=\"df-6e47c2d5-206e-4520-9490-5ac5e075479a\">\n",
              "    <div class=\"colab-df-container\">\n",
              "      <div>\n",
              "<style scoped>\n",
              "    .dataframe tbody tr th:only-of-type {\n",
              "        vertical-align: middle;\n",
              "    }\n",
              "\n",
              "    .dataframe tbody tr th {\n",
              "        vertical-align: top;\n",
              "    }\n",
              "\n",
              "    .dataframe thead th {\n",
              "        text-align: right;\n",
              "    }\n",
              "</style>\n",
              "<table border=\"1\" class=\"dataframe\">\n",
              "  <thead>\n",
              "    <tr style=\"text-align: right;\">\n",
              "      <th></th>\n",
              "      <th>Area</th>\n",
              "      <th>GSP Group</th>\n",
              "      <th>S/S or Busbar Name Node 1</th>\n",
              "      <th>S/S or Busbar Name Node 1 Voltage</th>\n",
              "      <th>S/S or Busbar Name Node 2</th>\n",
              "      <th>S/S or Busbar Name Node 2 Voltage</th>\n",
              "      <th>Transformer ID</th>\n",
              "      <th>Vector Group</th>\n",
              "      <th>Positive Sequence Resistance R</th>\n",
              "      <th>Positive Sequence Reactance X</th>\n",
              "      <th>Zero Sequence Reactance X</th>\n",
              "      <th>Tap Min</th>\n",
              "      <th>Tap Max</th>\n",
              "      <th>Tap Step</th>\n",
              "      <th>Normal Rating</th>\n",
              "      <th>Method_of_Earthing</th>\n",
              "    </tr>\n",
              "  </thead>\n",
              "  <tbody>\n",
              "    <tr>\n",
              "      <th>0</th>\n",
              "      <td>1</td>\n",
              "      <td>9</td>\n",
              "      <td>379</td>\n",
              "      <td>132</td>\n",
              "      <td>331</td>\n",
              "      <td>11.0</td>\n",
              "      <td>681123.0</td>\n",
              "      <td>7</td>\n",
              "      <td>1.90</td>\n",
              "      <td>69.90</td>\n",
              "      <td>65.200</td>\n",
              "      <td>-20.0</td>\n",
              "      <td>10.0</td>\n",
              "      <td>1.2</td>\n",
              "      <td>20.0</td>\n",
              "      <td>6</td>\n",
              "    </tr>\n",
              "    <tr>\n",
              "      <th>1</th>\n",
              "      <td>1</td>\n",
              "      <td>9</td>\n",
              "      <td>379</td>\n",
              "      <td>132</td>\n",
              "      <td>331</td>\n",
              "      <td>11.0</td>\n",
              "      <td>681124.0</td>\n",
              "      <td>7</td>\n",
              "      <td>1.90</td>\n",
              "      <td>69.65</td>\n",
              "      <td>65.200</td>\n",
              "      <td>-20.0</td>\n",
              "      <td>10.0</td>\n",
              "      <td>1.2</td>\n",
              "      <td>20.0</td>\n",
              "      <td>6</td>\n",
              "    </tr>\n",
              "    <tr>\n",
              "      <th>2</th>\n",
              "      <td>1</td>\n",
              "      <td>9</td>\n",
              "      <td>816</td>\n",
              "      <td>132</td>\n",
              "      <td>721</td>\n",
              "      <td>11.0</td>\n",
              "      <td>681192.0</td>\n",
              "      <td>7</td>\n",
              "      <td>1.92</td>\n",
              "      <td>85.10</td>\n",
              "      <td>72.300</td>\n",
              "      <td>-20.0</td>\n",
              "      <td>10.0</td>\n",
              "      <td>1.2</td>\n",
              "      <td>20.0</td>\n",
              "      <td>6</td>\n",
              "    </tr>\n",
              "    <tr>\n",
              "      <th>3</th>\n",
              "      <td>1</td>\n",
              "      <td>9</td>\n",
              "      <td>816</td>\n",
              "      <td>132</td>\n",
              "      <td>721</td>\n",
              "      <td>11.0</td>\n",
              "      <td>681193.0</td>\n",
              "      <td>7</td>\n",
              "      <td>1.92</td>\n",
              "      <td>85.10</td>\n",
              "      <td>72.300</td>\n",
              "      <td>-20.0</td>\n",
              "      <td>10.0</td>\n",
              "      <td>1.2</td>\n",
              "      <td>20.0</td>\n",
              "      <td>6</td>\n",
              "    </tr>\n",
              "    <tr>\n",
              "      <th>4</th>\n",
              "      <td>1</td>\n",
              "      <td>9</td>\n",
              "      <td>1134</td>\n",
              "      <td>132</td>\n",
              "      <td>995</td>\n",
              "      <td>11.0</td>\n",
              "      <td>680867.0</td>\n",
              "      <td>9</td>\n",
              "      <td>2.65</td>\n",
              "      <td>90.96</td>\n",
              "      <td>545.768</td>\n",
              "      <td>-23.0</td>\n",
              "      <td>5.0</td>\n",
              "      <td>1.2</td>\n",
              "      <td>20.0</td>\n",
              "      <td>8</td>\n",
              "    </tr>\n",
              "  </tbody>\n",
              "</table>\n",
              "</div>\n",
              "      <button class=\"colab-df-convert\" onclick=\"convertToInteractive('df-6e47c2d5-206e-4520-9490-5ac5e075479a')\"\n",
              "              title=\"Convert this dataframe to an interactive table.\"\n",
              "              style=\"display:none;\">\n",
              "        \n",
              "  <svg xmlns=\"http://www.w3.org/2000/svg\" height=\"24px\"viewBox=\"0 0 24 24\"\n",
              "       width=\"24px\">\n",
              "    <path d=\"M0 0h24v24H0V0z\" fill=\"none\"/>\n",
              "    <path d=\"M18.56 5.44l.94 2.06.94-2.06 2.06-.94-2.06-.94-.94-2.06-.94 2.06-2.06.94zm-11 1L8.5 8.5l.94-2.06 2.06-.94-2.06-.94L8.5 2.5l-.94 2.06-2.06.94zm10 10l.94 2.06.94-2.06 2.06-.94-2.06-.94-.94-2.06-.94 2.06-2.06.94z\"/><path d=\"M17.41 7.96l-1.37-1.37c-.4-.4-.92-.59-1.43-.59-.52 0-1.04.2-1.43.59L10.3 9.45l-7.72 7.72c-.78.78-.78 2.05 0 2.83L4 21.41c.39.39.9.59 1.41.59.51 0 1.02-.2 1.41-.59l7.78-7.78 2.81-2.81c.8-.78.8-2.07 0-2.86zM5.41 20L4 18.59l7.72-7.72 1.47 1.35L5.41 20z\"/>\n",
              "  </svg>\n",
              "      </button>\n",
              "      \n",
              "  <style>\n",
              "    .colab-df-container {\n",
              "      display:flex;\n",
              "      flex-wrap:wrap;\n",
              "      gap: 12px;\n",
              "    }\n",
              "\n",
              "    .colab-df-convert {\n",
              "      background-color: #E8F0FE;\n",
              "      border: none;\n",
              "      border-radius: 50%;\n",
              "      cursor: pointer;\n",
              "      display: none;\n",
              "      fill: #1967D2;\n",
              "      height: 32px;\n",
              "      padding: 0 0 0 0;\n",
              "      width: 32px;\n",
              "    }\n",
              "\n",
              "    .colab-df-convert:hover {\n",
              "      background-color: #E2EBFA;\n",
              "      box-shadow: 0px 1px 2px rgba(60, 64, 67, 0.3), 0px 1px 3px 1px rgba(60, 64, 67, 0.15);\n",
              "      fill: #174EA6;\n",
              "    }\n",
              "\n",
              "    [theme=dark] .colab-df-convert {\n",
              "      background-color: #3B4455;\n",
              "      fill: #D2E3FC;\n",
              "    }\n",
              "\n",
              "    [theme=dark] .colab-df-convert:hover {\n",
              "      background-color: #434B5C;\n",
              "      box-shadow: 0px 1px 3px 1px rgba(0, 0, 0, 0.15);\n",
              "      filter: drop-shadow(0px 1px 2px rgba(0, 0, 0, 0.3));\n",
              "      fill: #FFFFFF;\n",
              "    }\n",
              "  </style>\n",
              "\n",
              "      <script>\n",
              "        const buttonEl =\n",
              "          document.querySelector('#df-6e47c2d5-206e-4520-9490-5ac5e075479a button.colab-df-convert');\n",
              "        buttonEl.style.display =\n",
              "          google.colab.kernel.accessAllowed ? 'block' : 'none';\n",
              "\n",
              "        async function convertToInteractive(key) {\n",
              "          const element = document.querySelector('#df-6e47c2d5-206e-4520-9490-5ac5e075479a');\n",
              "          const dataTable =\n",
              "            await google.colab.kernel.invokeFunction('convertToInteractive',\n",
              "                                                     [key], {});\n",
              "          if (!dataTable) return;\n",
              "\n",
              "          const docLinkHtml = 'Like what you see? Visit the ' +\n",
              "            '<a target=\"_blank\" href=https://colab.research.google.com/notebooks/data_table.ipynb>data table notebook</a>'\n",
              "            + ' to learn more about interactive tables.';\n",
              "          element.innerHTML = '';\n",
              "          dataTable['output_type'] = 'display_data';\n",
              "          await google.colab.output.renderOutput(dataTable, element);\n",
              "          const docLink = document.createElement('div');\n",
              "          docLink.innerHTML = docLinkHtml;\n",
              "          element.appendChild(docLink);\n",
              "        }\n",
              "      </script>\n",
              "    </div>\n",
              "  </div>\n",
              "  "
            ]
          },
          "metadata": {},
          "execution_count": 221
        }
      ]
    },
    {
      "cell_type": "code",
      "source": [
        "dset2.tail()"
      ],
      "metadata": {
        "colab": {
          "base_uri": "https://localhost:8080/",
          "height": 320
        },
        "id": "ivIyYxwWkFXr",
        "outputId": "61129aa1-e6b5-4764-d988-c704ef7101e6"
      },
      "execution_count": 222,
      "outputs": [
        {
          "output_type": "execute_result",
          "data": {
            "text/plain": [
              "      Area  GSP Group  S/S or Busbar Name Node 1  \\\n",
              "2467     3         45                       2185   \n",
              "2468     3         45                       2186   \n",
              "2469     3         45                       2184   \n",
              "2470     3         45                       2219   \n",
              "2471     3         45                       2220   \n",
              "\n",
              "      S/S or Busbar Name Node 1 Voltage  S/S or Busbar Name Node 2  \\\n",
              "2467                                132                       1901   \n",
              "2468                                132                       1902   \n",
              "2469                                132                       1900   \n",
              "2470                                132                       1929   \n",
              "2471                                 33                       1930   \n",
              "\n",
              "      S/S or Busbar Name Node 2 Voltage  Transformer ID  Vector Group  \\\n",
              "2467                               11.0       3092205.0            22   \n",
              "2468                               11.0       3092110.0            22   \n",
              "2469                               11.0       4169152.0            22   \n",
              "2470                               33.0       3092656.0            22   \n",
              "2471                               11.0       3093094.0            26   \n",
              "\n",
              "      Positive Sequence Resistance R  Positive Sequence Reactance X  \\\n",
              "2467                           2.420                         85.130   \n",
              "2468                           2.594                         69.170   \n",
              "2469                           2.200                         90.633   \n",
              "2470                           0.992                         21.467   \n",
              "2471                           2.881                         76.852   \n",
              "\n",
              "      Zero Sequence Reactance X  Tap Min  Tap Max  Tap Step  Normal Rating  \\\n",
              "2467                     79.000    -20.0     10.0       1.2           30.0   \n",
              "2468                     69.170    -20.0     10.0       1.2           30.0   \n",
              "2469                     84.067    -20.0     10.0       1.2           30.0   \n",
              "2470                     21.467    -20.0     10.0       1.2           60.0   \n",
              "2471                      0.000    -17.0      6.0       1.2           18.0   \n",
              "\n",
              "      Method_of_Earthing  \n",
              "2467                  22  \n",
              "2468                  22  \n",
              "2469                  22  \n",
              "2470                  23  \n",
              "2471                  24  "
            ],
            "text/html": [
              "\n",
              "  <div id=\"df-9e9c2d2a-a5fe-408f-8a52-f9f8d6f0b448\">\n",
              "    <div class=\"colab-df-container\">\n",
              "      <div>\n",
              "<style scoped>\n",
              "    .dataframe tbody tr th:only-of-type {\n",
              "        vertical-align: middle;\n",
              "    }\n",
              "\n",
              "    .dataframe tbody tr th {\n",
              "        vertical-align: top;\n",
              "    }\n",
              "\n",
              "    .dataframe thead th {\n",
              "        text-align: right;\n",
              "    }\n",
              "</style>\n",
              "<table border=\"1\" class=\"dataframe\">\n",
              "  <thead>\n",
              "    <tr style=\"text-align: right;\">\n",
              "      <th></th>\n",
              "      <th>Area</th>\n",
              "      <th>GSP Group</th>\n",
              "      <th>S/S or Busbar Name Node 1</th>\n",
              "      <th>S/S or Busbar Name Node 1 Voltage</th>\n",
              "      <th>S/S or Busbar Name Node 2</th>\n",
              "      <th>S/S or Busbar Name Node 2 Voltage</th>\n",
              "      <th>Transformer ID</th>\n",
              "      <th>Vector Group</th>\n",
              "      <th>Positive Sequence Resistance R</th>\n",
              "      <th>Positive Sequence Reactance X</th>\n",
              "      <th>Zero Sequence Reactance X</th>\n",
              "      <th>Tap Min</th>\n",
              "      <th>Tap Max</th>\n",
              "      <th>Tap Step</th>\n",
              "      <th>Normal Rating</th>\n",
              "      <th>Method_of_Earthing</th>\n",
              "    </tr>\n",
              "  </thead>\n",
              "  <tbody>\n",
              "    <tr>\n",
              "      <th>2467</th>\n",
              "      <td>3</td>\n",
              "      <td>45</td>\n",
              "      <td>2185</td>\n",
              "      <td>132</td>\n",
              "      <td>1901</td>\n",
              "      <td>11.0</td>\n",
              "      <td>3092205.0</td>\n",
              "      <td>22</td>\n",
              "      <td>2.420</td>\n",
              "      <td>85.130</td>\n",
              "      <td>79.000</td>\n",
              "      <td>-20.0</td>\n",
              "      <td>10.0</td>\n",
              "      <td>1.2</td>\n",
              "      <td>30.0</td>\n",
              "      <td>22</td>\n",
              "    </tr>\n",
              "    <tr>\n",
              "      <th>2468</th>\n",
              "      <td>3</td>\n",
              "      <td>45</td>\n",
              "      <td>2186</td>\n",
              "      <td>132</td>\n",
              "      <td>1902</td>\n",
              "      <td>11.0</td>\n",
              "      <td>3092110.0</td>\n",
              "      <td>22</td>\n",
              "      <td>2.594</td>\n",
              "      <td>69.170</td>\n",
              "      <td>69.170</td>\n",
              "      <td>-20.0</td>\n",
              "      <td>10.0</td>\n",
              "      <td>1.2</td>\n",
              "      <td>30.0</td>\n",
              "      <td>22</td>\n",
              "    </tr>\n",
              "    <tr>\n",
              "      <th>2469</th>\n",
              "      <td>3</td>\n",
              "      <td>45</td>\n",
              "      <td>2184</td>\n",
              "      <td>132</td>\n",
              "      <td>1900</td>\n",
              "      <td>11.0</td>\n",
              "      <td>4169152.0</td>\n",
              "      <td>22</td>\n",
              "      <td>2.200</td>\n",
              "      <td>90.633</td>\n",
              "      <td>84.067</td>\n",
              "      <td>-20.0</td>\n",
              "      <td>10.0</td>\n",
              "      <td>1.2</td>\n",
              "      <td>30.0</td>\n",
              "      <td>22</td>\n",
              "    </tr>\n",
              "    <tr>\n",
              "      <th>2470</th>\n",
              "      <td>3</td>\n",
              "      <td>45</td>\n",
              "      <td>2219</td>\n",
              "      <td>132</td>\n",
              "      <td>1929</td>\n",
              "      <td>33.0</td>\n",
              "      <td>3092656.0</td>\n",
              "      <td>22</td>\n",
              "      <td>0.992</td>\n",
              "      <td>21.467</td>\n",
              "      <td>21.467</td>\n",
              "      <td>-20.0</td>\n",
              "      <td>10.0</td>\n",
              "      <td>1.2</td>\n",
              "      <td>60.0</td>\n",
              "      <td>23</td>\n",
              "    </tr>\n",
              "    <tr>\n",
              "      <th>2471</th>\n",
              "      <td>3</td>\n",
              "      <td>45</td>\n",
              "      <td>2220</td>\n",
              "      <td>33</td>\n",
              "      <td>1930</td>\n",
              "      <td>11.0</td>\n",
              "      <td>3093094.0</td>\n",
              "      <td>26</td>\n",
              "      <td>2.881</td>\n",
              "      <td>76.852</td>\n",
              "      <td>0.000</td>\n",
              "      <td>-17.0</td>\n",
              "      <td>6.0</td>\n",
              "      <td>1.2</td>\n",
              "      <td>18.0</td>\n",
              "      <td>24</td>\n",
              "    </tr>\n",
              "  </tbody>\n",
              "</table>\n",
              "</div>\n",
              "      <button class=\"colab-df-convert\" onclick=\"convertToInteractive('df-9e9c2d2a-a5fe-408f-8a52-f9f8d6f0b448')\"\n",
              "              title=\"Convert this dataframe to an interactive table.\"\n",
              "              style=\"display:none;\">\n",
              "        \n",
              "  <svg xmlns=\"http://www.w3.org/2000/svg\" height=\"24px\"viewBox=\"0 0 24 24\"\n",
              "       width=\"24px\">\n",
              "    <path d=\"M0 0h24v24H0V0z\" fill=\"none\"/>\n",
              "    <path d=\"M18.56 5.44l.94 2.06.94-2.06 2.06-.94-2.06-.94-.94-2.06-.94 2.06-2.06.94zm-11 1L8.5 8.5l.94-2.06 2.06-.94-2.06-.94L8.5 2.5l-.94 2.06-2.06.94zm10 10l.94 2.06.94-2.06 2.06-.94-2.06-.94-.94-2.06-.94 2.06-2.06.94z\"/><path d=\"M17.41 7.96l-1.37-1.37c-.4-.4-.92-.59-1.43-.59-.52 0-1.04.2-1.43.59L10.3 9.45l-7.72 7.72c-.78.78-.78 2.05 0 2.83L4 21.41c.39.39.9.59 1.41.59.51 0 1.02-.2 1.41-.59l7.78-7.78 2.81-2.81c.8-.78.8-2.07 0-2.86zM5.41 20L4 18.59l7.72-7.72 1.47 1.35L5.41 20z\"/>\n",
              "  </svg>\n",
              "      </button>\n",
              "      \n",
              "  <style>\n",
              "    .colab-df-container {\n",
              "      display:flex;\n",
              "      flex-wrap:wrap;\n",
              "      gap: 12px;\n",
              "    }\n",
              "\n",
              "    .colab-df-convert {\n",
              "      background-color: #E8F0FE;\n",
              "      border: none;\n",
              "      border-radius: 50%;\n",
              "      cursor: pointer;\n",
              "      display: none;\n",
              "      fill: #1967D2;\n",
              "      height: 32px;\n",
              "      padding: 0 0 0 0;\n",
              "      width: 32px;\n",
              "    }\n",
              "\n",
              "    .colab-df-convert:hover {\n",
              "      background-color: #E2EBFA;\n",
              "      box-shadow: 0px 1px 2px rgba(60, 64, 67, 0.3), 0px 1px 3px 1px rgba(60, 64, 67, 0.15);\n",
              "      fill: #174EA6;\n",
              "    }\n",
              "\n",
              "    [theme=dark] .colab-df-convert {\n",
              "      background-color: #3B4455;\n",
              "      fill: #D2E3FC;\n",
              "    }\n",
              "\n",
              "    [theme=dark] .colab-df-convert:hover {\n",
              "      background-color: #434B5C;\n",
              "      box-shadow: 0px 1px 3px 1px rgba(0, 0, 0, 0.15);\n",
              "      filter: drop-shadow(0px 1px 2px rgba(0, 0, 0, 0.3));\n",
              "      fill: #FFFFFF;\n",
              "    }\n",
              "  </style>\n",
              "\n",
              "      <script>\n",
              "        const buttonEl =\n",
              "          document.querySelector('#df-9e9c2d2a-a5fe-408f-8a52-f9f8d6f0b448 button.colab-df-convert');\n",
              "        buttonEl.style.display =\n",
              "          google.colab.kernel.accessAllowed ? 'block' : 'none';\n",
              "\n",
              "        async function convertToInteractive(key) {\n",
              "          const element = document.querySelector('#df-9e9c2d2a-a5fe-408f-8a52-f9f8d6f0b448');\n",
              "          const dataTable =\n",
              "            await google.colab.kernel.invokeFunction('convertToInteractive',\n",
              "                                                     [key], {});\n",
              "          if (!dataTable) return;\n",
              "\n",
              "          const docLinkHtml = 'Like what you see? Visit the ' +\n",
              "            '<a target=\"_blank\" href=https://colab.research.google.com/notebooks/data_table.ipynb>data table notebook</a>'\n",
              "            + ' to learn more about interactive tables.';\n",
              "          element.innerHTML = '';\n",
              "          dataTable['output_type'] = 'display_data';\n",
              "          await google.colab.output.renderOutput(dataTable, element);\n",
              "          const docLink = document.createElement('div');\n",
              "          docLink.innerHTML = docLinkHtml;\n",
              "          element.appendChild(docLink);\n",
              "        }\n",
              "      </script>\n",
              "    </div>\n",
              "  </div>\n",
              "  "
            ]
          },
          "metadata": {},
          "execution_count": 222
        }
      ]
    },
    {
      "cell_type": "code",
      "source": [
        "X= dset2.drop('Method_of_Earthing',axis='columns')\n",
        "Y= dset2.Method_of_Earthing"
      ],
      "metadata": {
        "id": "SP4tCMsykIYT"
      },
      "execution_count": 223,
      "outputs": []
    },
    {
      "cell_type": "code",
      "source": [
        "import statsmodels.api as sm\n",
        "X= sm.add_constant(X) "
      ],
      "metadata": {
        "id": "1-CD4UZSkxv7"
      },
      "execution_count": 224,
      "outputs": []
    },
    {
      "cell_type": "code",
      "source": [
        "lr= sm.OLS(Y,X).fit()\n",
        "print(lr.summary2())"
      ],
      "metadata": {
        "colab": {
          "base_uri": "https://localhost:8080/"
        },
        "id": "Qzf3FhzIk6qF",
        "outputId": "27203488-4abf-4891-ef16-6332bfb4239c"
      },
      "execution_count": 225,
      "outputs": [
        {
          "output_type": "stream",
          "name": "stdout",
          "text": [
            "                          Results: Ordinary least squares\n",
            "===================================================================================\n",
            "Model:                    OLS                    Adj. R-squared:         0.452     \n",
            "Dependent Variable:       Method_of_Earthing     AIC:                    13085.3808\n",
            "Date:                     2023-05-06 16:56       BIC:                    13178.3854\n",
            "No. Observations:         2472                   Log-Likelihood:         -6526.7   \n",
            "Df Model:                 15                     F-statistic:            136.8     \n",
            "Df Residuals:             2456                   Prob (F-statistic):     5.31e-310 \n",
            "R-squared:                0.455                  Scale:                  11.578    \n",
            "-----------------------------------------------------------------------------------\n",
            "                                   Coef.  Std.Err.    t     P>|t|   [0.025   0.975]\n",
            "-----------------------------------------------------------------------------------\n",
            "const                             -9.6668   1.2619  -7.6603 0.0000 -12.1413 -7.1922\n",
            "Area                               1.2125   0.0988  12.2666 0.0000   1.0187  1.4063\n",
            "GSP Group                          0.0085   0.0052   1.6518 0.0987  -0.0016  0.0186\n",
            "S/S or Busbar Name Node 1          0.0017   0.0014   1.2167 0.2238  -0.0010  0.0043\n",
            "S/S or Busbar Name Node 1 Voltage  0.0043   0.0055   0.7801 0.4354  -0.0065  0.0150\n",
            "S/S or Busbar Name Node 2         -0.0020   0.0016  -1.2759 0.2021  -0.0051  0.0011\n",
            "S/S or Busbar Name Node 2 Voltage -0.1452   0.0141 -10.2824 0.0000  -0.1729 -0.1175\n",
            "Transformer ID                     0.0000   0.0000   1.8018 0.0717  -0.0000  0.0000\n",
            "Vector Group                       0.1405   0.0131  10.7290 0.0000   0.1148  0.1662\n",
            "Positive Sequence Resistance R     0.0783   0.0233   3.3537 0.0008   0.0325  0.1241\n",
            "Positive Sequence Reactance X      0.0297   0.0042   7.0074 0.0000   0.0214  0.0381\n",
            "Zero Sequence Reactance X         -0.0001   0.0000  -3.6366 0.0003  -0.0001 -0.0000\n",
            "Tap Min                           -0.0045   0.0506  -0.0899 0.9284  -0.1037  0.0946\n",
            "Tap Max                            0.2558   0.0503   5.0887 0.0000   0.1572  0.3544\n",
            "Tap Step                           9.3948   0.6889  13.6376 0.0000   8.0439 10.7457\n",
            "Normal Rating                      0.1191   0.0067  17.7528 0.0000   0.1060  0.1323\n",
            "-----------------------------------------------------------------------------------\n",
            "Omnibus:                   143.216            Durbin-Watson:               0.966   \n",
            "Prob(Omnibus):             0.000              Jarque-Bera (JB):            555.148 \n",
            "Skew:                      0.116              Prob(JB):                    0.000   \n",
            "Kurtosis:                  5.310              Condition No.:               71774962\n",
            "===================================================================================\n",
            "* The condition number is large (7e+07). This might indicate             strong\n",
            "multicollinearity or other numerical problems.\n"
          ]
        }
      ]
    },
    {
      "cell_type": "code",
      "source": [
        "p_values= lr.pvalues\n",
        "cols= p_values[p_values<=0.05].index.tolist() \n",
        "print(cols)"
      ],
      "metadata": {
        "colab": {
          "base_uri": "https://localhost:8080/"
        },
        "id": "avxI-FXslAFN",
        "outputId": "e1cbc316-6cd4-4f83-c85a-f6d04da430db"
      },
      "execution_count": 226,
      "outputs": [
        {
          "output_type": "stream",
          "name": "stdout",
          "text": [
            "['const', 'Area', 'S/S or Busbar Name Node 2 Voltage', 'Vector Group', 'Positive Sequence Resistance R', 'Positive Sequence Reactance X', 'Zero Sequence Reactance X', 'Tap Max', 'Tap Step', 'Normal Rating']\n"
          ]
        }
      ]
    },
    {
      "cell_type": "code",
      "source": [
        "X= X[cols[1:]]\n",
        "X.head()"
      ],
      "metadata": {
        "colab": {
          "base_uri": "https://localhost:8080/",
          "height": 268
        },
        "id": "8EBAH3RLlDqX",
        "outputId": "83befd05-c871-434f-cb04-7c69eb0964e5"
      },
      "execution_count": 227,
      "outputs": [
        {
          "output_type": "execute_result",
          "data": {
            "text/plain": [
              "   Area  S/S or Busbar Name Node 2 Voltage  Vector Group  \\\n",
              "0     1                               11.0             7   \n",
              "1     1                               11.0             7   \n",
              "2     1                               11.0             7   \n",
              "3     1                               11.0             7   \n",
              "4     1                               11.0             9   \n",
              "\n",
              "   Positive Sequence Resistance R  Positive Sequence Reactance X  \\\n",
              "0                            1.90                          69.90   \n",
              "1                            1.90                          69.65   \n",
              "2                            1.92                          85.10   \n",
              "3                            1.92                          85.10   \n",
              "4                            2.65                          90.96   \n",
              "\n",
              "   Zero Sequence Reactance X  Tap Max  Tap Step  Normal Rating  \n",
              "0                     65.200     10.0       1.2           20.0  \n",
              "1                     65.200     10.0       1.2           20.0  \n",
              "2                     72.300     10.0       1.2           20.0  \n",
              "3                     72.300     10.0       1.2           20.0  \n",
              "4                    545.768      5.0       1.2           20.0  "
            ],
            "text/html": [
              "\n",
              "  <div id=\"df-81a894c6-ba3d-4e51-a60c-cc041ebe72be\">\n",
              "    <div class=\"colab-df-container\">\n",
              "      <div>\n",
              "<style scoped>\n",
              "    .dataframe tbody tr th:only-of-type {\n",
              "        vertical-align: middle;\n",
              "    }\n",
              "\n",
              "    .dataframe tbody tr th {\n",
              "        vertical-align: top;\n",
              "    }\n",
              "\n",
              "    .dataframe thead th {\n",
              "        text-align: right;\n",
              "    }\n",
              "</style>\n",
              "<table border=\"1\" class=\"dataframe\">\n",
              "  <thead>\n",
              "    <tr style=\"text-align: right;\">\n",
              "      <th></th>\n",
              "      <th>Area</th>\n",
              "      <th>S/S or Busbar Name Node 2 Voltage</th>\n",
              "      <th>Vector Group</th>\n",
              "      <th>Positive Sequence Resistance R</th>\n",
              "      <th>Positive Sequence Reactance X</th>\n",
              "      <th>Zero Sequence Reactance X</th>\n",
              "      <th>Tap Max</th>\n",
              "      <th>Tap Step</th>\n",
              "      <th>Normal Rating</th>\n",
              "    </tr>\n",
              "  </thead>\n",
              "  <tbody>\n",
              "    <tr>\n",
              "      <th>0</th>\n",
              "      <td>1</td>\n",
              "      <td>11.0</td>\n",
              "      <td>7</td>\n",
              "      <td>1.90</td>\n",
              "      <td>69.90</td>\n",
              "      <td>65.200</td>\n",
              "      <td>10.0</td>\n",
              "      <td>1.2</td>\n",
              "      <td>20.0</td>\n",
              "    </tr>\n",
              "    <tr>\n",
              "      <th>1</th>\n",
              "      <td>1</td>\n",
              "      <td>11.0</td>\n",
              "      <td>7</td>\n",
              "      <td>1.90</td>\n",
              "      <td>69.65</td>\n",
              "      <td>65.200</td>\n",
              "      <td>10.0</td>\n",
              "      <td>1.2</td>\n",
              "      <td>20.0</td>\n",
              "    </tr>\n",
              "    <tr>\n",
              "      <th>2</th>\n",
              "      <td>1</td>\n",
              "      <td>11.0</td>\n",
              "      <td>7</td>\n",
              "      <td>1.92</td>\n",
              "      <td>85.10</td>\n",
              "      <td>72.300</td>\n",
              "      <td>10.0</td>\n",
              "      <td>1.2</td>\n",
              "      <td>20.0</td>\n",
              "    </tr>\n",
              "    <tr>\n",
              "      <th>3</th>\n",
              "      <td>1</td>\n",
              "      <td>11.0</td>\n",
              "      <td>7</td>\n",
              "      <td>1.92</td>\n",
              "      <td>85.10</td>\n",
              "      <td>72.300</td>\n",
              "      <td>10.0</td>\n",
              "      <td>1.2</td>\n",
              "      <td>20.0</td>\n",
              "    </tr>\n",
              "    <tr>\n",
              "      <th>4</th>\n",
              "      <td>1</td>\n",
              "      <td>11.0</td>\n",
              "      <td>9</td>\n",
              "      <td>2.65</td>\n",
              "      <td>90.96</td>\n",
              "      <td>545.768</td>\n",
              "      <td>5.0</td>\n",
              "      <td>1.2</td>\n",
              "      <td>20.0</td>\n",
              "    </tr>\n",
              "  </tbody>\n",
              "</table>\n",
              "</div>\n",
              "      <button class=\"colab-df-convert\" onclick=\"convertToInteractive('df-81a894c6-ba3d-4e51-a60c-cc041ebe72be')\"\n",
              "              title=\"Convert this dataframe to an interactive table.\"\n",
              "              style=\"display:none;\">\n",
              "        \n",
              "  <svg xmlns=\"http://www.w3.org/2000/svg\" height=\"24px\"viewBox=\"0 0 24 24\"\n",
              "       width=\"24px\">\n",
              "    <path d=\"M0 0h24v24H0V0z\" fill=\"none\"/>\n",
              "    <path d=\"M18.56 5.44l.94 2.06.94-2.06 2.06-.94-2.06-.94-.94-2.06-.94 2.06-2.06.94zm-11 1L8.5 8.5l.94-2.06 2.06-.94-2.06-.94L8.5 2.5l-.94 2.06-2.06.94zm10 10l.94 2.06.94-2.06 2.06-.94-2.06-.94-.94-2.06-.94 2.06-2.06.94z\"/><path d=\"M17.41 7.96l-1.37-1.37c-.4-.4-.92-.59-1.43-.59-.52 0-1.04.2-1.43.59L10.3 9.45l-7.72 7.72c-.78.78-.78 2.05 0 2.83L4 21.41c.39.39.9.59 1.41.59.51 0 1.02-.2 1.41-.59l7.78-7.78 2.81-2.81c.8-.78.8-2.07 0-2.86zM5.41 20L4 18.59l7.72-7.72 1.47 1.35L5.41 20z\"/>\n",
              "  </svg>\n",
              "      </button>\n",
              "      \n",
              "  <style>\n",
              "    .colab-df-container {\n",
              "      display:flex;\n",
              "      flex-wrap:wrap;\n",
              "      gap: 12px;\n",
              "    }\n",
              "\n",
              "    .colab-df-convert {\n",
              "      background-color: #E8F0FE;\n",
              "      border: none;\n",
              "      border-radius: 50%;\n",
              "      cursor: pointer;\n",
              "      display: none;\n",
              "      fill: #1967D2;\n",
              "      height: 32px;\n",
              "      padding: 0 0 0 0;\n",
              "      width: 32px;\n",
              "    }\n",
              "\n",
              "    .colab-df-convert:hover {\n",
              "      background-color: #E2EBFA;\n",
              "      box-shadow: 0px 1px 2px rgba(60, 64, 67, 0.3), 0px 1px 3px 1px rgba(60, 64, 67, 0.15);\n",
              "      fill: #174EA6;\n",
              "    }\n",
              "\n",
              "    [theme=dark] .colab-df-convert {\n",
              "      background-color: #3B4455;\n",
              "      fill: #D2E3FC;\n",
              "    }\n",
              "\n",
              "    [theme=dark] .colab-df-convert:hover {\n",
              "      background-color: #434B5C;\n",
              "      box-shadow: 0px 1px 3px 1px rgba(0, 0, 0, 0.15);\n",
              "      filter: drop-shadow(0px 1px 2px rgba(0, 0, 0, 0.3));\n",
              "      fill: #FFFFFF;\n",
              "    }\n",
              "  </style>\n",
              "\n",
              "      <script>\n",
              "        const buttonEl =\n",
              "          document.querySelector('#df-81a894c6-ba3d-4e51-a60c-cc041ebe72be button.colab-df-convert');\n",
              "        buttonEl.style.display =\n",
              "          google.colab.kernel.accessAllowed ? 'block' : 'none';\n",
              "\n",
              "        async function convertToInteractive(key) {\n",
              "          const element = document.querySelector('#df-81a894c6-ba3d-4e51-a60c-cc041ebe72be');\n",
              "          const dataTable =\n",
              "            await google.colab.kernel.invokeFunction('convertToInteractive',\n",
              "                                                     [key], {});\n",
              "          if (!dataTable) return;\n",
              "\n",
              "          const docLinkHtml = 'Like what you see? Visit the ' +\n",
              "            '<a target=\"_blank\" href=https://colab.research.google.com/notebooks/data_table.ipynb>data table notebook</a>'\n",
              "            + ' to learn more about interactive tables.';\n",
              "          element.innerHTML = '';\n",
              "          dataTable['output_type'] = 'display_data';\n",
              "          await google.colab.output.renderOutput(dataTable, element);\n",
              "          const docLink = document.createElement('div');\n",
              "          docLink.innerHTML = docLinkHtml;\n",
              "          element.appendChild(docLink);\n",
              "        }\n",
              "      </script>\n",
              "    </div>\n",
              "  </div>\n",
              "  "
            ]
          },
          "metadata": {},
          "execution_count": 227
        }
      ]
    },
    {
      "cell_type": "code",
      "source": [
        "from sklearn.model_selection import train_test_split\n",
        "X_train, X_test, Y_train, Y_test= train_test_split(X, Y, test_size= 0.2, stratify= Y, random_state= 42)"
      ],
      "metadata": {
        "id": "q9tvRMeulJHg"
      },
      "execution_count": 228,
      "outputs": []
    },
    {
      "cell_type": "markdown",
      "source": [
        "<h1> Here Iam checking for the distribution of target variable in train test split </h1>"
      ],
      "metadata": {
        "id": "WBUoKUxbukeM"
      }
    },
    {
      "cell_type": "code",
      "source": [
        "print('Distribution of target variable in training dataset')\n",
        "print(Y_train.value_counts())\n",
        "\n",
        "print('Distribution of target variable in test dataset')\n",
        "print(Y_test.value_counts())"
      ],
      "metadata": {
        "colab": {
          "base_uri": "https://localhost:8080/"
        },
        "id": "WmdJGiIDlKlR",
        "outputId": "4867fa3a-80f8-459d-a3ee-1e281c1cf9dc"
      },
      "execution_count": 229,
      "outputs": [
        {
          "output_type": "stream",
          "name": "stdout",
          "text": [
            "Distribution of target variable in training dataset\n",
            "9     914\n",
            "8     209\n",
            "11    146\n",
            "16     94\n",
            "22     93\n",
            "18     92\n",
            "10     64\n",
            "13     57\n",
            "7      50\n",
            "6      47\n",
            "3      38\n",
            "5      34\n",
            "24     30\n",
            "19     29\n",
            "17     26\n",
            "21     15\n",
            "2      11\n",
            "1      11\n",
            "20      4\n",
            "4       3\n",
            "15      2\n",
            "0       2\n",
            "12      2\n",
            "14      2\n",
            "23      2\n",
            "Name: Method_of_Earthing, dtype: int64\n",
            "Distribution of target variable in test dataset\n",
            "9     229\n",
            "8      52\n",
            "11     37\n",
            "16     24\n",
            "22     23\n",
            "18     23\n",
            "10     16\n",
            "13     15\n",
            "7      13\n",
            "6      12\n",
            "3      10\n",
            "5       9\n",
            "24      7\n",
            "19      7\n",
            "17      6\n",
            "21      4\n",
            "2       3\n",
            "1       3\n",
            "4       1\n",
            "20      1\n",
            "Name: Method_of_Earthing, dtype: int64\n"
          ]
        }
      ]
    },
    {
      "cell_type": "markdown",
      "source": [
        "<h1> Data Normalization </h1>"
      ],
      "metadata": {
        "id": "PYwX8V1qlQu1"
      }
    },
    {
      "cell_type": "code",
      "source": [
        "from sklearn.preprocessing import MinMaxScaler\n",
        "sc = MinMaxScaler()\n",
        "X_train = sc.fit_transform(X_train)\n",
        "X_test = sc.transform(X_test)"
      ],
      "metadata": {
        "id": "BNnlb-S8lOeO"
      },
      "execution_count": 230,
      "outputs": []
    },
    {
      "cell_type": "markdown",
      "source": [
        "<h1> Decision Tree </h1>"
      ],
      "metadata": {
        "id": "i00Ec86Bl1-q"
      }
    },
    {
      "cell_type": "markdown",
      "source": [
        "SkLearn_DT"
      ],
      "metadata": {
        "id": "CayP2nBSvhb6"
      }
    },
    {
      "cell_type": "code",
      "source": [
        "from sklearn.tree import DecisionTreeClassifier\n",
        "\n",
        "# create an instance of the DecisionTreeClassifier class\n",
        "skd= DecisionTreeClassifier(max_depth = 4,random_state = 42)\n",
        "skd.fit(X_train,Y_train)"
      ],
      "metadata": {
        "colab": {
          "base_uri": "https://localhost:8080/",
          "height": 75
        },
        "id": "zP8wOA8QlYoS",
        "outputId": "957a50ba-9ee3-4b6c-d0aa-529ee2e7eae2"
      },
      "execution_count": 231,
      "outputs": [
        {
          "output_type": "execute_result",
          "data": {
            "text/plain": [
              "DecisionTreeClassifier(max_depth=4, random_state=42)"
            ],
            "text/html": [
              "<style>#sk-container-id-13 {color: black;background-color: white;}#sk-container-id-13 pre{padding: 0;}#sk-container-id-13 div.sk-toggleable {background-color: white;}#sk-container-id-13 label.sk-toggleable__label {cursor: pointer;display: block;width: 100%;margin-bottom: 0;padding: 0.3em;box-sizing: border-box;text-align: center;}#sk-container-id-13 label.sk-toggleable__label-arrow:before {content: \"▸\";float: left;margin-right: 0.25em;color: #696969;}#sk-container-id-13 label.sk-toggleable__label-arrow:hover:before {color: black;}#sk-container-id-13 div.sk-estimator:hover label.sk-toggleable__label-arrow:before {color: black;}#sk-container-id-13 div.sk-toggleable__content {max-height: 0;max-width: 0;overflow: hidden;text-align: left;background-color: #f0f8ff;}#sk-container-id-13 div.sk-toggleable__content pre {margin: 0.2em;color: black;border-radius: 0.25em;background-color: #f0f8ff;}#sk-container-id-13 input.sk-toggleable__control:checked~div.sk-toggleable__content {max-height: 200px;max-width: 100%;overflow: auto;}#sk-container-id-13 input.sk-toggleable__control:checked~label.sk-toggleable__label-arrow:before {content: \"▾\";}#sk-container-id-13 div.sk-estimator input.sk-toggleable__control:checked~label.sk-toggleable__label {background-color: #d4ebff;}#sk-container-id-13 div.sk-label input.sk-toggleable__control:checked~label.sk-toggleable__label {background-color: #d4ebff;}#sk-container-id-13 input.sk-hidden--visually {border: 0;clip: rect(1px 1px 1px 1px);clip: rect(1px, 1px, 1px, 1px);height: 1px;margin: -1px;overflow: hidden;padding: 0;position: absolute;width: 1px;}#sk-container-id-13 div.sk-estimator {font-family: monospace;background-color: #f0f8ff;border: 1px dotted black;border-radius: 0.25em;box-sizing: border-box;margin-bottom: 0.5em;}#sk-container-id-13 div.sk-estimator:hover {background-color: #d4ebff;}#sk-container-id-13 div.sk-parallel-item::after {content: \"\";width: 100%;border-bottom: 1px solid gray;flex-grow: 1;}#sk-container-id-13 div.sk-label:hover label.sk-toggleable__label {background-color: #d4ebff;}#sk-container-id-13 div.sk-serial::before {content: \"\";position: absolute;border-left: 1px solid gray;box-sizing: border-box;top: 0;bottom: 0;left: 50%;z-index: 0;}#sk-container-id-13 div.sk-serial {display: flex;flex-direction: column;align-items: center;background-color: white;padding-right: 0.2em;padding-left: 0.2em;position: relative;}#sk-container-id-13 div.sk-item {position: relative;z-index: 1;}#sk-container-id-13 div.sk-parallel {display: flex;align-items: stretch;justify-content: center;background-color: white;position: relative;}#sk-container-id-13 div.sk-item::before, #sk-container-id-13 div.sk-parallel-item::before {content: \"\";position: absolute;border-left: 1px solid gray;box-sizing: border-box;top: 0;bottom: 0;left: 50%;z-index: -1;}#sk-container-id-13 div.sk-parallel-item {display: flex;flex-direction: column;z-index: 1;position: relative;background-color: white;}#sk-container-id-13 div.sk-parallel-item:first-child::after {align-self: flex-end;width: 50%;}#sk-container-id-13 div.sk-parallel-item:last-child::after {align-self: flex-start;width: 50%;}#sk-container-id-13 div.sk-parallel-item:only-child::after {width: 0;}#sk-container-id-13 div.sk-dashed-wrapped {border: 1px dashed gray;margin: 0 0.4em 0.5em 0.4em;box-sizing: border-box;padding-bottom: 0.4em;background-color: white;}#sk-container-id-13 div.sk-label label {font-family: monospace;font-weight: bold;display: inline-block;line-height: 1.2em;}#sk-container-id-13 div.sk-label-container {text-align: center;}#sk-container-id-13 div.sk-container {/* jupyter's `normalize.less` sets `[hidden] { display: none; }` but bootstrap.min.css set `[hidden] { display: none !important; }` so we also need the `!important` here to be able to override the default hidden behavior on the sphinx rendered scikit-learn.org. See: https://github.com/scikit-learn/scikit-learn/issues/21755 */display: inline-block !important;position: relative;}#sk-container-id-13 div.sk-text-repr-fallback {display: none;}</style><div id=\"sk-container-id-13\" class=\"sk-top-container\"><div class=\"sk-text-repr-fallback\"><pre>DecisionTreeClassifier(max_depth=4, random_state=42)</pre><b>In a Jupyter environment, please rerun this cell to show the HTML representation or trust the notebook. <br />On GitHub, the HTML representation is unable to render, please try loading this page with nbviewer.org.</b></div><div class=\"sk-container\" hidden><div class=\"sk-item\"><div class=\"sk-estimator sk-toggleable\"><input class=\"sk-toggleable__control sk-hidden--visually\" id=\"sk-estimator-id-13\" type=\"checkbox\" checked><label for=\"sk-estimator-id-13\" class=\"sk-toggleable__label sk-toggleable__label-arrow\">DecisionTreeClassifier</label><div class=\"sk-toggleable__content\"><pre>DecisionTreeClassifier(max_depth=4, random_state=42)</pre></div></div></div></div></div>"
            ]
          },
          "metadata": {},
          "execution_count": 231
        }
      ]
    },
    {
      "cell_type": "code",
      "source": [
        "y_pred= skd.predict(X_test)\n",
        "\"\"\"### *Accuracy Score*\"\"\"\n",
        "\n",
        "from sklearn.metrics import accuracy_score,f1_score\n",
        "print(\"Model Accuracy: {0}%\".format(accuracy_score(Y_test, y_pred)))\n",
        "print(\"f1_score \",f1_score(Y_test, predY,average='weighted'))"
      ],
      "metadata": {
        "colab": {
          "base_uri": "https://localhost:8080/"
        },
        "id": "f91oEPlglbzF",
        "outputId": "10a46a23-dd18-4bdf-c477-aa73faf1b2b6"
      },
      "execution_count": 232,
      "outputs": [
        {
          "output_type": "stream",
          "name": "stdout",
          "text": [
            "Model Accuracy: 0.701010101010101%\n",
            "f1_score  0.6805300135667045\n"
          ]
        }
      ]
    },
    {
      "cell_type": "markdown",
      "source": [
        "<h1> Here Iam Creating an instance of XGBoost Classifier </h1>"
      ],
      "metadata": {
        "id": "t4mRS0J2u6go"
      }
    },
    {
      "cell_type": "code",
      "source": [
        "from xgboost import XGBClassifier\n",
        "\n",
        "xgb_clf = XGBClassifier(max_depth= 4,random_state= 42)\n",
        "xgb_clf.fit(X_train,Y_train)"
      ],
      "metadata": {
        "colab": {
          "base_uri": "https://localhost:8080/",
          "height": 248
        },
        "id": "un7xLcf0liYc",
        "outputId": "c36176bd-ee81-4895-de11-a3bac900a6e9"
      },
      "execution_count": 233,
      "outputs": [
        {
          "output_type": "execute_result",
          "data": {
            "text/plain": [
              "XGBClassifier(base_score=None, booster=None, callbacks=None,\n",
              "              colsample_bylevel=None, colsample_bynode=None,\n",
              "              colsample_bytree=None, early_stopping_rounds=None,\n",
              "              enable_categorical=False, eval_metric=None, feature_types=None,\n",
              "              gamma=None, gpu_id=None, grow_policy=None, importance_type=None,\n",
              "              interaction_constraints=None, learning_rate=None, max_bin=None,\n",
              "              max_cat_threshold=None, max_cat_to_onehot=None,\n",
              "              max_delta_step=None, max_depth=4, max_leaves=None,\n",
              "              min_child_weight=None, missing=nan, monotone_constraints=None,\n",
              "              n_estimators=100, n_jobs=None, num_parallel_tree=None,\n",
              "              objective='multi:softprob', predictor=None, ...)"
            ],
            "text/html": [
              "<style>#sk-container-id-14 {color: black;background-color: white;}#sk-container-id-14 pre{padding: 0;}#sk-container-id-14 div.sk-toggleable {background-color: white;}#sk-container-id-14 label.sk-toggleable__label {cursor: pointer;display: block;width: 100%;margin-bottom: 0;padding: 0.3em;box-sizing: border-box;text-align: center;}#sk-container-id-14 label.sk-toggleable__label-arrow:before {content: \"▸\";float: left;margin-right: 0.25em;color: #696969;}#sk-container-id-14 label.sk-toggleable__label-arrow:hover:before {color: black;}#sk-container-id-14 div.sk-estimator:hover label.sk-toggleable__label-arrow:before {color: black;}#sk-container-id-14 div.sk-toggleable__content {max-height: 0;max-width: 0;overflow: hidden;text-align: left;background-color: #f0f8ff;}#sk-container-id-14 div.sk-toggleable__content pre {margin: 0.2em;color: black;border-radius: 0.25em;background-color: #f0f8ff;}#sk-container-id-14 input.sk-toggleable__control:checked~div.sk-toggleable__content {max-height: 200px;max-width: 100%;overflow: auto;}#sk-container-id-14 input.sk-toggleable__control:checked~label.sk-toggleable__label-arrow:before {content: \"▾\";}#sk-container-id-14 div.sk-estimator input.sk-toggleable__control:checked~label.sk-toggleable__label {background-color: #d4ebff;}#sk-container-id-14 div.sk-label input.sk-toggleable__control:checked~label.sk-toggleable__label {background-color: #d4ebff;}#sk-container-id-14 input.sk-hidden--visually {border: 0;clip: rect(1px 1px 1px 1px);clip: rect(1px, 1px, 1px, 1px);height: 1px;margin: -1px;overflow: hidden;padding: 0;position: absolute;width: 1px;}#sk-container-id-14 div.sk-estimator {font-family: monospace;background-color: #f0f8ff;border: 1px dotted black;border-radius: 0.25em;box-sizing: border-box;margin-bottom: 0.5em;}#sk-container-id-14 div.sk-estimator:hover {background-color: #d4ebff;}#sk-container-id-14 div.sk-parallel-item::after {content: \"\";width: 100%;border-bottom: 1px solid gray;flex-grow: 1;}#sk-container-id-14 div.sk-label:hover label.sk-toggleable__label {background-color: #d4ebff;}#sk-container-id-14 div.sk-serial::before {content: \"\";position: absolute;border-left: 1px solid gray;box-sizing: border-box;top: 0;bottom: 0;left: 50%;z-index: 0;}#sk-container-id-14 div.sk-serial {display: flex;flex-direction: column;align-items: center;background-color: white;padding-right: 0.2em;padding-left: 0.2em;position: relative;}#sk-container-id-14 div.sk-item {position: relative;z-index: 1;}#sk-container-id-14 div.sk-parallel {display: flex;align-items: stretch;justify-content: center;background-color: white;position: relative;}#sk-container-id-14 div.sk-item::before, #sk-container-id-14 div.sk-parallel-item::before {content: \"\";position: absolute;border-left: 1px solid gray;box-sizing: border-box;top: 0;bottom: 0;left: 50%;z-index: -1;}#sk-container-id-14 div.sk-parallel-item {display: flex;flex-direction: column;z-index: 1;position: relative;background-color: white;}#sk-container-id-14 div.sk-parallel-item:first-child::after {align-self: flex-end;width: 50%;}#sk-container-id-14 div.sk-parallel-item:last-child::after {align-self: flex-start;width: 50%;}#sk-container-id-14 div.sk-parallel-item:only-child::after {width: 0;}#sk-container-id-14 div.sk-dashed-wrapped {border: 1px dashed gray;margin: 0 0.4em 0.5em 0.4em;box-sizing: border-box;padding-bottom: 0.4em;background-color: white;}#sk-container-id-14 div.sk-label label {font-family: monospace;font-weight: bold;display: inline-block;line-height: 1.2em;}#sk-container-id-14 div.sk-label-container {text-align: center;}#sk-container-id-14 div.sk-container {/* jupyter's `normalize.less` sets `[hidden] { display: none; }` but bootstrap.min.css set `[hidden] { display: none !important; }` so we also need the `!important` here to be able to override the default hidden behavior on the sphinx rendered scikit-learn.org. See: https://github.com/scikit-learn/scikit-learn/issues/21755 */display: inline-block !important;position: relative;}#sk-container-id-14 div.sk-text-repr-fallback {display: none;}</style><div id=\"sk-container-id-14\" class=\"sk-top-container\"><div class=\"sk-text-repr-fallback\"><pre>XGBClassifier(base_score=None, booster=None, callbacks=None,\n",
              "              colsample_bylevel=None, colsample_bynode=None,\n",
              "              colsample_bytree=None, early_stopping_rounds=None,\n",
              "              enable_categorical=False, eval_metric=None, feature_types=None,\n",
              "              gamma=None, gpu_id=None, grow_policy=None, importance_type=None,\n",
              "              interaction_constraints=None, learning_rate=None, max_bin=None,\n",
              "              max_cat_threshold=None, max_cat_to_onehot=None,\n",
              "              max_delta_step=None, max_depth=4, max_leaves=None,\n",
              "              min_child_weight=None, missing=nan, monotone_constraints=None,\n",
              "              n_estimators=100, n_jobs=None, num_parallel_tree=None,\n",
              "              objective=&#x27;multi:softprob&#x27;, predictor=None, ...)</pre><b>In a Jupyter environment, please rerun this cell to show the HTML representation or trust the notebook. <br />On GitHub, the HTML representation is unable to render, please try loading this page with nbviewer.org.</b></div><div class=\"sk-container\" hidden><div class=\"sk-item\"><div class=\"sk-estimator sk-toggleable\"><input class=\"sk-toggleable__control sk-hidden--visually\" id=\"sk-estimator-id-14\" type=\"checkbox\" checked><label for=\"sk-estimator-id-14\" class=\"sk-toggleable__label sk-toggleable__label-arrow\">XGBClassifier</label><div class=\"sk-toggleable__content\"><pre>XGBClassifier(base_score=None, booster=None, callbacks=None,\n",
              "              colsample_bylevel=None, colsample_bynode=None,\n",
              "              colsample_bytree=None, early_stopping_rounds=None,\n",
              "              enable_categorical=False, eval_metric=None, feature_types=None,\n",
              "              gamma=None, gpu_id=None, grow_policy=None, importance_type=None,\n",
              "              interaction_constraints=None, learning_rate=None, max_bin=None,\n",
              "              max_cat_threshold=None, max_cat_to_onehot=None,\n",
              "              max_delta_step=None, max_depth=4, max_leaves=None,\n",
              "              min_child_weight=None, missing=nan, monotone_constraints=None,\n",
              "              n_estimators=100, n_jobs=None, num_parallel_tree=None,\n",
              "              objective=&#x27;multi:softprob&#x27;, predictor=None, ...)</pre></div></div></div></div></div>"
            ]
          },
          "metadata": {},
          "execution_count": 233
        }
      ]
    },
    {
      "cell_type": "code",
      "source": [
        "predY= xgb_clf.predict(X_test)\n",
        "\"\"\"### *Accuracy Score*\"\"\"\n",
        "\n",
        "from sklearn.metrics import accuracy_score,f1_score\n",
        "print(\"Model Accuracy: {0}%\".format(accuracy_score(Y_test, predY)))\n",
        "print(\"f1_score \",f1_score(Y_test, predY,average='weighted'))"
      ],
      "metadata": {
        "colab": {
          "base_uri": "https://localhost:8080/"
        },
        "id": "BvFi96F3lmsT",
        "outputId": "41a02635-22c4-43c3-9776-2aac06d0855f"
      },
      "execution_count": 234,
      "outputs": [
        {
          "output_type": "stream",
          "name": "stdout",
          "text": [
            "Model Accuracy: 0.8444444444444444%\n",
            "f1_score  0.8348627708488746\n"
          ]
        }
      ]
    },
    {
      "cell_type": "markdown",
      "source": [
        "<h1> Random Forest </h1>"
      ],
      "metadata": {
        "id": "1atCl4EnvHCt"
      }
    },
    {
      "cell_type": "markdown",
      "source": [
        "XGBoost_RF"
      ],
      "metadata": {
        "id": "phZco2lUzuMV"
      }
    },
    {
      "cell_type": "code",
      "source": [
        "from xgboost import XGBRFClassifier\n",
        "rfxb= XGBRFClassifier(n_estimators=100, max_depth=4)\n",
        "rfxb.fit(X_train,Y_train)"
      ],
      "metadata": {
        "colab": {
          "base_uri": "https://localhost:8080/",
          "height": 252
        },
        "id": "ElNUPS30zxOS",
        "outputId": "10f9e0e5-33c2-4760-85c9-e0e02eee6979"
      },
      "execution_count": 235,
      "outputs": [
        {
          "output_type": "execute_result",
          "data": {
            "text/plain": [
              "XGBRFClassifier(base_score=None, booster=None, callbacks=None,\n",
              "                colsample_bylevel=None, colsample_bytree=None,\n",
              "                early_stopping_rounds=None, enable_categorical=False,\n",
              "                eval_metric=None, feature_types=None, gamma=None, gpu_id=None,\n",
              "                grow_policy=None, importance_type=None,\n",
              "                interaction_constraints=None, max_bin=None,\n",
              "                max_cat_threshold=None, max_cat_to_onehot=None,\n",
              "                max_delta_step=None, max_depth=4, max_leaves=None,\n",
              "                min_child_weight=None, missing=nan, monotone_constraints=None,\n",
              "                n_estimators=100, n_jobs=None, num_parallel_tree=None,\n",
              "                objective='multi:softprob', predictor=None, random_state=None,\n",
              "                reg_alpha=None, ...)"
            ],
            "text/html": [
              "<style>#sk-container-id-15 {color: black;background-color: white;}#sk-container-id-15 pre{padding: 0;}#sk-container-id-15 div.sk-toggleable {background-color: white;}#sk-container-id-15 label.sk-toggleable__label {cursor: pointer;display: block;width: 100%;margin-bottom: 0;padding: 0.3em;box-sizing: border-box;text-align: center;}#sk-container-id-15 label.sk-toggleable__label-arrow:before {content: \"▸\";float: left;margin-right: 0.25em;color: #696969;}#sk-container-id-15 label.sk-toggleable__label-arrow:hover:before {color: black;}#sk-container-id-15 div.sk-estimator:hover label.sk-toggleable__label-arrow:before {color: black;}#sk-container-id-15 div.sk-toggleable__content {max-height: 0;max-width: 0;overflow: hidden;text-align: left;background-color: #f0f8ff;}#sk-container-id-15 div.sk-toggleable__content pre {margin: 0.2em;color: black;border-radius: 0.25em;background-color: #f0f8ff;}#sk-container-id-15 input.sk-toggleable__control:checked~div.sk-toggleable__content {max-height: 200px;max-width: 100%;overflow: auto;}#sk-container-id-15 input.sk-toggleable__control:checked~label.sk-toggleable__label-arrow:before {content: \"▾\";}#sk-container-id-15 div.sk-estimator input.sk-toggleable__control:checked~label.sk-toggleable__label {background-color: #d4ebff;}#sk-container-id-15 div.sk-label input.sk-toggleable__control:checked~label.sk-toggleable__label {background-color: #d4ebff;}#sk-container-id-15 input.sk-hidden--visually {border: 0;clip: rect(1px 1px 1px 1px);clip: rect(1px, 1px, 1px, 1px);height: 1px;margin: -1px;overflow: hidden;padding: 0;position: absolute;width: 1px;}#sk-container-id-15 div.sk-estimator {font-family: monospace;background-color: #f0f8ff;border: 1px dotted black;border-radius: 0.25em;box-sizing: border-box;margin-bottom: 0.5em;}#sk-container-id-15 div.sk-estimator:hover {background-color: #d4ebff;}#sk-container-id-15 div.sk-parallel-item::after {content: \"\";width: 100%;border-bottom: 1px solid gray;flex-grow: 1;}#sk-container-id-15 div.sk-label:hover label.sk-toggleable__label {background-color: #d4ebff;}#sk-container-id-15 div.sk-serial::before {content: \"\";position: absolute;border-left: 1px solid gray;box-sizing: border-box;top: 0;bottom: 0;left: 50%;z-index: 0;}#sk-container-id-15 div.sk-serial {display: flex;flex-direction: column;align-items: center;background-color: white;padding-right: 0.2em;padding-left: 0.2em;position: relative;}#sk-container-id-15 div.sk-item {position: relative;z-index: 1;}#sk-container-id-15 div.sk-parallel {display: flex;align-items: stretch;justify-content: center;background-color: white;position: relative;}#sk-container-id-15 div.sk-item::before, #sk-container-id-15 div.sk-parallel-item::before {content: \"\";position: absolute;border-left: 1px solid gray;box-sizing: border-box;top: 0;bottom: 0;left: 50%;z-index: -1;}#sk-container-id-15 div.sk-parallel-item {display: flex;flex-direction: column;z-index: 1;position: relative;background-color: white;}#sk-container-id-15 div.sk-parallel-item:first-child::after {align-self: flex-end;width: 50%;}#sk-container-id-15 div.sk-parallel-item:last-child::after {align-self: flex-start;width: 50%;}#sk-container-id-15 div.sk-parallel-item:only-child::after {width: 0;}#sk-container-id-15 div.sk-dashed-wrapped {border: 1px dashed gray;margin: 0 0.4em 0.5em 0.4em;box-sizing: border-box;padding-bottom: 0.4em;background-color: white;}#sk-container-id-15 div.sk-label label {font-family: monospace;font-weight: bold;display: inline-block;line-height: 1.2em;}#sk-container-id-15 div.sk-label-container {text-align: center;}#sk-container-id-15 div.sk-container {/* jupyter's `normalize.less` sets `[hidden] { display: none; }` but bootstrap.min.css set `[hidden] { display: none !important; }` so we also need the `!important` here to be able to override the default hidden behavior on the sphinx rendered scikit-learn.org. See: https://github.com/scikit-learn/scikit-learn/issues/21755 */display: inline-block !important;position: relative;}#sk-container-id-15 div.sk-text-repr-fallback {display: none;}</style><div id=\"sk-container-id-15\" class=\"sk-top-container\"><div class=\"sk-text-repr-fallback\"><pre>XGBRFClassifier(base_score=None, booster=None, callbacks=None,\n",
              "                colsample_bylevel=None, colsample_bytree=None,\n",
              "                early_stopping_rounds=None, enable_categorical=False,\n",
              "                eval_metric=None, feature_types=None, gamma=None, gpu_id=None,\n",
              "                grow_policy=None, importance_type=None,\n",
              "                interaction_constraints=None, max_bin=None,\n",
              "                max_cat_threshold=None, max_cat_to_onehot=None,\n",
              "                max_delta_step=None, max_depth=4, max_leaves=None,\n",
              "                min_child_weight=None, missing=nan, monotone_constraints=None,\n",
              "                n_estimators=100, n_jobs=None, num_parallel_tree=None,\n",
              "                objective=&#x27;multi:softprob&#x27;, predictor=None, random_state=None,\n",
              "                reg_alpha=None, ...)</pre><b>In a Jupyter environment, please rerun this cell to show the HTML representation or trust the notebook. <br />On GitHub, the HTML representation is unable to render, please try loading this page with nbviewer.org.</b></div><div class=\"sk-container\" hidden><div class=\"sk-item\"><div class=\"sk-estimator sk-toggleable\"><input class=\"sk-toggleable__control sk-hidden--visually\" id=\"sk-estimator-id-15\" type=\"checkbox\" checked><label for=\"sk-estimator-id-15\" class=\"sk-toggleable__label sk-toggleable__label-arrow\">XGBRFClassifier</label><div class=\"sk-toggleable__content\"><pre>XGBRFClassifier(base_score=None, booster=None, callbacks=None,\n",
              "                colsample_bylevel=None, colsample_bytree=None,\n",
              "                early_stopping_rounds=None, enable_categorical=False,\n",
              "                eval_metric=None, feature_types=None, gamma=None, gpu_id=None,\n",
              "                grow_policy=None, importance_type=None,\n",
              "                interaction_constraints=None, max_bin=None,\n",
              "                max_cat_threshold=None, max_cat_to_onehot=None,\n",
              "                max_delta_step=None, max_depth=4, max_leaves=None,\n",
              "                min_child_weight=None, missing=nan, monotone_constraints=None,\n",
              "                n_estimators=100, n_jobs=None, num_parallel_tree=None,\n",
              "                objective=&#x27;multi:softprob&#x27;, predictor=None, random_state=None,\n",
              "                reg_alpha=None, ...)</pre></div></div></div></div></div>"
            ]
          },
          "metadata": {},
          "execution_count": 235
        }
      ]
    },
    {
      "cell_type": "code",
      "source": [
        "predY= rfxb.predict(X_test)\n",
        "\"\"\"### *Accuracy Score*\"\"\"\n",
        "\n",
        "from sklearn.metrics import accuracy_score,f1_score\n",
        "print(\"Model Accuracy: {0}%\".format(accuracy_score(Y_test, predY)))\n",
        "print(\"f1_score \",f1_score(Y_test, predY,average='weighted'))"
      ],
      "metadata": {
        "colab": {
          "base_uri": "https://localhost:8080/"
        },
        "id": "_X9pmZBkz2dN",
        "outputId": "ddec037b-ba49-4b45-8c69-654e04b33754"
      },
      "execution_count": 236,
      "outputs": [
        {
          "output_type": "stream",
          "name": "stdout",
          "text": [
            "Model Accuracy: 0.7838383838383839%\n",
            "f1_score  0.7461966092833191\n"
          ]
        }
      ]
    },
    {
      "cell_type": "markdown",
      "source": [
        "SKLearn_RF"
      ],
      "metadata": {
        "id": "ge45qHruz8nh"
      }
    },
    {
      "cell_type": "code",
      "source": [
        "from sklearn.ensemble import RandomForestClassifier\n",
        "\n",
        "# create an instance of the DecisionTreeClassifier class\n",
        "clf_RF= RandomForestClassifier(n_estimators=100, max_depth=4)\n",
        "clf_RF.fit(X_train,Y_train)"
      ],
      "metadata": {
        "colab": {
          "base_uri": "https://localhost:8080/",
          "height": 75
        },
        "id": "m-TFt5Ziz7Aq",
        "outputId": "cc3a283b-794d-4bd0-d4d3-8855f6ef4f70"
      },
      "execution_count": 237,
      "outputs": [
        {
          "output_type": "execute_result",
          "data": {
            "text/plain": [
              "RandomForestClassifier(max_depth=4)"
            ],
            "text/html": [
              "<style>#sk-container-id-16 {color: black;background-color: white;}#sk-container-id-16 pre{padding: 0;}#sk-container-id-16 div.sk-toggleable {background-color: white;}#sk-container-id-16 label.sk-toggleable__label {cursor: pointer;display: block;width: 100%;margin-bottom: 0;padding: 0.3em;box-sizing: border-box;text-align: center;}#sk-container-id-16 label.sk-toggleable__label-arrow:before {content: \"▸\";float: left;margin-right: 0.25em;color: #696969;}#sk-container-id-16 label.sk-toggleable__label-arrow:hover:before {color: black;}#sk-container-id-16 div.sk-estimator:hover label.sk-toggleable__label-arrow:before {color: black;}#sk-container-id-16 div.sk-toggleable__content {max-height: 0;max-width: 0;overflow: hidden;text-align: left;background-color: #f0f8ff;}#sk-container-id-16 div.sk-toggleable__content pre {margin: 0.2em;color: black;border-radius: 0.25em;background-color: #f0f8ff;}#sk-container-id-16 input.sk-toggleable__control:checked~div.sk-toggleable__content {max-height: 200px;max-width: 100%;overflow: auto;}#sk-container-id-16 input.sk-toggleable__control:checked~label.sk-toggleable__label-arrow:before {content: \"▾\";}#sk-container-id-16 div.sk-estimator input.sk-toggleable__control:checked~label.sk-toggleable__label {background-color: #d4ebff;}#sk-container-id-16 div.sk-label input.sk-toggleable__control:checked~label.sk-toggleable__label {background-color: #d4ebff;}#sk-container-id-16 input.sk-hidden--visually {border: 0;clip: rect(1px 1px 1px 1px);clip: rect(1px, 1px, 1px, 1px);height: 1px;margin: -1px;overflow: hidden;padding: 0;position: absolute;width: 1px;}#sk-container-id-16 div.sk-estimator {font-family: monospace;background-color: #f0f8ff;border: 1px dotted black;border-radius: 0.25em;box-sizing: border-box;margin-bottom: 0.5em;}#sk-container-id-16 div.sk-estimator:hover {background-color: #d4ebff;}#sk-container-id-16 div.sk-parallel-item::after {content: \"\";width: 100%;border-bottom: 1px solid gray;flex-grow: 1;}#sk-container-id-16 div.sk-label:hover label.sk-toggleable__label {background-color: #d4ebff;}#sk-container-id-16 div.sk-serial::before {content: \"\";position: absolute;border-left: 1px solid gray;box-sizing: border-box;top: 0;bottom: 0;left: 50%;z-index: 0;}#sk-container-id-16 div.sk-serial {display: flex;flex-direction: column;align-items: center;background-color: white;padding-right: 0.2em;padding-left: 0.2em;position: relative;}#sk-container-id-16 div.sk-item {position: relative;z-index: 1;}#sk-container-id-16 div.sk-parallel {display: flex;align-items: stretch;justify-content: center;background-color: white;position: relative;}#sk-container-id-16 div.sk-item::before, #sk-container-id-16 div.sk-parallel-item::before {content: \"\";position: absolute;border-left: 1px solid gray;box-sizing: border-box;top: 0;bottom: 0;left: 50%;z-index: -1;}#sk-container-id-16 div.sk-parallel-item {display: flex;flex-direction: column;z-index: 1;position: relative;background-color: white;}#sk-container-id-16 div.sk-parallel-item:first-child::after {align-self: flex-end;width: 50%;}#sk-container-id-16 div.sk-parallel-item:last-child::after {align-self: flex-start;width: 50%;}#sk-container-id-16 div.sk-parallel-item:only-child::after {width: 0;}#sk-container-id-16 div.sk-dashed-wrapped {border: 1px dashed gray;margin: 0 0.4em 0.5em 0.4em;box-sizing: border-box;padding-bottom: 0.4em;background-color: white;}#sk-container-id-16 div.sk-label label {font-family: monospace;font-weight: bold;display: inline-block;line-height: 1.2em;}#sk-container-id-16 div.sk-label-container {text-align: center;}#sk-container-id-16 div.sk-container {/* jupyter's `normalize.less` sets `[hidden] { display: none; }` but bootstrap.min.css set `[hidden] { display: none !important; }` so we also need the `!important` here to be able to override the default hidden behavior on the sphinx rendered scikit-learn.org. See: https://github.com/scikit-learn/scikit-learn/issues/21755 */display: inline-block !important;position: relative;}#sk-container-id-16 div.sk-text-repr-fallback {display: none;}</style><div id=\"sk-container-id-16\" class=\"sk-top-container\"><div class=\"sk-text-repr-fallback\"><pre>RandomForestClassifier(max_depth=4)</pre><b>In a Jupyter environment, please rerun this cell to show the HTML representation or trust the notebook. <br />On GitHub, the HTML representation is unable to render, please try loading this page with nbviewer.org.</b></div><div class=\"sk-container\" hidden><div class=\"sk-item\"><div class=\"sk-estimator sk-toggleable\"><input class=\"sk-toggleable__control sk-hidden--visually\" id=\"sk-estimator-id-16\" type=\"checkbox\" checked><label for=\"sk-estimator-id-16\" class=\"sk-toggleable__label sk-toggleable__label-arrow\">RandomForestClassifier</label><div class=\"sk-toggleable__content\"><pre>RandomForestClassifier(max_depth=4)</pre></div></div></div></div></div>"
            ]
          },
          "metadata": {},
          "execution_count": 237
        }
      ]
    },
    {
      "cell_type": "code",
      "source": [
        "predY= clf_RF.predict(X_test)\n",
        "\"\"\"### *Accuracy Score*\"\"\"\n",
        "\n",
        "from sklearn.metrics import accuracy_score, f1_score\n",
        "print(\"Model Accuracy: {0}%\".format(accuracy_score(Y_test, predY)))\n",
        "print(\"f1_score \",f1_score(Y_test, predY,average='weighted'))"
      ],
      "metadata": {
        "colab": {
          "base_uri": "https://localhost:8080/"
        },
        "id": "q0_836RM0DVM",
        "outputId": "6fc35da4-c7f5-4dd9-b72a-96d4c1bc06ac"
      },
      "execution_count": 238,
      "outputs": [
        {
          "output_type": "stream",
          "name": "stdout",
          "text": [
            "Model Accuracy: 0.7616161616161616%\n",
            "f1_score  0.6929243973062479\n"
          ]
        }
      ]
    }
  ]
}